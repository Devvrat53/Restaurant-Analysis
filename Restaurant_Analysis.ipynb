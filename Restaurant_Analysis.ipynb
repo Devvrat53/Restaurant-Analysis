{
  "nbformat": 4,
  "nbformat_minor": 0,
  "metadata": {
    "kernelspec": {
      "display_name": "Python 3",
      "language": "python",
      "name": "python3"
    },
    "language_info": {
      "codemirror_mode": {
        "name": "ipython",
        "version": 3
      },
      "file_extension": ".py",
      "mimetype": "text/x-python",
      "name": "python",
      "nbconvert_exporter": "python",
      "pygments_lexer": "ipython3",
      "version": "3.5.1"
    },
    "colab": {
      "name": "Restaurant-Analysis.ipynb",
      "provenance": [],
      "collapsed_sections": [],
      "toc_visible": true,
      "include_colab_link": true
    }
  },
  "cells": [
    {
      "cell_type": "markdown",
      "metadata": {
        "id": "view-in-github",
        "colab_type": "text"
      },
      "source": [
        "<a href=\"https://colab.research.google.com/github/Devvrat53/Restaurant-Analysis/blob/main/Restaurant_Analysis.ipynb\" target=\"_parent\"><img src=\"https://colab.research.google.com/assets/colab-badge.svg\" alt=\"Open In Colab\"/></a>"
      ]
    },
    {
      "cell_type": "markdown",
      "metadata": {
        "id": "MhirMW4e2Y7V"
      },
      "source": [
        "## Installation"
      ]
    },
    {
      "cell_type": "code",
      "metadata": {
        "id": "r6Dk-6mKbbt5",
        "colab": {
          "base_uri": "https://localhost:8080/"
        },
        "outputId": "097cfd55-b4ed-4434-880c-b29ab9a60821"
      },
      "source": [
        "from google.colab import drive\n",
        "drive.mount('/content/drive')"
      ],
      "execution_count": 1,
      "outputs": [
        {
          "output_type": "stream",
          "text": [
            "Drive already mounted at /content/drive; to attempt to forcibly remount, call drive.mount(\"/content/drive\", force_remount=True).\n"
          ],
          "name": "stdout"
        }
      ]
    },
    {
      "cell_type": "code",
      "metadata": {
        "id": "zo2KG1IBbNHJ"
      },
      "source": [
        "#!pip install --upgrade pip\n",
        "#!pip install folium\n",
        "#!pip install pyspark"
      ],
      "execution_count": 2,
      "outputs": []
    },
    {
      "cell_type": "markdown",
      "metadata": {
        "id": "xV2OoLfu2nty"
      },
      "source": [
        "## Import"
      ]
    },
    {
      "cell_type": "code",
      "metadata": {
        "id": "zRWc8OjYbNHQ"
      },
      "source": [
        "from pyspark.sql import SparkSession\n",
        "from pyspark.sql.functions import format_number, avg, desc, count, asc\n",
        "from pyspark.sql.types import * # Data types in PySpark\n",
        "import matplotlib.pyplot as plt\n",
        "import folium\n",
        "import seaborn as sns"
      ],
      "execution_count": 3,
      "outputs": []
    },
    {
      "cell_type": "code",
      "metadata": {
        "id": "zv3kEaKcbNHT"
      },
      "source": [
        "spark = SparkSession.builder.appName('Restaurant-Data-Analysis').getOrCreate()"
      ],
      "execution_count": 4,
      "outputs": []
    },
    {
      "cell_type": "code",
      "metadata": {
        "id": "py7lTlpcbNHX"
      },
      "source": [
        "df_path = '/content/drive/MyDrive/BDA-Mini-Project/Dataset/Zomato Kaggle/Zomato India Restaurants (2 Lakh + restaurants data)/data/indian_restaurants_details_cleaned_data.csv'\n",
        "df = spark.read.format('csv').option('header', True).option('inferSchema', True).load(df_path)"
      ],
      "execution_count": 5,
      "outputs": []
    },
    {
      "cell_type": "code",
      "metadata": {
        "id": "RP-ZkuIObNHa",
        "colab": {
          "base_uri": "https://localhost:8080/"
        },
        "outputId": "ea6434e5-a2ab-4e21-d7b0-233d359e11c8"
      },
      "source": [
        "df.show(5)\n",
        "print(\"Total Records in the dataset= \", df.count())"
      ],
      "execution_count": 6,
      "outputs": [
        {
          "output_type": "stream",
          "text": [
            "+--------------------+--------------------+---------+------------+------+------------+--------------------+--------------------+------------+--------------------+--------------------+------------+-----------------+-------------+--------------------+-------------+-------------+\n",
            "|          zomato_url|                name|     city|        area|rating|rating_count|           telephone|              cusine|cost_for_two|             address|             timings|online_order|table_reservation|delivery_only|         famous_food|    longitude|     latitude|\n",
            "+--------------------+--------------------+---------+------------+------+------------+--------------------+--------------------+------------+--------------------+--------------------+------------+-----------------+-------------+--------------------+-------------+-------------+\n",
            "|https://www.zomat...|         Sainik Food|Delhi NCR|Pandav Nagar|   3.2|        21.0|011 22486474 +91 ...|        North Indian|       300.0|C 4/1, Opposite M...|{'Mon': [0, 0, 0,...|       False|            False|        False|                null|77.2848711535|28.6177324058|\n",
            "|https://www.zomat...|Kunal's Creamery ...|   Mumbai|   Ambernath|   3.6|        51.0|+91 9561356690 +9...|Street Food, Chin...|       500.0|Shop 14, Trishul ...|{'Mon': [0, 0, 0,...|       False|            False|        False|         Penne Pasta|73.1842865422|19.2058869331|\n",
            "|https://www.zomat...|Brij Palace Resta...|Delhi NCR|      Jasola|  null|        null|      +91 9891828106|        North Indian|       250.0|4, Okhla Bus Stan...|{'Mon': [0, 0, 0,...|       False|            False|        False|Chana Masala , Bu...|77.2912229598|28.5630343606|\n",
            "|https://www.zomat...|         Sahib Hotel|Delhi NCR|   Paharganj|  null|        null|      +91 9670005455|        North Indian|       300.0|121, Amrit Kaur M...|{'Mon': [1, 0, 0,...|       False|            False|        False|                null|77.2182980552| 28.642410638|\n",
            "|https://www.zomat...|            Chunky's|  Kolkata|     Shibpur|   3.0|        78.0|      +91 8442828284|Italian, Pizza, C...|       500.0|523, G.T Road, Ho...|{'Mon': [1, 1, 1,...|        True|            False|        False|                null|88.3307084441|22.5777582163|\n",
            "+--------------------+--------------------+---------+------------+------+------------+--------------------+--------------------+------------+--------------------+--------------------+------------+-----------------+-------------+--------------------+-------------+-------------+\n",
            "only showing top 5 rows\n",
            "\n",
            "Total Records in the dataset=  224854\n"
          ],
          "name": "stdout"
        }
      ]
    },
    {
      "cell_type": "code",
      "metadata": {
        "id": "r8MJkwEdbNHe",
        "colab": {
          "base_uri": "https://localhost:8080/"
        },
        "outputId": "37bd1053-9adb-4a15-bcad-7edfbc914c2f"
      },
      "source": [
        "# Describing the Schema of the dataset\n",
        "df.printSchema()"
      ],
      "execution_count": 7,
      "outputs": [
        {
          "output_type": "stream",
          "text": [
            "root\n",
            " |-- zomato_url: string (nullable = true)\n",
            " |-- name: string (nullable = true)\n",
            " |-- city: string (nullable = true)\n",
            " |-- area: string (nullable = true)\n",
            " |-- rating: string (nullable = true)\n",
            " |-- rating_count: string (nullable = true)\n",
            " |-- telephone: string (nullable = true)\n",
            " |-- cusine: string (nullable = true)\n",
            " |-- cost_for_two: string (nullable = true)\n",
            " |-- address: string (nullable = true)\n",
            " |-- timings: string (nullable = true)\n",
            " |-- online_order: string (nullable = true)\n",
            " |-- table_reservation: string (nullable = true)\n",
            " |-- delivery_only: string (nullable = true)\n",
            " |-- famous_food: string (nullable = true)\n",
            " |-- longitude: string (nullable = true)\n",
            " |-- latitude: string (nullable = true)\n",
            "\n"
          ],
          "name": "stdout"
        }
      ]
    },
    {
      "cell_type": "code",
      "metadata": {
        "id": "8ieNbBcUbNHg",
        "colab": {
          "base_uri": "https://localhost:8080/"
        },
        "outputId": "161e943a-8a1d-4b01-cc53-64a77079ce9b"
      },
      "source": [
        "# Columns in the dataset\n",
        "df.columns"
      ],
      "execution_count": 8,
      "outputs": [
        {
          "output_type": "execute_result",
          "data": {
            "text/plain": [
              "['zomato_url',\n",
              " 'name',\n",
              " 'city',\n",
              " 'area',\n",
              " 'rating',\n",
              " 'rating_count',\n",
              " 'telephone',\n",
              " 'cusine',\n",
              " 'cost_for_two',\n",
              " 'address',\n",
              " 'timings',\n",
              " 'online_order',\n",
              " 'table_reservation',\n",
              " 'delivery_only',\n",
              " 'famous_food',\n",
              " 'longitude',\n",
              " 'latitude']"
            ]
          },
          "metadata": {
            "tags": []
          },
          "execution_count": 8
        }
      ]
    },
    {
      "cell_type": "code",
      "metadata": {
        "id": "d7_MGvUBbNHj",
        "colab": {
          "base_uri": "https://localhost:8080/"
        },
        "outputId": "6dc37971-ef02-4abf-890e-f3a8967db510"
      },
      "source": [
        "# Shape of the dataset i.e. the rows and the columns\n",
        "shape = (df.count(), len(df.columns))\n",
        "print(\"The Shape of the dataset= \", shape)"
      ],
      "execution_count": 9,
      "outputs": [
        {
          "output_type": "stream",
          "text": [
            "The Shape of the dataset=  (224854, 17)\n"
          ],
          "name": "stdout"
        }
      ]
    },
    {
      "cell_type": "code",
      "metadata": {
        "id": "w7y02Yr8bNHm",
        "colab": {
          "base_uri": "https://localhost:8080/"
        },
        "outputId": "611f6086-a034-4e36-cf22-ba874aa6c47c"
      },
      "source": [
        "# Selecting some columns for displaying\n",
        "df.select('name', 'city', 'area', 'rating', 'cusine', 'cost_for_two', 'longitude', 'latitude').show()"
      ],
      "execution_count": 10,
      "outputs": [
        {
          "output_type": "stream",
          "text": [
            "+--------------------+---------+--------------------+------+--------------------+------------+-------------+-------------+\n",
            "|                name|     city|                area|rating|              cusine|cost_for_two|    longitude|     latitude|\n",
            "+--------------------+---------+--------------------+------+--------------------+------------+-------------+-------------+\n",
            "|         Sainik Food|Delhi NCR|        Pandav Nagar|   3.2|        North Indian|       300.0|77.2848711535|28.6177324058|\n",
            "|Kunal's Creamery ...|   Mumbai|           Ambernath|   3.6|Street Food, Chin...|       500.0|73.1842865422|19.2058869331|\n",
            "|Brij Palace Resta...|Delhi NCR|              Jasola|  null|        North Indian|       250.0|77.2912229598|28.5630343606|\n",
            "|         Sahib Hotel|Delhi NCR|           Paharganj|  null|        North Indian|       300.0|77.2182980552| 28.642410638|\n",
            "|            Chunky's|  Kolkata|             Shibpur|   3.0|Italian, Pizza, C...|       500.0|88.3307084441|22.5777582163|\n",
            "|      The Food Story|Delhi NCR|Sector 17, Faridabad|  null|North Indian, Chi...|       300.0|   77.3278938|   28.4101578|\n",
            "|Manish Indian & C...|Delhi NCR|          Mahipalpur|  null|Chinese, North In...|       200.0|77.1293181181|28.5414292199|\n",
            "|           Applemint|   Mumbai|            Kharghar|   3.5|             Chinese|       200.0| 73.065526709|19.0333901528|\n",
            "|      Way To Waffles|Delhi NCR|            Vaishali|   3.6|Italian, Fast Foo...|       500.0|77.3370330781|28.6388375255|\n",
            "|        Food Fantasy|Delhi NCR| Mayur Vihar Phase 1|   3.8|North Indian, Chi...|       500.0| 77.292762883|28.6082022818|\n",
            "|Curry And Combos ...|   Mumbai|       Goregaon East|   4.4|North Indian, Chi...|       550.0|    72.869879|    19.175588|\n",
            "|       Friend Z Cafe|Delhi NCR|              Rohini|  null|           Beverages|       150.0|77.1173682064|28.7448232531|\n",
            "|Bunty Fast Food C...|  Kolkata|              Behala|  null|           Fast Food|       150.0|    88.314698|    22.474803|\n",
            "|    Nutritious Bites|Delhi NCR|              Rohini|   3.0|        Healthy Food|       500.0|     77.12973|    28.735006|\n",
            "|Bombay's Royal China|Delhi NCR|      Prashant Vihar|   3.4|Chinese, Fast Foo...|       600.0|   77.1370452|   28.7130441|\n",
            "|        Food Village|  Kolkata|           Baranagar|   2.8|        North Indian|       650.0|88.3774164319|22.6524266906|\n",
            "|Gazzab Family Res...|Delhi NCR|               Palam|   3.5|Chinese, North In...|       500.0|77.0820448548|28.6012305187|\n",
            "|      The Bunk House|Delhi NCR|   Hauz Khas Village|   3.5|Italian, Continen...|      2000.0|77.1949403733|28.5544852486|\n",
            "|AIR- An Ivory Region|Delhi NCR|        Punjabi Bagh|   4.2|North Indian, Chi...|      1400.0|   76.9869859|    28.547809|\n",
            "|      Pizza Galleria|Delhi NCR|         Gaur City 2|   3.7|    Pizza, Fast Food|       400.0|77.4235752225|28.6195780518|\n",
            "+--------------------+---------+--------------------+------+--------------------+------------+-------------+-------------+\n",
            "only showing top 20 rows\n",
            "\n"
          ],
          "name": "stdout"
        }
      ]
    },
    {
      "cell_type": "markdown",
      "metadata": {
        "id": "xdhT6rqH3Alt"
      },
      "source": [
        "## Pre-processing"
      ]
    },
    {
      "cell_type": "code",
      "metadata": {
        "id": "zJXZAsCNbNHo"
      },
      "source": [
        "# Drop unwanted column\n",
        "df = df.drop('timings', 'famous_food')"
      ],
      "execution_count": 11,
      "outputs": []
    },
    {
      "cell_type": "code",
      "metadata": {
        "id": "aWiHzoIbbNHq"
      },
      "source": [
        "# Statistical Properties of the dataframe\n",
        "#df.select('rating', 'rating_count', 'cost_for_two', 'online_order', 'table_reservation', 'delivery_only').describe().show(5)"
      ],
      "execution_count": 12,
      "outputs": []
    },
    {
      "cell_type": "code",
      "metadata": {
        "id": "MGLmnE5dbNHt",
        "colab": {
          "base_uri": "https://localhost:8080/"
        },
        "outputId": "f0006b98-c2b1-470a-dd54-13c78f17a3fb"
      },
      "source": [
        "# Cleaned way\n",
        "df.select(format_number(df['rating'].cast('float'), 2).alias('rating'),\n",
        "         format_number(df['rating_count'].cast('float'), 2).alias('rating_count'),\n",
        "         format_number(df['cost_for_two'].cast('float'), 2).alias('cost_for_two'),\n",
        "         format_number(df['online_order'].cast('float'), 2).alias('online_order'),\n",
        "         format_number(df['table_reservation'].cast('float'), 2).alias('table_reservation'),\n",
        "         format_number(df['delivery_only'].cast('float'), 2).alias('delivery_only')).describe().show()"
      ],
      "execution_count": 13,
      "outputs": [
        {
          "output_type": "stream",
          "text": [
            "+-------+-------------------+------------------+------------------+------------------+-----------------+------------------+\n",
            "|summary|             rating|      rating_count|      cost_for_two|      online_order|table_reservation|     delivery_only|\n",
            "+-------+-------------------+------------------+------------------+------------------+-----------------+------------------+\n",
            "|  count|             144736|            142398|            220989|                13|                8|                 4|\n",
            "|   mean| 3.4880858943179107|101.55640338362659| 357.0730075769587|37.573076923076925|         31.31875|31.747500000000002|\n",
            "| stddev|0.41998586322159115|161.58949123456605|179.71917421709884|30.744909981061742|28.89633809597927|37.322661011776745|\n",
            "|    min|               0.00|              0.00|              0.00|              0.00|             0.00|              1.00|\n",
            "|    max|               4.90|            999.00|            999.00|              9.96|            77.04|             85.09|\n",
            "+-------+-------------------+------------------+------------------+------------------+-----------------+------------------+\n",
            "\n"
          ],
          "name": "stdout"
        }
      ]
    },
    {
      "cell_type": "code",
      "metadata": {
        "id": "-XR9SJ_ybNHv",
        "colab": {
          "base_uri": "https://localhost:8080/"
        },
        "outputId": "0210f6b3-f139-4376-c806-4138f0a2f01e"
      },
      "source": [
        "# Checking the Schema after deletion\n",
        "df.printSchema()"
      ],
      "execution_count": 14,
      "outputs": [
        {
          "output_type": "stream",
          "text": [
            "root\n",
            " |-- zomato_url: string (nullable = true)\n",
            " |-- name: string (nullable = true)\n",
            " |-- city: string (nullable = true)\n",
            " |-- area: string (nullable = true)\n",
            " |-- rating: string (nullable = true)\n",
            " |-- rating_count: string (nullable = true)\n",
            " |-- telephone: string (nullable = true)\n",
            " |-- cusine: string (nullable = true)\n",
            " |-- cost_for_two: string (nullable = true)\n",
            " |-- address: string (nullable = true)\n",
            " |-- online_order: string (nullable = true)\n",
            " |-- table_reservation: string (nullable = true)\n",
            " |-- delivery_only: string (nullable = true)\n",
            " |-- longitude: string (nullable = true)\n",
            " |-- latitude: string (nullable = true)\n",
            "\n"
          ],
          "name": "stdout"
        }
      ]
    },
    {
      "cell_type": "code",
      "metadata": {
        "id": "bkkdqjcwbNHx",
        "colab": {
          "base_uri": "https://localhost:8080/"
        },
        "outputId": "3df775d0-d19a-4e2b-e3cc-f6687546565e"
      },
      "source": [
        "# Counting the missing values from each feature\n",
        "for col in df.columns:\n",
        "    print(col, \"\\t\", \"with NULL values = \", df.filter(df[col].isNull()).count())"
      ],
      "execution_count": 15,
      "outputs": [
        {
          "output_type": "stream",
          "text": [
            "zomato_url \t with NULL values =  5\n",
            "name \t with NULL values =  62\n",
            "city \t with NULL values =  79\n",
            "area \t with NULL values =  82\n",
            "rating \t with NULL values =  79867\n",
            "rating_count \t with NULL values =  82266\n",
            "telephone \t with NULL values =  1711\n",
            "cusine \t with NULL values =  1440\n",
            "cost_for_two \t with NULL values =  3839\n",
            "address \t with NULL values =  2016\n",
            "online_order \t with NULL values =  571\n",
            "table_reservation \t with NULL values =  578\n",
            "delivery_only \t with NULL values =  583\n",
            "longitude \t with NULL values =  594\n",
            "latitude \t with NULL values =  595\n"
          ],
          "name": "stdout"
        }
      ]
    },
    {
      "cell_type": "code",
      "metadata": {
        "id": "D_B_LPb7bNH0"
      },
      "source": [
        "#df = df.fillna('0')"
      ],
      "execution_count": 16,
      "outputs": []
    },
    {
      "cell_type": "code",
      "metadata": {
        "id": "iyAaLtG6bNH2",
        "colab": {
          "base_uri": "https://localhost:8080/",
          "height": 35
        },
        "outputId": "7cbdfb05-4d5d-49d9-97a0-70a285dee5bb"
      },
      "source": [
        "# Counting the missing values from each feature\n",
        "'''for col in df.columns:\n",
        "    print(col, \"\\t\", \"with NULL values = \", df.filter(df[col].isNull()).count())'''"
      ],
      "execution_count": 17,
      "outputs": [
        {
          "output_type": "execute_result",
          "data": {
            "application/vnd.google.colaboratory.intrinsic+json": {
              "type": "string"
            },
            "text/plain": [
              "'for col in df.columns:\\n    print(col, \"\\t\", \"with NULL values = \", df.filter(df[col].isNull()).count())'"
            ]
          },
          "metadata": {
            "tags": []
          },
          "execution_count": 17
        }
      ]
    },
    {
      "cell_type": "code",
      "metadata": {
        "id": "A0YpQrLgbNH5",
        "colab": {
          "base_uri": "https://localhost:8080/",
          "height": 69
        },
        "outputId": "b89eeb8a-b820-4b7e-d917-5002d41f3fbc"
      },
      "source": [
        "# Scripting in Python for changing datatypes\n",
        "'''\n",
        "df['rating'] = df['rating'].astype(float)\n",
        "df['rating_count'] = df['rating_count'].astype(int)\n",
        "df['telephone'] = df['telephone'].astype(int)\n",
        "df['cost_for_two'] = df['cost_for_two'].astype(int)\n",
        "df['longitude'] = df['longitude'].astype(double)\n",
        "df['latitude] = df['latitude'].astype(double)\n",
        "'''"
      ],
      "execution_count": 18,
      "outputs": [
        {
          "output_type": "execute_result",
          "data": {
            "application/vnd.google.colaboratory.intrinsic+json": {
              "type": "string"
            },
            "text/plain": [
              "\"\\ndf['rating'] = df['rating'].astype(float)\\ndf['rating_count'] = df['rating_count'].astype(int)\\ndf['telephone'] = df['telephone'].astype(int)\\ndf['cost_for_two'] = df['cost_for_two'].astype(int)\\ndf['longitude'] = df['longitude'].astype(double)\\ndf['latitude] = df['latitude'].astype(double)\\n\""
            ]
          },
          "metadata": {
            "tags": []
          },
          "execution_count": 18
        }
      ]
    },
    {
      "cell_type": "code",
      "metadata": {
        "id": "VXArr_uebNH7"
      },
      "source": [
        "# Changing the datatypes according to the PySpark\n",
        "df = df.withColumn(\"rating\", df['rating'].cast(FloatType()))\n",
        "df = df.withColumn('rating_count', df['rating_count'].cast(IntegerType()))\n",
        "df = df.withColumn('telephone', df['telephone'].cast(IntegerType()))\n",
        "df = df.withColumn('cost_for_two', df['cost_for_two'].cast(IntegerType()))\n",
        "df = df.withColumn('longitude', df['longitude'].cast(DoubleType()))\n",
        "df = df.withColumn('latitude', df['latitude'].cast(DoubleType()))"
      ],
      "execution_count": 19,
      "outputs": []
    },
    {
      "cell_type": "code",
      "metadata": {
        "id": "rcLiMQjrbNH9",
        "colab": {
          "base_uri": "https://localhost:8080/"
        },
        "outputId": "b1d4e23a-4d03-46bd-86fc-6b940871f9f1"
      },
      "source": [
        "df.printSchema()"
      ],
      "execution_count": 20,
      "outputs": [
        {
          "output_type": "stream",
          "text": [
            "root\n",
            " |-- zomato_url: string (nullable = true)\n",
            " |-- name: string (nullable = true)\n",
            " |-- city: string (nullable = true)\n",
            " |-- area: string (nullable = true)\n",
            " |-- rating: float (nullable = true)\n",
            " |-- rating_count: integer (nullable = true)\n",
            " |-- telephone: integer (nullable = true)\n",
            " |-- cusine: string (nullable = true)\n",
            " |-- cost_for_two: integer (nullable = true)\n",
            " |-- address: string (nullable = true)\n",
            " |-- online_order: string (nullable = true)\n",
            " |-- table_reservation: string (nullable = true)\n",
            " |-- delivery_only: string (nullable = true)\n",
            " |-- longitude: double (nullable = true)\n",
            " |-- latitude: double (nullable = true)\n",
            "\n"
          ],
          "name": "stdout"
        }
      ]
    },
    {
      "cell_type": "markdown",
      "metadata": {
        "id": "myC0KIqDbNH_"
      },
      "source": [
        "## Analysis"
      ]
    },
    {
      "cell_type": "markdown",
      "metadata": {
        "id": "G38Cvse8bNIA"
      },
      "source": [
        "#### What are the top 10 rated restaurants in the dataset?"
      ]
    },
    {
      "cell_type": "code",
      "metadata": {
        "id": "nQgG9rpwc_oU",
        "colab": {
          "base_uri": "https://localhost:8080/"
        },
        "outputId": "04e751d4-38c5-4d11-e49b-8b0b5b9b7beb"
      },
      "source": [
        "q1 = df.select('name', 'rating', 'rating_count').groupby('name', 'rating', 'rating_count').agg(count('*').alias('count')).orderBy(desc('rating_count')).limit(10)\n",
        "q1.show()"
      ],
      "execution_count": 21,
      "outputs": [
        {
          "output_type": "stream",
          "text": [
            "+--------------------+------+------------+-----+\n",
            "|                name|rating|rating_count|count|\n",
            "+--------------------+------+------------+-----+\n",
            "|            Bawarchi|   4.5|       42621|    1|\n",
            "|Byg Brewski Brewi...|   4.9|       19305|    1|\n",
            "|                Toit|   4.6|       15731|    1|\n",
            "|            Truffles|   4.6|       15653|    1|\n",
            "|    Hauz Khas Social|   4.7|       14936|    1|\n",
            "|AB's - Absolute B...|   4.8|       13164|    1|\n",
            "|            Paradise|   4.7|       13152|    1|\n",
            "|     The Black Pearl|   4.9|       12686|    1|\n",
            "|Shah Ghouse Hotel...|   4.2|       12514|    1|\n",
            "|           Peter Cat|   4.2|       11917|    1|\n",
            "+--------------------+------+------------+-----+\n",
            "\n"
          ],
          "name": "stdout"
        }
      ]
    },
    {
      "cell_type": "markdown",
      "metadata": {
        "id": "k7NIdoW90PtP"
      },
      "source": [
        "#### What are the top 10 locations for restaurants?"
      ]
    },
    {
      "cell_type": "code",
      "metadata": {
        "colab": {
          "base_uri": "https://localhost:8080/"
        },
        "id": "w4PRZOoG3g31",
        "outputId": "0e8f7d8d-cb62-484e-d685-2e896385ca73"
      },
      "source": [
        "q2 = df.select('name', 'rating', 'rating_count', 'city').groupby('name', 'rating', 'rating_count', 'city').agg(count('*').alias('count')).orderBy(desc('rating_count')).limit(10)\n",
        "q2.show()"
      ],
      "execution_count": 22,
      "outputs": [
        {
          "output_type": "stream",
          "text": [
            "+--------------------+------+------------+---------+-----+\n",
            "|                name|rating|rating_count|     city|count|\n",
            "+--------------------+------+------------+---------+-----+\n",
            "|            Bawarchi|   4.5|       42621|Hyderabad|    1|\n",
            "|Byg Brewski Brewi...|   4.9|       19305|Bengaluru|    1|\n",
            "|                Toit|   4.6|       15731|Bengaluru|    1|\n",
            "|            Truffles|   4.6|       15653|Bengaluru|    1|\n",
            "|    Hauz Khas Social|   4.7|       14936|Delhi NCR|    1|\n",
            "|AB's - Absolute B...|   4.8|       13164|Bengaluru|    1|\n",
            "|            Paradise|   4.7|       13152|Hyderabad|    1|\n",
            "|     The Black Pearl|   4.9|       12686|Bengaluru|    1|\n",
            "|Shah Ghouse Hotel...|   4.2|       12514|Hyderabad|    1|\n",
            "|           Peter Cat|   4.2|       11917|  Kolkata|    1|\n",
            "+--------------------+------+------------+---------+-----+\n",
            "\n"
          ],
          "name": "stdout"
        }
      ]
    },
    {
      "cell_type": "markdown",
      "metadata": {
        "id": "cXWVsp-Y4hIv"
      },
      "source": [
        "So, mainly Hyderabad and Bengaluru has the highest rated restaurants in the entire country just by analyzing the data. "
      ]
    },
    {
      "cell_type": "markdown",
      "metadata": {
        "id": "T0lIg_vtxOIa"
      },
      "source": [
        "#### What are the top 10 most served cusine in the dataset?"
      ]
    },
    {
      "cell_type": "code",
      "metadata": {
        "colab": {
          "base_uri": "https://localhost:8080/"
        },
        "id": "yXzLc8rA3jch",
        "outputId": "0b684215-dc4d-405e-8964-502a86ab06bb"
      },
      "source": [
        "q3 = df.select('cusine').groupby('cusine').agg(count('*').alias('count')).orderBy(desc('count')).limit(10)\n",
        "q3.show()"
      ],
      "execution_count": 23,
      "outputs": [
        {
          "output_type": "stream",
          "text": [
            "+--------------------+-----+\n",
            "|              cusine|count|\n",
            "+--------------------+-----+\n",
            "|        North Indian|20549|\n",
            "|           Fast Food|11455|\n",
            "|North Indian, Chi...|11230|\n",
            "|        South Indian| 6676|\n",
            "|              Bakery| 5703|\n",
            "|             Chinese| 5346|\n",
            "|         Street Food| 4134|\n",
            "|    Bakery, Desserts| 3297|\n",
            "|             Biryani| 2791|\n",
            "|Chinese, North In...| 2675|\n",
            "+--------------------+-----+\n",
            "\n"
          ],
          "name": "stdout"
        }
      ]
    },
    {
      "cell_type": "markdown",
      "metadata": {
        "id": "JDNNxgK26bSy"
      },
      "source": [
        "So, here we can see the the *North Indian* cuisine is the most served cuisine in our dataset. Second to it is the *Fast Food* that we all love to it on the go. Other than that it has *South Indian* dishes in top 5 spot. It is not surprising to see the Indian's most preferred dish- *Biryani* to secure a place in th top 10."
      ]
    },
    {
      "cell_type": "markdown",
      "metadata": {
        "id": "a3zKgeSN6LL1"
      },
      "source": [
        "#### In the top 10 restaurants, what is the most preferred cuisine?"
      ]
    },
    {
      "cell_type": "code",
      "metadata": {
        "colab": {
          "base_uri": "https://localhost:8080/"
        },
        "id": "TdQkEyMf6QR2",
        "outputId": "16b68170-72e0-4a44-b88b-b6dd01af99f0"
      },
      "source": [
        "q4 = df.select('name', 'rating', 'rating_count', 'cusine').groupby('name', 'rating', 'rating_count', 'cusine').agg(count('*').alias('count')).orderBy(desc('rating_count')).limit(10)\n",
        "q4.show()"
      ],
      "execution_count": 24,
      "outputs": [
        {
          "output_type": "stream",
          "text": [
            "+--------------------+------+------------+--------------------+-----+\n",
            "|                name|rating|rating_count|              cusine|count|\n",
            "+--------------------+------+------------+--------------------+-----+\n",
            "|            Bawarchi|   4.5|       42621|Biryani, Hyderaba...|    1|\n",
            "|Byg Brewski Brewi...|   4.9|       19305|Continental, Nort...|    1|\n",
            "|                Toit|   4.6|       15731|Italian, American...|    1|\n",
            "|            Truffles|   4.6|       15653|Cafe, American, B...|    1|\n",
            "|    Hauz Khas Social|   4.7|       14936|Kontinentálna, Am...|    1|\n",
            "|AB's - Absolute B...|   4.8|       13164|European, Mediter...|    1|\n",
            "|            Paradise|   4.7|       13152|Biryani, North In...|    1|\n",
            "|     The Black Pearl|   4.9|       12686|North Indian, Eur...|    1|\n",
            "|Shah Ghouse Hotel...|   4.2|       12514|Biryani, North In...|    1|\n",
            "|           Peter Cat|   4.2|       11917|Continental, Nort...|    1|\n",
            "+--------------------+------+------------+--------------------+-----+\n",
            "\n"
          ],
          "name": "stdout"
        }
      ]
    },
    {
      "cell_type": "markdown",
      "metadata": {
        "id": "GnaPLIdQz3f9"
      },
      "source": [
        "#### Top 10 cuisine (Some major Cities)"
      ]
    },
    {
      "cell_type": "code",
      "metadata": {
        "colab": {
          "base_uri": "https://localhost:8080/"
        },
        "id": "Pry6E7Kh3kLP",
        "outputId": "80c8ebf8-d757-45b2-cf2f-f5e53e342117"
      },
      "source": [
        "q5_mumbai = df.select('name', 'rating', 'rating_count', 'city', 'area', 'cusine').filter(df.city == 'Mumbai').orderBy(desc('rating_count')).limit(10)\n",
        "q5_mumbai.show()"
      ],
      "execution_count": 25,
      "outputs": [
        {
          "output_type": "stream",
          "text": [
            "+--------------------+------+------------+------+--------------------+--------------------+\n",
            "|                name|rating|rating_count|  city|                area|              cusine|\n",
            "+--------------------+------+------------+------+--------------------+--------------------+\n",
            "|       Colaba Social|   4.9|       10311|Mumbai|              Colaba|Americká, Severoi...|\n",
            "|             Candies|   4.1|       10300|Mumbai|Pali Hill, Bandra...|Cafe, Desserts, I...|\n",
            "|        Joey's Pizza|   4.5|        9503|Mumbai|          Azad Nagar|               Pizza|\n",
            "|        Prithvi Cafe|   4.4|        8401|Mumbai|                Juhu|      Cafe, Desserts|\n",
            "|        Joey's Pizza|   4.5|        8022|Mumbai|          Malad West|               Pizza|\n",
            "|Chili's American ...|   4.4|        7997|Mumbai|               Powai|American, Mexican...|\n",
            "|Chili's American ...|   4.5|        7977|Mumbai|          Malad West|American, Mexican...|\n",
            "|  Leopold Cafe & Bar|   4.0|        7474|Mumbai|              Colaba|Chinese, Italian,...|\n",
            "|    Palladium Social|   4.9|        7168|Mumbai|         Lower Parel|Americká, Severoi...|\n",
            "|      Tea Villa Cafe|   4.2|        7088|Mumbai|Hill Road, Bandra...|Cafe, Fast Food, ...|\n",
            "+--------------------+------+------------+------+--------------------+--------------------+\n",
            "\n"
          ],
          "name": "stdout"
        }
      ]
    },
    {
      "cell_type": "markdown",
      "metadata": {
        "id": "cOSbVlIQL_6D"
      },
      "source": [
        "For Mumbai, the street food along with the exotic food style is the main cuisine that the today's generation like and are penchant towards."
      ]
    },
    {
      "cell_type": "code",
      "metadata": {
        "colab": {
          "base_uri": "https://localhost:8080/"
        },
        "id": "egsN2BP1C8Bg",
        "outputId": "52ec3e61-f773-42af-c2aa-48d49bb89a02"
      },
      "source": [
        "q5_hyderabad = df.select('name', 'rating', 'rating_count', 'city', 'area', 'cusine').filter(df.city == 'Hyderabad').orderBy(desc('rating_count')).limit(10)\n",
        "q5_hyderabad.show()"
      ],
      "execution_count": 26,
      "outputs": [
        {
          "output_type": "stream",
          "text": [
            "+--------------------+------+------------+---------+---------------+--------------------+\n",
            "|                name|rating|rating_count|     city|           area|              cusine|\n",
            "+--------------------+------+------------+---------+---------------+--------------------+\n",
            "|            Bawarchi|   4.5|       42621|Hyderabad|     Nallakunta|Biryani, Hyderaba...|\n",
            "|            Paradise|   4.7|       13152|Hyderabad|Paradise Circle|Biryani, North In...|\n",
            "|Shah Ghouse Hotel...|   4.2|       12514|Hyderabad|     Gachibowli|Biryani, North In...|\n",
            "|    Lucky Restaurant|   4.3|       11103|Hyderabad|         Nagole|Biryani, North In...|\n",
            "|          Cafe Bahar|   4.6|       11000|Hyderabad|   Basheer Bagh|Biryani, North In...|\n",
            "|AB's - Absolute B...|   4.9|       10086|Hyderabad|  Jubilee Hills|European, Mediter...|\n",
            "|        Captain Cook|   4.1|        9494|Hyderabad|    Musheerabad|Biryani, North In...|\n",
            "|            Flechazo|   4.6|        8768|Hyderabad|       Madhapur|Asian, Mediterran...|\n",
            "|Shah Ghouse Cafe ...|   4.3|        8022|Hyderabad|     Tolichowki|Biryani, North In...|\n",
            "|            Paradise|   4.7|        7232|Hyderabad|     Gachibowli|Biryani, North In...|\n",
            "+--------------------+------+------------+---------+---------------+--------------------+\n",
            "\n"
          ],
          "name": "stdout"
        }
      ]
    },
    {
      "cell_type": "markdown",
      "metadata": {
        "id": "ogPDwzuzMVtX"
      },
      "source": [
        "It is no brainer that the city of Hyderabad, which is famous for its Biryani dishes will have the most favorable cuisines in most of the restaurants as it."
      ]
    },
    {
      "cell_type": "code",
      "metadata": {
        "colab": {
          "base_uri": "https://localhost:8080/"
        },
        "id": "AqIzYIgpDTxV",
        "outputId": "5f0527cd-a5a2-4af5-9f44-8d47ab274e13"
      },
      "source": [
        "q5_bengaluru = df.select('name', 'rating', 'rating_count', 'city', 'area', 'cusine').filter(df.city == 'Bengaluru').orderBy(desc('rating_count')).limit(10)\n",
        "q5_bengaluru.show()"
      ],
      "execution_count": 27,
      "outputs": [
        {
          "output_type": "stream",
          "text": [
            "+--------------------+------+------------+---------+--------------------+--------------------+\n",
            "|                name|rating|rating_count|     city|                area|              cusine|\n",
            "+--------------------+------+------------+---------+--------------------+--------------------+\n",
            "|Byg Brewski Brewi...|   4.9|       19305|Bengaluru|       Sarjapur Road|Continental, Nort...|\n",
            "|                Toit|   4.6|       15731|Bengaluru|         Indiranagar|Italian, American...|\n",
            "|            Truffles|   4.6|       15653|Bengaluru|Koramangala 5th B...|Cafe, American, B...|\n",
            "|AB's - Absolute B...|   4.8|       13164|Bengaluru|        Marathahalli|European, Mediter...|\n",
            "|     The Black Pearl|   4.9|       12686|Bengaluru|Koramangala 5th B...|North Indian, Eur...|\n",
            "|      TBC Sky Lounge|   4.9|       10845|Bengaluru|                 HSR|Continental, Asia...|\n",
            "|         Big Pitcher|   4.7|       10789|Bengaluru|    Old Airport Road|American, Contine...|\n",
            "|              Onesta|   4.4|        9452|Bengaluru|Koramangala 4th B...|Italian, Pizza, D...|\n",
            "|     The Black Pearl|   4.7|        9207|Bengaluru|        Marathahalli|North Indian, Eur...|\n",
            "|   Empire Restaurant|   4.0|        8826|Bengaluru|         Indiranagar|North Indian, Mug...|\n",
            "+--------------------+------+------------+---------+--------------------+--------------------+\n",
            "\n"
          ],
          "name": "stdout"
        }
      ]
    },
    {
      "cell_type": "markdown",
      "metadata": {
        "id": "3hTn_hYZMoIY"
      },
      "source": [
        "Banglore, otherwise known as Bengaluru has a mixture of dishes that the parochial people love and have them serve on their table. From its own country made dishes to the exotic European and American dishes, the people there loves to try new dishes."
      ]
    },
    {
      "cell_type": "code",
      "metadata": {
        "colab": {
          "base_uri": "https://localhost:8080/"
        },
        "id": "VKVO091qDunO",
        "outputId": "6f338e1f-dff8-4a85-c170-223e6ca64fa3"
      },
      "source": [
        "q5_delhi = df.select('name', 'rating', 'rating_count', 'city', 'area', 'cusine').filter(df.city == 'Delhi NCR').orderBy(desc('rating_count')).limit(10)\n",
        "q5_delhi.show()"
      ],
      "execution_count": 28,
      "outputs": [
        {
          "output_type": "stream",
          "text": [
            "+--------------------+------+------------+---------+-----------------+--------------------+\n",
            "|                name|rating|rating_count|     city|             area|              cusine|\n",
            "+--------------------+------+------------+---------+-----------------+--------------------+\n",
            "|    Hauz Khas Social|   4.7|       14936|Delhi NCR|Hauz Khas Village|Kontinentálna, Am...|\n",
            "|      Warehouse Cafe|   4.1|       10035|Delhi NCR|  Connaught Place|American, Contine...|\n",
            "|  Lord Of The Drinks|   4.4|        9582|Delhi NCR|  Connaught Place|European, Chinese...|\n",
            "|             Tamasha|   4.5|        8866|Delhi NCR|  Connaught Place|Finger Food, Nort...|\n",
            "|     Saravana Bhavan|   4.4|        7906|Delhi NCR|  Connaught Place|South Indian, Des...|\n",
            "|The Flying Saucer...|   4.3|        7903|Delhi NCR|      Nehru Place|Continental, Bar ...|\n",
            "|               Local|   4.4|        6966|Delhi NCR|  Connaught Place|North Indian, Con...|\n",
            "|             Karim's|   4.1|        6761|Delhi NCR|      Jama Masjid|Mughlai, North In...|\n",
            "|        Odeon Social|   4.5|        6630|Delhi NCR|  Connaught Place|Continental, Amer...|\n",
            "| Chili's Grill & Bar|   4.9|        6426|Delhi NCR|      Vasant Kunj|Italian, Finger Food|\n",
            "+--------------------+------+------------+---------+-----------------+--------------------+\n",
            "\n"
          ],
          "name": "stdout"
        }
      ]
    },
    {
      "cell_type": "markdown",
      "metadata": {
        "id": "RqAzncayNMgD"
      },
      "source": [
        "Delhi also shows wide diversity in the tastes of the local people. They have South Indian and North Indian dishes to European as well as some American ones to. "
      ]
    },
    {
      "cell_type": "code",
      "metadata": {
        "colab": {
          "base_uri": "https://localhost:8080/"
        },
        "id": "-eab78PLEAOJ",
        "outputId": "2332113b-719a-433b-b9db-04405b40a84a"
      },
      "source": [
        "q5_kolkata = df.select('name', 'rating', 'rating_count', 'city', 'area', 'cusine').filter(df.city == 'Kolkata').orderBy(desc('rating_count')).limit(10)\n",
        "q5_kolkata.show()"
      ],
      "execution_count": 29,
      "outputs": [
        {
          "output_type": "stream",
          "text": [
            "+-------------------+------+------------+-------+-------------------+--------------------+\n",
            "|               name|rating|rating_count|   city|               area|              cusine|\n",
            "+-------------------+------+------------+-------+-------------------+--------------------+\n",
            "|          Peter Cat|   4.2|       11917|Kolkata|   Park Street Area|Continental, Nort...|\n",
            "|    Barbeque Nation|   4.7|        8551|Kolkata|Sector 5, Salt Lake|North Indian, Chi...|\n",
            "|              BarBQ|   4.4|        8052|Kolkata|   Park Street Area|Chinese, North In...|\n",
            "|Chili's Grill & Bar|   4.7|        7615|Kolkata|         Ballygunge|American, Mexican...|\n",
            "|            Mocambo|   4.2|        6466|Kolkata|   Park Street Area|         Continental|\n",
            "|            Arsalan|   4.1|        5963|Kolkata|   Park Circus Area|Mughlai, North In...|\n",
            "|          Oudh 1590|   4.5|        5953|Kolkata|     Desapriya Park|Biryani, Mughlai,...|\n",
            "|        Spice Kraft|   4.8|        5243|Kolkata|         Ballygunge|Continental, Asia...|\n",
            "|    Barbeque Nation|   4.6|        5134|Kolkata|   Park Street Area|North Indian, Chi...|\n",
            "|             Hatari|   4.4|        4699|Kolkata|           Gariahat|Chinese, North In...|\n",
            "+-------------------+------+------------+-------+-------------------+--------------------+\n",
            "\n"
          ],
          "name": "stdout"
        }
      ]
    },
    {
      "cell_type": "markdown",
      "metadata": {
        "id": "hqZnR3woNkkM"
      },
      "source": [
        "Kolkata prefers Continential along with Chinese dishes along with a other offerings."
      ]
    },
    {
      "cell_type": "code",
      "metadata": {
        "colab": {
          "base_uri": "https://localhost:8080/"
        },
        "id": "h5RQe1Vm3kqs",
        "outputId": "b2519690-aa8f-4db6-a59d-ebaccbfd591c"
      },
      "source": [
        "q5_chennai = df.select('name', 'rating', 'rating_count', 'city', 'area', 'cusine').filter(df.city == 'Chennai').orderBy(desc('rating_count')).limit(10)\n",
        "q5_chennai.show()"
      ],
      "execution_count": 30,
      "outputs": [
        {
          "output_type": "stream",
          "text": [
            "+--------------------+------+------------+-------+------------+--------------------+\n",
            "|                name|rating|rating_count|   city|        area|              cusine|\n",
            "+--------------------+------+------------+-------+------------+--------------------+\n",
            "|AB's - Absolute B...|   4.9|       10357|Chennai|    T. Nagar|BBQ, North Indian...|\n",
            "|      Coal Barbecues|   4.9|        8171|Chennai|   Velachery|North Indian, Chi...|\n",
            "|      Coal Barbecues|   4.9|        7348|Chennai|    T. Nagar|North Indian, Med...|\n",
            "|     Barbeque Nation|   4.8|        5799|Chennai|    T. Nagar|North Indian, Con...|\n",
            "|              Onesta|   4.9|        5126|Chennai| Semmancheri|Pizza, Italian, F...|\n",
            "|            Paradise|   4.4|        5106|Chennai|   Perungudi|Biryani, North In...|\n",
            "|Chili's American ...|   4.8|        4707|Chennai|  Royapettah|Mexican, American...|\n",
            "|      Copper Kitchen|   4.6|        4351|Chennai|       Porur|Seafood, North In...|\n",
            "|              Maplai|   4.4|        4279|Chennai|Nungambakkam|Chettinad, Biryan...|\n",
            "|AB's - Absolute B...|   4.8|        3635|Chennai|   Velachery|BBQ, North Indian...|\n",
            "+--------------------+------+------------+-------+------------+--------------------+\n",
            "\n"
          ],
          "name": "stdout"
        }
      ]
    },
    {
      "cell_type": "markdown",
      "metadata": {
        "id": "TTPsMLoJN5Xa"
      },
      "source": [
        "People in Chennai has varies restaurant ranging from BBQ, Seafood, Biryani, and some North Indian cuisines."
      ]
    },
    {
      "cell_type": "markdown",
      "metadata": {
        "id": "wK6q7Lygz3i1"
      },
      "source": [
        "#### What are the top 10 costliest restaurants in the country?"
      ]
    },
    {
      "cell_type": "code",
      "metadata": {
        "colab": {
          "base_uri": "https://localhost:8080/"
        },
        "id": "64pMAjLNF-cN",
        "outputId": "988c2ddd-c05d-4951-95db-ba08bcd372e0"
      },
      "source": [
        "q6 = df.select('name', 'rating', 'cost_for_two', 'city').orderBy(desc('cost_for_two')).limit(10)\n",
        "q6.show()"
      ],
      "execution_count": 31,
      "outputs": [
        {
          "output_type": "stream",
          "text": [
            "+--------------------+------+------------+---------+\n",
            "|                name|rating|cost_for_two|     city|\n",
            "+--------------------+------+------------+---------+\n",
            "|Ocean - The Priva...|   3.6|       30000|   Mumbai|\n",
            "|Gol Bungalow - Ta...|   3.9|       15000|Hyderabad|\n",
            "|              Bhairo|   2.9|       15000|  Udaipur|\n",
            "|          Fly Dining|   3.8|       14000|Bengaluru|\n",
            "|Pillars - Umaid B...|   3.7|       12000|  Jodhpur|\n",
            "|Risala- Umaid Bha...|   4.1|       12000|  Jodhpur|\n",
            "|Trophy Bar- Umaid...|   3.3|       12000|  Jodhpur|\n",
            "|Wasabi By Morimot...|   4.3|       10000|   Mumbai|\n",
            "|Orient Express - ...|   4.2|        8000|Delhi NCR|\n",
            "|Yuuka - The St. R...|   4.1|        8000|   Mumbai|\n",
            "+--------------------+------+------------+---------+\n",
            "\n"
          ],
          "name": "stdout"
        }
      ]
    },
    {
      "cell_type": "markdown",
      "metadata": {
        "id": "ROtqxLAPREoT"
      },
      "source": [
        "#### What is the top 10 costliest restaurants in specific city?"
      ]
    },
    {
      "cell_type": "code",
      "metadata": {
        "colab": {
          "base_uri": "https://localhost:8080/"
        },
        "id": "I5dLjPjVRO2N",
        "outputId": "c1371be8-0230-425a-9e14-01b11cc847f0"
      },
      "source": [
        "q7_mumbai = df.select('name', 'rating', 'cost_for_two', 'area', 'city').filter(df.city == 'Mumbai').orderBy(desc('cost_for_two')).limit(10)\n",
        "q7_mumbai.show()"
      ],
      "execution_count": 32,
      "outputs": [
        {
          "output_type": "stream",
          "text": [
            "+--------------------+------+------------+--------------------+------+\n",
            "|                name|rating|cost_for_two|                area|  city|\n",
            "+--------------------+------+------------+--------------------+------+\n",
            "|Ocean - The Priva...|   3.6|       30000|     Vile Parle East|Mumbai|\n",
            "|Wasabi By Morimot...|   4.3|       10000|              Colaba|Mumbai|\n",
            "|Yuuka - The St. R...|   4.1|        8000|         Lower Parel|Mumbai|\n",
            "|              Masque|   4.3|        6500|           Mahalaxmi|Mumbai|\n",
            "|Masala Kraft - Th...|   4.1|        6500|              Colaba|Mumbai|\n",
            "|Le Cirque Signatu...|   4.0|        6000|             Chakala|Mumbai|\n",
            "|Celini - Grand Hyatt|   4.2|        6000|      Santacruz East|Mumbai|\n",
            "|Vista - Taj Lands...|   4.0|        5500|Bandstand, Bandra...|Mumbai|\n",
            "|Souk - The Taj Ma...|   4.2|        5500|              Colaba|Mumbai|\n",
            "|Bombay High - ITC...|   3.6|        5500|             Chakala|Mumbai|\n",
            "+--------------------+------+------------+--------------------+------+\n",
            "\n"
          ],
          "name": "stdout"
        }
      ]
    },
    {
      "cell_type": "markdown",
      "metadata": {
        "id": "GDLBAWCYSfDM"
      },
      "source": [
        "The most costliest hotel in the country is **Ocean - The Private Dining Room - Sahara Star** which is in Mumbai."
      ]
    },
    {
      "cell_type": "code",
      "metadata": {
        "colab": {
          "base_uri": "https://localhost:8080/"
        },
        "id": "trehh9LvRtyo",
        "outputId": "7f24c676-a2d1-405c-d164-0f09e2a52661"
      },
      "source": [
        "q7_hyderabad = df.select('name', 'rating', 'cost_for_two', 'area', 'city').filter(df.city == 'Hyderabad').orderBy(desc('cost_for_two')).limit(10)\n",
        "q7_hyderabad.show()"
      ],
      "execution_count": 33,
      "outputs": [
        {
          "output_type": "stream",
          "text": [
            "+--------------------+------+------------+-------------+---------+\n",
            "|                name|rating|cost_for_two|         area|     city|\n",
            "+--------------------+------+------------+-------------+---------+\n",
            "|Gol Bungalow - Ta...|   3.9|       15000|    Falaknuma|Hyderabad|\n",
            "|Adaa - Taj Falakn...|   4.5|        8000|    Falaknuma|Hyderabad|\n",
            "|Celeste - Taj Fal...|   4.4|        7000|    Falaknuma|Hyderabad|\n",
            "|Vineela Yadlapall...|   3.5|        5000|Jubilee Hills|Hyderabad|\n",
            "|Thai Pavilion - V...|   4.3|        4000|     Begumpet|Hyderabad|\n",
            "|Altitude - Hydera...|   4.1|        4000|Necklace Road|Hyderabad|\n",
            "|  Prego - The Westin|   4.2|        3500|  Hitech City|Hyderabad|\n",
            "|Dakshin - ITC Kak...|   4.4|        3400|     Begumpet|Hyderabad|\n",
            "|Kebabs & Kurries ...|   4.2|        3400|     Begumpet|Hyderabad|\n",
            "|   Ohm - Hotel Avasa|   4.2|        3000|  Hitech City|Hyderabad|\n",
            "+--------------------+------+------------+-------------+---------+\n",
            "\n"
          ],
          "name": "stdout"
        }
      ]
    },
    {
      "cell_type": "markdown",
      "metadata": {
        "id": "80_DS8MFS-9v"
      },
      "source": [
        "For the city of Hyderabad, the most costly restaurant is the **Gol Bungalow - Taj Falaknuma Palace** "
      ]
    },
    {
      "cell_type": "code",
      "metadata": {
        "colab": {
          "base_uri": "https://localhost:8080/"
        },
        "id": "RoVVw-3yR2UX",
        "outputId": "a6644553-ccaf-4c83-da8c-cd53cd7a9911"
      },
      "source": [
        "q7_bengaluru = df.select('name', 'rating', 'cost_for_two', 'area', 'city').filter(df.city == 'Bengaluru').orderBy(desc('cost_for_two')).limit(10)\n",
        "q7_bengaluru.show()"
      ],
      "execution_count": 34,
      "outputs": [
        {
          "output_type": "stream",
          "text": [
            "+--------------------+------+------------+-----------------+---------+\n",
            "|                name|rating|cost_for_two|             area|     city|\n",
            "+--------------------+------+------------+-----------------+---------+\n",
            "|          Fly Dining|   3.8|       14000|         Nagawara|Bengaluru|\n",
            "|Le Cirque Signatu...|   4.2|        6000| Old Airport Road|Bengaluru|\n",
            "|Royal Afghan - IT...|   4.3|        6000|      Sankey Road|Bengaluru|\n",
            "|         Grasshopper|   4.3|        5000|Bannerghatta Road|Bengaluru|\n",
            "|Dakshin - ITC Win...|   4.3|        5000|      Sankey Road|Bengaluru|\n",
            "|Dum Pukht Jolly N...|   4.3|        5000|      Sankey Road|Bengaluru|\n",
            "|Malties - Radisso...|   4.2|        4500|     Marathahalli|Bengaluru|\n",
            "|La Brasserie - Le...|   4.1|        4100|      Sankey Road|Bengaluru|\n",
            "|Edo Restaurant & ...|   4.3|        4000|    Richmond Road|Bengaluru|\n",
            "|Riwaz - The Ritz-...|   4.1|        4000|   Residency Road|Bengaluru|\n",
            "+--------------------+------+------------+-----------------+---------+\n",
            "\n"
          ],
          "name": "stdout"
        }
      ]
    },
    {
      "cell_type": "markdown",
      "metadata": {
        "id": "_28RNt5McwJa"
      },
      "source": [
        "**Fly Dining** in Bangalore is the most expensive restaurant in that city."
      ]
    },
    {
      "cell_type": "code",
      "metadata": {
        "colab": {
          "base_uri": "https://localhost:8080/"
        },
        "id": "MlbYMJrhR-XH",
        "outputId": "cc169b8e-beae-494b-d0a0-fb728a01c388"
      },
      "source": [
        "q7_delhi = df.select('name', 'rating', 'cost_for_two', 'area', 'city').filter(df.city == 'Delhi NCR').orderBy(desc('cost_for_two')).limit(10)\n",
        "q7_delhi.show()"
      ],
      "execution_count": 35,
      "outputs": [
        {
          "output_type": "stream",
          "text": [
            "+--------------------+------+------------+-------------+---------+\n",
            "|                name|rating|cost_for_two|         area|     city|\n",
            "+--------------------+------+------------+-------------+---------+\n",
            "|Orient Express - ...|   4.2|        8000| Chanakyapuri|Delhi NCR|\n",
            "|Tian - Asian Cuis...|   4.1|        7000| Chanakyapuri|Delhi NCR|\n",
            "|Ottimo At West Vi...|   4.1|        6600| Chanakyapuri|Delhi NCR|\n",
            "|Bukhara - ITC Maurya|   4.3|        6500| Chanakyapuri|Delhi NCR|\n",
            "|Nostalgia at 1911...|   3.5|        6000|      Janpath|Delhi NCR|\n",
            "|The Theatre Club ...|   3.8|        6000|Paschim Vihar|Delhi NCR|\n",
            "|Amaranta - The Ob...|   4.1|        6000|  Udyog Vihar|Delhi NCR|\n",
            "|The Spice Route -...|   4.1|        6000|      Janpath|Delhi NCR|\n",
            "|House of Ming - T...|   4.1|        5500|Mansingh Road|Delhi NCR|\n",
            "|San Gimignano - T...|   4.0|        5500|      Janpath|Delhi NCR|\n",
            "+--------------------+------+------------+-------------+---------+\n",
            "\n"
          ],
          "name": "stdout"
        }
      ]
    },
    {
      "cell_type": "markdown",
      "metadata": {
        "id": "dMkUVWZqc90z"
      },
      "source": [
        "**Orient Express - Taj Palace** is the exorbitant restaurant in the capital."
      ]
    },
    {
      "cell_type": "code",
      "metadata": {
        "colab": {
          "base_uri": "https://localhost:8080/"
        },
        "id": "xv0GA3rZSJ_O",
        "outputId": "8cc64a6c-24dd-44d6-ee46-7f2bccb66674"
      },
      "source": [
        "q7_kolkata = df.select('name', 'rating', 'cost_for_two', 'area', 'city').filter(df.city == 'Kolkata').orderBy(desc('cost_for_two')).limit(10)\n",
        "q7_kolkata.show()"
      ],
      "execution_count": 36,
      "outputs": [
        {
          "output_type": "stream",
          "text": [
            "+--------------------+------+------------+-------------------+-------+\n",
            "|                name|rating|cost_for_two|               area|   city|\n",
            "+--------------------+------+------------+-------------------+-------+\n",
            "|Chinoiserie - Taj...|   4.3|        5000|            Alipore|Kolkata|\n",
            "|Guchhi - Hyatt Re...|   4.0|        4600|Sector 3, Salt Lake|Kolkata|\n",
            "|Eden Pavilion - I...|   4.0|        4500|  Science City Area|Kolkata|\n",
            "|West View Bar & G...|   3.8|        4500|  Science City Area|Kolkata|\n",
            "|     Seasonal Tastes|   4.3|        4200|           New Town|Kolkata|\n",
            "|The Junction - Ta...|   3.8|        4200|            Alipore|Kolkata|\n",
            "|     Seasonal Tastes|   4.4|        4200|           New Town|Kolkata|\n",
            "|      Zen - The Park|   4.1|        4000|   Park Street Area|Kolkata|\n",
            "|The Legacy Grill ...|   3.9|        4000|          Esplanade|Kolkata|\n",
            "|Baan Thai - The O...|   4.2|        4000|    New Market Area|Kolkata|\n",
            "+--------------------+------+------------+-------------------+-------+\n",
            "\n"
          ],
          "name": "stdout"
        }
      ]
    },
    {
      "cell_type": "markdown",
      "metadata": {
        "id": "1iVfqExNdN1Z"
      },
      "source": [
        "**Chinoiserie - Taj Bengal** is the most expensive restaurant in the city of Kolkata"
      ]
    },
    {
      "cell_type": "code",
      "metadata": {
        "colab": {
          "base_uri": "https://localhost:8080/"
        },
        "id": "DGVKfbnoR-Z8",
        "outputId": "54366fdf-1181-447a-f660-37395087a934"
      },
      "source": [
        "q7_chennai = df.select('name', 'rating', 'cost_for_two', 'area', 'city').filter(df.city == 'Chennai').orderBy(desc('cost_for_two')).limit(10)\n",
        "q7_chennai.show()"
      ],
      "execution_count": 37,
      "outputs": [
        {
          "output_type": "stream",
          "text": [
            "+--------------------+------+------------+---------------+-------+\n",
            "|                name|rating|cost_for_two|           area|   city|\n",
            "+--------------------+------+------------+---------------+-------+\n",
            "|         Tao of Peng|   4.5|        5500|  Mahabalipuram|Chennai|\n",
            "|Royal Vega - ITC ...|   4.4|        5500|         Guindy|Chennai|\n",
            "|Blend - Taj Club ...|   4.0|        5000|Thousand Lights|Chennai|\n",
            "|Ottimo Cucina Ita...|   4.1|        5000|         Guindy|Chennai|\n",
            "|Salt. Co. 531 - R...|   4.1|        4800|       GST Road|Chennai|\n",
            "|Peshawri - ITC Gr...|   4.4|        4500|         Guindy|Chennai|\n",
            "|Avartana - ITC Gr...|   4.7|        4500|         Guindy|Chennai|\n",
            "|Pan Asian - ITC G...|   4.5|        4200|         Guindy|Chennai|\n",
            "|Madras Pavilion -...|   4.5|        4000|         Guindy|Chennai|\n",
            "|The Great Kabab F...|   4.0|        4000|       GST Road|Chennai|\n",
            "+--------------------+------+------------+---------------+-------+\n",
            "\n"
          ],
          "name": "stdout"
        }
      ]
    },
    {
      "cell_type": "markdown",
      "metadata": {
        "id": "5hn7vz_4depr"
      },
      "source": [
        "**Tao of Peng** is the costliest restaurant in the city of Chennai."
      ]
    },
    {
      "cell_type": "markdown",
      "metadata": {
        "id": "HHP-txSxz3lu"
      },
      "source": [
        "#### Top 10 cheapest restaurant"
      ]
    },
    {
      "cell_type": "code",
      "metadata": {
        "colab": {
          "base_uri": "https://localhost:8080/"
        },
        "id": "9xLrDoq-3lQj",
        "outputId": "217e414d-f7a9-47c3-bdfb-f2982e42fe50"
      },
      "source": [
        "q8 = df.select('name', 'rating', 'cost_for_two', 'city').filter(df.cost_for_two > 50).orderBy(asc('cost_for_two')).limit(10)\n",
        "q8.show()"
      ],
      "execution_count": 38,
      "outputs": [
        {
          "output_type": "stream",
          "text": [
            "+--------------------+------+------------+---------+\n",
            "|                name|rating|cost_for_two|     city|\n",
            "+--------------------+------+------------+---------+\n",
            "|            18 Dosas|   2.7|          60|Hyderabad|\n",
            "|       SV Idli House|  null|          60|Bengaluru|\n",
            "|  Indian Coffee Shop|  null|          60|    Kochi|\n",
            "|         Lemon Drops|  null|          60|Bengaluru|\n",
            "|          Mamee Soup|   4.1|          60|  Chennai|\n",
            "|     Sanskriti Chaat|   3.8|          60|   Jaipur|\n",
            "|Shri Gokul Prasad...|   3.2|          60|  Lucknow|\n",
            "|       Hotel Mandala|  null|          60|  Gangtok|\n",
            "|   Chak De Fast Food|   3.3|          60|   Kanpur|\n",
            "|Shri Kalila Chat ...|  null|          60|  Lucknow|\n",
            "+--------------------+------+------------+---------+\n",
            "\n"
          ],
          "name": "stdout"
        }
      ]
    },
    {
      "cell_type": "markdown",
      "metadata": {
        "id": "Fsu9F3muVm3Z"
      },
      "source": [
        "#### What are the top 10 cheapest restaurants in the specific cities?"
      ]
    },
    {
      "cell_type": "code",
      "metadata": {
        "colab": {
          "base_uri": "https://localhost:8080/"
        },
        "id": "18zghmQRViEn",
        "outputId": "10587dba-a92d-40a6-ab7f-37a31a150706"
      },
      "source": [
        "q9_mumbai = df.select('name', 'rating', 'cost_for_two', 'city', 'area').filter((df.cost_for_two >= 40) & (df.city == 'Mumbai')).orderBy(asc('cost_for_two')).limit(10)\n",
        "q9_mumbai.show()"
      ],
      "execution_count": 39,
      "outputs": [
        {
          "output_type": "stream",
          "text": [
            "+--------------------+------+------------+------+--------------------+\n",
            "|                name|rating|cost_for_two|  city|                area|\n",
            "+--------------------+------+------------+------+--------------------+\n",
            "|     Shegaon Kachori|   3.3|          50|Mumbai|  Khopat, Thane West|\n",
            "|Kullad Chai Coffe...|   3.1|          50|Mumbai|Hiranandani Estat...|\n",
            "|        More Vadapav|  null|          50|Mumbai|      Kopar Khairane|\n",
            "|           Ho5 Store|   3.3|          50|Mumbai|        Matunga West|\n",
            "|Cool Katta Kulfie...|  null|          50|Mumbai|        Dahisar West|\n",
            "|     Akshar Soda Pub|  null|          50|Mumbai|      Dombivali East|\n",
            "|Jai Ambika Pan Bh...|   3.2|          50|Mumbai|          Ulhasnagar|\n",
            "|Batulz- Cakes N More|   2.9|          50|Mumbai|             Kamothe|\n",
            "|              Nuskha|  null|          50|Mumbai|               Vasai|\n",
            "|Sanjay Vadapav Stall|  null|          50|Mumbai|               Marol|\n",
            "+--------------------+------+------------+------+--------------------+\n",
            "\n"
          ],
          "name": "stdout"
        }
      ]
    },
    {
      "cell_type": "code",
      "metadata": {
        "colab": {
          "base_uri": "https://localhost:8080/"
        },
        "id": "-A7JfFNGXCap",
        "outputId": "e7ca90a4-c9b5-469e-c706-3938d08b85a2"
      },
      "source": [
        "q9_hyderabad = df.select('name', 'rating', 'cost_for_two', 'city', 'area').filter((df.cost_for_two >= 40) & (df.city == 'Hyderabad')).orderBy(asc('cost_for_two')).limit(10)\n",
        "q9_hyderabad.show()"
      ],
      "execution_count": 40,
      "outputs": [
        {
          "output_type": "stream",
          "text": [
            "+--------------------+------+------------+---------+-----------+\n",
            "|                name|rating|cost_for_two|     city|       area|\n",
            "+--------------------+------+------------+---------+-----------+\n",
            "|         Sohail Cafe|   3.3|          50|Hyderabad|Musheerabad|\n",
            "|  Zar Zari Zar Baksh|   3.0|          50|Hyderabad|Musheerabad|\n",
            "|Sri Gayatri Dabel...|   3.3|          50|Hyderabad|   Kothapet|\n",
            "|     Naidu Tea Stall|   3.1|          50|Hyderabad| Kukatpally|\n",
            "|   K.G.N Veg Biryani|   2.9|          50|Hyderabad|  Charminar|\n",
            "|        Chai Deewane|   3.2|          50|Hyderabad| Kukatpally|\n",
            "|     Khaliq Pan Shop|  null|          50|Hyderabad|  Falaknuma|\n",
            "|  Indian Parata Shop|  null|          50|Hyderabad|  Kacheguda|\n",
            "| Chennai Coffee Shop|  null|          50|Hyderabad|   Madhapur|\n",
            "|    City Grand Hotel|  null|          50|Hyderabad|   Nampally|\n",
            "+--------------------+------+------------+---------+-----------+\n",
            "\n"
          ],
          "name": "stdout"
        }
      ]
    },
    {
      "cell_type": "code",
      "metadata": {
        "colab": {
          "base_uri": "https://localhost:8080/"
        },
        "id": "yg0LzkdgXCiR",
        "outputId": "df34bb62-7622-4961-e61f-1b1a6d809ede"
      },
      "source": [
        "q9_bengaluru = df.select('name', 'rating', 'cost_for_two', 'city', 'area').filter((df.cost_for_two >= 30) & (df.city == 'Bengaluru')).orderBy(asc('cost_for_two')).limit(10)\n",
        "q9_bengaluru.show()"
      ],
      "execution_count": 41,
      "outputs": [
        {
          "output_type": "stream",
          "text": [
            "+--------------------+------+------------+---------+-----------------+\n",
            "|                name|rating|cost_for_two|     city|             area|\n",
            "+--------------------+------+------------+---------+-----------------+\n",
            "|Shree Vishnu That...|   3.9|          40|Bengaluru|           Domlur|\n",
            "|      Indira Canteen|  null|          50|Bengaluru|         RT Nagar|\n",
            "|            VarieTea|   3.7|          50|Bengaluru|     New BEL Road|\n",
            "|           Tea Vibes|  null|          50|Bengaluru|        Banaswadi|\n",
            "|      Indira Canteen|  null|          50|Bengaluru|     Sanjay Nagar|\n",
            "|     Black Pekoe Tea|  null|          50|Bengaluru|              BTM|\n",
            "|      Bread & Better|  null|          50|Bengaluru|Bannerghatta Road|\n",
            "|  Maghai Paan Center|  null|          50|Bengaluru|      Indiranagar|\n",
            "|         Lemon Drops|  null|          60|Bengaluru|  Electronic City|\n",
            "|       SV Idli House|  null|          60|Bengaluru|     Marathahalli|\n",
            "+--------------------+------+------------+---------+-----------------+\n",
            "\n"
          ],
          "name": "stdout"
        }
      ]
    },
    {
      "cell_type": "code",
      "metadata": {
        "colab": {
          "base_uri": "https://localhost:8080/"
        },
        "id": "0Z1O5iiTXClU",
        "outputId": "b70579f1-0ea2-4479-d8c2-f878c1487aa2"
      },
      "source": [
        "q9_delhi = df.select('name', 'rating', 'cost_for_two', 'city', 'area').filter((df.cost_for_two >= 40) & (df.city == 'Delhi NCR')).orderBy(asc('cost_for_two')).limit(10)\n",
        "q9_delhi.show()"
      ],
      "execution_count": 42,
      "outputs": [
        {
          "output_type": "stream",
          "text": [
            "+--------------------+------+------------+---------+-------------------+\n",
            "|                name|rating|cost_for_two|     city|               area|\n",
            "+--------------------+------+------------+---------+-------------------+\n",
            "|           Sata Paan|  null|          50|Delhi NCR|          Janakpuri|\n",
            "|Aggarwal Jalebi Wale|   2.7|          50|Delhi NCR|        Uttam Nagar|\n",
            "| Shri Saheb Ji Dairy|   3.7|          50|Delhi NCR|     Dilshad Garden|\n",
            "|  Gopal Kachori Wala|   3.3|          50|Delhi NCR|       Punjabi Bagh|\n",
            "|       Duggal Snacks|   3.9|          50|Delhi NCR|Mayur Vihar Phase 2|\n",
            "|Pandit Ved Prakas...|   3.9|          50|Delhi NCR|      Chandni Chowk|\n",
            "|         Snacks Time|  null|          50|Delhi NCR|          Jail Road|\n",
            "|  The Paratha Corner|  null|          50|Delhi NCR|         Trilokpuri|\n",
            "| Shri Ram Poori Wale|   2.8|          50|Delhi NCR|        Kirti Nagar|\n",
            "|          Chaat Star|  null|          50|Delhi NCR|        Gaur City 1|\n",
            "+--------------------+------+------------+---------+-------------------+\n",
            "\n"
          ],
          "name": "stdout"
        }
      ]
    },
    {
      "cell_type": "code",
      "metadata": {
        "colab": {
          "base_uri": "https://localhost:8080/"
        },
        "id": "cgrY0vhvXCn2",
        "outputId": "50da9210-a15e-4432-ee03-214eeae4217c"
      },
      "source": [
        "q9_kolkata = df.select('name', 'rating', 'cost_for_two', 'city', 'area').filter((df.cost_for_two >= 40) & (df.city == 'Kolkata')).orderBy(asc('cost_for_two')).limit(10)\n",
        "q9_kolkata.show()"
      ],
      "execution_count": 43,
      "outputs": [
        {
          "output_type": "stream",
          "text": [
            "+--------------------+------+------------+-------+------------------+\n",
            "|                name|rating|cost_for_two|   city|              area|\n",
            "+--------------------+------+------------+-------+------------------+\n",
            "|    Debu's Shonpapri|  null|          50|Kolkata|           Kalyani|\n",
            "|    Ramji Ghugniwala|   2.9|          80|Kolkata|  Park Street Area|\n",
            "|  Ramesh Chilla Wala|   3.1|          80|Kolkata|  Park Street Area|\n",
            "|      Tea And Tiffin|  null|         100|Kolkata|      Kona Exp Way|\n",
            "|Sri Krishna Hot C...|   3.1|         100|Kolkata| Camac Street Area|\n",
            "|               Mahua|   3.8|         100|Kolkata|            Sinthi|\n",
            "|        Ghosh Sweets|   3.3|         100|Kolkata|       Kankurgachi|\n",
            "|Shree  Hari Mista...|   3.3|         100|Kolkata|          Gariahat|\n",
            "|           Abhilasha|  null|         100|Kolkata|Dalhousie BBD Bagh|\n",
            "|Laxmi Narayan Mis...|   3.2|         100|Kolkata|         Baguihati|\n",
            "+--------------------+------+------------+-------+------------------+\n",
            "\n"
          ],
          "name": "stdout"
        }
      ]
    },
    {
      "cell_type": "code",
      "metadata": {
        "colab": {
          "base_uri": "https://localhost:8080/"
        },
        "id": "M3fzY8kvXCrW",
        "outputId": "81cc86a0-e244-45f8-b947-380976303560"
      },
      "source": [
        "q9_chennai = df.select('name', 'rating', 'cost_for_two', 'city', 'area').filter((df.cost_for_two >= 30) & (df.city == 'Chennai')).orderBy(asc('cost_for_two')).limit(10)\n",
        "q9_chennai.show()"
      ],
      "execution_count": 44,
      "outputs": [
        {
          "output_type": "stream",
          "text": [
            "+--------------------+------+------------+-------+-------------+\n",
            "|                name|rating|cost_for_two|   city|         area|\n",
            "+--------------------+------+------------+-------+-------------+\n",
            "|            Soda Hub|   3.3|          40|Chennai|     Navallur|\n",
            "|         Planet Soda|  null|          50|Chennai|    Perungudi|\n",
            "|            Tea Talk|  null|          50|Chennai|       Guindy|\n",
            "| Indian Coffee House|  null|          50|Chennai|       Vepery|\n",
            "|     Saravana Coffee|   3.1|          50|Chennai|  Kodambakkam|\n",
            "|            Kaafemaa|  null|          50|Chennai|     Ambattur|\n",
            "|Jai Sri Prathyang...|  null|          50|Chennai|     T. Nagar|\n",
            "|          Mamee Soup|   4.1|          60|Chennai|West Mambalam|\n",
            "|              REFUEL|  null|          80|Chennai|  Kelambakkam|\n",
            "|Perambur Mangala ...|   3.3|         100|Chennai|     Perambur|\n",
            "+--------------------+------+------------+-------+-------------+\n",
            "\n"
          ],
          "name": "stdout"
        }
      ]
    }
  ]
}