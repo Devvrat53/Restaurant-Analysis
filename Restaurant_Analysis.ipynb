{
  "nbformat": 4,
  "nbformat_minor": 0,
  "metadata": {
    "kernelspec": {
      "display_name": "Python 3",
      "language": "python",
      "name": "python3"
    },
    "language_info": {
      "codemirror_mode": {
        "name": "ipython",
        "version": 3
      },
      "file_extension": ".py",
      "mimetype": "text/x-python",
      "name": "python",
      "nbconvert_exporter": "python",
      "pygments_lexer": "ipython3",
      "version": "3.5.1"
    },
    "colab": {
      "name": "Restaurant-Analysis.ipynb",
      "provenance": [],
      "collapsed_sections": [],
      "include_colab_link": true
    }
  },
  "cells": [
    {
      "cell_type": "markdown",
      "metadata": {
        "id": "view-in-github",
        "colab_type": "text"
      },
      "source": [
        "<a href=\"https://colab.research.google.com/github/Devvrat53/Restaurant-Analysis/blob/main/Restaurant_Analysis.ipynb\" target=\"_parent\"><img src=\"https://colab.research.google.com/assets/colab-badge.svg\" alt=\"Open In Colab\"/></a>"
      ]
    },
    {
      "cell_type": "markdown",
      "metadata": {
        "id": "MhirMW4e2Y7V"
      },
      "source": [
        "## Installation"
      ]
    },
    {
      "cell_type": "code",
      "metadata": {
        "id": "r6Dk-6mKbbt5",
        "colab": {
          "base_uri": "https://localhost:8080/"
        },
        "outputId": "27963b8e-c976-4c07-82ec-2b9d620edb70"
      },
      "source": [
        " from google.colab import drive\n",
        "drive.mount('/content/drive')"
      ],
      "execution_count": 1,
      "outputs": [
        {
          "output_type": "stream",
          "text": [
            "Drive already mounted at /content/drive; to attempt to forcibly remount, call drive.mount(\"/content/drive\", force_remount=True).\n"
          ],
          "name": "stdout"
        }
      ]
    },
    {
      "cell_type": "code",
      "metadata": {
        "id": "zo2KG1IBbNHJ"
      },
      "source": [
        "#!pip install --upgrade pip\n",
        "#!pip install folium\n",
        "#!pip install plotly\n",
        "#!pip install pyspark"
      ],
      "execution_count": 2,
      "outputs": []
    },
    {
      "cell_type": "markdown",
      "metadata": {
        "id": "xV2OoLfu2nty"
      },
      "source": [
        "## Import"
      ]
    },
    {
      "cell_type": "code",
      "metadata": {
        "id": "zRWc8OjYbNHQ"
      },
      "source": [
        "from pyspark.sql import SparkSession\n",
        "from pyspark.sql.functions import format_number, avg, desc, count, asc\n",
        "from pyspark.sql.types import * # Data types in PySpark\n",
        "import matplotlib.pyplot as plt\n",
        "import seaborn as sns\n",
        "import folium\n",
        "import plotly.express as px"
      ],
      "execution_count": 3,
      "outputs": []
    },
    {
      "cell_type": "code",
      "metadata": {
        "id": "zv3kEaKcbNHT"
      },
      "source": [
        "spark = SparkSession.builder.appName('Restaurant-Data-Analysis').getOrCreate()"
      ],
      "execution_count": 4,
      "outputs": []
    },
    {
      "cell_type": "code",
      "metadata": {
        "id": "py7lTlpcbNHX"
      },
      "source": [
        "df_path = '/content/drive/MyDrive/BDA-Mini-Project/Dataset/Zomato Kaggle/Zomato India Restaurants (2 Lakh + restaurants data)/data/indian_restaurants_details_cleaned_data.csv'\n",
        "df = spark.read.format('csv').option('header', True).option('inferSchema', True).load(df_path)"
      ],
      "execution_count": 5,
      "outputs": []
    },
    {
      "cell_type": "code",
      "metadata": {
        "id": "RP-ZkuIObNHa",
        "colab": {
          "base_uri": "https://localhost:8080/"
        },
        "outputId": "47d1a687-946d-4613-b546-b6aa2af46b20"
      },
      "source": [
        "df.show(5)\n",
        "print(\"Total Records in the dataset= \", df.count())"
      ],
      "execution_count": 6,
      "outputs": [
        {
          "output_type": "stream",
          "text": [
            "+--------------------+--------------------+---------+------------+------+------------+--------------------+--------------------+------------+--------------------+--------------------+------------+-----------------+-------------+--------------------+-------------+-------------+\n",
            "|          zomato_url|                name|     city|        area|rating|rating_count|           telephone|              cusine|cost_for_two|             address|             timings|online_order|table_reservation|delivery_only|         famous_food|    longitude|     latitude|\n",
            "+--------------------+--------------------+---------+------------+------+------------+--------------------+--------------------+------------+--------------------+--------------------+------------+-----------------+-------------+--------------------+-------------+-------------+\n",
            "|https://www.zomat...|         Sainik Food|Delhi NCR|Pandav Nagar|   3.2|        21.0|011 22486474 +91 ...|        North Indian|       300.0|C 4/1, Opposite M...|{'Mon': [0, 0, 0,...|       False|            False|        False|                null|77.2848711535|28.6177324058|\n",
            "|https://www.zomat...|Kunal's Creamery ...|   Mumbai|   Ambernath|   3.6|        51.0|+91 9561356690 +9...|Street Food, Chin...|       500.0|Shop 14, Trishul ...|{'Mon': [0, 0, 0,...|       False|            False|        False|         Penne Pasta|73.1842865422|19.2058869331|\n",
            "|https://www.zomat...|Brij Palace Resta...|Delhi NCR|      Jasola|  null|        null|      +91 9891828106|        North Indian|       250.0|4, Okhla Bus Stan...|{'Mon': [0, 0, 0,...|       False|            False|        False|Chana Masala , Bu...|77.2912229598|28.5630343606|\n",
            "|https://www.zomat...|         Sahib Hotel|Delhi NCR|   Paharganj|  null|        null|      +91 9670005455|        North Indian|       300.0|121, Amrit Kaur M...|{'Mon': [1, 0, 0,...|       False|            False|        False|                null|77.2182980552| 28.642410638|\n",
            "|https://www.zomat...|            Chunky's|  Kolkata|     Shibpur|   3.0|        78.0|      +91 8442828284|Italian, Pizza, C...|       500.0|523, G.T Road, Ho...|{'Mon': [1, 1, 1,...|        True|            False|        False|                null|88.3307084441|22.5777582163|\n",
            "+--------------------+--------------------+---------+------------+------+------------+--------------------+--------------------+------------+--------------------+--------------------+------------+-----------------+-------------+--------------------+-------------+-------------+\n",
            "only showing top 5 rows\n",
            "\n",
            "Total Records in the dataset=  224854\n"
          ],
          "name": "stdout"
        }
      ]
    },
    {
      "cell_type": "code",
      "metadata": {
        "id": "r8MJkwEdbNHe",
        "colab": {
          "base_uri": "https://localhost:8080/"
        },
        "outputId": "2f087e34-a52b-4fa7-ca67-a05015a2b0ce"
      },
      "source": [
        "# Describing the Schema of the dataset\n",
        "df.printSchema()"
      ],
      "execution_count": 7,
      "outputs": [
        {
          "output_type": "stream",
          "text": [
            "root\n",
            " |-- zomato_url: string (nullable = true)\n",
            " |-- name: string (nullable = true)\n",
            " |-- city: string (nullable = true)\n",
            " |-- area: string (nullable = true)\n",
            " |-- rating: string (nullable = true)\n",
            " |-- rating_count: string (nullable = true)\n",
            " |-- telephone: string (nullable = true)\n",
            " |-- cusine: string (nullable = true)\n",
            " |-- cost_for_two: string (nullable = true)\n",
            " |-- address: string (nullable = true)\n",
            " |-- timings: string (nullable = true)\n",
            " |-- online_order: string (nullable = true)\n",
            " |-- table_reservation: string (nullable = true)\n",
            " |-- delivery_only: string (nullable = true)\n",
            " |-- famous_food: string (nullable = true)\n",
            " |-- longitude: string (nullable = true)\n",
            " |-- latitude: string (nullable = true)\n",
            "\n"
          ],
          "name": "stdout"
        }
      ]
    },
    {
      "cell_type": "code",
      "metadata": {
        "id": "8ieNbBcUbNHg",
        "colab": {
          "base_uri": "https://localhost:8080/"
        },
        "outputId": "a2574754-d5ad-4d04-ca7b-49b3d877bf3f"
      },
      "source": [
        "# Columns in the dataset\n",
        "df.columns"
      ],
      "execution_count": 8,
      "outputs": [
        {
          "output_type": "execute_result",
          "data": {
            "text/plain": [
              "['zomato_url',\n",
              " 'name',\n",
              " 'city',\n",
              " 'area',\n",
              " 'rating',\n",
              " 'rating_count',\n",
              " 'telephone',\n",
              " 'cusine',\n",
              " 'cost_for_two',\n",
              " 'address',\n",
              " 'timings',\n",
              " 'online_order',\n",
              " 'table_reservation',\n",
              " 'delivery_only',\n",
              " 'famous_food',\n",
              " 'longitude',\n",
              " 'latitude']"
            ]
          },
          "metadata": {
            "tags": []
          },
          "execution_count": 8
        }
      ]
    },
    {
      "cell_type": "code",
      "metadata": {
        "id": "d7_MGvUBbNHj",
        "colab": {
          "base_uri": "https://localhost:8080/"
        },
        "outputId": "f93c31e5-c590-4aab-9ffa-2ade6891ee17"
      },
      "source": [
        "# Shape of the dataset i.e. the rows and the columns\n",
        "shape = (df.count(), len(df.columns))\n",
        "print(\"The Shape of the dataset= \", shape)"
      ],
      "execution_count": 9,
      "outputs": [
        {
          "output_type": "stream",
          "text": [
            "The Shape of the dataset=  (224854, 17)\n"
          ],
          "name": "stdout"
        }
      ]
    },
    {
      "cell_type": "code",
      "metadata": {
        "id": "w7y02Yr8bNHm",
        "colab": {
          "base_uri": "https://localhost:8080/"
        },
        "outputId": "bd22c833-5550-40e8-9812-4053893ae523"
      },
      "source": [
        "# Selecting some columns for displaying\n",
        "df.select('name', 'city', 'area', 'rating', 'cusine', 'cost_for_two', 'longitude', 'latitude').show()"
      ],
      "execution_count": 10,
      "outputs": [
        {
          "output_type": "stream",
          "text": [
            "+--------------------+---------+--------------------+------+--------------------+------------+-------------+-------------+\n",
            "|                name|     city|                area|rating|              cusine|cost_for_two|    longitude|     latitude|\n",
            "+--------------------+---------+--------------------+------+--------------------+------------+-------------+-------------+\n",
            "|         Sainik Food|Delhi NCR|        Pandav Nagar|   3.2|        North Indian|       300.0|77.2848711535|28.6177324058|\n",
            "|Kunal's Creamery ...|   Mumbai|           Ambernath|   3.6|Street Food, Chin...|       500.0|73.1842865422|19.2058869331|\n",
            "|Brij Palace Resta...|Delhi NCR|              Jasola|  null|        North Indian|       250.0|77.2912229598|28.5630343606|\n",
            "|         Sahib Hotel|Delhi NCR|           Paharganj|  null|        North Indian|       300.0|77.2182980552| 28.642410638|\n",
            "|            Chunky's|  Kolkata|             Shibpur|   3.0|Italian, Pizza, C...|       500.0|88.3307084441|22.5777582163|\n",
            "|      The Food Story|Delhi NCR|Sector 17, Faridabad|  null|North Indian, Chi...|       300.0|   77.3278938|   28.4101578|\n",
            "|Manish Indian & C...|Delhi NCR|          Mahipalpur|  null|Chinese, North In...|       200.0|77.1293181181|28.5414292199|\n",
            "|           Applemint|   Mumbai|            Kharghar|   3.5|             Chinese|       200.0| 73.065526709|19.0333901528|\n",
            "|      Way To Waffles|Delhi NCR|            Vaishali|   3.6|Italian, Fast Foo...|       500.0|77.3370330781|28.6388375255|\n",
            "|        Food Fantasy|Delhi NCR| Mayur Vihar Phase 1|   3.8|North Indian, Chi...|       500.0| 77.292762883|28.6082022818|\n",
            "|Curry And Combos ...|   Mumbai|       Goregaon East|   4.4|North Indian, Chi...|       550.0|    72.869879|    19.175588|\n",
            "|       Friend Z Cafe|Delhi NCR|              Rohini|  null|           Beverages|       150.0|77.1173682064|28.7448232531|\n",
            "|Bunty Fast Food C...|  Kolkata|              Behala|  null|           Fast Food|       150.0|    88.314698|    22.474803|\n",
            "|    Nutritious Bites|Delhi NCR|              Rohini|   3.0|        Healthy Food|       500.0|     77.12973|    28.735006|\n",
            "|Bombay's Royal China|Delhi NCR|      Prashant Vihar|   3.4|Chinese, Fast Foo...|       600.0|   77.1370452|   28.7130441|\n",
            "|        Food Village|  Kolkata|           Baranagar|   2.8|        North Indian|       650.0|88.3774164319|22.6524266906|\n",
            "|Gazzab Family Res...|Delhi NCR|               Palam|   3.5|Chinese, North In...|       500.0|77.0820448548|28.6012305187|\n",
            "|      The Bunk House|Delhi NCR|   Hauz Khas Village|   3.5|Italian, Continen...|      2000.0|77.1949403733|28.5544852486|\n",
            "|AIR- An Ivory Region|Delhi NCR|        Punjabi Bagh|   4.2|North Indian, Chi...|      1400.0|   76.9869859|    28.547809|\n",
            "|      Pizza Galleria|Delhi NCR|         Gaur City 2|   3.7|    Pizza, Fast Food|       400.0|77.4235752225|28.6195780518|\n",
            "+--------------------+---------+--------------------+------+--------------------+------------+-------------+-------------+\n",
            "only showing top 20 rows\n",
            "\n"
          ],
          "name": "stdout"
        }
      ]
    },
    {
      "cell_type": "markdown",
      "metadata": {
        "id": "xdhT6rqH3Alt"
      },
      "source": [
        "## Pre-processing"
      ]
    },
    {
      "cell_type": "code",
      "metadata": {
        "id": "zJXZAsCNbNHo"
      },
      "source": [
        "# Drop unwanted column\n",
        "df = df.drop('timings', 'famous_food')"
      ],
      "execution_count": 11,
      "outputs": []
    },
    {
      "cell_type": "code",
      "metadata": {
        "id": "aWiHzoIbbNHq"
      },
      "source": [
        "# Statistical Properties of the dataframe\n",
        "#df.select('rating', 'rating_count', 'cost_for_two', 'online_order', 'table_reservation', 'delivery_only').describe().show(5)"
      ],
      "execution_count": 12,
      "outputs": []
    },
    {
      "cell_type": "code",
      "metadata": {
        "id": "MGLmnE5dbNHt",
        "colab": {
          "base_uri": "https://localhost:8080/"
        },
        "outputId": "e19dfad8-e167-4769-e2a2-0e67e0461cff"
      },
      "source": [
        "# Cleaned way\n",
        "df.select(format_number(df['rating'].cast('float'), 2).alias('rating'),\n",
        "         format_number(df['rating_count'].cast('float'), 2).alias('rating_count'),\n",
        "         format_number(df['cost_for_two'].cast('float'), 2).alias('cost_for_two'),\n",
        "         format_number(df['online_order'].cast('float'), 2).alias('online_order'),\n",
        "         format_number(df['table_reservation'].cast('float'), 2).alias('table_reservation'),\n",
        "         format_number(df['delivery_only'].cast('float'), 2).alias('delivery_only')).describe().show()"
      ],
      "execution_count": 13,
      "outputs": [
        {
          "output_type": "stream",
          "text": [
            "+-------+-------------------+------------------+------------------+------------------+-----------------+------------------+\n",
            "|summary|             rating|      rating_count|      cost_for_two|      online_order|table_reservation|     delivery_only|\n",
            "+-------+-------------------+------------------+------------------+------------------+-----------------+------------------+\n",
            "|  count|             144736|            142398|            220989|                13|                8|                 4|\n",
            "|   mean| 3.4880858943179107|101.55640338362659| 357.0730075769587|37.573076923076925|         31.31875|31.747500000000002|\n",
            "| stddev|0.41998586322159115|161.58949123456605|179.71917421709884|30.744909981061742|28.89633809597927|37.322661011776745|\n",
            "|    min|               0.00|              0.00|              0.00|              0.00|             0.00|              1.00|\n",
            "|    max|               4.90|            999.00|            999.00|              9.96|            77.04|             85.09|\n",
            "+-------+-------------------+------------------+------------------+------------------+-----------------+------------------+\n",
            "\n"
          ],
          "name": "stdout"
        }
      ]
    },
    {
      "cell_type": "code",
      "metadata": {
        "id": "-XR9SJ_ybNHv",
        "colab": {
          "base_uri": "https://localhost:8080/"
        },
        "outputId": "bd6d54e6-ef74-4ffa-d68f-3f9978f3f1c6"
      },
      "source": [
        "# Checking the Schema after deletion\n",
        "df.printSchema()"
      ],
      "execution_count": 14,
      "outputs": [
        {
          "output_type": "stream",
          "text": [
            "root\n",
            " |-- zomato_url: string (nullable = true)\n",
            " |-- name: string (nullable = true)\n",
            " |-- city: string (nullable = true)\n",
            " |-- area: string (nullable = true)\n",
            " |-- rating: string (nullable = true)\n",
            " |-- rating_count: string (nullable = true)\n",
            " |-- telephone: string (nullable = true)\n",
            " |-- cusine: string (nullable = true)\n",
            " |-- cost_for_two: string (nullable = true)\n",
            " |-- address: string (nullable = true)\n",
            " |-- online_order: string (nullable = true)\n",
            " |-- table_reservation: string (nullable = true)\n",
            " |-- delivery_only: string (nullable = true)\n",
            " |-- longitude: string (nullable = true)\n",
            " |-- latitude: string (nullable = true)\n",
            "\n"
          ],
          "name": "stdout"
        }
      ]
    },
    {
      "cell_type": "code",
      "metadata": {
        "id": "bkkdqjcwbNHx",
        "colab": {
          "base_uri": "https://localhost:8080/"
        },
        "outputId": "3ff5e86e-f6c1-42e6-df62-539bd870aeff"
      },
      "source": [
        "# Counting the missing values from each feature\n",
        "for col in df.columns:\n",
        "    print(col, \"\\t\", \"with NULL values = \", df.filter(df[col].isNull()).count())"
      ],
      "execution_count": 15,
      "outputs": [
        {
          "output_type": "stream",
          "text": [
            "zomato_url \t with NULL values =  5\n",
            "name \t with NULL values =  62\n",
            "city \t with NULL values =  79\n",
            "area \t with NULL values =  82\n",
            "rating \t with NULL values =  79867\n",
            "rating_count \t with NULL values =  82266\n",
            "telephone \t with NULL values =  1711\n",
            "cusine \t with NULL values =  1440\n",
            "cost_for_two \t with NULL values =  3839\n",
            "address \t with NULL values =  2016\n",
            "online_order \t with NULL values =  571\n",
            "table_reservation \t with NULL values =  578\n",
            "delivery_only \t with NULL values =  583\n",
            "longitude \t with NULL values =  594\n",
            "latitude \t with NULL values =  595\n"
          ],
          "name": "stdout"
        }
      ]
    },
    {
      "cell_type": "code",
      "metadata": {
        "id": "D_B_LPb7bNH0"
      },
      "source": [
        "df = df.dropna(how= 'any')"
      ],
      "execution_count": 16,
      "outputs": []
    },
    {
      "cell_type": "code",
      "metadata": {
        "colab": {
          "base_uri": "https://localhost:8080/"
        },
        "id": "Tj18imCyHEvI",
        "outputId": "818cd4b0-55c8-4bdc-dfd6-b5f50223c2cb"
      },
      "source": [
        "# Shape of the dataset i.e. the rows and the columns\n",
        "shape = (df.count(), len(df.columns))\n",
        "print(\"The Shape of the dataset= \", shape)"
      ],
      "execution_count": 17,
      "outputs": [
        {
          "output_type": "stream",
          "text": [
            "The Shape of the dataset=  (139478, 15)\n"
          ],
          "name": "stdout"
        }
      ]
    },
    {
      "cell_type": "code",
      "metadata": {
        "id": "iyAaLtG6bNH2",
        "colab": {
          "base_uri": "https://localhost:8080/"
        },
        "outputId": "06178d8b-085c-4049-b3e8-5ce093dad671"
      },
      "source": [
        "# Counting the missing values from each feature\n",
        "for col in df.columns:\n",
        "    print(col, \"\\t\", \"with NULL values = \", df.filter(df[col].isNull()).count())"
      ],
      "execution_count": 18,
      "outputs": [
        {
          "output_type": "stream",
          "text": [
            "zomato_url \t with NULL values =  0\n",
            "name \t with NULL values =  0\n",
            "city \t with NULL values =  0\n",
            "area \t with NULL values =  0\n",
            "rating \t with NULL values =  0\n",
            "rating_count \t with NULL values =  0\n",
            "telephone \t with NULL values =  0\n",
            "cusine \t with NULL values =  0\n",
            "cost_for_two \t with NULL values =  0\n",
            "address \t with NULL values =  0\n",
            "online_order \t with NULL values =  0\n",
            "table_reservation \t with NULL values =  0\n",
            "delivery_only \t with NULL values =  0\n",
            "longitude \t with NULL values =  0\n",
            "latitude \t with NULL values =  0\n"
          ],
          "name": "stdout"
        }
      ]
    },
    {
      "cell_type": "code",
      "metadata": {
        "id": "A0YpQrLgbNH5",
        "colab": {
          "base_uri": "https://localhost:8080/",
          "height": 69
        },
        "outputId": "188cb307-ec38-4864-8ba0-6fa90e992f32"
      },
      "source": [
        "# Scripting in Python for changing datatypes\n",
        "'''\n",
        "df['rating'] = df['rating'].astype(float)\n",
        "df['rating_count'] = df['rating_count'].astype(int)\n",
        "df['telephone'] = df['telephone'].astype(int)\n",
        "df['cost_for_two'] = df['cost_for_two'].astype(int)\n",
        "df['longitude'] = df['longitude'].astype(double)\n",
        "df['latitude] = df['latitude'].astype(double)\n",
        "'''"
      ],
      "execution_count": 19,
      "outputs": [
        {
          "output_type": "execute_result",
          "data": {
            "application/vnd.google.colaboratory.intrinsic+json": {
              "type": "string"
            },
            "text/plain": [
              "\"\\ndf['rating'] = df['rating'].astype(float)\\ndf['rating_count'] = df['rating_count'].astype(int)\\ndf['telephone'] = df['telephone'].astype(int)\\ndf['cost_for_two'] = df['cost_for_two'].astype(int)\\ndf['longitude'] = df['longitude'].astype(double)\\ndf['latitude] = df['latitude'].astype(double)\\n\""
            ]
          },
          "metadata": {
            "tags": []
          },
          "execution_count": 19
        }
      ]
    },
    {
      "cell_type": "code",
      "metadata": {
        "id": "VXArr_uebNH7"
      },
      "source": [
        "# Changing the datatypes according to the PySpark\n",
        "df = df.withColumn(\"rating\", df['rating'].cast(FloatType()))\n",
        "df = df.withColumn('rating_count', df['rating_count'].cast(IntegerType()))\n",
        "df = df.withColumn('telephone', df['telephone'].cast(IntegerType()))\n",
        "df = df.withColumn('cost_for_two', df['cost_for_two'].cast(IntegerType()))\n",
        "df = df.withColumn('longitude', df['longitude'].cast(DoubleType()))\n",
        "df = df.withColumn('latitude', df['latitude'].cast(DoubleType()))"
      ],
      "execution_count": 20,
      "outputs": []
    },
    {
      "cell_type": "code",
      "metadata": {
        "id": "rcLiMQjrbNH9",
        "colab": {
          "base_uri": "https://localhost:8080/"
        },
        "outputId": "a78bb254-f40f-438f-95df-e959f097370e"
      },
      "source": [
        "df.printSchema()"
      ],
      "execution_count": 21,
      "outputs": [
        {
          "output_type": "stream",
          "text": [
            "root\n",
            " |-- zomato_url: string (nullable = true)\n",
            " |-- name: string (nullable = true)\n",
            " |-- city: string (nullable = true)\n",
            " |-- area: string (nullable = true)\n",
            " |-- rating: float (nullable = true)\n",
            " |-- rating_count: integer (nullable = true)\n",
            " |-- telephone: integer (nullable = true)\n",
            " |-- cusine: string (nullable = true)\n",
            " |-- cost_for_two: integer (nullable = true)\n",
            " |-- address: string (nullable = true)\n",
            " |-- online_order: string (nullable = true)\n",
            " |-- table_reservation: string (nullable = true)\n",
            " |-- delivery_only: string (nullable = true)\n",
            " |-- longitude: double (nullable = true)\n",
            " |-- latitude: double (nullable = true)\n",
            "\n"
          ],
          "name": "stdout"
        }
      ]
    },
    {
      "cell_type": "code",
      "metadata": {
        "colab": {
          "base_uri": "https://localhost:8080/"
        },
        "id": "tBmox_ogW74Y",
        "outputId": "6b0ed529-f4cb-4ce9-efad-54103d00c5ca"
      },
      "source": [
        "df.show()"
      ],
      "execution_count": 22,
      "outputs": [
        {
          "output_type": "stream",
          "text": [
            "+--------------------+--------------------+---------+-------------------+------+------------+---------+--------------------+------------+--------------------+------------+-----------------+-------------+-------------+-------------+\n",
            "|          zomato_url|                name|     city|               area|rating|rating_count|telephone|              cusine|cost_for_two|             address|online_order|table_reservation|delivery_only|    longitude|     latitude|\n",
            "+--------------------+--------------------+---------+-------------------+------+------------+---------+--------------------+------------+--------------------+------------+-----------------+-------------+-------------+-------------+\n",
            "|https://www.zomat...|         Sainik Food|Delhi NCR|       Pandav Nagar|   3.2|          21|     null|        North Indian|         300|C 4/1, Opposite M...|       False|            False|        False|77.2848711535|28.6177324058|\n",
            "|https://www.zomat...|Kunal's Creamery ...|   Mumbai|          Ambernath|   3.6|          51|     null|Street Food, Chin...|         500|Shop 14, Trishul ...|       False|            False|        False|73.1842865422|19.2058869331|\n",
            "|https://www.zomat...|            Chunky's|  Kolkata|            Shibpur|   3.0|          78|     null|Italian, Pizza, C...|         500|523, G.T Road, Ho...|        True|            False|        False|88.3307084441|22.5777582163|\n",
            "|https://www.zomat...|           Applemint|   Mumbai|           Kharghar|   3.5|          94|     null|             Chinese|         200|Shop 32, Hiranand...|        True|            False|        False| 73.065526709|19.0333901528|\n",
            "|https://www.zomat...|      Way To Waffles|Delhi NCR|           Vaishali|   3.6|          31|     null|Italian, Fast Foo...|         500|15, Sector 3/A, R...|        True|            False|        False|77.3370330781|28.6388375255|\n",
            "|https://www.zomat...|        Food Fantasy|Delhi NCR|Mayur Vihar Phase 1|   3.8|         437|     null|North Indian, Chi...|         500|P-35-36, Opposite...|        True|            False|        False| 77.292762883|28.6082022818|\n",
            "|https://www.zomat...|Curry And Combos ...|   Mumbai|      Goregaon East|   4.4|          92|     null|North Indian, Chi...|         550|Shop 6, Mukadam C...|        True|            False|        False|    72.869879|    19.175588|\n",
            "|https://www.zomat...|    Nutritious Bites|Delhi NCR|             Rohini|   3.0|          77|     null|        Healthy Food|         500|F - 10/18, Sector...|        True|            False|        False|     77.12973|    28.735006|\n",
            "|https://www.zomat...|Bombay's Royal China|Delhi NCR|     Prashant Vihar|   3.4|          42|     null|Chinese, Fast Foo...|         600|Shop 76, DDA Mark...|        True|            False|        False|   77.1370452|   28.7130441|\n",
            "|https://www.zomat...|        Food Village|  Kolkata|          Baranagar|   2.8|         355|     null|        North Indian|         650|144, B.T. Road, D...|        True|            False|        False|88.3774164319|22.6524266906|\n",
            "|https://www.zomat...|Gazzab Family Res...|Delhi NCR|              Palam|   3.5|          41|     null|Chinese, North In...|         500|Opposite Dashrath...|        True|            False|        False|77.0820448548|28.6012305187|\n",
            "|https://www.zomat...|      The Bunk House|Delhi NCR|  Hauz Khas Village|   3.5|         104|     null|Italian, Continen...|        2000|2nd Floor, Buldin...|       False|            False|        False|77.1949403733|28.5544852486|\n",
            "|https://www.zomat...|AIR- An Ivory Region|Delhi NCR|       Punjabi Bagh|   4.2|        2713|     null|North Indian, Chi...|        1400|1/83, Third Floor...|       False|             True|        False|   76.9869859|    28.547809|\n",
            "|https://www.zomat...|      Pizza Galleria|Delhi NCR|        Gaur City 2|   3.7|          54|     null|    Pizza, Fast Food|         400|Lower Ground Floo...|        True|            False|        False|77.4235752225|28.6195780518|\n",
            "|https://www.zomat...|     Brijwasi Sweets|   Mumbai|    Vile Parle East|   3.5|          23|     null|              Mithai|         600|17, Narottam Niwa...|       False|            False|        False|72.8458266333|19.0982911938|\n",
            "|https://www.zomat...|Chakkhna : Beyond...|Delhi NCR|          Sector 49|   4.0|         690|     null|North Indian, Bir...|         650|110, 1st Floor, C...|        True|            False|        False|77.0491197333|28.4117395884|\n",
            "|https://www.zomat...|     Truffle Tangles|Delhi NCR|          Sector 49|   3.8|          41|     null|Bakery, Desserts,...|         300|Flat 122, Jasmani...|       False|            False|        False|77.0363343135|28.4282431398|\n",
            "|https://www.zomat...|            Pizzaman|  Kolkata|Sector 5, Salt Lake|   3.2|         292|     null|Pizza, Italian, A...|         600|Shop 3, J1/16, Sh...|        True|            False|        False|88.4354483709|22.5705590471|\n",
            "|https://www.zomat...|          Foodee Hub|Delhi NCR|        Uttam Nagar|   3.2|          14|     null|Chinese, North In...|         300|C 31, Block B, Sh...|        True|            False|        False|     77.03473|    28.622518|\n",
            "|https://www.zomat...|     Pepper And Salt|Delhi NCR|        Gaur City 2|   3.2|          11|     null|Chinese, North In...|         500|Shop 3, Club Hous...|        True|            False|        False|77.4227906764|28.6176302777|\n",
            "+--------------------+--------------------+---------+-------------------+------+------------+---------+--------------------+------------+--------------------+------------+-----------------+-------------+-------------+-------------+\n",
            "only showing top 20 rows\n",
            "\n"
          ],
          "name": "stdout"
        }
      ]
    },
    {
      "cell_type": "code",
      "metadata": {
        "colab": {
          "base_uri": "https://localhost:8080/",
          "height": 808
        },
        "id": "0-kC7JWrZs1P",
        "outputId": "6fcede8a-ac9e-4da8-9d86-206558a28885"
      },
      "source": [
        "india_map = folium.Map(location= [20.5937, 78.9629], zoom_start= 5)\n",
        "india_map"
      ],
      "execution_count": 30,
      "outputs": [
        {
          "output_type": "execute_result",
          "data": {
            "text/html": [
              "<div style=\"width:100%;\"><div style=\"position:relative;width:100%;height:0;padding-bottom:60%;\"><span style=\"color:#565656\">Make this Notebook Trusted to load map: File -> Trust Notebook</span><iframe src=\"about:blank\" style=\"position:absolute;width:100%;height:100%;left:0;top:0;border:none !important;\" data-html=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 onload=\"this.contentDocument.open();this.contentDocument.write(atob(this.getAttribute('data-html')));this.contentDocument.close();\" allowfullscreen webkitallowfullscreen mozallowfullscreen></iframe></div></div>"
            ],
            "text/plain": [
              "<folium.folium.Map at 0x7faf565942b0>"
            ]
          },
          "metadata": {
            "tags": []
          },
          "execution_count": 30
        }
      ]
    },
    {
      "cell_type": "markdown",
      "metadata": {
        "id": "myC0KIqDbNH_"
      },
      "source": [
        "## Analysis"
      ]
    },
    {
      "cell_type": "markdown",
      "metadata": {
        "id": "G38Cvse8bNIA"
      },
      "source": [
        "#### What are the top 10 rated restaurants in the dataset?"
      ]
    },
    {
      "cell_type": "code",
      "metadata": {
        "id": "nQgG9rpwc_oU",
        "colab": {
          "base_uri": "https://localhost:8080/"
        },
        "outputId": "14cc80fb-c58a-4d11-8c3e-fb658d721f2c"
      },
      "source": [
        "q1 = df.select('name', 'rating', 'rating_count', 'latitude', 'longitude').groupby('name', 'rating', 'rating_count', 'latitude', 'longitude').agg(count('*').alias('count')).orderBy(desc('rating_count')).limit(10)\n",
        "q1.show()"
      ],
      "execution_count": 24,
      "outputs": [
        {
          "output_type": "stream",
          "text": [
            "+--------------------+------+------------+-------------+-------------+-----+\n",
            "|                name|rating|rating_count|     latitude|    longitude|count|\n",
            "+--------------------+------+------------+-------------+-------------+-----+\n",
            "|            Bawarchi|   4.5|       42621|17.4058834625|78.4988379479|    1|\n",
            "|Byg Brewski Brewi...|   4.9|       19305|12.9129344258|77.6829059422|    1|\n",
            "|                Toit|   4.6|       15731| 12.978888098| 77.640921995|    1|\n",
            "|            Truffles|   4.6|       15653| 12.933426714|77.6143838838|    1|\n",
            "|AB's - Absolute B...|   4.8|       13164|   12.9497983|   77.6993079|    1|\n",
            "|            Paradise|   4.7|       13152|17.4419196322|78.4872524813|    1|\n",
            "|     The Black Pearl|   4.9|       12686|12.9344733575|77.6159777865|    1|\n",
            "|Shah Ghouse Hotel...|   4.2|       12514|17.4269242726|78.3765272051|    1|\n",
            "|           Peter Cat|   4.2|       11917| 22.552630386|88.3527230099|    1|\n",
            "|    Lucky Restaurant|   4.3|       11103|    17.365502|    78.557579|    1|\n",
            "+--------------------+------+------------+-------------+-------------+-----+\n",
            "\n"
          ],
          "name": "stdout"
        }
      ]
    },
    {
      "cell_type": "code",
      "metadata": {
        "colab": {
          "base_uri": "https://localhost:8080/",
          "height": 808
        },
        "id": "0EOMdLVpUCVC",
        "outputId": "9c190cca-c3fa-4db2-fd44-8ef7f279ed50"
      },
      "source": [
        "top_10_restaurant_india = folium.Map(location= [20.5937, 78.9629], zoom_start= 5)\n",
        "top_10_restaurant = folium.map.FeatureGroup()\n",
        "\n",
        "for name, lat, lng, in zip(q1.toPandas()['name'].values.tolist(), q1.toPandas()['latitude'].values.tolist(), q1.toPandas()['longitude'].values.tolist()):\n",
        "  top_10_restaurant.add_child(\n",
        "      folium.Marker(\n",
        "          [lat, lng],\n",
        "          popup= name,\n",
        "      )\n",
        "  )\n",
        "\n",
        "top_10_restaurant_india.add_child(top_10_restaurant)"
      ],
      "execution_count": 45,
      "outputs": [
        {
          "output_type": "execute_result",
          "data": {
            "text/html": [
              "<div style=\"width:100%;\"><div style=\"position:relative;width:100%;height:0;padding-bottom:60%;\"><span style=\"color:#565656\">Make this Notebook Trusted to load map: File -> Trust Notebook</span><iframe src=\"about:blank\" style=\"position:absolute;width:100%;height:100%;left:0;top:0;border:none !important;\" data-html=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 onload=\"this.contentDocument.open();this.contentDocument.write(atob(this.getAttribute('data-html')));this.contentDocument.close();\" allowfullscreen webkitallowfullscreen mozallowfullscreen></iframe></div></div>"
            ],
            "text/plain": [
              "<folium.folium.Map at 0x7faf4ddbdef0>"
            ]
          },
          "metadata": {
            "tags": []
          },
          "execution_count": 45
        }
      ]
    },
    {
      "cell_type": "markdown",
      "metadata": {
        "id": "T0lIg_vtxOIa"
      },
      "source": [
        "#### What are the top 10 most served cusine in the dataset?"
      ]
    },
    {
      "cell_type": "code",
      "metadata": {
        "colab": {
          "base_uri": "https://localhost:8080/"
        },
        "id": "yXzLc8rA3jch",
        "outputId": "e1a50475-02b1-463f-ce2f-9b49e4d64514"
      },
      "source": [
        "q2 = df.select('cusine').groupby('cusine').agg(count('*').alias('count')).orderBy(desc('count')).limit(10)\n",
        "q2.show()"
      ],
      "execution_count": 52,
      "outputs": [
        {
          "output_type": "stream",
          "text": [
            "+--------------------+-----+\n",
            "|              cusine|count|\n",
            "+--------------------+-----+\n",
            "|        North Indian|10401|\n",
            "|North Indian, Chi...| 7164|\n",
            "|           Fast Food| 5880|\n",
            "|        South Indian| 3496|\n",
            "|              Bakery| 2850|\n",
            "|             Chinese| 2697|\n",
            "|         Street Food| 2311|\n",
            "|    Bakery, Desserts| 2253|\n",
            "|    Pizza, Fast Food| 2185|\n",
            "|Chinese, North In...| 1656|\n",
            "+--------------------+-----+\n",
            "\n"
          ],
          "name": "stdout"
        }
      ]
    },
    {
      "cell_type": "code",
      "metadata": {
        "colab": {
          "base_uri": "https://localhost:8080/",
          "height": 542
        },
        "id": "Xh6wBOcW1V22",
        "outputId": "80600b5d-5eed-4b04-9ade-562604d14777"
      },
      "source": [
        "q2_py = q2.toPandas()\n",
        "fig = px.bar(q2_py, x= 'cusine', y= 'count', text= 'count', color= 'cusine')\n",
        "fig.update_traces(texttemplate= '%{text:.2s}', textposition= 'outside')\n",
        "fig.update_layout(xaxis_tickangle= -45)\n",
        "fig.update_layout(title= 'Top 10 Most Served Cusines', xaxis_title= 'Cusine', yaxis_title= 'Count')\n",
        "\n",
        "fig"
      ],
      "execution_count": 72,
      "outputs": [
        {
          "output_type": "display_data",
          "data": {
            "text/html": [
              "<html>\n",
              "<head><meta charset=\"utf-8\" /></head>\n",
              "<body>\n",
              "    <div>\n",
              "            <script src=\"https://cdnjs.cloudflare.com/ajax/libs/mathjax/2.7.5/MathJax.js?config=TeX-AMS-MML_SVG\"></script><script type=\"text/javascript\">if (window.MathJax) {MathJax.Hub.Config({SVG: {font: \"STIX-Web\"}});}</script>\n",
              "                <script type=\"text/javascript\">window.PlotlyConfig = {MathJaxConfig: 'local'};</script>\n",
              "        <script src=\"https://cdn.plot.ly/plotly-latest.min.js\"></script>    \n",
              "            <div id=\"8f18a197-bc9a-4fb4-b9b5-c48e6ebc7250\" class=\"plotly-graph-div\" style=\"height:525px; width:100%;\"></div>\n",
              "            <script type=\"text/javascript\">\n",
              "                \n",
              "                    window.PLOTLYENV=window.PLOTLYENV || {};\n",
              "                    \n",
              "                if (document.getElementById(\"8f18a197-bc9a-4fb4-b9b5-c48e6ebc7250\")) {\n",
              "                    Plotly.newPlot(\n",
              "                        '8f18a197-bc9a-4fb4-b9b5-c48e6ebc7250',\n",
              "                        [{\"alignmentgroup\": \"True\", \"hoverlabel\": {\"namelength\": 0}, \"hovertemplate\": \"cusine=%{x}<br>count=%{text}\", \"legendgroup\": \"cusine=North Indian\", \"marker\": {\"color\": \"#636efa\"}, \"name\": \"cusine=North Indian\", \"offsetgroup\": \"cusine=North Indian\", \"orientation\": \"v\", \"showlegend\": true, \"text\": [10401.0], \"textposition\": \"outside\", \"texttemplate\": \"%{text:.2s}\", \"type\": \"bar\", \"x\": [\"North Indian\"], \"xaxis\": \"x\", \"y\": [10401], \"yaxis\": \"y\"}, {\"alignmentgroup\": \"True\", \"hoverlabel\": {\"namelength\": 0}, \"hovertemplate\": \"cusine=%{x}<br>count=%{text}\", \"legendgroup\": \"cusine=North Indian, Chinese\", \"marker\": {\"color\": \"#EF553B\"}, \"name\": \"cusine=North Indian, Chinese\", \"offsetgroup\": \"cusine=North Indian, Chinese\", \"orientation\": \"v\", \"showlegend\": true, \"text\": [7164.0], \"textposition\": \"outside\", \"texttemplate\": \"%{text:.2s}\", \"type\": \"bar\", \"x\": [\"North Indian, Chinese\"], \"xaxis\": \"x\", \"y\": [7164], \"yaxis\": \"y\"}, {\"alignmentgroup\": \"True\", \"hoverlabel\": {\"namelength\": 0}, \"hovertemplate\": \"cusine=%{x}<br>count=%{text}\", \"legendgroup\": \"cusine=Fast Food\", \"marker\": {\"color\": \"#00cc96\"}, \"name\": \"cusine=Fast Food\", \"offsetgroup\": \"cusine=Fast Food\", \"orientation\": \"v\", \"showlegend\": true, \"text\": [5880.0], \"textposition\": \"outside\", \"texttemplate\": \"%{text:.2s}\", \"type\": \"bar\", \"x\": [\"Fast Food\"], \"xaxis\": \"x\", \"y\": [5880], \"yaxis\": \"y\"}, {\"alignmentgroup\": \"True\", \"hoverlabel\": {\"namelength\": 0}, \"hovertemplate\": \"cusine=%{x}<br>count=%{text}\", \"legendgroup\": \"cusine=South Indian\", \"marker\": {\"color\": \"#ab63fa\"}, \"name\": \"cusine=South Indian\", \"offsetgroup\": \"cusine=South Indian\", \"orientation\": \"v\", \"showlegend\": true, \"text\": [3496.0], \"textposition\": \"outside\", \"texttemplate\": \"%{text:.2s}\", \"type\": \"bar\", \"x\": [\"South Indian\"], \"xaxis\": \"x\", \"y\": [3496], \"yaxis\": \"y\"}, {\"alignmentgroup\": \"True\", \"hoverlabel\": {\"namelength\": 0}, \"hovertemplate\": \"cusine=%{x}<br>count=%{text}\", \"legendgroup\": \"cusine=Bakery\", \"marker\": {\"color\": \"#FFA15A\"}, \"name\": \"cusine=Bakery\", \"offsetgroup\": \"cusine=Bakery\", \"orientation\": \"v\", \"showlegend\": true, \"text\": [2850.0], \"textposition\": \"outside\", \"texttemplate\": \"%{text:.2s}\", \"type\": \"bar\", \"x\": [\"Bakery\"], \"xaxis\": \"x\", \"y\": [2850], \"yaxis\": \"y\"}, {\"alignmentgroup\": \"True\", \"hoverlabel\": {\"namelength\": 0}, \"hovertemplate\": \"cusine=%{x}<br>count=%{text}\", \"legendgroup\": \"cusine=Chinese\", \"marker\": {\"color\": \"#19d3f3\"}, \"name\": \"cusine=Chinese\", \"offsetgroup\": \"cusine=Chinese\", \"orientation\": \"v\", \"showlegend\": true, \"text\": [2697.0], \"textposition\": \"outside\", \"texttemplate\": \"%{text:.2s}\", \"type\": \"bar\", \"x\": [\"Chinese\"], \"xaxis\": \"x\", \"y\": [2697], \"yaxis\": \"y\"}, {\"alignmentgroup\": \"True\", \"hoverlabel\": {\"namelength\": 0}, \"hovertemplate\": \"cusine=%{x}<br>count=%{text}\", \"legendgroup\": \"cusine=Street Food\", \"marker\": {\"color\": \"#FF6692\"}, \"name\": \"cusine=Street Food\", \"offsetgroup\": \"cusine=Street Food\", \"orientation\": \"v\", \"showlegend\": true, \"text\": [2311.0], \"textposition\": \"outside\", \"texttemplate\": \"%{text:.2s}\", \"type\": \"bar\", \"x\": [\"Street Food\"], \"xaxis\": \"x\", \"y\": [2311], \"yaxis\": \"y\"}, {\"alignmentgroup\": \"True\", \"hoverlabel\": {\"namelength\": 0}, \"hovertemplate\": \"cusine=%{x}<br>count=%{text}\", \"legendgroup\": \"cusine=Bakery, Desserts\", \"marker\": {\"color\": \"#B6E880\"}, \"name\": \"cusine=Bakery, Desserts\", \"offsetgroup\": \"cusine=Bakery, Desserts\", \"orientation\": \"v\", \"showlegend\": true, \"text\": [2253.0], \"textposition\": \"outside\", \"texttemplate\": \"%{text:.2s}\", \"type\": \"bar\", \"x\": [\"Bakery, Desserts\"], \"xaxis\": \"x\", \"y\": [2253], \"yaxis\": \"y\"}, {\"alignmentgroup\": \"True\", \"hoverlabel\": {\"namelength\": 0}, \"hovertemplate\": \"cusine=%{x}<br>count=%{text}\", \"legendgroup\": \"cusine=Pizza, Fast Food\", \"marker\": {\"color\": \"#FF97FF\"}, \"name\": \"cusine=Pizza, Fast Food\", \"offsetgroup\": \"cusine=Pizza, Fast Food\", \"orientation\": \"v\", \"showlegend\": true, \"text\": [2185.0], \"textposition\": \"outside\", \"texttemplate\": \"%{text:.2s}\", \"type\": \"bar\", \"x\": [\"Pizza, Fast Food\"], \"xaxis\": \"x\", \"y\": [2185], \"yaxis\": \"y\"}, {\"alignmentgroup\": \"True\", \"hoverlabel\": {\"namelength\": 0}, \"hovertemplate\": \"cusine=%{x}<br>count=%{text}\", \"legendgroup\": \"cusine=Chinese, North Indian\", \"marker\": {\"color\": \"#FECB52\"}, \"name\": \"cusine=Chinese, North Indian\", \"offsetgroup\": \"cusine=Chinese, North Indian\", \"orientation\": \"v\", \"showlegend\": true, \"text\": [1656.0], \"textposition\": \"outside\", \"texttemplate\": \"%{text:.2s}\", \"type\": \"bar\", \"x\": [\"Chinese, North Indian\"], \"xaxis\": \"x\", \"y\": [1656], \"yaxis\": \"y\"}],\n",
              "                        {\"barmode\": \"relative\", \"legend\": {\"tracegroupgap\": 0}, \"margin\": {\"t\": 60}, \"template\": {\"data\": {\"bar\": [{\"error_x\": {\"color\": \"#2a3f5f\"}, \"error_y\": {\"color\": \"#2a3f5f\"}, \"marker\": {\"line\": {\"color\": \"#E5ECF6\", \"width\": 0.5}}, \"type\": \"bar\"}], \"barpolar\": [{\"marker\": {\"line\": {\"color\": \"#E5ECF6\", \"width\": 0.5}}, \"type\": \"barpolar\"}], \"carpet\": [{\"aaxis\": {\"endlinecolor\": \"#2a3f5f\", \"gridcolor\": \"white\", \"linecolor\": \"white\", \"minorgridcolor\": \"white\", \"startlinecolor\": \"#2a3f5f\"}, \"baxis\": {\"endlinecolor\": \"#2a3f5f\", \"gridcolor\": \"white\", \"linecolor\": \"white\", \"minorgridcolor\": \"white\", \"startlinecolor\": \"#2a3f5f\"}, \"type\": \"carpet\"}], \"choropleth\": [{\"colorbar\": {\"outlinewidth\": 0, \"ticks\": \"\"}, \"type\": \"choropleth\"}], \"contour\": [{\"colorbar\": {\"outlinewidth\": 0, \"ticks\": \"\"}, \"colorscale\": [[0.0, \"#0d0887\"], [0.1111111111111111, \"#46039f\"], [0.2222222222222222, \"#7201a8\"], [0.3333333333333333, \"#9c179e\"], [0.4444444444444444, \"#bd3786\"], [0.5555555555555556, \"#d8576b\"], [0.6666666666666666, \"#ed7953\"], [0.7777777777777778, \"#fb9f3a\"], [0.8888888888888888, \"#fdca26\"], [1.0, \"#f0f921\"]], \"type\": \"contour\"}], \"contourcarpet\": [{\"colorbar\": {\"outlinewidth\": 0, \"ticks\": \"\"}, \"type\": \"contourcarpet\"}], \"heatmap\": [{\"colorbar\": {\"outlinewidth\": 0, \"ticks\": \"\"}, \"colorscale\": [[0.0, \"#0d0887\"], [0.1111111111111111, \"#46039f\"], [0.2222222222222222, \"#7201a8\"], [0.3333333333333333, \"#9c179e\"], [0.4444444444444444, \"#bd3786\"], [0.5555555555555556, \"#d8576b\"], [0.6666666666666666, \"#ed7953\"], [0.7777777777777778, \"#fb9f3a\"], [0.8888888888888888, \"#fdca26\"], [1.0, \"#f0f921\"]], \"type\": \"heatmap\"}], \"heatmapgl\": [{\"colorbar\": {\"outlinewidth\": 0, \"ticks\": \"\"}, \"colorscale\": [[0.0, \"#0d0887\"], [0.1111111111111111, \"#46039f\"], [0.2222222222222222, \"#7201a8\"], [0.3333333333333333, \"#9c179e\"], [0.4444444444444444, \"#bd3786\"], [0.5555555555555556, \"#d8576b\"], [0.6666666666666666, \"#ed7953\"], [0.7777777777777778, \"#fb9f3a\"], [0.8888888888888888, \"#fdca26\"], [1.0, \"#f0f921\"]], \"type\": \"heatmapgl\"}], \"histogram\": [{\"marker\": {\"colorbar\": {\"outlinewidth\": 0, \"ticks\": \"\"}}, \"type\": \"histogram\"}], \"histogram2d\": [{\"colorbar\": {\"outlinewidth\": 0, \"ticks\": \"\"}, \"colorscale\": [[0.0, \"#0d0887\"], [0.1111111111111111, \"#46039f\"], [0.2222222222222222, \"#7201a8\"], [0.3333333333333333, \"#9c179e\"], [0.4444444444444444, \"#bd3786\"], [0.5555555555555556, \"#d8576b\"], [0.6666666666666666, \"#ed7953\"], [0.7777777777777778, \"#fb9f3a\"], [0.8888888888888888, \"#fdca26\"], [1.0, \"#f0f921\"]], \"type\": \"histogram2d\"}], \"histogram2dcontour\": [{\"colorbar\": {\"outlinewidth\": 0, \"ticks\": \"\"}, \"colorscale\": [[0.0, \"#0d0887\"], [0.1111111111111111, \"#46039f\"], [0.2222222222222222, \"#7201a8\"], [0.3333333333333333, \"#9c179e\"], [0.4444444444444444, \"#bd3786\"], [0.5555555555555556, \"#d8576b\"], [0.6666666666666666, \"#ed7953\"], [0.7777777777777778, \"#fb9f3a\"], [0.8888888888888888, \"#fdca26\"], [1.0, \"#f0f921\"]], \"type\": \"histogram2dcontour\"}], \"mesh3d\": [{\"colorbar\": {\"outlinewidth\": 0, \"ticks\": \"\"}, \"type\": \"mesh3d\"}], \"parcoords\": [{\"line\": {\"colorbar\": {\"outlinewidth\": 0, \"ticks\": \"\"}}, \"type\": \"parcoords\"}], \"pie\": [{\"automargin\": true, \"type\": \"pie\"}], \"scatter\": [{\"marker\": {\"colorbar\": {\"outlinewidth\": 0, \"ticks\": \"\"}}, \"type\": \"scatter\"}], \"scatter3d\": [{\"line\": {\"colorbar\": {\"outlinewidth\": 0, \"ticks\": \"\"}}, \"marker\": {\"colorbar\": {\"outlinewidth\": 0, \"ticks\": \"\"}}, \"type\": \"scatter3d\"}], \"scattercarpet\": [{\"marker\": {\"colorbar\": {\"outlinewidth\": 0, \"ticks\": \"\"}}, \"type\": \"scattercarpet\"}], \"scattergeo\": [{\"marker\": {\"colorbar\": {\"outlinewidth\": 0, \"ticks\": \"\"}}, \"type\": \"scattergeo\"}], \"scattergl\": [{\"marker\": {\"colorbar\": {\"outlinewidth\": 0, \"ticks\": \"\"}}, \"type\": \"scattergl\"}], \"scattermapbox\": [{\"marker\": {\"colorbar\": {\"outlinewidth\": 0, \"ticks\": \"\"}}, \"type\": \"scattermapbox\"}], \"scatterpolar\": [{\"marker\": {\"colorbar\": {\"outlinewidth\": 0, \"ticks\": \"\"}}, \"type\": \"scatterpolar\"}], \"scatterpolargl\": [{\"marker\": {\"colorbar\": {\"outlinewidth\": 0, \"ticks\": \"\"}}, \"type\": \"scatterpolargl\"}], \"scatterternary\": [{\"marker\": {\"colorbar\": {\"outlinewidth\": 0, \"ticks\": \"\"}}, \"type\": \"scatterternary\"}], \"surface\": [{\"colorbar\": {\"outlinewidth\": 0, \"ticks\": \"\"}, \"colorscale\": [[0.0, \"#0d0887\"], [0.1111111111111111, \"#46039f\"], [0.2222222222222222, \"#7201a8\"], [0.3333333333333333, \"#9c179e\"], [0.4444444444444444, \"#bd3786\"], [0.5555555555555556, \"#d8576b\"], [0.6666666666666666, \"#ed7953\"], [0.7777777777777778, \"#fb9f3a\"], [0.8888888888888888, \"#fdca26\"], [1.0, \"#f0f921\"]], \"type\": \"surface\"}], \"table\": [{\"cells\": {\"fill\": {\"color\": \"#EBF0F8\"}, \"line\": {\"color\": \"white\"}}, \"header\": {\"fill\": {\"color\": \"#C8D4E3\"}, \"line\": {\"color\": \"white\"}}, \"type\": \"table\"}]}, \"layout\": {\"annotationdefaults\": {\"arrowcolor\": \"#2a3f5f\", \"arrowhead\": 0, \"arrowwidth\": 1}, \"coloraxis\": {\"colorbar\": {\"outlinewidth\": 0, \"ticks\": \"\"}}, \"colorscale\": {\"diverging\": [[0, \"#8e0152\"], [0.1, \"#c51b7d\"], [0.2, \"#de77ae\"], [0.3, \"#f1b6da\"], [0.4, \"#fde0ef\"], [0.5, \"#f7f7f7\"], [0.6, \"#e6f5d0\"], [0.7, \"#b8e186\"], [0.8, \"#7fbc41\"], [0.9, \"#4d9221\"], [1, \"#276419\"]], \"sequential\": [[0.0, \"#0d0887\"], [0.1111111111111111, \"#46039f\"], [0.2222222222222222, \"#7201a8\"], [0.3333333333333333, \"#9c179e\"], [0.4444444444444444, \"#bd3786\"], [0.5555555555555556, \"#d8576b\"], [0.6666666666666666, \"#ed7953\"], [0.7777777777777778, \"#fb9f3a\"], [0.8888888888888888, \"#fdca26\"], [1.0, \"#f0f921\"]], \"sequentialminus\": [[0.0, \"#0d0887\"], [0.1111111111111111, \"#46039f\"], [0.2222222222222222, \"#7201a8\"], [0.3333333333333333, \"#9c179e\"], [0.4444444444444444, \"#bd3786\"], [0.5555555555555556, \"#d8576b\"], [0.6666666666666666, \"#ed7953\"], [0.7777777777777778, \"#fb9f3a\"], [0.8888888888888888, \"#fdca26\"], [1.0, \"#f0f921\"]]}, \"colorway\": [\"#636efa\", \"#EF553B\", \"#00cc96\", \"#ab63fa\", \"#FFA15A\", \"#19d3f3\", \"#FF6692\", \"#B6E880\", \"#FF97FF\", \"#FECB52\"], \"font\": {\"color\": \"#2a3f5f\"}, \"geo\": {\"bgcolor\": \"white\", \"lakecolor\": \"white\", \"landcolor\": \"#E5ECF6\", \"showlakes\": true, \"showland\": true, \"subunitcolor\": \"white\"}, \"hoverlabel\": {\"align\": \"left\"}, \"hovermode\": \"closest\", \"mapbox\": {\"style\": \"light\"}, \"paper_bgcolor\": \"white\", \"plot_bgcolor\": \"#E5ECF6\", \"polar\": {\"angularaxis\": {\"gridcolor\": \"white\", \"linecolor\": \"white\", \"ticks\": \"\"}, \"bgcolor\": \"#E5ECF6\", \"radialaxis\": {\"gridcolor\": \"white\", \"linecolor\": \"white\", \"ticks\": \"\"}}, \"scene\": {\"xaxis\": {\"backgroundcolor\": \"#E5ECF6\", \"gridcolor\": \"white\", \"gridwidth\": 2, \"linecolor\": \"white\", \"showbackground\": true, \"ticks\": \"\", \"zerolinecolor\": \"white\"}, \"yaxis\": {\"backgroundcolor\": \"#E5ECF6\", \"gridcolor\": \"white\", \"gridwidth\": 2, \"linecolor\": \"white\", \"showbackground\": true, \"ticks\": \"\", \"zerolinecolor\": \"white\"}, \"zaxis\": {\"backgroundcolor\": \"#E5ECF6\", \"gridcolor\": \"white\", \"gridwidth\": 2, \"linecolor\": \"white\", \"showbackground\": true, \"ticks\": \"\", \"zerolinecolor\": \"white\"}}, \"shapedefaults\": {\"line\": {\"color\": \"#2a3f5f\"}}, \"ternary\": {\"aaxis\": {\"gridcolor\": \"white\", \"linecolor\": \"white\", \"ticks\": \"\"}, \"baxis\": {\"gridcolor\": \"white\", \"linecolor\": \"white\", \"ticks\": \"\"}, \"bgcolor\": \"#E5ECF6\", \"caxis\": {\"gridcolor\": \"white\", \"linecolor\": \"white\", \"ticks\": \"\"}}, \"title\": {\"x\": 0.05}, \"xaxis\": {\"automargin\": true, \"gridcolor\": \"white\", \"linecolor\": \"white\", \"ticks\": \"\", \"title\": {\"standoff\": 15}, \"zerolinecolor\": \"white\", \"zerolinewidth\": 2}, \"yaxis\": {\"automargin\": true, \"gridcolor\": \"white\", \"linecolor\": \"white\", \"ticks\": \"\", \"title\": {\"standoff\": 15}, \"zerolinecolor\": \"white\", \"zerolinewidth\": 2}}}, \"title\": {\"text\": \"Top 10 Most Served Cusines\"}, \"xaxis\": {\"anchor\": \"y\", \"categoryarray\": [\"North Indian\", \"North Indian, Chinese\", \"Fast Food\", \"South Indian\", \"Bakery\", \"Chinese\", \"Street Food\", \"Bakery, Desserts\", \"Pizza, Fast Food\", \"Chinese, North Indian\"], \"categoryorder\": \"array\", \"domain\": [0.0, 1.0], \"tickangle\": -45, \"title\": {\"text\": \"Cusine\"}}, \"yaxis\": {\"anchor\": \"x\", \"domain\": [0.0, 1.0], \"title\": {\"text\": \"Count\"}}},\n",
              "                        {\"responsive\": true}\n",
              "                    ).then(function(){\n",
              "                            \n",
              "var gd = document.getElementById('8f18a197-bc9a-4fb4-b9b5-c48e6ebc7250');\n",
              "var x = new MutationObserver(function (mutations, observer) {{\n",
              "        var display = window.getComputedStyle(gd).display;\n",
              "        if (!display || display === 'none') {{\n",
              "            console.log([gd, 'removed!']);\n",
              "            Plotly.purge(gd);\n",
              "            observer.disconnect();\n",
              "        }}\n",
              "}});\n",
              "\n",
              "// Listen for the removal of the full notebook cells\n",
              "var notebookContainer = gd.closest('#notebook-container');\n",
              "if (notebookContainer) {{\n",
              "    x.observe(notebookContainer, {childList: true});\n",
              "}}\n",
              "\n",
              "// Listen for the clearing of the current output cell\n",
              "var outputEl = gd.closest('.output');\n",
              "if (outputEl) {{\n",
              "    x.observe(outputEl, {childList: true});\n",
              "}}\n",
              "\n",
              "                        })\n",
              "                };\n",
              "                \n",
              "            </script>\n",
              "        </div>\n",
              "</body>\n",
              "</html>"
            ]
          },
          "metadata": {
            "tags": []
          }
        }
      ]
    },
    {
      "cell_type": "markdown",
      "metadata": {
        "id": "JDNNxgK26bSy"
      },
      "source": [
        "So, here we can see the the *North Indian* cuisine is the most served cuisine in our dataset. Second to it is the *Fast Food* that we all love to it on the go. Other than that it has *South Indian* dishes in top 5 spot. It is not surprising to see the Indian's most preferred dish- *Biryani* to secure a place in th top 10."
      ]
    },
    {
      "cell_type": "markdown",
      "metadata": {
        "id": "a3zKgeSN6LL1"
      },
      "source": [
        "#### In the top 10 restaurants, what is the most preferred cuisine?"
      ]
    },
    {
      "cell_type": "code",
      "metadata": {
        "colab": {
          "base_uri": "https://localhost:8080/"
        },
        "id": "TdQkEyMf6QR2",
        "outputId": "ecc08145-8dd5-48aa-8d9c-f94e41294b46"
      },
      "source": [
        "q3 = df.select('name', 'rating', 'rating_count', 'cusine').groupby('name', 'rating', 'rating_count', 'cusine').agg(count('*').alias('count')).orderBy(desc('rating_count')).limit(10)\n",
        "q3.show()"
      ],
      "execution_count": 58,
      "outputs": [
        {
          "output_type": "stream",
          "text": [
            "+--------------------+------+------------+--------------------+-----+\n",
            "|                name|rating|rating_count|              cusine|count|\n",
            "+--------------------+------+------------+--------------------+-----+\n",
            "|            Bawarchi|   4.5|       42621|Biryani, Hyderaba...|    1|\n",
            "|Byg Brewski Brewi...|   4.9|       19305|Continental, Nort...|    1|\n",
            "|                Toit|   4.6|       15731|Italian, American...|    1|\n",
            "|            Truffles|   4.6|       15653|Cafe, American, B...|    1|\n",
            "|AB's - Absolute B...|   4.8|       13164|European, Mediter...|    1|\n",
            "|            Paradise|   4.7|       13152|Biryani, North In...|    1|\n",
            "|     The Black Pearl|   4.9|       12686|North Indian, Eur...|    1|\n",
            "|Shah Ghouse Hotel...|   4.2|       12514|Biryani, North In...|    1|\n",
            "|           Peter Cat|   4.2|       11917|Continental, Nort...|    1|\n",
            "|    Lucky Restaurant|   4.3|       11103|Biryani, North In...|    1|\n",
            "+--------------------+------+------------+--------------------+-----+\n",
            "\n"
          ],
          "name": "stdout"
        }
      ]
    },
    {
      "cell_type": "code",
      "metadata": {
        "colab": {
          "base_uri": "https://localhost:8080/",
          "height": 542
        },
        "id": "WIiW0Hzf6Lmi",
        "outputId": "6f6f4de9-3316-436f-aeca-ebb9fe8a0687"
      },
      "source": [
        "q3_py = q3.toPandas()\n",
        "fig = px.bar(q3_py, x= 'cusine', y= 'rating_count', text= 'rating_count', color= 'cusine')\n",
        "fig.update_traces(texttemplate= '%{text:.2s}', textposition= 'outside')\n",
        "fig.update_layout(xaxis_tickangle= -45)\n",
        "fig.update_layout(title= 'Most Preferred Cusines in Top 10 Restaurants in India', xaxis_title= 'Cusine', yaxis_title= 'Rating Count')\n",
        "\n",
        "fig"
      ],
      "execution_count": 63,
      "outputs": [
        {
          "output_type": "display_data",
          "data": {
            "text/html": [
              "<html>\n",
              "<head><meta charset=\"utf-8\" /></head>\n",
              "<body>\n",
              "    <div>\n",
              "            <script src=\"https://cdnjs.cloudflare.com/ajax/libs/mathjax/2.7.5/MathJax.js?config=TeX-AMS-MML_SVG\"></script><script type=\"text/javascript\">if (window.MathJax) {MathJax.Hub.Config({SVG: {font: \"STIX-Web\"}});}</script>\n",
              "                <script type=\"text/javascript\">window.PlotlyConfig = {MathJaxConfig: 'local'};</script>\n",
              "        <script src=\"https://cdn.plot.ly/plotly-latest.min.js\"></script>    \n",
              "            <div id=\"9f32740f-ee37-404c-9044-4b517644e3f3\" class=\"plotly-graph-div\" style=\"height:525px; width:100%;\"></div>\n",
              "            <script type=\"text/javascript\">\n",
              "                \n",
              "                    window.PLOTLYENV=window.PLOTLYENV || {};\n",
              "                    \n",
              "                if (document.getElementById(\"9f32740f-ee37-404c-9044-4b517644e3f3\")) {\n",
              "                    Plotly.newPlot(\n",
              "                        '9f32740f-ee37-404c-9044-4b517644e3f3',\n",
              "                        [{\"alignmentgroup\": \"True\", \"hoverlabel\": {\"namelength\": 0}, \"hovertemplate\": \"cusine=%{x}<br>rating_count=%{text}\", \"legendgroup\": \"cusine=Biryani, Hyderabadi, North Indian, Seafood\", \"marker\": {\"color\": \"#636efa\"}, \"name\": \"cusine=Biryani, Hyderabadi, North Indian, Seafood\", \"offsetgroup\": \"cusine=Biryani, Hyderabadi, North Indian, Seafood\", \"orientation\": \"v\", \"showlegend\": true, \"text\": [42621.0], \"textposition\": \"outside\", \"texttemplate\": \"%{text:.2s}\", \"type\": \"bar\", \"x\": [\"Biryani, Hyderabadi, North Indian, Seafood\"], \"xaxis\": \"x\", \"y\": [42621], \"yaxis\": \"y\"}, {\"alignmentgroup\": \"True\", \"hoverlabel\": {\"namelength\": 0}, \"hovertemplate\": \"cusine=%{x}<br>rating_count=%{text}\", \"legendgroup\": \"cusine=Continental, North Indian, Italian, South Indian, Finger Food, Pizza\", \"marker\": {\"color\": \"#EF553B\"}, \"name\": \"cusine=Continental, North Indian, Italian, South Indian, Finger Food, Pizza\", \"offsetgroup\": \"cusine=Continental, North Indian, Italian, South Indian, Finger Food, Pizza\", \"orientation\": \"v\", \"showlegend\": true, \"text\": [19305.0], \"textposition\": \"outside\", \"texttemplate\": \"%{text:.2s}\", \"type\": \"bar\", \"x\": [\"Continental, North Indian, Italian, South Indian, Finger Food, Pizza\"], \"xaxis\": \"x\", \"y\": [19305], \"yaxis\": \"y\"}, {\"alignmentgroup\": \"True\", \"hoverlabel\": {\"namelength\": 0}, \"hovertemplate\": \"cusine=%{x}<br>rating_count=%{text}\", \"legendgroup\": \"cusine=Italian, American, Modern Indian\", \"marker\": {\"color\": \"#00cc96\"}, \"name\": \"cusine=Italian, American, Modern Indian\", \"offsetgroup\": \"cusine=Italian, American, Modern Indian\", \"orientation\": \"v\", \"showlegend\": true, \"text\": [15731.0], \"textposition\": \"outside\", \"texttemplate\": \"%{text:.2s}\", \"type\": \"bar\", \"x\": [\"Italian, American, Modern Indian\"], \"xaxis\": \"x\", \"y\": [15731], \"yaxis\": \"y\"}, {\"alignmentgroup\": \"True\", \"hoverlabel\": {\"namelength\": 0}, \"hovertemplate\": \"cusine=%{x}<br>rating_count=%{text}\", \"legendgroup\": \"cusine=Cafe, American, Burger, Steak\", \"marker\": {\"color\": \"#ab63fa\"}, \"name\": \"cusine=Cafe, American, Burger, Steak\", \"offsetgroup\": \"cusine=Cafe, American, Burger, Steak\", \"orientation\": \"v\", \"showlegend\": true, \"text\": [15653.0], \"textposition\": \"outside\", \"texttemplate\": \"%{text:.2s}\", \"type\": \"bar\", \"x\": [\"Cafe, American, Burger, Steak\"], \"xaxis\": \"x\", \"y\": [15653], \"yaxis\": \"y\"}, {\"alignmentgroup\": \"True\", \"hoverlabel\": {\"namelength\": 0}, \"hovertemplate\": \"cusine=%{x}<br>rating_count=%{text}\", \"legendgroup\": \"cusine=European, Mediterranean, North Indian, BBQ\", \"marker\": {\"color\": \"#FFA15A\"}, \"name\": \"cusine=European, Mediterranean, North Indian, BBQ\", \"offsetgroup\": \"cusine=European, Mediterranean, North Indian, BBQ\", \"orientation\": \"v\", \"showlegend\": true, \"text\": [13164.0], \"textposition\": \"outside\", \"texttemplate\": \"%{text:.2s}\", \"type\": \"bar\", \"x\": [\"European, Mediterranean, North Indian, BBQ\"], \"xaxis\": \"x\", \"y\": [13164], \"yaxis\": \"y\"}, {\"alignmentgroup\": \"True\", \"hoverlabel\": {\"namelength\": 0}, \"hovertemplate\": \"cusine=%{x}<br>rating_count=%{text}\", \"legendgroup\": \"cusine=Biryani, North Indian\", \"marker\": {\"color\": \"#19d3f3\"}, \"name\": \"cusine=Biryani, North Indian\", \"offsetgroup\": \"cusine=Biryani, North Indian\", \"orientation\": \"v\", \"showlegend\": true, \"text\": [13152.0], \"textposition\": \"outside\", \"texttemplate\": \"%{text:.2s}\", \"type\": \"bar\", \"x\": [\"Biryani, North Indian\"], \"xaxis\": \"x\", \"y\": [13152], \"yaxis\": \"y\"}, {\"alignmentgroup\": \"True\", \"hoverlabel\": {\"namelength\": 0}, \"hovertemplate\": \"cusine=%{x}<br>rating_count=%{text}\", \"legendgroup\": \"cusine=North Indian, European, Mediterranean\", \"marker\": {\"color\": \"#FF6692\"}, \"name\": \"cusine=North Indian, European, Mediterranean\", \"offsetgroup\": \"cusine=North Indian, European, Mediterranean\", \"orientation\": \"v\", \"showlegend\": true, \"text\": [12686.0], \"textposition\": \"outside\", \"texttemplate\": \"%{text:.2s}\", \"type\": \"bar\", \"x\": [\"North Indian, European, Mediterranean\"], \"xaxis\": \"x\", \"y\": [12686], \"yaxis\": \"y\"}, {\"alignmentgroup\": \"True\", \"hoverlabel\": {\"namelength\": 0}, \"hovertemplate\": \"cusine=%{x}<br>rating_count=%{text}\", \"legendgroup\": \"cusine=Biryani, North Indian, Chinese, Seafood, Beverages\", \"marker\": {\"color\": \"#B6E880\"}, \"name\": \"cusine=Biryani, North Indian, Chinese, Seafood, Beverages\", \"offsetgroup\": \"cusine=Biryani, North Indian, Chinese, Seafood, Beverages\", \"orientation\": \"v\", \"showlegend\": true, \"text\": [12514.0], \"textposition\": \"outside\", \"texttemplate\": \"%{text:.2s}\", \"type\": \"bar\", \"x\": [\"Biryani, North Indian, Chinese, Seafood, Beverages\"], \"xaxis\": \"x\", \"y\": [12514], \"yaxis\": \"y\"}, {\"alignmentgroup\": \"True\", \"hoverlabel\": {\"namelength\": 0}, \"hovertemplate\": \"cusine=%{x}<br>rating_count=%{text}\", \"legendgroup\": \"cusine=Continental, North Indian\", \"marker\": {\"color\": \"#FF97FF\"}, \"name\": \"cusine=Continental, North Indian\", \"offsetgroup\": \"cusine=Continental, North Indian\", \"orientation\": \"v\", \"showlegend\": true, \"text\": [11917.0], \"textposition\": \"outside\", \"texttemplate\": \"%{text:.2s}\", \"type\": \"bar\", \"x\": [\"Continental, North Indian\"], \"xaxis\": \"x\", \"y\": [11917], \"yaxis\": \"y\"}, {\"alignmentgroup\": \"True\", \"hoverlabel\": {\"namelength\": 0}, \"hovertemplate\": \"cusine=%{x}<br>rating_count=%{text}\", \"legendgroup\": \"cusine=Biryani, North Indian, Chinese\", \"marker\": {\"color\": \"#FECB52\"}, \"name\": \"cusine=Biryani, North Indian, Chinese\", \"offsetgroup\": \"cusine=Biryani, North Indian, Chinese\", \"orientation\": \"v\", \"showlegend\": true, \"text\": [11103.0], \"textposition\": \"outside\", \"texttemplate\": \"%{text:.2s}\", \"type\": \"bar\", \"x\": [\"Biryani, North Indian, Chinese\"], \"xaxis\": \"x\", \"y\": [11103], \"yaxis\": \"y\"}],\n",
              "                        {\"barmode\": \"relative\", \"legend\": {\"tracegroupgap\": 0}, \"margin\": {\"t\": 60}, \"template\": {\"data\": {\"bar\": [{\"error_x\": {\"color\": \"#2a3f5f\"}, \"error_y\": {\"color\": \"#2a3f5f\"}, \"marker\": {\"line\": {\"color\": \"#E5ECF6\", \"width\": 0.5}}, \"type\": \"bar\"}], \"barpolar\": [{\"marker\": {\"line\": {\"color\": \"#E5ECF6\", \"width\": 0.5}}, \"type\": \"barpolar\"}], \"carpet\": [{\"aaxis\": {\"endlinecolor\": \"#2a3f5f\", \"gridcolor\": \"white\", \"linecolor\": \"white\", \"minorgridcolor\": \"white\", \"startlinecolor\": \"#2a3f5f\"}, \"baxis\": {\"endlinecolor\": \"#2a3f5f\", \"gridcolor\": \"white\", \"linecolor\": \"white\", \"minorgridcolor\": \"white\", \"startlinecolor\": \"#2a3f5f\"}, \"type\": \"carpet\"}], \"choropleth\": [{\"colorbar\": {\"outlinewidth\": 0, \"ticks\": \"\"}, \"type\": \"choropleth\"}], \"contour\": [{\"colorbar\": {\"outlinewidth\": 0, \"ticks\": \"\"}, \"colorscale\": [[0.0, \"#0d0887\"], [0.1111111111111111, \"#46039f\"], [0.2222222222222222, \"#7201a8\"], [0.3333333333333333, \"#9c179e\"], [0.4444444444444444, \"#bd3786\"], [0.5555555555555556, \"#d8576b\"], [0.6666666666666666, \"#ed7953\"], [0.7777777777777778, \"#fb9f3a\"], [0.8888888888888888, \"#fdca26\"], [1.0, \"#f0f921\"]], \"type\": \"contour\"}], \"contourcarpet\": [{\"colorbar\": {\"outlinewidth\": 0, \"ticks\": \"\"}, \"type\": \"contourcarpet\"}], \"heatmap\": [{\"colorbar\": {\"outlinewidth\": 0, \"ticks\": \"\"}, \"colorscale\": [[0.0, \"#0d0887\"], [0.1111111111111111, \"#46039f\"], [0.2222222222222222, \"#7201a8\"], [0.3333333333333333, \"#9c179e\"], [0.4444444444444444, \"#bd3786\"], [0.5555555555555556, \"#d8576b\"], [0.6666666666666666, \"#ed7953\"], [0.7777777777777778, \"#fb9f3a\"], [0.8888888888888888, \"#fdca26\"], [1.0, \"#f0f921\"]], \"type\": \"heatmap\"}], \"heatmapgl\": [{\"colorbar\": {\"outlinewidth\": 0, \"ticks\": \"\"}, \"colorscale\": [[0.0, \"#0d0887\"], [0.1111111111111111, \"#46039f\"], [0.2222222222222222, \"#7201a8\"], [0.3333333333333333, \"#9c179e\"], [0.4444444444444444, \"#bd3786\"], [0.5555555555555556, \"#d8576b\"], [0.6666666666666666, \"#ed7953\"], [0.7777777777777778, \"#fb9f3a\"], [0.8888888888888888, \"#fdca26\"], [1.0, \"#f0f921\"]], \"type\": \"heatmapgl\"}], \"histogram\": [{\"marker\": {\"colorbar\": {\"outlinewidth\": 0, \"ticks\": \"\"}}, \"type\": \"histogram\"}], \"histogram2d\": [{\"colorbar\": {\"outlinewidth\": 0, \"ticks\": \"\"}, \"colorscale\": [[0.0, \"#0d0887\"], [0.1111111111111111, \"#46039f\"], [0.2222222222222222, \"#7201a8\"], [0.3333333333333333, \"#9c179e\"], [0.4444444444444444, \"#bd3786\"], [0.5555555555555556, \"#d8576b\"], [0.6666666666666666, \"#ed7953\"], [0.7777777777777778, \"#fb9f3a\"], [0.8888888888888888, \"#fdca26\"], [1.0, \"#f0f921\"]], \"type\": \"histogram2d\"}], \"histogram2dcontour\": [{\"colorbar\": {\"outlinewidth\": 0, \"ticks\": \"\"}, \"colorscale\": [[0.0, \"#0d0887\"], [0.1111111111111111, \"#46039f\"], [0.2222222222222222, \"#7201a8\"], [0.3333333333333333, \"#9c179e\"], [0.4444444444444444, \"#bd3786\"], [0.5555555555555556, \"#d8576b\"], [0.6666666666666666, \"#ed7953\"], [0.7777777777777778, \"#fb9f3a\"], [0.8888888888888888, \"#fdca26\"], [1.0, \"#f0f921\"]], \"type\": \"histogram2dcontour\"}], \"mesh3d\": [{\"colorbar\": {\"outlinewidth\": 0, \"ticks\": \"\"}, \"type\": \"mesh3d\"}], \"parcoords\": [{\"line\": {\"colorbar\": {\"outlinewidth\": 0, \"ticks\": \"\"}}, \"type\": \"parcoords\"}], \"pie\": [{\"automargin\": true, \"type\": \"pie\"}], \"scatter\": [{\"marker\": {\"colorbar\": {\"outlinewidth\": 0, \"ticks\": \"\"}}, \"type\": \"scatter\"}], \"scatter3d\": [{\"line\": {\"colorbar\": {\"outlinewidth\": 0, \"ticks\": \"\"}}, \"marker\": {\"colorbar\": {\"outlinewidth\": 0, \"ticks\": \"\"}}, \"type\": \"scatter3d\"}], \"scattercarpet\": [{\"marker\": {\"colorbar\": {\"outlinewidth\": 0, \"ticks\": \"\"}}, \"type\": \"scattercarpet\"}], \"scattergeo\": [{\"marker\": {\"colorbar\": {\"outlinewidth\": 0, \"ticks\": \"\"}}, \"type\": \"scattergeo\"}], \"scattergl\": [{\"marker\": {\"colorbar\": {\"outlinewidth\": 0, \"ticks\": \"\"}}, \"type\": \"scattergl\"}], \"scattermapbox\": [{\"marker\": {\"colorbar\": {\"outlinewidth\": 0, \"ticks\": \"\"}}, \"type\": \"scattermapbox\"}], \"scatterpolar\": [{\"marker\": {\"colorbar\": {\"outlinewidth\": 0, \"ticks\": \"\"}}, \"type\": \"scatterpolar\"}], \"scatterpolargl\": [{\"marker\": {\"colorbar\": {\"outlinewidth\": 0, \"ticks\": \"\"}}, \"type\": \"scatterpolargl\"}], \"scatterternary\": [{\"marker\": {\"colorbar\": {\"outlinewidth\": 0, \"ticks\": \"\"}}, \"type\": \"scatterternary\"}], \"surface\": [{\"colorbar\": {\"outlinewidth\": 0, \"ticks\": \"\"}, \"colorscale\": [[0.0, \"#0d0887\"], [0.1111111111111111, \"#46039f\"], [0.2222222222222222, \"#7201a8\"], [0.3333333333333333, \"#9c179e\"], [0.4444444444444444, \"#bd3786\"], [0.5555555555555556, \"#d8576b\"], [0.6666666666666666, \"#ed7953\"], [0.7777777777777778, \"#fb9f3a\"], [0.8888888888888888, \"#fdca26\"], [1.0, \"#f0f921\"]], \"type\": \"surface\"}], \"table\": [{\"cells\": {\"fill\": {\"color\": \"#EBF0F8\"}, \"line\": {\"color\": \"white\"}}, \"header\": {\"fill\": {\"color\": \"#C8D4E3\"}, \"line\": {\"color\": \"white\"}}, \"type\": \"table\"}]}, \"layout\": {\"annotationdefaults\": {\"arrowcolor\": \"#2a3f5f\", \"arrowhead\": 0, \"arrowwidth\": 1}, \"coloraxis\": {\"colorbar\": {\"outlinewidth\": 0, \"ticks\": \"\"}}, \"colorscale\": {\"diverging\": [[0, \"#8e0152\"], [0.1, \"#c51b7d\"], [0.2, \"#de77ae\"], [0.3, \"#f1b6da\"], [0.4, \"#fde0ef\"], [0.5, \"#f7f7f7\"], [0.6, \"#e6f5d0\"], [0.7, \"#b8e186\"], [0.8, \"#7fbc41\"], [0.9, \"#4d9221\"], [1, \"#276419\"]], \"sequential\": [[0.0, \"#0d0887\"], [0.1111111111111111, \"#46039f\"], [0.2222222222222222, \"#7201a8\"], [0.3333333333333333, \"#9c179e\"], [0.4444444444444444, \"#bd3786\"], [0.5555555555555556, \"#d8576b\"], [0.6666666666666666, \"#ed7953\"], [0.7777777777777778, \"#fb9f3a\"], [0.8888888888888888, \"#fdca26\"], [1.0, \"#f0f921\"]], \"sequentialminus\": [[0.0, \"#0d0887\"], [0.1111111111111111, \"#46039f\"], [0.2222222222222222, \"#7201a8\"], [0.3333333333333333, \"#9c179e\"], [0.4444444444444444, \"#bd3786\"], [0.5555555555555556, \"#d8576b\"], [0.6666666666666666, \"#ed7953\"], [0.7777777777777778, \"#fb9f3a\"], [0.8888888888888888, \"#fdca26\"], [1.0, \"#f0f921\"]]}, \"colorway\": [\"#636efa\", \"#EF553B\", \"#00cc96\", \"#ab63fa\", \"#FFA15A\", \"#19d3f3\", \"#FF6692\", \"#B6E880\", \"#FF97FF\", \"#FECB52\"], \"font\": {\"color\": \"#2a3f5f\"}, \"geo\": {\"bgcolor\": \"white\", \"lakecolor\": \"white\", \"landcolor\": \"#E5ECF6\", \"showlakes\": true, \"showland\": true, \"subunitcolor\": \"white\"}, \"hoverlabel\": {\"align\": \"left\"}, \"hovermode\": \"closest\", \"mapbox\": {\"style\": \"light\"}, \"paper_bgcolor\": \"white\", \"plot_bgcolor\": \"#E5ECF6\", \"polar\": {\"angularaxis\": {\"gridcolor\": \"white\", \"linecolor\": \"white\", \"ticks\": \"\"}, \"bgcolor\": \"#E5ECF6\", \"radialaxis\": {\"gridcolor\": \"white\", \"linecolor\": \"white\", \"ticks\": \"\"}}, \"scene\": {\"xaxis\": {\"backgroundcolor\": \"#E5ECF6\", \"gridcolor\": \"white\", \"gridwidth\": 2, \"linecolor\": \"white\", \"showbackground\": true, \"ticks\": \"\", \"zerolinecolor\": \"white\"}, \"yaxis\": {\"backgroundcolor\": \"#E5ECF6\", \"gridcolor\": \"white\", \"gridwidth\": 2, \"linecolor\": \"white\", \"showbackground\": true, \"ticks\": \"\", \"zerolinecolor\": \"white\"}, \"zaxis\": {\"backgroundcolor\": \"#E5ECF6\", \"gridcolor\": \"white\", \"gridwidth\": 2, \"linecolor\": \"white\", \"showbackground\": true, \"ticks\": \"\", \"zerolinecolor\": \"white\"}}, \"shapedefaults\": {\"line\": {\"color\": \"#2a3f5f\"}}, \"ternary\": {\"aaxis\": {\"gridcolor\": \"white\", \"linecolor\": \"white\", \"ticks\": \"\"}, \"baxis\": {\"gridcolor\": \"white\", \"linecolor\": \"white\", \"ticks\": \"\"}, \"bgcolor\": \"#E5ECF6\", \"caxis\": {\"gridcolor\": \"white\", \"linecolor\": \"white\", \"ticks\": \"\"}}, \"title\": {\"x\": 0.05}, \"xaxis\": {\"automargin\": true, \"gridcolor\": \"white\", \"linecolor\": \"white\", \"ticks\": \"\", \"title\": {\"standoff\": 15}, \"zerolinecolor\": \"white\", \"zerolinewidth\": 2}, \"yaxis\": {\"automargin\": true, \"gridcolor\": \"white\", \"linecolor\": \"white\", \"ticks\": \"\", \"title\": {\"standoff\": 15}, \"zerolinecolor\": \"white\", \"zerolinewidth\": 2}}}, \"title\": {\"text\": \"Most Preferred Cusines in Top 10 Restaurants in India\"}, \"xaxis\": {\"anchor\": \"y\", \"categoryarray\": [\"Biryani, Hyderabadi, North Indian, Seafood\", \"Continental, North Indian, Italian, South Indian, Finger Food, Pizza\", \"Italian, American, Modern Indian\", \"Cafe, American, Burger, Steak\", \"European, Mediterranean, North Indian, BBQ\", \"Biryani, North Indian\", \"North Indian, European, Mediterranean\", \"Biryani, North Indian, Chinese, Seafood, Beverages\", \"Continental, North Indian\", \"Biryani, North Indian, Chinese\"], \"categoryorder\": \"array\", \"domain\": [0.0, 1.0], \"tickangle\": -45, \"title\": {\"text\": \"Cusine\"}}, \"yaxis\": {\"anchor\": \"x\", \"domain\": [0.0, 1.0], \"title\": {\"text\": \"Rating Count\"}}},\n",
              "                        {\"responsive\": true}\n",
              "                    ).then(function(){\n",
              "                            \n",
              "var gd = document.getElementById('9f32740f-ee37-404c-9044-4b517644e3f3');\n",
              "var x = new MutationObserver(function (mutations, observer) {{\n",
              "        var display = window.getComputedStyle(gd).display;\n",
              "        if (!display || display === 'none') {{\n",
              "            console.log([gd, 'removed!']);\n",
              "            Plotly.purge(gd);\n",
              "            observer.disconnect();\n",
              "        }}\n",
              "}});\n",
              "\n",
              "// Listen for the removal of the full notebook cells\n",
              "var notebookContainer = gd.closest('#notebook-container');\n",
              "if (notebookContainer) {{\n",
              "    x.observe(notebookContainer, {childList: true});\n",
              "}}\n",
              "\n",
              "// Listen for the clearing of the current output cell\n",
              "var outputEl = gd.closest('.output');\n",
              "if (outputEl) {{\n",
              "    x.observe(outputEl, {childList: true});\n",
              "}}\n",
              "\n",
              "                        })\n",
              "                };\n",
              "                \n",
              "            </script>\n",
              "        </div>\n",
              "</body>\n",
              "</html>"
            ]
          },
          "metadata": {
            "tags": []
          }
        }
      ]
    },
    {
      "cell_type": "markdown",
      "metadata": {
        "id": "GnaPLIdQz3f9"
      },
      "source": [
        "#### Top 10 cuisine (Some major Cities)"
      ]
    },
    {
      "cell_type": "code",
      "metadata": {
        "colab": {
          "base_uri": "https://localhost:8080/"
        },
        "id": "Pry6E7Kh3kLP",
        "outputId": "9d87ee56-94bf-4da4-bc1a-3baaaf3eac1f"
      },
      "source": [
        "q4_mumbai = df.select('name', 'rating', 'rating_count', 'city', 'area', 'cusine', 'latitude', 'longitude').filter(df.city == 'Mumbai').orderBy(desc('rating_count')).limit(10)\n",
        "q4_mumbai.show()"
      ],
      "execution_count": 68,
      "outputs": [
        {
          "output_type": "stream",
          "text": [
            "+--------------------+------+------------+------+--------------------+--------------------+-------------+-------------+\n",
            "|                name|rating|rating_count|  city|                area|              cusine|     latitude|    longitude|\n",
            "+--------------------+------+------------+------+--------------------+--------------------+-------------+-------------+\n",
            "|             Candies|   4.1|       10300|Mumbai|Pali Hill, Bandra...|Cafe, Desserts, I...|19.0607755266|72.8269354999|\n",
            "|        Joey's Pizza|   4.5|        9503|Mumbai|          Azad Nagar|               Pizza|19.1267929038|72.8299902007|\n",
            "|        Prithvi Cafe|   4.4|        8401|Mumbai|                Juhu|      Cafe, Desserts|19.1060585385| 72.825872004|\n",
            "|        Joey's Pizza|   4.5|        8022|Mumbai|          Malad West|               Pizza|19.1781877095|72.8346662968|\n",
            "|Chili's American ...|   4.4|        7997|Mumbai|               Powai|American, Mexican...|19.1163373457|72.9093983397|\n",
            "|Chili's American ...|   4.5|        7977|Mumbai|          Malad West|American, Mexican...|19.1733771234|72.8357167169|\n",
            "|  Leopold Cafe & Bar|   4.0|        7474|Mumbai|              Colaba|Chinese, Italian,...|18.9226700352|72.8317061439|\n",
            "|      Tea Villa Cafe|   4.2|        7088|Mumbai|Hill Road, Bandra...|Cafe, Fast Food, ...|19.0558994094|72.8339488059|\n",
            "|           BKC  DIVE|   4.6|        7029|Mumbai|Bandra Kurla Complex|North Indian, Chi...|19.0722111972|72.8703423589|\n",
            "|      Coffee Culture|   4.2|        6739|Mumbai|Hill Road, Bandra...|Cafe, Italian, Co...|19.0546412991|72.8282702342|\n",
            "+--------------------+------+------------+------+--------------------+--------------------+-------------+-------------+\n",
            "\n"
          ],
          "name": "stdout"
        }
      ]
    },
    {
      "cell_type": "code",
      "metadata": {
        "colab": {
          "base_uri": "https://localhost:8080/",
          "height": 808
        },
        "id": "QrVBeADr7lJP",
        "outputId": "846424d4-ff3c-41b6-8122-ce7a63be7b1e"
      },
      "source": [
        "top_10_cusine_mumbai = folium.Map(location= [19.0760, 72.8777], zoom_start= 12)\n",
        "top_10_cusine_mum = folium.map.FeatureGroup()\n",
        "\n",
        "for name, lat, lng, in zip(q4_mumbai.toPandas()['name'].values.tolist(), q4_mumbai.toPandas()['latitude'].values.tolist(), q4_mumbai.toPandas()['longitude'].values.tolist()):\n",
        "  top_10_cusine_mum.add_child(\n",
        "      folium.Marker(\n",
        "          [lat, lng],\n",
        "          popup= name,\n",
        "      )\n",
        "  )\n",
        "\n",
        "top_10_cusine_mumbai.add_child(top_10_cusine_mum)"
      ],
      "execution_count": 71,
      "outputs": [
        {
          "output_type": "execute_result",
          "data": {
            "text/html": [
              "<div style=\"width:100%;\"><div style=\"position:relative;width:100%;height:0;padding-bottom:60%;\"><span style=\"color:#565656\">Make this Notebook Trusted to load map: File -> Trust Notebook</span><iframe src=\"about:blank\" style=\"position:absolute;width:100%;height:100%;left:0;top:0;border:none !important;\" data-html=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 onload=\"this.contentDocument.open();this.contentDocument.write(atob(this.getAttribute('data-html')));this.contentDocument.close();\" allowfullscreen webkitallowfullscreen mozallowfullscreen></iframe></div></div>"
            ],
            "text/plain": [
              "<folium.folium.Map at 0x7faf4b38b4e0>"
            ]
          },
          "metadata": {
            "tags": []
          },
          "execution_count": 71
        }
      ]
    },
    {
      "cell_type": "code",
      "metadata": {
        "colab": {
          "base_uri": "https://localhost:8080/",
          "height": 542
        },
        "id": "Q1QaE0i99EqY",
        "outputId": "b5e6c031-69ef-46c8-c258-72ec58bbab08"
      },
      "source": [
        "q4_mumbai_py = q4_mumbai.toPandas()\n",
        "fig = px.bar(q4_mumbai_py, x= 'cusine', y= 'rating_count', text= 'rating_count', color= 'cusine')\n",
        "fig.update_traces(texttemplate= '%{text:.2s}', textposition= 'outside')\n",
        "fig.update_layout(xaxis_tickangle= -45)\n",
        "fig.update_layout(title= 'Most Preferred Cusines in Mumbai', xaxis_title= 'Cusine', yaxis_title= 'Rating Count')\n",
        "\n",
        "fig"
      ],
      "execution_count": 76,
      "outputs": [
        {
          "output_type": "display_data",
          "data": {
            "text/html": [
              "<html>\n",
              "<head><meta charset=\"utf-8\" /></head>\n",
              "<body>\n",
              "    <div>\n",
              "            <script src=\"https://cdnjs.cloudflare.com/ajax/libs/mathjax/2.7.5/MathJax.js?config=TeX-AMS-MML_SVG\"></script><script type=\"text/javascript\">if (window.MathJax) {MathJax.Hub.Config({SVG: {font: \"STIX-Web\"}});}</script>\n",
              "                <script type=\"text/javascript\">window.PlotlyConfig = {MathJaxConfig: 'local'};</script>\n",
              "        <script src=\"https://cdn.plot.ly/plotly-latest.min.js\"></script>    \n",
              "            <div id=\"fc206716-91e5-42a7-b35a-7e07f8fa1ac2\" class=\"plotly-graph-div\" style=\"height:525px; width:100%;\"></div>\n",
              "            <script type=\"text/javascript\">\n",
              "                \n",
              "                    window.PLOTLYENV=window.PLOTLYENV || {};\n",
              "                    \n",
              "                if (document.getElementById(\"fc206716-91e5-42a7-b35a-7e07f8fa1ac2\")) {\n",
              "                    Plotly.newPlot(\n",
              "                        'fc206716-91e5-42a7-b35a-7e07f8fa1ac2',\n",
              "                        [{\"alignmentgroup\": \"True\", \"hoverlabel\": {\"namelength\": 0}, \"hovertemplate\": \"cusine=%{x}<br>rating_count=%{text}\", \"legendgroup\": \"cusine=Cafe, Desserts, Italian\", \"marker\": {\"color\": \"#636efa\"}, \"name\": \"cusine=Cafe, Desserts, Italian\", \"offsetgroup\": \"cusine=Cafe, Desserts, Italian\", \"orientation\": \"v\", \"showlegend\": true, \"text\": [10300.0], \"textposition\": \"outside\", \"texttemplate\": \"%{text:.2s}\", \"type\": \"bar\", \"x\": [\"Cafe, Desserts, Italian\"], \"xaxis\": \"x\", \"y\": [10300], \"yaxis\": \"y\"}, {\"alignmentgroup\": \"True\", \"hoverlabel\": {\"namelength\": 0}, \"hovertemplate\": \"cusine=%{x}<br>rating_count=%{text}\", \"legendgroup\": \"cusine=Pizza\", \"marker\": {\"color\": \"#EF553B\"}, \"name\": \"cusine=Pizza\", \"offsetgroup\": \"cusine=Pizza\", \"orientation\": \"v\", \"showlegend\": true, \"text\": [9503.0, 8022.0], \"textposition\": \"outside\", \"texttemplate\": \"%{text:.2s}\", \"type\": \"bar\", \"x\": [\"Pizza\", \"Pizza\"], \"xaxis\": \"x\", \"y\": [9503, 8022], \"yaxis\": \"y\"}, {\"alignmentgroup\": \"True\", \"hoverlabel\": {\"namelength\": 0}, \"hovertemplate\": \"cusine=%{x}<br>rating_count=%{text}\", \"legendgroup\": \"cusine=Cafe, Desserts\", \"marker\": {\"color\": \"#00cc96\"}, \"name\": \"cusine=Cafe, Desserts\", \"offsetgroup\": \"cusine=Cafe, Desserts\", \"orientation\": \"v\", \"showlegend\": true, \"text\": [8401.0], \"textposition\": \"outside\", \"texttemplate\": \"%{text:.2s}\", \"type\": \"bar\", \"x\": [\"Cafe, Desserts\"], \"xaxis\": \"x\", \"y\": [8401], \"yaxis\": \"y\"}, {\"alignmentgroup\": \"True\", \"hoverlabel\": {\"namelength\": 0}, \"hovertemplate\": \"cusine=%{x}<br>rating_count=%{text}\", \"legendgroup\": \"cusine=American, Mexican, Burger, Tex-Mex\", \"marker\": {\"color\": \"#ab63fa\"}, \"name\": \"cusine=American, Mexican, Burger, Tex-Mex\", \"offsetgroup\": \"cusine=American, Mexican, Burger, Tex-Mex\", \"orientation\": \"v\", \"showlegend\": true, \"text\": [7997.0, 7977.0], \"textposition\": \"outside\", \"texttemplate\": \"%{text:.2s}\", \"type\": \"bar\", \"x\": [\"American, Mexican, Burger, Tex-Mex\", \"American, Mexican, Burger, Tex-Mex\"], \"xaxis\": \"x\", \"y\": [7997, 7977], \"yaxis\": \"y\"}, {\"alignmentgroup\": \"True\", \"hoverlabel\": {\"namelength\": 0}, \"hovertemplate\": \"cusine=%{x}<br>rating_count=%{text}\", \"legendgroup\": \"cusine=Chinese, Italian, Mughlai\", \"marker\": {\"color\": \"#FFA15A\"}, \"name\": \"cusine=Chinese, Italian, Mughlai\", \"offsetgroup\": \"cusine=Chinese, Italian, Mughlai\", \"orientation\": \"v\", \"showlegend\": true, \"text\": [7474.0], \"textposition\": \"outside\", \"texttemplate\": \"%{text:.2s}\", \"type\": \"bar\", \"x\": [\"Chinese, Italian, Mughlai\"], \"xaxis\": \"x\", \"y\": [7474], \"yaxis\": \"y\"}, {\"alignmentgroup\": \"True\", \"hoverlabel\": {\"namelength\": 0}, \"hovertemplate\": \"cusine=%{x}<br>rating_count=%{text}\", \"legendgroup\": \"cusine=Cafe, Fast Food, Desserts, Beverages\", \"marker\": {\"color\": \"#19d3f3\"}, \"name\": \"cusine=Cafe, Fast Food, Desserts, Beverages\", \"offsetgroup\": \"cusine=Cafe, Fast Food, Desserts, Beverages\", \"orientation\": \"v\", \"showlegend\": true, \"text\": [7088.0], \"textposition\": \"outside\", \"texttemplate\": \"%{text:.2s}\", \"type\": \"bar\", \"x\": [\"Cafe, Fast Food, Desserts, Beverages\"], \"xaxis\": \"x\", \"y\": [7088], \"yaxis\": \"y\"}, {\"alignmentgroup\": \"True\", \"hoverlabel\": {\"namelength\": 0}, \"hovertemplate\": \"cusine=%{x}<br>rating_count=%{text}\", \"legendgroup\": \"cusine=North Indian, Chinese\", \"marker\": {\"color\": \"#FF6692\"}, \"name\": \"cusine=North Indian, Chinese\", \"offsetgroup\": \"cusine=North Indian, Chinese\", \"orientation\": \"v\", \"showlegend\": true, \"text\": [7029.0], \"textposition\": \"outside\", \"texttemplate\": \"%{text:.2s}\", \"type\": \"bar\", \"x\": [\"North Indian, Chinese\"], \"xaxis\": \"x\", \"y\": [7029], \"yaxis\": \"y\"}, {\"alignmentgroup\": \"True\", \"hoverlabel\": {\"namelength\": 0}, \"hovertemplate\": \"cusine=%{x}<br>rating_count=%{text}\", \"legendgroup\": \"cusine=Cafe, Italian, Continental, North Indian, Chinese\", \"marker\": {\"color\": \"#B6E880\"}, \"name\": \"cusine=Cafe, Italian, Continental, North Indian, Chinese\", \"offsetgroup\": \"cusine=Cafe, Italian, Continental, North Indian, Chinese\", \"orientation\": \"v\", \"showlegend\": true, \"text\": [6739.0], \"textposition\": \"outside\", \"texttemplate\": \"%{text:.2s}\", \"type\": \"bar\", \"x\": [\"Cafe, Italian, Continental, North Indian, Chinese\"], \"xaxis\": \"x\", \"y\": [6739], \"yaxis\": \"y\"}],\n",
              "                        {\"barmode\": \"relative\", \"legend\": {\"tracegroupgap\": 0}, \"margin\": {\"t\": 60}, \"template\": {\"data\": {\"bar\": [{\"error_x\": {\"color\": \"#2a3f5f\"}, \"error_y\": {\"color\": \"#2a3f5f\"}, \"marker\": {\"line\": {\"color\": \"#E5ECF6\", \"width\": 0.5}}, \"type\": \"bar\"}], \"barpolar\": [{\"marker\": {\"line\": {\"color\": \"#E5ECF6\", \"width\": 0.5}}, \"type\": \"barpolar\"}], \"carpet\": [{\"aaxis\": {\"endlinecolor\": \"#2a3f5f\", \"gridcolor\": \"white\", \"linecolor\": \"white\", \"minorgridcolor\": \"white\", \"startlinecolor\": \"#2a3f5f\"}, \"baxis\": {\"endlinecolor\": \"#2a3f5f\", \"gridcolor\": \"white\", \"linecolor\": \"white\", \"minorgridcolor\": \"white\", \"startlinecolor\": \"#2a3f5f\"}, \"type\": \"carpet\"}], \"choropleth\": [{\"colorbar\": {\"outlinewidth\": 0, \"ticks\": \"\"}, \"type\": \"choropleth\"}], \"contour\": [{\"colorbar\": {\"outlinewidth\": 0, \"ticks\": \"\"}, \"colorscale\": [[0.0, \"#0d0887\"], [0.1111111111111111, \"#46039f\"], [0.2222222222222222, \"#7201a8\"], [0.3333333333333333, \"#9c179e\"], [0.4444444444444444, \"#bd3786\"], [0.5555555555555556, \"#d8576b\"], [0.6666666666666666, \"#ed7953\"], [0.7777777777777778, \"#fb9f3a\"], [0.8888888888888888, \"#fdca26\"], [1.0, \"#f0f921\"]], \"type\": \"contour\"}], \"contourcarpet\": [{\"colorbar\": {\"outlinewidth\": 0, \"ticks\": \"\"}, \"type\": \"contourcarpet\"}], \"heatmap\": [{\"colorbar\": {\"outlinewidth\": 0, \"ticks\": \"\"}, \"colorscale\": [[0.0, \"#0d0887\"], [0.1111111111111111, \"#46039f\"], [0.2222222222222222, \"#7201a8\"], [0.3333333333333333, \"#9c179e\"], [0.4444444444444444, \"#bd3786\"], [0.5555555555555556, \"#d8576b\"], [0.6666666666666666, \"#ed7953\"], [0.7777777777777778, \"#fb9f3a\"], [0.8888888888888888, \"#fdca26\"], [1.0, \"#f0f921\"]], \"type\": \"heatmap\"}], \"heatmapgl\": [{\"colorbar\": {\"outlinewidth\": 0, \"ticks\": \"\"}, \"colorscale\": [[0.0, \"#0d0887\"], [0.1111111111111111, \"#46039f\"], [0.2222222222222222, \"#7201a8\"], [0.3333333333333333, \"#9c179e\"], [0.4444444444444444, \"#bd3786\"], [0.5555555555555556, \"#d8576b\"], [0.6666666666666666, \"#ed7953\"], [0.7777777777777778, \"#fb9f3a\"], [0.8888888888888888, \"#fdca26\"], [1.0, \"#f0f921\"]], \"type\": \"heatmapgl\"}], \"histogram\": [{\"marker\": {\"colorbar\": {\"outlinewidth\": 0, \"ticks\": \"\"}}, \"type\": \"histogram\"}], \"histogram2d\": [{\"colorbar\": {\"outlinewidth\": 0, \"ticks\": \"\"}, \"colorscale\": [[0.0, \"#0d0887\"], [0.1111111111111111, \"#46039f\"], [0.2222222222222222, \"#7201a8\"], [0.3333333333333333, \"#9c179e\"], [0.4444444444444444, \"#bd3786\"], [0.5555555555555556, \"#d8576b\"], [0.6666666666666666, \"#ed7953\"], [0.7777777777777778, \"#fb9f3a\"], [0.8888888888888888, \"#fdca26\"], [1.0, \"#f0f921\"]], \"type\": \"histogram2d\"}], \"histogram2dcontour\": [{\"colorbar\": {\"outlinewidth\": 0, \"ticks\": \"\"}, \"colorscale\": [[0.0, \"#0d0887\"], [0.1111111111111111, \"#46039f\"], [0.2222222222222222, \"#7201a8\"], [0.3333333333333333, \"#9c179e\"], [0.4444444444444444, \"#bd3786\"], [0.5555555555555556, \"#d8576b\"], [0.6666666666666666, \"#ed7953\"], [0.7777777777777778, \"#fb9f3a\"], [0.8888888888888888, \"#fdca26\"], [1.0, \"#f0f921\"]], \"type\": \"histogram2dcontour\"}], \"mesh3d\": [{\"colorbar\": {\"outlinewidth\": 0, \"ticks\": \"\"}, \"type\": \"mesh3d\"}], \"parcoords\": [{\"line\": {\"colorbar\": {\"outlinewidth\": 0, \"ticks\": \"\"}}, \"type\": \"parcoords\"}], \"pie\": [{\"automargin\": true, \"type\": \"pie\"}], \"scatter\": [{\"marker\": {\"colorbar\": {\"outlinewidth\": 0, \"ticks\": \"\"}}, \"type\": \"scatter\"}], \"scatter3d\": [{\"line\": {\"colorbar\": {\"outlinewidth\": 0, \"ticks\": \"\"}}, \"marker\": {\"colorbar\": {\"outlinewidth\": 0, \"ticks\": \"\"}}, \"type\": \"scatter3d\"}], \"scattercarpet\": [{\"marker\": {\"colorbar\": {\"outlinewidth\": 0, \"ticks\": \"\"}}, \"type\": \"scattercarpet\"}], \"scattergeo\": [{\"marker\": {\"colorbar\": {\"outlinewidth\": 0, \"ticks\": \"\"}}, \"type\": \"scattergeo\"}], \"scattergl\": [{\"marker\": {\"colorbar\": {\"outlinewidth\": 0, \"ticks\": \"\"}}, \"type\": \"scattergl\"}], \"scattermapbox\": [{\"marker\": {\"colorbar\": {\"outlinewidth\": 0, \"ticks\": \"\"}}, \"type\": \"scattermapbox\"}], \"scatterpolar\": [{\"marker\": {\"colorbar\": {\"outlinewidth\": 0, \"ticks\": \"\"}}, \"type\": \"scatterpolar\"}], \"scatterpolargl\": [{\"marker\": {\"colorbar\": {\"outlinewidth\": 0, \"ticks\": \"\"}}, \"type\": \"scatterpolargl\"}], \"scatterternary\": [{\"marker\": {\"colorbar\": {\"outlinewidth\": 0, \"ticks\": \"\"}}, \"type\": \"scatterternary\"}], \"surface\": [{\"colorbar\": {\"outlinewidth\": 0, \"ticks\": \"\"}, \"colorscale\": [[0.0, \"#0d0887\"], [0.1111111111111111, \"#46039f\"], [0.2222222222222222, \"#7201a8\"], [0.3333333333333333, \"#9c179e\"], [0.4444444444444444, \"#bd3786\"], [0.5555555555555556, \"#d8576b\"], [0.6666666666666666, \"#ed7953\"], [0.7777777777777778, \"#fb9f3a\"], [0.8888888888888888, \"#fdca26\"], [1.0, \"#f0f921\"]], \"type\": \"surface\"}], \"table\": [{\"cells\": {\"fill\": {\"color\": \"#EBF0F8\"}, \"line\": {\"color\": \"white\"}}, \"header\": {\"fill\": {\"color\": \"#C8D4E3\"}, \"line\": {\"color\": \"white\"}}, \"type\": \"table\"}]}, \"layout\": {\"annotationdefaults\": {\"arrowcolor\": \"#2a3f5f\", \"arrowhead\": 0, \"arrowwidth\": 1}, \"coloraxis\": {\"colorbar\": {\"outlinewidth\": 0, \"ticks\": \"\"}}, \"colorscale\": {\"diverging\": [[0, \"#8e0152\"], [0.1, \"#c51b7d\"], [0.2, \"#de77ae\"], [0.3, \"#f1b6da\"], [0.4, \"#fde0ef\"], [0.5, \"#f7f7f7\"], [0.6, \"#e6f5d0\"], [0.7, \"#b8e186\"], [0.8, \"#7fbc41\"], [0.9, \"#4d9221\"], [1, \"#276419\"]], \"sequential\": [[0.0, \"#0d0887\"], [0.1111111111111111, \"#46039f\"], [0.2222222222222222, \"#7201a8\"], [0.3333333333333333, \"#9c179e\"], [0.4444444444444444, \"#bd3786\"], [0.5555555555555556, \"#d8576b\"], [0.6666666666666666, \"#ed7953\"], [0.7777777777777778, \"#fb9f3a\"], [0.8888888888888888, \"#fdca26\"], [1.0, \"#f0f921\"]], \"sequentialminus\": [[0.0, \"#0d0887\"], [0.1111111111111111, \"#46039f\"], [0.2222222222222222, \"#7201a8\"], [0.3333333333333333, \"#9c179e\"], [0.4444444444444444, \"#bd3786\"], [0.5555555555555556, \"#d8576b\"], [0.6666666666666666, \"#ed7953\"], [0.7777777777777778, \"#fb9f3a\"], [0.8888888888888888, \"#fdca26\"], [1.0, \"#f0f921\"]]}, \"colorway\": [\"#636efa\", \"#EF553B\", \"#00cc96\", \"#ab63fa\", \"#FFA15A\", \"#19d3f3\", \"#FF6692\", \"#B6E880\", \"#FF97FF\", \"#FECB52\"], \"font\": {\"color\": \"#2a3f5f\"}, \"geo\": {\"bgcolor\": \"white\", \"lakecolor\": \"white\", \"landcolor\": \"#E5ECF6\", \"showlakes\": true, \"showland\": true, \"subunitcolor\": \"white\"}, \"hoverlabel\": {\"align\": \"left\"}, \"hovermode\": \"closest\", \"mapbox\": {\"style\": \"light\"}, \"paper_bgcolor\": \"white\", \"plot_bgcolor\": \"#E5ECF6\", \"polar\": {\"angularaxis\": {\"gridcolor\": \"white\", \"linecolor\": \"white\", \"ticks\": \"\"}, \"bgcolor\": \"#E5ECF6\", \"radialaxis\": {\"gridcolor\": \"white\", \"linecolor\": \"white\", \"ticks\": \"\"}}, \"scene\": {\"xaxis\": {\"backgroundcolor\": \"#E5ECF6\", \"gridcolor\": \"white\", \"gridwidth\": 2, \"linecolor\": \"white\", \"showbackground\": true, \"ticks\": \"\", \"zerolinecolor\": \"white\"}, \"yaxis\": {\"backgroundcolor\": \"#E5ECF6\", \"gridcolor\": \"white\", \"gridwidth\": 2, \"linecolor\": \"white\", \"showbackground\": true, \"ticks\": \"\", \"zerolinecolor\": \"white\"}, \"zaxis\": {\"backgroundcolor\": \"#E5ECF6\", \"gridcolor\": \"white\", \"gridwidth\": 2, \"linecolor\": \"white\", \"showbackground\": true, \"ticks\": \"\", \"zerolinecolor\": \"white\"}}, \"shapedefaults\": {\"line\": {\"color\": \"#2a3f5f\"}}, \"ternary\": {\"aaxis\": {\"gridcolor\": \"white\", \"linecolor\": \"white\", \"ticks\": \"\"}, \"baxis\": {\"gridcolor\": \"white\", \"linecolor\": \"white\", \"ticks\": \"\"}, \"bgcolor\": \"#E5ECF6\", \"caxis\": {\"gridcolor\": \"white\", \"linecolor\": \"white\", \"ticks\": \"\"}}, \"title\": {\"x\": 0.05}, \"xaxis\": {\"automargin\": true, \"gridcolor\": \"white\", \"linecolor\": \"white\", \"ticks\": \"\", \"title\": {\"standoff\": 15}, \"zerolinecolor\": \"white\", \"zerolinewidth\": 2}, \"yaxis\": {\"automargin\": true, \"gridcolor\": \"white\", \"linecolor\": \"white\", \"ticks\": \"\", \"title\": {\"standoff\": 15}, \"zerolinecolor\": \"white\", \"zerolinewidth\": 2}}}, \"title\": {\"text\": \"Most Preferred Cusines in Mumbai\"}, \"xaxis\": {\"anchor\": \"y\", \"categoryarray\": [\"Cafe, Desserts, Italian\", \"Pizza\", \"Cafe, Desserts\", \"American, Mexican, Burger, Tex-Mex\", \"Chinese, Italian, Mughlai\", \"Cafe, Fast Food, Desserts, Beverages\", \"North Indian, Chinese\", \"Cafe, Italian, Continental, North Indian, Chinese\"], \"categoryorder\": \"array\", \"domain\": [0.0, 1.0], \"tickangle\": -45, \"title\": {\"text\": \"Cusine\"}}, \"yaxis\": {\"anchor\": \"x\", \"domain\": [0.0, 1.0], \"title\": {\"text\": \"Rating Count\"}}},\n",
              "                        {\"responsive\": true}\n",
              "                    ).then(function(){\n",
              "                            \n",
              "var gd = document.getElementById('fc206716-91e5-42a7-b35a-7e07f8fa1ac2');\n",
              "var x = new MutationObserver(function (mutations, observer) {{\n",
              "        var display = window.getComputedStyle(gd).display;\n",
              "        if (!display || display === 'none') {{\n",
              "            console.log([gd, 'removed!']);\n",
              "            Plotly.purge(gd);\n",
              "            observer.disconnect();\n",
              "        }}\n",
              "}});\n",
              "\n",
              "// Listen for the removal of the full notebook cells\n",
              "var notebookContainer = gd.closest('#notebook-container');\n",
              "if (notebookContainer) {{\n",
              "    x.observe(notebookContainer, {childList: true});\n",
              "}}\n",
              "\n",
              "// Listen for the clearing of the current output cell\n",
              "var outputEl = gd.closest('.output');\n",
              "if (outputEl) {{\n",
              "    x.observe(outputEl, {childList: true});\n",
              "}}\n",
              "\n",
              "                        })\n",
              "                };\n",
              "                \n",
              "            </script>\n",
              "        </div>\n",
              "</body>\n",
              "</html>"
            ]
          },
          "metadata": {
            "tags": []
          }
        }
      ]
    },
    {
      "cell_type": "markdown",
      "metadata": {
        "id": "cOSbVlIQL_6D"
      },
      "source": [
        "\n",
        "For Mumbai, the street food along with the exotic food style is the main cuisine that the today's generation like and are penchant towards."
      ]
    },
    {
      "cell_type": "code",
      "metadata": {
        "colab": {
          "base_uri": "https://localhost:8080/"
        },
        "id": "egsN2BP1C8Bg",
        "outputId": "fda90668-b66d-4827-b1a0-e5e54dae8075"
      },
      "source": [
        "q4_hyderabad = df.select('name', 'rating', 'rating_count', 'city', 'area', 'cusine', 'latitude', 'longitude').filter(df.city == 'Hyderabad').orderBy(desc('rating_count')).limit(10)\n",
        "q4_hyderabad.show()"
      ],
      "execution_count": 77,
      "outputs": [
        {
          "output_type": "stream",
          "text": [
            "+--------------------+------+------------+---------+---------------+--------------------+-------------+-------------+\n",
            "|                name|rating|rating_count|     city|           area|              cusine|     latitude|    longitude|\n",
            "+--------------------+------+------------+---------+---------------+--------------------+-------------+-------------+\n",
            "|            Bawarchi|   4.5|       42621|Hyderabad|     Nallakunta|Biryani, Hyderaba...|17.4058834625|78.4988379479|\n",
            "|            Paradise|   4.7|       13152|Hyderabad|Paradise Circle|Biryani, North In...|17.4419196322|78.4872524813|\n",
            "|Shah Ghouse Hotel...|   4.2|       12514|Hyderabad|     Gachibowli|Biryani, North In...|17.4269242726|78.3765272051|\n",
            "|    Lucky Restaurant|   4.3|       11103|Hyderabad|         Nagole|Biryani, North In...|    17.365502|    78.557579|\n",
            "|          Cafe Bahar|   4.6|       11000|Hyderabad|   Basheer Bagh|Biryani, North In...|17.3996227683|78.4786600247|\n",
            "|AB's - Absolute B...|   4.9|       10086|Hyderabad|  Jubilee Hills|European, Mediter...|17.4383355594|78.3978172392|\n",
            "|        Captain Cook|   4.1|        9494|Hyderabad|    Musheerabad|Biryani, North In...|17.4137703713|78.4976400062|\n",
            "|            Flechazo|   4.6|        8768|Hyderabad|       Madhapur|Asian, Mediterran...|17.4465809006|78.3841379732|\n",
            "|Shah Ghouse Cafe ...|   4.3|        8022|Hyderabad|     Tolichowki|Biryani, North In...|17.3962992568|78.4249310195|\n",
            "|            Paradise|   4.7|        7232|Hyderabad|     Gachibowli|Biryani, North In...|17.4423559215|78.3565075323|\n",
            "+--------------------+------+------------+---------+---------------+--------------------+-------------+-------------+\n",
            "\n"
          ],
          "name": "stdout"
        }
      ]
    },
    {
      "cell_type": "code",
      "metadata": {
        "colab": {
          "base_uri": "https://localhost:8080/",
          "height": 808
        },
        "id": "3pUGDaJA_RAx",
        "outputId": "fa48548f-988f-4675-f0c3-17c5a4f0f7b6"
      },
      "source": [
        "top_10_cusine_hyderabad = folium.Map(location= [17.3850, 78.4867], zoom_start= 12)\n",
        "top_10_cusine_hyd = folium.map.FeatureGroup()\n",
        "\n",
        "for name, lat, lng, in zip(q4_hyderabad.toPandas()['name'].values.tolist(), q4_hyderabad.toPandas()['latitude'].values.tolist(), q4_hyderabad.toPandas()['longitude'].values.tolist()):\n",
        "  top_10_cusine_hyd.add_child(\n",
        "      folium.Marker(\n",
        "          [lat, lng],\n",
        "          popup= name,\n",
        "      )\n",
        "  )\n",
        "\n",
        "top_10_cusine_hyderabad.add_child(top_10_cusine_hyd)"
      ],
      "execution_count": 79,
      "outputs": [
        {
          "output_type": "execute_result",
          "data": {
            "text/html": [
              "<div style=\"width:100%;\"><div style=\"position:relative;width:100%;height:0;padding-bottom:60%;\"><span style=\"color:#565656\">Make this Notebook Trusted to load map: File -> Trust Notebook</span><iframe src=\"about:blank\" style=\"position:absolute;width:100%;height:100%;left:0;top:0;border:none !important;\" data-html=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 onload=\"this.contentDocument.open();this.contentDocument.write(atob(this.getAttribute('data-html')));this.contentDocument.close();\" allowfullscreen webkitallowfullscreen mozallowfullscreen></iframe></div></div>"
            ],
            "text/plain": [
              "<folium.folium.Map at 0x7faf49d9ec18>"
            ]
          },
          "metadata": {
            "tags": []
          },
          "execution_count": 79
        }
      ]
    },
    {
      "cell_type": "code",
      "metadata": {
        "colab": {
          "base_uri": "https://localhost:8080/",
          "height": 542
        },
        "id": "9myaO5tx-vGK",
        "outputId": "f92771b9-183f-47d1-f85e-6dc376e37eef"
      },
      "source": [
        "q4_hyderabad_py = q4_hyderabad.toPandas()\n",
        "fig = px.bar(q4_hyderabad_py, x= 'cusine', y= 'rating_count', text= 'rating_count', color= 'cusine')\n",
        "fig.update_traces(texttemplate= '%{text:.2s}', textposition= 'outside')\n",
        "fig.update_layout(xaxis_tickangle= -45)\n",
        "fig.update_layout(title= 'Most Preferred Cusines in Hyderabad', xaxis_title= 'Cusine', yaxis_title= 'Rating Count')\n",
        "\n",
        "fig"
      ],
      "execution_count": 78,
      "outputs": [
        {
          "output_type": "display_data",
          "data": {
            "text/html": [
              "<html>\n",
              "<head><meta charset=\"utf-8\" /></head>\n",
              "<body>\n",
              "    <div>\n",
              "            <script src=\"https://cdnjs.cloudflare.com/ajax/libs/mathjax/2.7.5/MathJax.js?config=TeX-AMS-MML_SVG\"></script><script type=\"text/javascript\">if (window.MathJax) {MathJax.Hub.Config({SVG: {font: \"STIX-Web\"}});}</script>\n",
              "                <script type=\"text/javascript\">window.PlotlyConfig = {MathJaxConfig: 'local'};</script>\n",
              "        <script src=\"https://cdn.plot.ly/plotly-latest.min.js\"></script>    \n",
              "            <div id=\"78863b94-a3c5-4876-b143-31b3c2f8b484\" class=\"plotly-graph-div\" style=\"height:525px; width:100%;\"></div>\n",
              "            <script type=\"text/javascript\">\n",
              "                \n",
              "                    window.PLOTLYENV=window.PLOTLYENV || {};\n",
              "                    \n",
              "                if (document.getElementById(\"78863b94-a3c5-4876-b143-31b3c2f8b484\")) {\n",
              "                    Plotly.newPlot(\n",
              "                        '78863b94-a3c5-4876-b143-31b3c2f8b484',\n",
              "                        [{\"alignmentgroup\": \"True\", \"hoverlabel\": {\"namelength\": 0}, \"hovertemplate\": \"cusine=%{x}<br>rating_count=%{text}\", \"legendgroup\": \"cusine=Biryani, Hyderabadi, North Indian, Seafood\", \"marker\": {\"color\": \"#636efa\"}, \"name\": \"cusine=Biryani, Hyderabadi, North Indian, Seafood\", \"offsetgroup\": \"cusine=Biryani, Hyderabadi, North Indian, Seafood\", \"orientation\": \"v\", \"showlegend\": true, \"text\": [42621.0], \"textposition\": \"outside\", \"texttemplate\": \"%{text:.2s}\", \"type\": \"bar\", \"x\": [\"Biryani, Hyderabadi, North Indian, Seafood\"], \"xaxis\": \"x\", \"y\": [42621], \"yaxis\": \"y\"}, {\"alignmentgroup\": \"True\", \"hoverlabel\": {\"namelength\": 0}, \"hovertemplate\": \"cusine=%{x}<br>rating_count=%{text}\", \"legendgroup\": \"cusine=Biryani, North Indian\", \"marker\": {\"color\": \"#EF553B\"}, \"name\": \"cusine=Biryani, North Indian\", \"offsetgroup\": \"cusine=Biryani, North Indian\", \"orientation\": \"v\", \"showlegend\": true, \"text\": [13152.0, 7232.0], \"textposition\": \"outside\", \"texttemplate\": \"%{text:.2s}\", \"type\": \"bar\", \"x\": [\"Biryani, North Indian\", \"Biryani, North Indian\"], \"xaxis\": \"x\", \"y\": [13152, 7232], \"yaxis\": \"y\"}, {\"alignmentgroup\": \"True\", \"hoverlabel\": {\"namelength\": 0}, \"hovertemplate\": \"cusine=%{x}<br>rating_count=%{text}\", \"legendgroup\": \"cusine=Biryani, North Indian, Chinese, Seafood, Beverages\", \"marker\": {\"color\": \"#00cc96\"}, \"name\": \"cusine=Biryani, North Indian, Chinese, Seafood, Beverages\", \"offsetgroup\": \"cusine=Biryani, North Indian, Chinese, Seafood, Beverages\", \"orientation\": \"v\", \"showlegend\": true, \"text\": [12514.0], \"textposition\": \"outside\", \"texttemplate\": \"%{text:.2s}\", \"type\": \"bar\", \"x\": [\"Biryani, North Indian, Chinese, Seafood, Beverages\"], \"xaxis\": \"x\", \"y\": [12514], \"yaxis\": \"y\"}, {\"alignmentgroup\": \"True\", \"hoverlabel\": {\"namelength\": 0}, \"hovertemplate\": \"cusine=%{x}<br>rating_count=%{text}\", \"legendgroup\": \"cusine=Biryani, North Indian, Chinese\", \"marker\": {\"color\": \"#ab63fa\"}, \"name\": \"cusine=Biryani, North Indian, Chinese\", \"offsetgroup\": \"cusine=Biryani, North Indian, Chinese\", \"orientation\": \"v\", \"showlegend\": true, \"text\": [11103.0, 11000.0, 9494.0], \"textposition\": \"outside\", \"texttemplate\": \"%{text:.2s}\", \"type\": \"bar\", \"x\": [\"Biryani, North Indian, Chinese\", \"Biryani, North Indian, Chinese\", \"Biryani, North Indian, Chinese\"], \"xaxis\": \"x\", \"y\": [11103, 11000, 9494], \"yaxis\": \"y\"}, {\"alignmentgroup\": \"True\", \"hoverlabel\": {\"namelength\": 0}, \"hovertemplate\": \"cusine=%{x}<br>rating_count=%{text}\", \"legendgroup\": \"cusine=European, Mediterranean, North Indian\", \"marker\": {\"color\": \"#FFA15A\"}, \"name\": \"cusine=European, Mediterranean, North Indian\", \"offsetgroup\": \"cusine=European, Mediterranean, North Indian\", \"orientation\": \"v\", \"showlegend\": true, \"text\": [10086.0], \"textposition\": \"outside\", \"texttemplate\": \"%{text:.2s}\", \"type\": \"bar\", \"x\": [\"European, Mediterranean, North Indian\"], \"xaxis\": \"x\", \"y\": [10086], \"yaxis\": \"y\"}, {\"alignmentgroup\": \"True\", \"hoverlabel\": {\"namelength\": 0}, \"hovertemplate\": \"cusine=%{x}<br>rating_count=%{text}\", \"legendgroup\": \"cusine=Asian, Mediterranean, North Indian, Desserts\", \"marker\": {\"color\": \"#19d3f3\"}, \"name\": \"cusine=Asian, Mediterranean, North Indian, Desserts\", \"offsetgroup\": \"cusine=Asian, Mediterranean, North Indian, Desserts\", \"orientation\": \"v\", \"showlegend\": true, \"text\": [8768.0], \"textposition\": \"outside\", \"texttemplate\": \"%{text:.2s}\", \"type\": \"bar\", \"x\": [\"Asian, Mediterranean, North Indian, Desserts\"], \"xaxis\": \"x\", \"y\": [8768], \"yaxis\": \"y\"}, {\"alignmentgroup\": \"True\", \"hoverlabel\": {\"namelength\": 0}, \"hovertemplate\": \"cusine=%{x}<br>rating_count=%{text}\", \"legendgroup\": \"cusine=Biryani, North Indian, Chinese, Seafood\", \"marker\": {\"color\": \"#FF6692\"}, \"name\": \"cusine=Biryani, North Indian, Chinese, Seafood\", \"offsetgroup\": \"cusine=Biryani, North Indian, Chinese, Seafood\", \"orientation\": \"v\", \"showlegend\": true, \"text\": [8022.0], \"textposition\": \"outside\", \"texttemplate\": \"%{text:.2s}\", \"type\": \"bar\", \"x\": [\"Biryani, North Indian, Chinese, Seafood\"], \"xaxis\": \"x\", \"y\": [8022], \"yaxis\": \"y\"}],\n",
              "                        {\"barmode\": \"relative\", \"legend\": {\"tracegroupgap\": 0}, \"margin\": {\"t\": 60}, \"template\": {\"data\": {\"bar\": [{\"error_x\": {\"color\": \"#2a3f5f\"}, \"error_y\": {\"color\": \"#2a3f5f\"}, \"marker\": {\"line\": {\"color\": \"#E5ECF6\", \"width\": 0.5}}, \"type\": \"bar\"}], \"barpolar\": [{\"marker\": {\"line\": {\"color\": \"#E5ECF6\", \"width\": 0.5}}, \"type\": \"barpolar\"}], \"carpet\": [{\"aaxis\": {\"endlinecolor\": \"#2a3f5f\", \"gridcolor\": \"white\", \"linecolor\": \"white\", \"minorgridcolor\": \"white\", \"startlinecolor\": \"#2a3f5f\"}, \"baxis\": {\"endlinecolor\": \"#2a3f5f\", \"gridcolor\": \"white\", \"linecolor\": \"white\", \"minorgridcolor\": \"white\", \"startlinecolor\": \"#2a3f5f\"}, \"type\": \"carpet\"}], \"choropleth\": [{\"colorbar\": {\"outlinewidth\": 0, \"ticks\": \"\"}, \"type\": \"choropleth\"}], \"contour\": [{\"colorbar\": {\"outlinewidth\": 0, \"ticks\": \"\"}, \"colorscale\": [[0.0, \"#0d0887\"], [0.1111111111111111, \"#46039f\"], [0.2222222222222222, \"#7201a8\"], [0.3333333333333333, \"#9c179e\"], [0.4444444444444444, \"#bd3786\"], [0.5555555555555556, \"#d8576b\"], [0.6666666666666666, \"#ed7953\"], [0.7777777777777778, \"#fb9f3a\"], [0.8888888888888888, \"#fdca26\"], [1.0, \"#f0f921\"]], \"type\": \"contour\"}], \"contourcarpet\": [{\"colorbar\": {\"outlinewidth\": 0, \"ticks\": \"\"}, \"type\": \"contourcarpet\"}], \"heatmap\": [{\"colorbar\": {\"outlinewidth\": 0, \"ticks\": \"\"}, \"colorscale\": [[0.0, \"#0d0887\"], [0.1111111111111111, \"#46039f\"], [0.2222222222222222, \"#7201a8\"], [0.3333333333333333, \"#9c179e\"], [0.4444444444444444, \"#bd3786\"], [0.5555555555555556, \"#d8576b\"], [0.6666666666666666, \"#ed7953\"], [0.7777777777777778, \"#fb9f3a\"], [0.8888888888888888, \"#fdca26\"], [1.0, \"#f0f921\"]], \"type\": \"heatmap\"}], \"heatmapgl\": [{\"colorbar\": {\"outlinewidth\": 0, \"ticks\": \"\"}, \"colorscale\": [[0.0, \"#0d0887\"], [0.1111111111111111, \"#46039f\"], [0.2222222222222222, \"#7201a8\"], [0.3333333333333333, \"#9c179e\"], [0.4444444444444444, \"#bd3786\"], [0.5555555555555556, \"#d8576b\"], [0.6666666666666666, \"#ed7953\"], [0.7777777777777778, \"#fb9f3a\"], [0.8888888888888888, \"#fdca26\"], [1.0, \"#f0f921\"]], \"type\": \"heatmapgl\"}], \"histogram\": [{\"marker\": {\"colorbar\": {\"outlinewidth\": 0, \"ticks\": \"\"}}, \"type\": \"histogram\"}], \"histogram2d\": [{\"colorbar\": {\"outlinewidth\": 0, \"ticks\": \"\"}, \"colorscale\": [[0.0, \"#0d0887\"], [0.1111111111111111, \"#46039f\"], [0.2222222222222222, \"#7201a8\"], [0.3333333333333333, \"#9c179e\"], [0.4444444444444444, \"#bd3786\"], [0.5555555555555556, \"#d8576b\"], [0.6666666666666666, \"#ed7953\"], [0.7777777777777778, \"#fb9f3a\"], [0.8888888888888888, \"#fdca26\"], [1.0, \"#f0f921\"]], \"type\": \"histogram2d\"}], \"histogram2dcontour\": [{\"colorbar\": {\"outlinewidth\": 0, \"ticks\": \"\"}, \"colorscale\": [[0.0, \"#0d0887\"], [0.1111111111111111, \"#46039f\"], [0.2222222222222222, \"#7201a8\"], [0.3333333333333333, \"#9c179e\"], [0.4444444444444444, \"#bd3786\"], [0.5555555555555556, \"#d8576b\"], [0.6666666666666666, \"#ed7953\"], [0.7777777777777778, \"#fb9f3a\"], [0.8888888888888888, \"#fdca26\"], [1.0, \"#f0f921\"]], \"type\": \"histogram2dcontour\"}], \"mesh3d\": [{\"colorbar\": {\"outlinewidth\": 0, \"ticks\": \"\"}, \"type\": \"mesh3d\"}], \"parcoords\": [{\"line\": {\"colorbar\": {\"outlinewidth\": 0, \"ticks\": \"\"}}, \"type\": \"parcoords\"}], \"pie\": [{\"automargin\": true, \"type\": \"pie\"}], \"scatter\": [{\"marker\": {\"colorbar\": {\"outlinewidth\": 0, \"ticks\": \"\"}}, \"type\": \"scatter\"}], \"scatter3d\": [{\"line\": {\"colorbar\": {\"outlinewidth\": 0, \"ticks\": \"\"}}, \"marker\": {\"colorbar\": {\"outlinewidth\": 0, \"ticks\": \"\"}}, \"type\": \"scatter3d\"}], \"scattercarpet\": [{\"marker\": {\"colorbar\": {\"outlinewidth\": 0, \"ticks\": \"\"}}, \"type\": \"scattercarpet\"}], \"scattergeo\": [{\"marker\": {\"colorbar\": {\"outlinewidth\": 0, \"ticks\": \"\"}}, \"type\": \"scattergeo\"}], \"scattergl\": [{\"marker\": {\"colorbar\": {\"outlinewidth\": 0, \"ticks\": \"\"}}, \"type\": \"scattergl\"}], \"scattermapbox\": [{\"marker\": {\"colorbar\": {\"outlinewidth\": 0, \"ticks\": \"\"}}, \"type\": \"scattermapbox\"}], \"scatterpolar\": [{\"marker\": {\"colorbar\": {\"outlinewidth\": 0, \"ticks\": \"\"}}, \"type\": \"scatterpolar\"}], \"scatterpolargl\": [{\"marker\": {\"colorbar\": {\"outlinewidth\": 0, \"ticks\": \"\"}}, \"type\": \"scatterpolargl\"}], \"scatterternary\": [{\"marker\": {\"colorbar\": {\"outlinewidth\": 0, \"ticks\": \"\"}}, \"type\": \"scatterternary\"}], \"surface\": [{\"colorbar\": {\"outlinewidth\": 0, \"ticks\": \"\"}, \"colorscale\": [[0.0, \"#0d0887\"], [0.1111111111111111, \"#46039f\"], [0.2222222222222222, \"#7201a8\"], [0.3333333333333333, \"#9c179e\"], [0.4444444444444444, \"#bd3786\"], [0.5555555555555556, \"#d8576b\"], [0.6666666666666666, \"#ed7953\"], [0.7777777777777778, \"#fb9f3a\"], [0.8888888888888888, \"#fdca26\"], [1.0, \"#f0f921\"]], \"type\": \"surface\"}], \"table\": [{\"cells\": {\"fill\": {\"color\": \"#EBF0F8\"}, \"line\": {\"color\": \"white\"}}, \"header\": {\"fill\": {\"color\": \"#C8D4E3\"}, \"line\": {\"color\": \"white\"}}, \"type\": \"table\"}]}, \"layout\": {\"annotationdefaults\": {\"arrowcolor\": \"#2a3f5f\", \"arrowhead\": 0, \"arrowwidth\": 1}, \"coloraxis\": {\"colorbar\": {\"outlinewidth\": 0, \"ticks\": \"\"}}, \"colorscale\": {\"diverging\": [[0, \"#8e0152\"], [0.1, \"#c51b7d\"], [0.2, \"#de77ae\"], [0.3, \"#f1b6da\"], [0.4, \"#fde0ef\"], [0.5, \"#f7f7f7\"], [0.6, \"#e6f5d0\"], [0.7, \"#b8e186\"], [0.8, \"#7fbc41\"], [0.9, \"#4d9221\"], [1, \"#276419\"]], \"sequential\": [[0.0, \"#0d0887\"], [0.1111111111111111, \"#46039f\"], [0.2222222222222222, \"#7201a8\"], [0.3333333333333333, \"#9c179e\"], [0.4444444444444444, \"#bd3786\"], [0.5555555555555556, \"#d8576b\"], [0.6666666666666666, \"#ed7953\"], [0.7777777777777778, \"#fb9f3a\"], [0.8888888888888888, \"#fdca26\"], [1.0, \"#f0f921\"]], \"sequentialminus\": [[0.0, \"#0d0887\"], [0.1111111111111111, \"#46039f\"], [0.2222222222222222, \"#7201a8\"], [0.3333333333333333, \"#9c179e\"], [0.4444444444444444, \"#bd3786\"], [0.5555555555555556, \"#d8576b\"], [0.6666666666666666, \"#ed7953\"], [0.7777777777777778, \"#fb9f3a\"], [0.8888888888888888, \"#fdca26\"], [1.0, \"#f0f921\"]]}, \"colorway\": [\"#636efa\", \"#EF553B\", \"#00cc96\", \"#ab63fa\", \"#FFA15A\", \"#19d3f3\", \"#FF6692\", \"#B6E880\", \"#FF97FF\", \"#FECB52\"], \"font\": {\"color\": \"#2a3f5f\"}, \"geo\": {\"bgcolor\": \"white\", \"lakecolor\": \"white\", \"landcolor\": \"#E5ECF6\", \"showlakes\": true, \"showland\": true, \"subunitcolor\": \"white\"}, \"hoverlabel\": {\"align\": \"left\"}, \"hovermode\": \"closest\", \"mapbox\": {\"style\": \"light\"}, \"paper_bgcolor\": \"white\", \"plot_bgcolor\": \"#E5ECF6\", \"polar\": {\"angularaxis\": {\"gridcolor\": \"white\", \"linecolor\": \"white\", \"ticks\": \"\"}, \"bgcolor\": \"#E5ECF6\", \"radialaxis\": {\"gridcolor\": \"white\", \"linecolor\": \"white\", \"ticks\": \"\"}}, \"scene\": {\"xaxis\": {\"backgroundcolor\": \"#E5ECF6\", \"gridcolor\": \"white\", \"gridwidth\": 2, \"linecolor\": \"white\", \"showbackground\": true, \"ticks\": \"\", \"zerolinecolor\": \"white\"}, \"yaxis\": {\"backgroundcolor\": \"#E5ECF6\", \"gridcolor\": \"white\", \"gridwidth\": 2, \"linecolor\": \"white\", \"showbackground\": true, \"ticks\": \"\", \"zerolinecolor\": \"white\"}, \"zaxis\": {\"backgroundcolor\": \"#E5ECF6\", \"gridcolor\": \"white\", \"gridwidth\": 2, \"linecolor\": \"white\", \"showbackground\": true, \"ticks\": \"\", \"zerolinecolor\": \"white\"}}, \"shapedefaults\": {\"line\": {\"color\": \"#2a3f5f\"}}, \"ternary\": {\"aaxis\": {\"gridcolor\": \"white\", \"linecolor\": \"white\", \"ticks\": \"\"}, \"baxis\": {\"gridcolor\": \"white\", \"linecolor\": \"white\", \"ticks\": \"\"}, \"bgcolor\": \"#E5ECF6\", \"caxis\": {\"gridcolor\": \"white\", \"linecolor\": \"white\", \"ticks\": \"\"}}, \"title\": {\"x\": 0.05}, \"xaxis\": {\"automargin\": true, \"gridcolor\": \"white\", \"linecolor\": \"white\", \"ticks\": \"\", \"title\": {\"standoff\": 15}, \"zerolinecolor\": \"white\", \"zerolinewidth\": 2}, \"yaxis\": {\"automargin\": true, \"gridcolor\": \"white\", \"linecolor\": \"white\", \"ticks\": \"\", \"title\": {\"standoff\": 15}, \"zerolinecolor\": \"white\", \"zerolinewidth\": 2}}}, \"title\": {\"text\": \"Most Preferred Cusines in Hyderabad\"}, \"xaxis\": {\"anchor\": \"y\", \"categoryarray\": [\"Biryani, Hyderabadi, North Indian, Seafood\", \"Biryani, North Indian\", \"Biryani, North Indian, Chinese, Seafood, Beverages\", \"Biryani, North Indian, Chinese\", \"European, Mediterranean, North Indian\", \"Asian, Mediterranean, North Indian, Desserts\", \"Biryani, North Indian, Chinese, Seafood\"], \"categoryorder\": \"array\", \"domain\": [0.0, 1.0], \"tickangle\": -45, \"title\": {\"text\": \"Cusine\"}}, \"yaxis\": {\"anchor\": \"x\", \"domain\": [0.0, 1.0], \"title\": {\"text\": \"Rating Count\"}}},\n",
              "                        {\"responsive\": true}\n",
              "                    ).then(function(){\n",
              "                            \n",
              "var gd = document.getElementById('78863b94-a3c5-4876-b143-31b3c2f8b484');\n",
              "var x = new MutationObserver(function (mutations, observer) {{\n",
              "        var display = window.getComputedStyle(gd).display;\n",
              "        if (!display || display === 'none') {{\n",
              "            console.log([gd, 'removed!']);\n",
              "            Plotly.purge(gd);\n",
              "            observer.disconnect();\n",
              "        }}\n",
              "}});\n",
              "\n",
              "// Listen for the removal of the full notebook cells\n",
              "var notebookContainer = gd.closest('#notebook-container');\n",
              "if (notebookContainer) {{\n",
              "    x.observe(notebookContainer, {childList: true});\n",
              "}}\n",
              "\n",
              "// Listen for the clearing of the current output cell\n",
              "var outputEl = gd.closest('.output');\n",
              "if (outputEl) {{\n",
              "    x.observe(outputEl, {childList: true});\n",
              "}}\n",
              "\n",
              "                        })\n",
              "                };\n",
              "                \n",
              "            </script>\n",
              "        </div>\n",
              "</body>\n",
              "</html>"
            ]
          },
          "metadata": {
            "tags": []
          }
        }
      ]
    },
    {
      "cell_type": "markdown",
      "metadata": {
        "id": "ogPDwzuzMVtX"
      },
      "source": [
        "It is no brainer that the city of Hyderabad, which is famous for its Biryani dishes will have the most favorable cuisines in most of the restaurants as it."
      ]
    },
    {
      "cell_type": "code",
      "metadata": {
        "colab": {
          "base_uri": "https://localhost:8080/"
        },
        "id": "AqIzYIgpDTxV",
        "outputId": "3e1c87a1-a96a-4bf3-f7da-6262369ada09"
      },
      "source": [
        "q4_bengaluru = df.select('name', 'rating', 'rating_count', 'city', 'area', 'cusine', 'latitude', 'longitude').filter(df.city == 'Bengaluru').orderBy(desc('rating_count')).limit(10)\n",
        "q4_bengaluru.show()"
      ],
      "execution_count": 80,
      "outputs": [
        {
          "output_type": "stream",
          "text": [
            "+--------------------+------+------------+---------+--------------------+--------------------+-------------+-------------+\n",
            "|                name|rating|rating_count|     city|                area|              cusine|     latitude|    longitude|\n",
            "+--------------------+------+------------+---------+--------------------+--------------------+-------------+-------------+\n",
            "|Byg Brewski Brewi...|   4.9|       19305|Bengaluru|       Sarjapur Road|Continental, Nort...|12.9129344258|77.6829059422|\n",
            "|                Toit|   4.6|       15731|Bengaluru|         Indiranagar|Italian, American...| 12.978888098| 77.640921995|\n",
            "|            Truffles|   4.6|       15653|Bengaluru|Koramangala 5th B...|Cafe, American, B...| 12.933426714|77.6143838838|\n",
            "|AB's - Absolute B...|   4.8|       13164|Bengaluru|        Marathahalli|European, Mediter...|   12.9497983|   77.6993079|\n",
            "|     The Black Pearl|   4.9|       12686|Bengaluru|Koramangala 5th B...|North Indian, Eur...|12.9344733575|77.6159777865|\n",
            "|      TBC Sky Lounge|   4.9|       10845|Bengaluru|                 HSR|Continental, Asia...|12.9228727861|77.6515448838|\n",
            "|         Big Pitcher|   4.7|       10789|Bengaluru|    Old Airport Road|American, Contine...|12.9601384392| 77.646923773|\n",
            "|              Onesta|   4.4|        9452|Bengaluru|Koramangala 4th B...|Italian, Pizza, D...|12.9335469655| 77.626979202|\n",
            "|     The Black Pearl|   4.7|        9207|Bengaluru|        Marathahalli|North Indian, Eur...|12.9394689529|77.6946818456|\n",
            "|   Empire Restaurant|   4.0|        8826|Bengaluru|         Indiranagar|North Indian, Mug...|12.9698716969|77.6475158706|\n",
            "+--------------------+------+------------+---------+--------------------+--------------------+-------------+-------------+\n",
            "\n"
          ],
          "name": "stdout"
        }
      ]
    },
    {
      "cell_type": "code",
      "metadata": {
        "colab": {
          "base_uri": "https://localhost:8080/",
          "height": 808
        },
        "id": "APBIAg_Q_9s4",
        "outputId": "403df3ae-de8a-4595-bab5-6347116e3734"
      },
      "source": [
        "top_10_cusine_bengaluru = folium.Map(location= [12.9716, 77.5946], zoom_start= 12)\n",
        "top_10_cusine_ben = folium.map.FeatureGroup()\n",
        "\n",
        "for name, lat, lng, in zip(q4_bengaluru.toPandas()['name'].values.tolist(), q4_bengaluru.toPandas()['latitude'].values.tolist(), q4_bengaluru.toPandas()['longitude'].values.tolist()):\n",
        "  top_10_cusine_ben.add_child(\n",
        "      folium.Marker(\n",
        "          [lat, lng],\n",
        "          popup= name,\n",
        "      )\n",
        "  )\n",
        "\n",
        "top_10_cusine_bengaluru.add_child(top_10_cusine_ben)"
      ],
      "execution_count": 82,
      "outputs": [
        {
          "output_type": "execute_result",
          "data": {
            "text/html": [
              "<div style=\"width:100%;\"><div style=\"position:relative;width:100%;height:0;padding-bottom:60%;\"><span style=\"color:#565656\">Make this Notebook Trusted to load map: File -> Trust Notebook</span><iframe src=\"about:blank\" style=\"position:absolute;width:100%;height:100%;left:0;top:0;border:none !important;\" data-html=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 onload=\"this.contentDocument.open();this.contentDocument.write(atob(this.getAttribute('data-html')));this.contentDocument.close();\" allowfullscreen webkitallowfullscreen mozallowfullscreen></iframe></div></div>"
            ],
            "text/plain": [
              "<folium.folium.Map at 0x7faf49d68208>"
            ]
          },
          "metadata": {
            "tags": []
          },
          "execution_count": 82
        }
      ]
    },
    {
      "cell_type": "code",
      "metadata": {
        "colab": {
          "base_uri": "https://localhost:8080/",
          "height": 542
        },
        "id": "IJtKblbaAioN",
        "outputId": "b370f18d-deb2-452c-88f8-ff719fc077fc"
      },
      "source": [
        "q4_bengaluru_py = q4_bengaluru.toPandas()\n",
        "fig = px.bar(q4_bengaluru_py, x= 'cusine', y= 'rating_count', text= 'rating_count', color= 'cusine')\n",
        "fig.update_traces(texttemplate= '%{text:.2s}', textposition= 'outside')\n",
        "fig.update_layout(xaxis_tickangle= -45)\n",
        "fig.update_layout(title= 'Most Preferred Cusines in Bangalore', xaxis_title= 'Cusine', yaxis_title= 'Rating Count')\n",
        "\n",
        "fig"
      ],
      "execution_count": 84,
      "outputs": [
        {
          "output_type": "display_data",
          "data": {
            "text/html": [
              "<html>\n",
              "<head><meta charset=\"utf-8\" /></head>\n",
              "<body>\n",
              "    <div>\n",
              "            <script src=\"https://cdnjs.cloudflare.com/ajax/libs/mathjax/2.7.5/MathJax.js?config=TeX-AMS-MML_SVG\"></script><script type=\"text/javascript\">if (window.MathJax) {MathJax.Hub.Config({SVG: {font: \"STIX-Web\"}});}</script>\n",
              "                <script type=\"text/javascript\">window.PlotlyConfig = {MathJaxConfig: 'local'};</script>\n",
              "        <script src=\"https://cdn.plot.ly/plotly-latest.min.js\"></script>    \n",
              "            <div id=\"4458d735-1c30-4c72-b83b-e503766354c2\" class=\"plotly-graph-div\" style=\"height:525px; width:100%;\"></div>\n",
              "            <script type=\"text/javascript\">\n",
              "                \n",
              "                    window.PLOTLYENV=window.PLOTLYENV || {};\n",
              "                    \n",
              "                if (document.getElementById(\"4458d735-1c30-4c72-b83b-e503766354c2\")) {\n",
              "                    Plotly.newPlot(\n",
              "                        '4458d735-1c30-4c72-b83b-e503766354c2',\n",
              "                        [{\"alignmentgroup\": \"True\", \"hoverlabel\": {\"namelength\": 0}, \"hovertemplate\": \"cusine=%{x}<br>rating_count=%{text}\", \"legendgroup\": \"cusine=Continental, North Indian, Italian, South Indian, Finger Food, Pizza\", \"marker\": {\"color\": \"#636efa\"}, \"name\": \"cusine=Continental, North Indian, Italian, South Indian, Finger Food, Pizza\", \"offsetgroup\": \"cusine=Continental, North Indian, Italian, South Indian, Finger Food, Pizza\", \"orientation\": \"v\", \"showlegend\": true, \"text\": [19305.0], \"textposition\": \"outside\", \"texttemplate\": \"%{text:.2s}\", \"type\": \"bar\", \"x\": [\"Continental, North Indian, Italian, South Indian, Finger Food, Pizza\"], \"xaxis\": \"x\", \"y\": [19305], \"yaxis\": \"y\"}, {\"alignmentgroup\": \"True\", \"hoverlabel\": {\"namelength\": 0}, \"hovertemplate\": \"cusine=%{x}<br>rating_count=%{text}\", \"legendgroup\": \"cusine=Italian, American, Modern Indian\", \"marker\": {\"color\": \"#EF553B\"}, \"name\": \"cusine=Italian, American, Modern Indian\", \"offsetgroup\": \"cusine=Italian, American, Modern Indian\", \"orientation\": \"v\", \"showlegend\": true, \"text\": [15731.0], \"textposition\": \"outside\", \"texttemplate\": \"%{text:.2s}\", \"type\": \"bar\", \"x\": [\"Italian, American, Modern Indian\"], \"xaxis\": \"x\", \"y\": [15731], \"yaxis\": \"y\"}, {\"alignmentgroup\": \"True\", \"hoverlabel\": {\"namelength\": 0}, \"hovertemplate\": \"cusine=%{x}<br>rating_count=%{text}\", \"legendgroup\": \"cusine=Cafe, American, Burger, Steak\", \"marker\": {\"color\": \"#00cc96\"}, \"name\": \"cusine=Cafe, American, Burger, Steak\", \"offsetgroup\": \"cusine=Cafe, American, Burger, Steak\", \"orientation\": \"v\", \"showlegend\": true, \"text\": [15653.0], \"textposition\": \"outside\", \"texttemplate\": \"%{text:.2s}\", \"type\": \"bar\", \"x\": [\"Cafe, American, Burger, Steak\"], \"xaxis\": \"x\", \"y\": [15653], \"yaxis\": \"y\"}, {\"alignmentgroup\": \"True\", \"hoverlabel\": {\"namelength\": 0}, \"hovertemplate\": \"cusine=%{x}<br>rating_count=%{text}\", \"legendgroup\": \"cusine=European, Mediterranean, North Indian, BBQ\", \"marker\": {\"color\": \"#ab63fa\"}, \"name\": \"cusine=European, Mediterranean, North Indian, BBQ\", \"offsetgroup\": \"cusine=European, Mediterranean, North Indian, BBQ\", \"orientation\": \"v\", \"showlegend\": true, \"text\": [13164.0], \"textposition\": \"outside\", \"texttemplate\": \"%{text:.2s}\", \"type\": \"bar\", \"x\": [\"European, Mediterranean, North Indian, BBQ\"], \"xaxis\": \"x\", \"y\": [13164], \"yaxis\": \"y\"}, {\"alignmentgroup\": \"True\", \"hoverlabel\": {\"namelength\": 0}, \"hovertemplate\": \"cusine=%{x}<br>rating_count=%{text}\", \"legendgroup\": \"cusine=North Indian, European, Mediterranean\", \"marker\": {\"color\": \"#FFA15A\"}, \"name\": \"cusine=North Indian, European, Mediterranean\", \"offsetgroup\": \"cusine=North Indian, European, Mediterranean\", \"orientation\": \"v\", \"showlegend\": true, \"text\": [12686.0], \"textposition\": \"outside\", \"texttemplate\": \"%{text:.2s}\", \"type\": \"bar\", \"x\": [\"North Indian, European, Mediterranean\"], \"xaxis\": \"x\", \"y\": [12686], \"yaxis\": \"y\"}, {\"alignmentgroup\": \"True\", \"hoverlabel\": {\"namelength\": 0}, \"hovertemplate\": \"cusine=%{x}<br>rating_count=%{text}\", \"legendgroup\": \"cusine=Continental, Asian, Italian, North Indian\", \"marker\": {\"color\": \"#19d3f3\"}, \"name\": \"cusine=Continental, Asian, Italian, North Indian\", \"offsetgroup\": \"cusine=Continental, Asian, Italian, North Indian\", \"orientation\": \"v\", \"showlegend\": true, \"text\": [10845.0], \"textposition\": \"outside\", \"texttemplate\": \"%{text:.2s}\", \"type\": \"bar\", \"x\": [\"Continental, Asian, Italian, North Indian\"], \"xaxis\": \"x\", \"y\": [10845], \"yaxis\": \"y\"}, {\"alignmentgroup\": \"True\", \"hoverlabel\": {\"namelength\": 0}, \"hovertemplate\": \"cusine=%{x}<br>rating_count=%{text}\", \"legendgroup\": \"cusine=American, Continental, North Indian, Mediterranean\", \"marker\": {\"color\": \"#FF6692\"}, \"name\": \"cusine=American, Continental, North Indian, Mediterranean\", \"offsetgroup\": \"cusine=American, Continental, North Indian, Mediterranean\", \"orientation\": \"v\", \"showlegend\": true, \"text\": [10789.0], \"textposition\": \"outside\", \"texttemplate\": \"%{text:.2s}\", \"type\": \"bar\", \"x\": [\"American, Continental, North Indian, Mediterranean\"], \"xaxis\": \"x\", \"y\": [10789], \"yaxis\": \"y\"}, {\"alignmentgroup\": \"True\", \"hoverlabel\": {\"namelength\": 0}, \"hovertemplate\": \"cusine=%{x}<br>rating_count=%{text}\", \"legendgroup\": \"cusine=Italian, Pizza, Desserts, Beverages\", \"marker\": {\"color\": \"#B6E880\"}, \"name\": \"cusine=Italian, Pizza, Desserts, Beverages\", \"offsetgroup\": \"cusine=Italian, Pizza, Desserts, Beverages\", \"orientation\": \"v\", \"showlegend\": true, \"text\": [9452.0], \"textposition\": \"outside\", \"texttemplate\": \"%{text:.2s}\", \"type\": \"bar\", \"x\": [\"Italian, Pizza, Desserts, Beverages\"], \"xaxis\": \"x\", \"y\": [9452], \"yaxis\": \"y\"}, {\"alignmentgroup\": \"True\", \"hoverlabel\": {\"namelength\": 0}, \"hovertemplate\": \"cusine=%{x}<br>rating_count=%{text}\", \"legendgroup\": \"cusine=North Indian, European, Mediterranean, BBQ\", \"marker\": {\"color\": \"#FF97FF\"}, \"name\": \"cusine=North Indian, European, Mediterranean, BBQ\", \"offsetgroup\": \"cusine=North Indian, European, Mediterranean, BBQ\", \"orientation\": \"v\", \"showlegend\": true, \"text\": [9207.0], \"textposition\": \"outside\", \"texttemplate\": \"%{text:.2s}\", \"type\": \"bar\", \"x\": [\"North Indian, European, Mediterranean, BBQ\"], \"xaxis\": \"x\", \"y\": [9207], \"yaxis\": \"y\"}, {\"alignmentgroup\": \"True\", \"hoverlabel\": {\"namelength\": 0}, \"hovertemplate\": \"cusine=%{x}<br>rating_count=%{text}\", \"legendgroup\": \"cusine=North Indian, Mughlai, South Indian, Chinese\", \"marker\": {\"color\": \"#FECB52\"}, \"name\": \"cusine=North Indian, Mughlai, South Indian, Chinese\", \"offsetgroup\": \"cusine=North Indian, Mughlai, South Indian, Chinese\", \"orientation\": \"v\", \"showlegend\": true, \"text\": [8826.0], \"textposition\": \"outside\", \"texttemplate\": \"%{text:.2s}\", \"type\": \"bar\", \"x\": [\"North Indian, Mughlai, South Indian, Chinese\"], \"xaxis\": \"x\", \"y\": [8826], \"yaxis\": \"y\"}],\n",
              "                        {\"barmode\": \"relative\", \"legend\": {\"tracegroupgap\": 0}, \"margin\": {\"t\": 60}, \"template\": {\"data\": {\"bar\": [{\"error_x\": {\"color\": \"#2a3f5f\"}, \"error_y\": {\"color\": \"#2a3f5f\"}, \"marker\": {\"line\": {\"color\": \"#E5ECF6\", \"width\": 0.5}}, \"type\": \"bar\"}], \"barpolar\": [{\"marker\": {\"line\": {\"color\": \"#E5ECF6\", \"width\": 0.5}}, \"type\": \"barpolar\"}], \"carpet\": [{\"aaxis\": {\"endlinecolor\": \"#2a3f5f\", \"gridcolor\": \"white\", \"linecolor\": \"white\", \"minorgridcolor\": \"white\", \"startlinecolor\": \"#2a3f5f\"}, \"baxis\": {\"endlinecolor\": \"#2a3f5f\", \"gridcolor\": \"white\", \"linecolor\": \"white\", \"minorgridcolor\": \"white\", \"startlinecolor\": \"#2a3f5f\"}, \"type\": \"carpet\"}], \"choropleth\": [{\"colorbar\": {\"outlinewidth\": 0, \"ticks\": \"\"}, \"type\": \"choropleth\"}], \"contour\": [{\"colorbar\": {\"outlinewidth\": 0, \"ticks\": \"\"}, \"colorscale\": [[0.0, \"#0d0887\"], [0.1111111111111111, \"#46039f\"], [0.2222222222222222, \"#7201a8\"], [0.3333333333333333, \"#9c179e\"], [0.4444444444444444, \"#bd3786\"], [0.5555555555555556, \"#d8576b\"], [0.6666666666666666, \"#ed7953\"], [0.7777777777777778, \"#fb9f3a\"], [0.8888888888888888, \"#fdca26\"], [1.0, \"#f0f921\"]], \"type\": \"contour\"}], \"contourcarpet\": [{\"colorbar\": {\"outlinewidth\": 0, \"ticks\": \"\"}, \"type\": \"contourcarpet\"}], \"heatmap\": [{\"colorbar\": {\"outlinewidth\": 0, \"ticks\": \"\"}, \"colorscale\": [[0.0, \"#0d0887\"], [0.1111111111111111, \"#46039f\"], [0.2222222222222222, \"#7201a8\"], [0.3333333333333333, \"#9c179e\"], [0.4444444444444444, \"#bd3786\"], [0.5555555555555556, \"#d8576b\"], [0.6666666666666666, \"#ed7953\"], [0.7777777777777778, \"#fb9f3a\"], [0.8888888888888888, \"#fdca26\"], [1.0, \"#f0f921\"]], \"type\": \"heatmap\"}], \"heatmapgl\": [{\"colorbar\": {\"outlinewidth\": 0, \"ticks\": \"\"}, \"colorscale\": [[0.0, \"#0d0887\"], [0.1111111111111111, \"#46039f\"], [0.2222222222222222, \"#7201a8\"], [0.3333333333333333, \"#9c179e\"], [0.4444444444444444, \"#bd3786\"], [0.5555555555555556, \"#d8576b\"], [0.6666666666666666, \"#ed7953\"], [0.7777777777777778, \"#fb9f3a\"], [0.8888888888888888, \"#fdca26\"], [1.0, \"#f0f921\"]], \"type\": \"heatmapgl\"}], \"histogram\": [{\"marker\": {\"colorbar\": {\"outlinewidth\": 0, \"ticks\": \"\"}}, \"type\": \"histogram\"}], \"histogram2d\": [{\"colorbar\": {\"outlinewidth\": 0, \"ticks\": \"\"}, \"colorscale\": [[0.0, \"#0d0887\"], [0.1111111111111111, \"#46039f\"], [0.2222222222222222, \"#7201a8\"], [0.3333333333333333, \"#9c179e\"], [0.4444444444444444, \"#bd3786\"], [0.5555555555555556, \"#d8576b\"], [0.6666666666666666, \"#ed7953\"], [0.7777777777777778, \"#fb9f3a\"], [0.8888888888888888, \"#fdca26\"], [1.0, \"#f0f921\"]], \"type\": \"histogram2d\"}], \"histogram2dcontour\": [{\"colorbar\": {\"outlinewidth\": 0, \"ticks\": \"\"}, \"colorscale\": [[0.0, \"#0d0887\"], [0.1111111111111111, \"#46039f\"], [0.2222222222222222, \"#7201a8\"], [0.3333333333333333, \"#9c179e\"], [0.4444444444444444, \"#bd3786\"], [0.5555555555555556, \"#d8576b\"], [0.6666666666666666, \"#ed7953\"], [0.7777777777777778, \"#fb9f3a\"], [0.8888888888888888, \"#fdca26\"], [1.0, \"#f0f921\"]], \"type\": \"histogram2dcontour\"}], \"mesh3d\": [{\"colorbar\": {\"outlinewidth\": 0, \"ticks\": \"\"}, \"type\": \"mesh3d\"}], \"parcoords\": [{\"line\": {\"colorbar\": {\"outlinewidth\": 0, \"ticks\": \"\"}}, \"type\": \"parcoords\"}], \"pie\": [{\"automargin\": true, \"type\": \"pie\"}], \"scatter\": [{\"marker\": {\"colorbar\": {\"outlinewidth\": 0, \"ticks\": \"\"}}, \"type\": \"scatter\"}], \"scatter3d\": [{\"line\": {\"colorbar\": {\"outlinewidth\": 0, \"ticks\": \"\"}}, \"marker\": {\"colorbar\": {\"outlinewidth\": 0, \"ticks\": \"\"}}, \"type\": \"scatter3d\"}], \"scattercarpet\": [{\"marker\": {\"colorbar\": {\"outlinewidth\": 0, \"ticks\": \"\"}}, \"type\": \"scattercarpet\"}], \"scattergeo\": [{\"marker\": {\"colorbar\": {\"outlinewidth\": 0, \"ticks\": \"\"}}, \"type\": \"scattergeo\"}], \"scattergl\": [{\"marker\": {\"colorbar\": {\"outlinewidth\": 0, \"ticks\": \"\"}}, \"type\": \"scattergl\"}], \"scattermapbox\": [{\"marker\": {\"colorbar\": {\"outlinewidth\": 0, \"ticks\": \"\"}}, \"type\": \"scattermapbox\"}], \"scatterpolar\": [{\"marker\": {\"colorbar\": {\"outlinewidth\": 0, \"ticks\": \"\"}}, \"type\": \"scatterpolar\"}], \"scatterpolargl\": [{\"marker\": {\"colorbar\": {\"outlinewidth\": 0, \"ticks\": \"\"}}, \"type\": \"scatterpolargl\"}], \"scatterternary\": [{\"marker\": {\"colorbar\": {\"outlinewidth\": 0, \"ticks\": \"\"}}, \"type\": \"scatterternary\"}], \"surface\": [{\"colorbar\": {\"outlinewidth\": 0, \"ticks\": \"\"}, \"colorscale\": [[0.0, \"#0d0887\"], [0.1111111111111111, \"#46039f\"], [0.2222222222222222, \"#7201a8\"], [0.3333333333333333, \"#9c179e\"], [0.4444444444444444, \"#bd3786\"], [0.5555555555555556, \"#d8576b\"], [0.6666666666666666, \"#ed7953\"], [0.7777777777777778, \"#fb9f3a\"], [0.8888888888888888, \"#fdca26\"], [1.0, \"#f0f921\"]], \"type\": \"surface\"}], \"table\": [{\"cells\": {\"fill\": {\"color\": \"#EBF0F8\"}, \"line\": {\"color\": \"white\"}}, \"header\": {\"fill\": {\"color\": \"#C8D4E3\"}, \"line\": {\"color\": \"white\"}}, \"type\": \"table\"}]}, \"layout\": {\"annotationdefaults\": {\"arrowcolor\": \"#2a3f5f\", \"arrowhead\": 0, \"arrowwidth\": 1}, \"coloraxis\": {\"colorbar\": {\"outlinewidth\": 0, \"ticks\": \"\"}}, \"colorscale\": {\"diverging\": [[0, \"#8e0152\"], [0.1, \"#c51b7d\"], [0.2, \"#de77ae\"], [0.3, \"#f1b6da\"], [0.4, \"#fde0ef\"], [0.5, \"#f7f7f7\"], [0.6, \"#e6f5d0\"], [0.7, \"#b8e186\"], [0.8, \"#7fbc41\"], [0.9, \"#4d9221\"], [1, \"#276419\"]], \"sequential\": [[0.0, \"#0d0887\"], [0.1111111111111111, \"#46039f\"], [0.2222222222222222, \"#7201a8\"], [0.3333333333333333, \"#9c179e\"], [0.4444444444444444, \"#bd3786\"], [0.5555555555555556, \"#d8576b\"], [0.6666666666666666, \"#ed7953\"], [0.7777777777777778, \"#fb9f3a\"], [0.8888888888888888, \"#fdca26\"], [1.0, \"#f0f921\"]], \"sequentialminus\": [[0.0, \"#0d0887\"], [0.1111111111111111, \"#46039f\"], [0.2222222222222222, \"#7201a8\"], [0.3333333333333333, \"#9c179e\"], [0.4444444444444444, \"#bd3786\"], [0.5555555555555556, \"#d8576b\"], [0.6666666666666666, \"#ed7953\"], [0.7777777777777778, \"#fb9f3a\"], [0.8888888888888888, \"#fdca26\"], [1.0, \"#f0f921\"]]}, \"colorway\": [\"#636efa\", \"#EF553B\", \"#00cc96\", \"#ab63fa\", \"#FFA15A\", \"#19d3f3\", \"#FF6692\", \"#B6E880\", \"#FF97FF\", \"#FECB52\"], \"font\": {\"color\": \"#2a3f5f\"}, \"geo\": {\"bgcolor\": \"white\", \"lakecolor\": \"white\", \"landcolor\": \"#E5ECF6\", \"showlakes\": true, \"showland\": true, \"subunitcolor\": \"white\"}, \"hoverlabel\": {\"align\": \"left\"}, \"hovermode\": \"closest\", \"mapbox\": {\"style\": \"light\"}, \"paper_bgcolor\": \"white\", \"plot_bgcolor\": \"#E5ECF6\", \"polar\": {\"angularaxis\": {\"gridcolor\": \"white\", \"linecolor\": \"white\", \"ticks\": \"\"}, \"bgcolor\": \"#E5ECF6\", \"radialaxis\": {\"gridcolor\": \"white\", \"linecolor\": \"white\", \"ticks\": \"\"}}, \"scene\": {\"xaxis\": {\"backgroundcolor\": \"#E5ECF6\", \"gridcolor\": \"white\", \"gridwidth\": 2, \"linecolor\": \"white\", \"showbackground\": true, \"ticks\": \"\", \"zerolinecolor\": \"white\"}, \"yaxis\": {\"backgroundcolor\": \"#E5ECF6\", \"gridcolor\": \"white\", \"gridwidth\": 2, \"linecolor\": \"white\", \"showbackground\": true, \"ticks\": \"\", \"zerolinecolor\": \"white\"}, \"zaxis\": {\"backgroundcolor\": \"#E5ECF6\", \"gridcolor\": \"white\", \"gridwidth\": 2, \"linecolor\": \"white\", \"showbackground\": true, \"ticks\": \"\", \"zerolinecolor\": \"white\"}}, \"shapedefaults\": {\"line\": {\"color\": \"#2a3f5f\"}}, \"ternary\": {\"aaxis\": {\"gridcolor\": \"white\", \"linecolor\": \"white\", \"ticks\": \"\"}, \"baxis\": {\"gridcolor\": \"white\", \"linecolor\": \"white\", \"ticks\": \"\"}, \"bgcolor\": \"#E5ECF6\", \"caxis\": {\"gridcolor\": \"white\", \"linecolor\": \"white\", \"ticks\": \"\"}}, \"title\": {\"x\": 0.05}, \"xaxis\": {\"automargin\": true, \"gridcolor\": \"white\", \"linecolor\": \"white\", \"ticks\": \"\", \"title\": {\"standoff\": 15}, \"zerolinecolor\": \"white\", \"zerolinewidth\": 2}, \"yaxis\": {\"automargin\": true, \"gridcolor\": \"white\", \"linecolor\": \"white\", \"ticks\": \"\", \"title\": {\"standoff\": 15}, \"zerolinecolor\": \"white\", \"zerolinewidth\": 2}}}, \"title\": {\"text\": \"Most Preferred Cusines in Bangalore\"}, \"xaxis\": {\"anchor\": \"y\", \"categoryarray\": [\"Continental, North Indian, Italian, South Indian, Finger Food, Pizza\", \"Italian, American, Modern Indian\", \"Cafe, American, Burger, Steak\", \"European, Mediterranean, North Indian, BBQ\", \"North Indian, European, Mediterranean\", \"Continental, Asian, Italian, North Indian\", \"American, Continental, North Indian, Mediterranean\", \"Italian, Pizza, Desserts, Beverages\", \"North Indian, European, Mediterranean, BBQ\", \"North Indian, Mughlai, South Indian, Chinese\"], \"categoryorder\": \"array\", \"domain\": [0.0, 1.0], \"tickangle\": -45, \"title\": {\"text\": \"Cusine\"}}, \"yaxis\": {\"anchor\": \"x\", \"domain\": [0.0, 1.0], \"title\": {\"text\": \"Rating Count\"}}},\n",
              "                        {\"responsive\": true}\n",
              "                    ).then(function(){\n",
              "                            \n",
              "var gd = document.getElementById('4458d735-1c30-4c72-b83b-e503766354c2');\n",
              "var x = new MutationObserver(function (mutations, observer) {{\n",
              "        var display = window.getComputedStyle(gd).display;\n",
              "        if (!display || display === 'none') {{\n",
              "            console.log([gd, 'removed!']);\n",
              "            Plotly.purge(gd);\n",
              "            observer.disconnect();\n",
              "        }}\n",
              "}});\n",
              "\n",
              "// Listen for the removal of the full notebook cells\n",
              "var notebookContainer = gd.closest('#notebook-container');\n",
              "if (notebookContainer) {{\n",
              "    x.observe(notebookContainer, {childList: true});\n",
              "}}\n",
              "\n",
              "// Listen for the clearing of the current output cell\n",
              "var outputEl = gd.closest('.output');\n",
              "if (outputEl) {{\n",
              "    x.observe(outputEl, {childList: true});\n",
              "}}\n",
              "\n",
              "                        })\n",
              "                };\n",
              "                \n",
              "            </script>\n",
              "        </div>\n",
              "</body>\n",
              "</html>"
            ]
          },
          "metadata": {
            "tags": []
          }
        }
      ]
    },
    {
      "cell_type": "markdown",
      "metadata": {
        "id": "3hTn_hYZMoIY"
      },
      "source": [
        "Banglore, otherwise known as Bengaluru has a mixture of dishes that the parochial people love and have them serve on their table. From its own country made dishes to the exotic European and American dishes, the people there loves to try new dishes."
      ]
    },
    {
      "cell_type": "code",
      "metadata": {
        "colab": {
          "base_uri": "https://localhost:8080/"
        },
        "id": "VKVO091qDunO",
        "outputId": "28236074-0b18-4f0a-9819-a1300e882c18"
      },
      "source": [
        "q4_delhi = df.select('name', 'rating', 'rating_count', 'city', 'area', 'cusine', 'latitude', 'longitude').filter(df.city == 'Delhi NCR').orderBy(desc('rating_count')).limit(10)\n",
        "q4_delhi.show()"
      ],
      "execution_count": 85,
      "outputs": [
        {
          "output_type": "stream",
          "text": [
            "+--------------------+------+------------+---------+---------------+--------------------+-------------+-------------+\n",
            "|                name|rating|rating_count|     city|           area|              cusine|     latitude|    longitude|\n",
            "+--------------------+------+------------+---------+---------------+--------------------+-------------+-------------+\n",
            "|      Warehouse Cafe|   4.1|       10035|Delhi NCR|Connaught Place|American, Contine...|28.6337385011|77.2209410369|\n",
            "|  Lord Of The Drinks|   4.4|        9582|Delhi NCR|Connaught Place|European, Chinese...|28.6317444939|77.2166890651|\n",
            "|             Tamasha|   4.5|        8866|Delhi NCR|Connaught Place|Finger Food, Nort...|28.6296624581|77.2218600288|\n",
            "|     Saravana Bhavan|   4.4|        7906|Delhi NCR|Connaught Place|South Indian, Des...|28.6321402968|77.2164647654|\n",
            "|The Flying Saucer...|   4.3|        7903|Delhi NCR|    Nehru Place|Continental, Bar ...|28.5520208928|77.2508771718|\n",
            "|               Local|   4.4|        6966|Delhi NCR|Connaught Place|North Indian, Con...|28.6299140703|77.2211713716|\n",
            "|             Karim's|   4.1|        6761|Delhi NCR|    Jama Masjid|Mughlai, North In...|28.6495223675|77.2336607426|\n",
            "|        Odeon Social|   4.5|        6630|Delhi NCR|Connaught Place|Continental, Amer...|28.6343906062|77.2208622471|\n",
            "| Chili's Grill & Bar|   4.9|        6426|Delhi NCR|    Vasant Kunj|Italian, Finger Food|28.5409538463|77.1548024565|\n",
            "|       The Big Chill|   4.5|        6378|Delhi NCR|    Khan Market|                Cafe| 28.600578502|77.2273240238|\n",
            "+--------------------+------+------------+---------+---------------+--------------------+-------------+-------------+\n",
            "\n"
          ],
          "name": "stdout"
        }
      ]
    },
    {
      "cell_type": "code",
      "metadata": {
        "colab": {
          "base_uri": "https://localhost:8080/",
          "height": 808
        },
        "id": "3VIKpSk8A0uo",
        "outputId": "86e04f42-aa86-47b8-81bd-9a9bc5f216be"
      },
      "source": [
        "top_10_cusine_delhi = folium.Map(location= [28.7041, 77.1025], zoom_start= 12)\n",
        "top_10_cusine_del = folium.map.FeatureGroup()\n",
        "\n",
        "for name, lat, lng, in zip(q4_delhi.toPandas()['name'].values.tolist(), q4_delhi.toPandas()['latitude'].values.tolist(), q4_delhi.toPandas()['longitude'].values.tolist()):\n",
        "  top_10_cusine_del.add_child(\n",
        "      folium.Marker(\n",
        "          [lat, lng],\n",
        "          popup= name,\n",
        "      )\n",
        "  )\n",
        "\n",
        "top_10_cusine_delhi.add_child(top_10_cusine_del)"
      ],
      "execution_count": 86,
      "outputs": [
        {
          "output_type": "execute_result",
          "data": {
            "text/html": [
              "<div style=\"width:100%;\"><div style=\"position:relative;width:100%;height:0;padding-bottom:60%;\"><span style=\"color:#565656\">Make this Notebook Trusted to load map: File -> Trust Notebook</span><iframe src=\"about:blank\" style=\"position:absolute;width:100%;height:100%;left:0;top:0;border:none !important;\" data-html=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 onload=\"this.contentDocument.open();this.contentDocument.write(atob(this.getAttribute('data-html')));this.contentDocument.close();\" allowfullscreen webkitallowfullscreen mozallowfullscreen></iframe></div></div>"
            ],
            "text/plain": [
              "<folium.folium.Map at 0x7faf4a7cef28>"
            ]
          },
          "metadata": {
            "tags": []
          },
          "execution_count": 86
        }
      ]
    },
    {
      "cell_type": "code",
      "metadata": {
        "colab": {
          "base_uri": "https://localhost:8080/",
          "height": 542
        },
        "id": "CtAXAlPmA0sI",
        "outputId": "4f67af62-af0c-4901-ce40-67912f1caade"
      },
      "source": [
        "q4_delhi_py = q4_delhi.toPandas()\n",
        "fig = px.bar(q4_delhi_py, x= 'cusine', y= 'rating_count', text= 'rating_count', color= 'cusine')\n",
        "fig.update_traces(texttemplate= '%{text:.2s}', textposition= 'outside')\n",
        "fig.update_layout(xaxis_tickangle= -45)\n",
        "fig.update_layout(title= 'Most Preferred Cusines in Delhi', xaxis_title= 'Cusine', yaxis_title= 'Rating Count')\n",
        "\n",
        "fig"
      ],
      "execution_count": 87,
      "outputs": [
        {
          "output_type": "display_data",
          "data": {
            "text/html": [
              "<html>\n",
              "<head><meta charset=\"utf-8\" /></head>\n",
              "<body>\n",
              "    <div>\n",
              "            <script src=\"https://cdnjs.cloudflare.com/ajax/libs/mathjax/2.7.5/MathJax.js?config=TeX-AMS-MML_SVG\"></script><script type=\"text/javascript\">if (window.MathJax) {MathJax.Hub.Config({SVG: {font: \"STIX-Web\"}});}</script>\n",
              "                <script type=\"text/javascript\">window.PlotlyConfig = {MathJaxConfig: 'local'};</script>\n",
              "        <script src=\"https://cdn.plot.ly/plotly-latest.min.js\"></script>    \n",
              "            <div id=\"71d7b3bd-9655-461e-9761-952522fed884\" class=\"plotly-graph-div\" style=\"height:525px; width:100%;\"></div>\n",
              "            <script type=\"text/javascript\">\n",
              "                \n",
              "                    window.PLOTLYENV=window.PLOTLYENV || {};\n",
              "                    \n",
              "                if (document.getElementById(\"71d7b3bd-9655-461e-9761-952522fed884\")) {\n",
              "                    Plotly.newPlot(\n",
              "                        '71d7b3bd-9655-461e-9761-952522fed884',\n",
              "                        [{\"alignmentgroup\": \"True\", \"hoverlabel\": {\"namelength\": 0}, \"hovertemplate\": \"cusine=%{x}<br>rating_count=%{text}\", \"legendgroup\": \"cusine=American, Continental, Italian, North Indian, Asian, Salad, Juices, Momos\", \"marker\": {\"color\": \"#636efa\"}, \"name\": \"cusine=American, Continental, Italian, North Indian, Asian, Salad, Juices, Momos\", \"offsetgroup\": \"cusine=American, Continental, Italian, North Indian, Asian, Salad, Juices, Momos\", \"orientation\": \"v\", \"showlegend\": true, \"text\": [10035.0], \"textposition\": \"outside\", \"texttemplate\": \"%{text:.2s}\", \"type\": \"bar\", \"x\": [\"American, Continental, Italian, North Indian, Asian, Salad, Juices, Momos\"], \"xaxis\": \"x\", \"y\": [10035], \"yaxis\": \"y\"}, {\"alignmentgroup\": \"True\", \"hoverlabel\": {\"namelength\": 0}, \"hovertemplate\": \"cusine=%{x}<br>rating_count=%{text}\", \"legendgroup\": \"cusine=European, Chinese, North Indian, Italian, Asian\", \"marker\": {\"color\": \"#EF553B\"}, \"name\": \"cusine=European, Chinese, North Indian, Italian, Asian\", \"offsetgroup\": \"cusine=European, Chinese, North Indian, Italian, Asian\", \"orientation\": \"v\", \"showlegend\": true, \"text\": [9582.0], \"textposition\": \"outside\", \"texttemplate\": \"%{text:.2s}\", \"type\": \"bar\", \"x\": [\"European, Chinese, North Indian, Italian, Asian\"], \"xaxis\": \"x\", \"y\": [9582], \"yaxis\": \"y\"}, {\"alignmentgroup\": \"True\", \"hoverlabel\": {\"namelength\": 0}, \"hovertemplate\": \"cusine=%{x}<br>rating_count=%{text}\", \"legendgroup\": \"cusine=Finger Food, North Indian, Continental, Italian\", \"marker\": {\"color\": \"#00cc96\"}, \"name\": \"cusine=Finger Food, North Indian, Continental, Italian\", \"offsetgroup\": \"cusine=Finger Food, North Indian, Continental, Italian\", \"orientation\": \"v\", \"showlegend\": true, \"text\": [8866.0], \"textposition\": \"outside\", \"texttemplate\": \"%{text:.2s}\", \"type\": \"bar\", \"x\": [\"Finger Food, North Indian, Continental, Italian\"], \"xaxis\": \"x\", \"y\": [8866], \"yaxis\": \"y\"}, {\"alignmentgroup\": \"True\", \"hoverlabel\": {\"namelength\": 0}, \"hovertemplate\": \"cusine=%{x}<br>rating_count=%{text}\", \"legendgroup\": \"cusine=South Indian, Desserts, Beverages\", \"marker\": {\"color\": \"#ab63fa\"}, \"name\": \"cusine=South Indian, Desserts, Beverages\", \"offsetgroup\": \"cusine=South Indian, Desserts, Beverages\", \"orientation\": \"v\", \"showlegend\": true, \"text\": [7906.0], \"textposition\": \"outside\", \"texttemplate\": \"%{text:.2s}\", \"type\": \"bar\", \"x\": [\"South Indian, Desserts, Beverages\"], \"xaxis\": \"x\", \"y\": [7906], \"yaxis\": \"y\"}, {\"alignmentgroup\": \"True\", \"hoverlabel\": {\"namelength\": 0}, \"hovertemplate\": \"cusine=%{x}<br>rating_count=%{text}\", \"legendgroup\": \"cusine=Continental, Bar Food\", \"marker\": {\"color\": \"#FFA15A\"}, \"name\": \"cusine=Continental, Bar Food\", \"offsetgroup\": \"cusine=Continental, Bar Food\", \"orientation\": \"v\", \"showlegend\": true, \"text\": [7903.0], \"textposition\": \"outside\", \"texttemplate\": \"%{text:.2s}\", \"type\": \"bar\", \"x\": [\"Continental, Bar Food\"], \"xaxis\": \"x\", \"y\": [7903], \"yaxis\": \"y\"}, {\"alignmentgroup\": \"True\", \"hoverlabel\": {\"namelength\": 0}, \"hovertemplate\": \"cusine=%{x}<br>rating_count=%{text}\", \"legendgroup\": \"cusine=North Indian, Continental, Momos\", \"marker\": {\"color\": \"#19d3f3\"}, \"name\": \"cusine=North Indian, Continental, Momos\", \"offsetgroup\": \"cusine=North Indian, Continental, Momos\", \"orientation\": \"v\", \"showlegend\": true, \"text\": [6966.0], \"textposition\": \"outside\", \"texttemplate\": \"%{text:.2s}\", \"type\": \"bar\", \"x\": [\"North Indian, Continental, Momos\"], \"xaxis\": \"x\", \"y\": [6966], \"yaxis\": \"y\"}, {\"alignmentgroup\": \"True\", \"hoverlabel\": {\"namelength\": 0}, \"hovertemplate\": \"cusine=%{x}<br>rating_count=%{text}\", \"legendgroup\": \"cusine=Mughlai, North Indian, Kebab, Rolls\", \"marker\": {\"color\": \"#FF6692\"}, \"name\": \"cusine=Mughlai, North Indian, Kebab, Rolls\", \"offsetgroup\": \"cusine=Mughlai, North Indian, Kebab, Rolls\", \"orientation\": \"v\", \"showlegend\": true, \"text\": [6761.0], \"textposition\": \"outside\", \"texttemplate\": \"%{text:.2s}\", \"type\": \"bar\", \"x\": [\"Mughlai, North Indian, Kebab, Rolls\"], \"xaxis\": \"x\", \"y\": [6761], \"yaxis\": \"y\"}, {\"alignmentgroup\": \"True\", \"hoverlabel\": {\"namelength\": 0}, \"hovertemplate\": \"cusine=%{x}<br>rating_count=%{text}\", \"legendgroup\": \"cusine=Continental, American, Asian, North Indian, Momos, Beverages\", \"marker\": {\"color\": \"#B6E880\"}, \"name\": \"cusine=Continental, American, Asian, North Indian, Momos, Beverages\", \"offsetgroup\": \"cusine=Continental, American, Asian, North Indian, Momos, Beverages\", \"orientation\": \"v\", \"showlegend\": true, \"text\": [6630.0], \"textposition\": \"outside\", \"texttemplate\": \"%{text:.2s}\", \"type\": \"bar\", \"x\": [\"Continental, American, Asian, North Indian, Momos, Beverages\"], \"xaxis\": \"x\", \"y\": [6630], \"yaxis\": \"y\"}, {\"alignmentgroup\": \"True\", \"hoverlabel\": {\"namelength\": 0}, \"hovertemplate\": \"cusine=%{x}<br>rating_count=%{text}\", \"legendgroup\": \"cusine=Italian, Finger Food\", \"marker\": {\"color\": \"#FF97FF\"}, \"name\": \"cusine=Italian, Finger Food\", \"offsetgroup\": \"cusine=Italian, Finger Food\", \"orientation\": \"v\", \"showlegend\": true, \"text\": [6426.0], \"textposition\": \"outside\", \"texttemplate\": \"%{text:.2s}\", \"type\": \"bar\", \"x\": [\"Italian, Finger Food\"], \"xaxis\": \"x\", \"y\": [6426], \"yaxis\": \"y\"}, {\"alignmentgroup\": \"True\", \"hoverlabel\": {\"namelength\": 0}, \"hovertemplate\": \"cusine=%{x}<br>rating_count=%{text}\", \"legendgroup\": \"cusine=Cafe\", \"marker\": {\"color\": \"#FECB52\"}, \"name\": \"cusine=Cafe\", \"offsetgroup\": \"cusine=Cafe\", \"orientation\": \"v\", \"showlegend\": true, \"text\": [6378.0], \"textposition\": \"outside\", \"texttemplate\": \"%{text:.2s}\", \"type\": \"bar\", \"x\": [\"Cafe\"], \"xaxis\": \"x\", \"y\": [6378], \"yaxis\": \"y\"}],\n",
              "                        {\"barmode\": \"relative\", \"legend\": {\"tracegroupgap\": 0}, \"margin\": {\"t\": 60}, \"template\": {\"data\": {\"bar\": [{\"error_x\": {\"color\": \"#2a3f5f\"}, \"error_y\": {\"color\": \"#2a3f5f\"}, \"marker\": {\"line\": {\"color\": \"#E5ECF6\", \"width\": 0.5}}, \"type\": \"bar\"}], \"barpolar\": [{\"marker\": {\"line\": {\"color\": \"#E5ECF6\", \"width\": 0.5}}, \"type\": \"barpolar\"}], \"carpet\": [{\"aaxis\": {\"endlinecolor\": \"#2a3f5f\", \"gridcolor\": \"white\", \"linecolor\": \"white\", \"minorgridcolor\": \"white\", \"startlinecolor\": \"#2a3f5f\"}, \"baxis\": {\"endlinecolor\": \"#2a3f5f\", \"gridcolor\": \"white\", \"linecolor\": \"white\", \"minorgridcolor\": \"white\", \"startlinecolor\": \"#2a3f5f\"}, \"type\": \"carpet\"}], \"choropleth\": [{\"colorbar\": {\"outlinewidth\": 0, \"ticks\": \"\"}, \"type\": \"choropleth\"}], \"contour\": [{\"colorbar\": {\"outlinewidth\": 0, \"ticks\": \"\"}, \"colorscale\": [[0.0, \"#0d0887\"], [0.1111111111111111, \"#46039f\"], [0.2222222222222222, \"#7201a8\"], [0.3333333333333333, \"#9c179e\"], [0.4444444444444444, \"#bd3786\"], [0.5555555555555556, \"#d8576b\"], [0.6666666666666666, \"#ed7953\"], [0.7777777777777778, \"#fb9f3a\"], [0.8888888888888888, \"#fdca26\"], [1.0, \"#f0f921\"]], \"type\": \"contour\"}], \"contourcarpet\": [{\"colorbar\": {\"outlinewidth\": 0, \"ticks\": \"\"}, \"type\": \"contourcarpet\"}], \"heatmap\": [{\"colorbar\": {\"outlinewidth\": 0, \"ticks\": \"\"}, \"colorscale\": [[0.0, \"#0d0887\"], [0.1111111111111111, \"#46039f\"], [0.2222222222222222, \"#7201a8\"], [0.3333333333333333, \"#9c179e\"], [0.4444444444444444, \"#bd3786\"], [0.5555555555555556, \"#d8576b\"], [0.6666666666666666, \"#ed7953\"], [0.7777777777777778, \"#fb9f3a\"], [0.8888888888888888, \"#fdca26\"], [1.0, \"#f0f921\"]], \"type\": \"heatmap\"}], \"heatmapgl\": [{\"colorbar\": {\"outlinewidth\": 0, \"ticks\": \"\"}, \"colorscale\": [[0.0, \"#0d0887\"], [0.1111111111111111, \"#46039f\"], [0.2222222222222222, \"#7201a8\"], [0.3333333333333333, \"#9c179e\"], [0.4444444444444444, \"#bd3786\"], [0.5555555555555556, \"#d8576b\"], [0.6666666666666666, \"#ed7953\"], [0.7777777777777778, \"#fb9f3a\"], [0.8888888888888888, \"#fdca26\"], [1.0, \"#f0f921\"]], \"type\": \"heatmapgl\"}], \"histogram\": [{\"marker\": {\"colorbar\": {\"outlinewidth\": 0, \"ticks\": \"\"}}, \"type\": \"histogram\"}], \"histogram2d\": [{\"colorbar\": {\"outlinewidth\": 0, \"ticks\": \"\"}, \"colorscale\": [[0.0, \"#0d0887\"], [0.1111111111111111, \"#46039f\"], [0.2222222222222222, \"#7201a8\"], [0.3333333333333333, \"#9c179e\"], [0.4444444444444444, \"#bd3786\"], [0.5555555555555556, \"#d8576b\"], [0.6666666666666666, \"#ed7953\"], [0.7777777777777778, \"#fb9f3a\"], [0.8888888888888888, \"#fdca26\"], [1.0, \"#f0f921\"]], \"type\": \"histogram2d\"}], \"histogram2dcontour\": [{\"colorbar\": {\"outlinewidth\": 0, \"ticks\": \"\"}, \"colorscale\": [[0.0, \"#0d0887\"], [0.1111111111111111, \"#46039f\"], [0.2222222222222222, \"#7201a8\"], [0.3333333333333333, \"#9c179e\"], [0.4444444444444444, \"#bd3786\"], [0.5555555555555556, \"#d8576b\"], [0.6666666666666666, \"#ed7953\"], [0.7777777777777778, \"#fb9f3a\"], [0.8888888888888888, \"#fdca26\"], [1.0, \"#f0f921\"]], \"type\": \"histogram2dcontour\"}], \"mesh3d\": [{\"colorbar\": {\"outlinewidth\": 0, \"ticks\": \"\"}, \"type\": \"mesh3d\"}], \"parcoords\": [{\"line\": {\"colorbar\": {\"outlinewidth\": 0, \"ticks\": \"\"}}, \"type\": \"parcoords\"}], \"pie\": [{\"automargin\": true, \"type\": \"pie\"}], \"scatter\": [{\"marker\": {\"colorbar\": {\"outlinewidth\": 0, \"ticks\": \"\"}}, \"type\": \"scatter\"}], \"scatter3d\": [{\"line\": {\"colorbar\": {\"outlinewidth\": 0, \"ticks\": \"\"}}, \"marker\": {\"colorbar\": {\"outlinewidth\": 0, \"ticks\": \"\"}}, \"type\": \"scatter3d\"}], \"scattercarpet\": [{\"marker\": {\"colorbar\": {\"outlinewidth\": 0, \"ticks\": \"\"}}, \"type\": \"scattercarpet\"}], \"scattergeo\": [{\"marker\": {\"colorbar\": {\"outlinewidth\": 0, \"ticks\": \"\"}}, \"type\": \"scattergeo\"}], \"scattergl\": [{\"marker\": {\"colorbar\": {\"outlinewidth\": 0, \"ticks\": \"\"}}, \"type\": \"scattergl\"}], \"scattermapbox\": [{\"marker\": {\"colorbar\": {\"outlinewidth\": 0, \"ticks\": \"\"}}, \"type\": \"scattermapbox\"}], \"scatterpolar\": [{\"marker\": {\"colorbar\": {\"outlinewidth\": 0, \"ticks\": \"\"}}, \"type\": \"scatterpolar\"}], \"scatterpolargl\": [{\"marker\": {\"colorbar\": {\"outlinewidth\": 0, \"ticks\": \"\"}}, \"type\": \"scatterpolargl\"}], \"scatterternary\": [{\"marker\": {\"colorbar\": {\"outlinewidth\": 0, \"ticks\": \"\"}}, \"type\": \"scatterternary\"}], \"surface\": [{\"colorbar\": {\"outlinewidth\": 0, \"ticks\": \"\"}, \"colorscale\": [[0.0, \"#0d0887\"], [0.1111111111111111, \"#46039f\"], [0.2222222222222222, \"#7201a8\"], [0.3333333333333333, \"#9c179e\"], [0.4444444444444444, \"#bd3786\"], [0.5555555555555556, \"#d8576b\"], [0.6666666666666666, \"#ed7953\"], [0.7777777777777778, \"#fb9f3a\"], [0.8888888888888888, \"#fdca26\"], [1.0, \"#f0f921\"]], \"type\": \"surface\"}], \"table\": [{\"cells\": {\"fill\": {\"color\": \"#EBF0F8\"}, \"line\": {\"color\": \"white\"}}, \"header\": {\"fill\": {\"color\": \"#C8D4E3\"}, \"line\": {\"color\": \"white\"}}, \"type\": \"table\"}]}, \"layout\": {\"annotationdefaults\": {\"arrowcolor\": \"#2a3f5f\", \"arrowhead\": 0, \"arrowwidth\": 1}, \"coloraxis\": {\"colorbar\": {\"outlinewidth\": 0, \"ticks\": \"\"}}, \"colorscale\": {\"diverging\": [[0, \"#8e0152\"], [0.1, \"#c51b7d\"], [0.2, \"#de77ae\"], [0.3, \"#f1b6da\"], [0.4, \"#fde0ef\"], [0.5, \"#f7f7f7\"], [0.6, \"#e6f5d0\"], [0.7, \"#b8e186\"], [0.8, \"#7fbc41\"], [0.9, \"#4d9221\"], [1, \"#276419\"]], \"sequential\": [[0.0, \"#0d0887\"], [0.1111111111111111, \"#46039f\"], [0.2222222222222222, \"#7201a8\"], [0.3333333333333333, \"#9c179e\"], [0.4444444444444444, \"#bd3786\"], [0.5555555555555556, \"#d8576b\"], [0.6666666666666666, \"#ed7953\"], [0.7777777777777778, \"#fb9f3a\"], [0.8888888888888888, \"#fdca26\"], [1.0, \"#f0f921\"]], \"sequentialminus\": [[0.0, \"#0d0887\"], [0.1111111111111111, \"#46039f\"], [0.2222222222222222, \"#7201a8\"], [0.3333333333333333, \"#9c179e\"], [0.4444444444444444, \"#bd3786\"], [0.5555555555555556, \"#d8576b\"], [0.6666666666666666, \"#ed7953\"], [0.7777777777777778, \"#fb9f3a\"], [0.8888888888888888, \"#fdca26\"], [1.0, \"#f0f921\"]]}, \"colorway\": [\"#636efa\", \"#EF553B\", \"#00cc96\", \"#ab63fa\", \"#FFA15A\", \"#19d3f3\", \"#FF6692\", \"#B6E880\", \"#FF97FF\", \"#FECB52\"], \"font\": {\"color\": \"#2a3f5f\"}, \"geo\": {\"bgcolor\": \"white\", \"lakecolor\": \"white\", \"landcolor\": \"#E5ECF6\", \"showlakes\": true, \"showland\": true, \"subunitcolor\": \"white\"}, \"hoverlabel\": {\"align\": \"left\"}, \"hovermode\": \"closest\", \"mapbox\": {\"style\": \"light\"}, \"paper_bgcolor\": \"white\", \"plot_bgcolor\": \"#E5ECF6\", \"polar\": {\"angularaxis\": {\"gridcolor\": \"white\", \"linecolor\": \"white\", \"ticks\": \"\"}, \"bgcolor\": \"#E5ECF6\", \"radialaxis\": {\"gridcolor\": \"white\", \"linecolor\": \"white\", \"ticks\": \"\"}}, \"scene\": {\"xaxis\": {\"backgroundcolor\": \"#E5ECF6\", \"gridcolor\": \"white\", \"gridwidth\": 2, \"linecolor\": \"white\", \"showbackground\": true, \"ticks\": \"\", \"zerolinecolor\": \"white\"}, \"yaxis\": {\"backgroundcolor\": \"#E5ECF6\", \"gridcolor\": \"white\", \"gridwidth\": 2, \"linecolor\": \"white\", \"showbackground\": true, \"ticks\": \"\", \"zerolinecolor\": \"white\"}, \"zaxis\": {\"backgroundcolor\": \"#E5ECF6\", \"gridcolor\": \"white\", \"gridwidth\": 2, \"linecolor\": \"white\", \"showbackground\": true, \"ticks\": \"\", \"zerolinecolor\": \"white\"}}, \"shapedefaults\": {\"line\": {\"color\": \"#2a3f5f\"}}, \"ternary\": {\"aaxis\": {\"gridcolor\": \"white\", \"linecolor\": \"white\", \"ticks\": \"\"}, \"baxis\": {\"gridcolor\": \"white\", \"linecolor\": \"white\", \"ticks\": \"\"}, \"bgcolor\": \"#E5ECF6\", \"caxis\": {\"gridcolor\": \"white\", \"linecolor\": \"white\", \"ticks\": \"\"}}, \"title\": {\"x\": 0.05}, \"xaxis\": {\"automargin\": true, \"gridcolor\": \"white\", \"linecolor\": \"white\", \"ticks\": \"\", \"title\": {\"standoff\": 15}, \"zerolinecolor\": \"white\", \"zerolinewidth\": 2}, \"yaxis\": {\"automargin\": true, \"gridcolor\": \"white\", \"linecolor\": \"white\", \"ticks\": \"\", \"title\": {\"standoff\": 15}, \"zerolinecolor\": \"white\", \"zerolinewidth\": 2}}}, \"title\": {\"text\": \"Most Preferred Cusines in Delhi\"}, \"xaxis\": {\"anchor\": \"y\", \"categoryarray\": [\"American, Continental, Italian, North Indian, Asian, Salad, Juices, Momos\", \"European, Chinese, North Indian, Italian, Asian\", \"Finger Food, North Indian, Continental, Italian\", \"South Indian, Desserts, Beverages\", \"Continental, Bar Food\", \"North Indian, Continental, Momos\", \"Mughlai, North Indian, Kebab, Rolls\", \"Continental, American, Asian, North Indian, Momos, Beverages\", \"Italian, Finger Food\", \"Cafe\"], \"categoryorder\": \"array\", \"domain\": [0.0, 1.0], \"tickangle\": -45, \"title\": {\"text\": \"Cusine\"}}, \"yaxis\": {\"anchor\": \"x\", \"domain\": [0.0, 1.0], \"title\": {\"text\": \"Rating Count\"}}},\n",
              "                        {\"responsive\": true}\n",
              "                    ).then(function(){\n",
              "                            \n",
              "var gd = document.getElementById('71d7b3bd-9655-461e-9761-952522fed884');\n",
              "var x = new MutationObserver(function (mutations, observer) {{\n",
              "        var display = window.getComputedStyle(gd).display;\n",
              "        if (!display || display === 'none') {{\n",
              "            console.log([gd, 'removed!']);\n",
              "            Plotly.purge(gd);\n",
              "            observer.disconnect();\n",
              "        }}\n",
              "}});\n",
              "\n",
              "// Listen for the removal of the full notebook cells\n",
              "var notebookContainer = gd.closest('#notebook-container');\n",
              "if (notebookContainer) {{\n",
              "    x.observe(notebookContainer, {childList: true});\n",
              "}}\n",
              "\n",
              "// Listen for the clearing of the current output cell\n",
              "var outputEl = gd.closest('.output');\n",
              "if (outputEl) {{\n",
              "    x.observe(outputEl, {childList: true});\n",
              "}}\n",
              "\n",
              "                        })\n",
              "                };\n",
              "                \n",
              "            </script>\n",
              "        </div>\n",
              "</body>\n",
              "</html>"
            ]
          },
          "metadata": {
            "tags": []
          }
        }
      ]
    },
    {
      "cell_type": "markdown",
      "metadata": {
        "id": "RqAzncayNMgD"
      },
      "source": [
        "Delhi also shows wide diversity in the tastes of the local people. They have South Indian and North Indian dishes to European as well as some American ones to. "
      ]
    },
    {
      "cell_type": "code",
      "metadata": {
        "colab": {
          "base_uri": "https://localhost:8080/"
        },
        "id": "-eab78PLEAOJ",
        "outputId": "927e277d-7bd4-4d46-a42a-6f23d22ceb57"
      },
      "source": [
        "q4_kolkata = df.select('name', 'rating', 'rating_count', 'city', 'area', 'cusine', 'latitude', 'longitude').filter(df.city == 'Kolkata').orderBy(desc('rating_count')).limit(10)\n",
        "q4_kolkata.show()"
      ],
      "execution_count": 88,
      "outputs": [
        {
          "output_type": "stream",
          "text": [
            "+-------------------+------+------------+-------+-------------------+--------------------+-------------+-------------+\n",
            "|               name|rating|rating_count|   city|               area|              cusine|     latitude|    longitude|\n",
            "+-------------------+------+------------+-------+-------------------+--------------------+-------------+-------------+\n",
            "|          Peter Cat|   4.2|       11917|Kolkata|   Park Street Area|Continental, Nort...| 22.552630386|88.3527230099|\n",
            "|    Barbeque Nation|   4.7|        8551|Kolkata|Sector 5, Salt Lake|North Indian, Chi...|22.5691537814|88.4333170205|\n",
            "|              BarBQ|   4.4|        8052|Kolkata|   Park Street Area|Chinese, North In...|22.5527511443|88.3525563776|\n",
            "|Chili's Grill & Bar|   4.7|        7615|Kolkata|         Ballygunge|American, Mexican...| 22.538751149| 88.365656957|\n",
            "|            Mocambo|   4.2|        6466|Kolkata|   Park Street Area|         Continental|22.5529654125|88.3531799912|\n",
            "|            Arsalan|   4.1|        5963|Kolkata|   Park Circus Area|Mughlai, North In...|22.5420292545|88.3632446453|\n",
            "|          Oudh 1590|   4.5|        5953|Kolkata|     Desapriya Park|Biryani, Mughlai,...|22.5186429482| 88.350042142|\n",
            "|        Spice Kraft|   4.8|        5243|Kolkata|         Ballygunge|Continental, Asia...|22.5262923376|88.3645140007|\n",
            "|    Barbeque Nation|   4.6|        5134|Kolkata|   Park Street Area|North Indian, Chi...|22.5510329607|88.3540071175|\n",
            "|             Hatari|   4.4|        4699|Kolkata|           Gariahat|Chinese, North In...|22.5185364069|88.3577273414|\n",
            "+-------------------+------+------------+-------+-------------------+--------------------+-------------+-------------+\n",
            "\n"
          ],
          "name": "stdout"
        }
      ]
    },
    {
      "cell_type": "code",
      "metadata": {
        "colab": {
          "base_uri": "https://localhost:8080/",
          "height": 808
        },
        "id": "AXplOechBfE-",
        "outputId": "1e484250-afdb-4287-c807-1687c994554e"
      },
      "source": [
        "top_10_cusine_kolkata = folium.Map(location= [22.5726, 88.3639], zoom_start= 12)\n",
        "top_10_cusine_kol = folium.map.FeatureGroup()\n",
        "\n",
        "for name, lat, lng, in zip(q4_kolkata.toPandas()['name'].values.tolist(), q4_kolkata.toPandas()['latitude'].values.tolist(), q4_kolkata.toPandas()['longitude'].values.tolist()):\n",
        "  top_10_cusine_kol.add_child(\n",
        "      folium.Marker(\n",
        "          [lat, lng],\n",
        "          popup= name,\n",
        "      )\n",
        "  )\n",
        "\n",
        "top_10_cusine_kolkata.add_child(top_10_cusine_kol)"
      ],
      "execution_count": 89,
      "outputs": [
        {
          "output_type": "execute_result",
          "data": {
            "text/html": [
              "<div style=\"width:100%;\"><div style=\"position:relative;width:100%;height:0;padding-bottom:60%;\"><span style=\"color:#565656\">Make this Notebook Trusted to load map: File -> Trust Notebook</span><iframe src=\"about:blank\" style=\"position:absolute;width:100%;height:100%;left:0;top:0;border:none !important;\" data-html=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 onload=\"this.contentDocument.open();this.contentDocument.write(atob(this.getAttribute('data-html')));this.contentDocument.close();\" allowfullscreen webkitallowfullscreen mozallowfullscreen></iframe></div></div>"
            ],
            "text/plain": [
              "<folium.folium.Map at 0x7faf49167a58>"
            ]
          },
          "metadata": {
            "tags": []
          },
          "execution_count": 89
        }
      ]
    },
    {
      "cell_type": "code",
      "metadata": {
        "colab": {
          "base_uri": "https://localhost:8080/",
          "height": 542
        },
        "id": "lZYiepDoBfH0",
        "outputId": "e7579913-ec71-42dd-9034-2b07fbb6ef74"
      },
      "source": [
        "q4_kolkata_py = q4_kolkata.toPandas()\n",
        "fig = px.bar(q4_delhi_py, x= 'cusine', y= 'rating_count', text= 'rating_count', color= 'cusine')\n",
        "fig.update_traces(texttemplate= '%{text:.2s}', textposition= 'outside')\n",
        "fig.update_layout(xaxis_tickangle= -45)\n",
        "fig.update_layout(title= 'Most Preferred Cusines in Kolkata', xaxis_title= 'Cusine', yaxis_title= 'Rating Count')\n",
        "\n",
        "fig"
      ],
      "execution_count": 90,
      "outputs": [
        {
          "output_type": "display_data",
          "data": {
            "text/html": [
              "<html>\n",
              "<head><meta charset=\"utf-8\" /></head>\n",
              "<body>\n",
              "    <div>\n",
              "            <script src=\"https://cdnjs.cloudflare.com/ajax/libs/mathjax/2.7.5/MathJax.js?config=TeX-AMS-MML_SVG\"></script><script type=\"text/javascript\">if (window.MathJax) {MathJax.Hub.Config({SVG: {font: \"STIX-Web\"}});}</script>\n",
              "                <script type=\"text/javascript\">window.PlotlyConfig = {MathJaxConfig: 'local'};</script>\n",
              "        <script src=\"https://cdn.plot.ly/plotly-latest.min.js\"></script>    \n",
              "            <div id=\"6cc32b44-26a5-4c34-b94c-425722d529a9\" class=\"plotly-graph-div\" style=\"height:525px; width:100%;\"></div>\n",
              "            <script type=\"text/javascript\">\n",
              "                \n",
              "                    window.PLOTLYENV=window.PLOTLYENV || {};\n",
              "                    \n",
              "                if (document.getElementById(\"6cc32b44-26a5-4c34-b94c-425722d529a9\")) {\n",
              "                    Plotly.newPlot(\n",
              "                        '6cc32b44-26a5-4c34-b94c-425722d529a9',\n",
              "                        [{\"alignmentgroup\": \"True\", \"hoverlabel\": {\"namelength\": 0}, \"hovertemplate\": \"cusine=%{x}<br>rating_count=%{text}\", \"legendgroup\": \"cusine=American, Continental, Italian, North Indian, Asian, Salad, Juices, Momos\", \"marker\": {\"color\": \"#636efa\"}, \"name\": \"cusine=American, Continental, Italian, North Indian, Asian, Salad, Juices, Momos\", \"offsetgroup\": \"cusine=American, Continental, Italian, North Indian, Asian, Salad, Juices, Momos\", \"orientation\": \"v\", \"showlegend\": true, \"text\": [10035.0], \"textposition\": \"outside\", \"texttemplate\": \"%{text:.2s}\", \"type\": \"bar\", \"x\": [\"American, Continental, Italian, North Indian, Asian, Salad, Juices, Momos\"], \"xaxis\": \"x\", \"y\": [10035], \"yaxis\": \"y\"}, {\"alignmentgroup\": \"True\", \"hoverlabel\": {\"namelength\": 0}, \"hovertemplate\": \"cusine=%{x}<br>rating_count=%{text}\", \"legendgroup\": \"cusine=European, Chinese, North Indian, Italian, Asian\", \"marker\": {\"color\": \"#EF553B\"}, \"name\": \"cusine=European, Chinese, North Indian, Italian, Asian\", \"offsetgroup\": \"cusine=European, Chinese, North Indian, Italian, Asian\", \"orientation\": \"v\", \"showlegend\": true, \"text\": [9582.0], \"textposition\": \"outside\", \"texttemplate\": \"%{text:.2s}\", \"type\": \"bar\", \"x\": [\"European, Chinese, North Indian, Italian, Asian\"], \"xaxis\": \"x\", \"y\": [9582], \"yaxis\": \"y\"}, {\"alignmentgroup\": \"True\", \"hoverlabel\": {\"namelength\": 0}, \"hovertemplate\": \"cusine=%{x}<br>rating_count=%{text}\", \"legendgroup\": \"cusine=Finger Food, North Indian, Continental, Italian\", \"marker\": {\"color\": \"#00cc96\"}, \"name\": \"cusine=Finger Food, North Indian, Continental, Italian\", \"offsetgroup\": \"cusine=Finger Food, North Indian, Continental, Italian\", \"orientation\": \"v\", \"showlegend\": true, \"text\": [8866.0], \"textposition\": \"outside\", \"texttemplate\": \"%{text:.2s}\", \"type\": \"bar\", \"x\": [\"Finger Food, North Indian, Continental, Italian\"], \"xaxis\": \"x\", \"y\": [8866], \"yaxis\": \"y\"}, {\"alignmentgroup\": \"True\", \"hoverlabel\": {\"namelength\": 0}, \"hovertemplate\": \"cusine=%{x}<br>rating_count=%{text}\", \"legendgroup\": \"cusine=South Indian, Desserts, Beverages\", \"marker\": {\"color\": \"#ab63fa\"}, \"name\": \"cusine=South Indian, Desserts, Beverages\", \"offsetgroup\": \"cusine=South Indian, Desserts, Beverages\", \"orientation\": \"v\", \"showlegend\": true, \"text\": [7906.0], \"textposition\": \"outside\", \"texttemplate\": \"%{text:.2s}\", \"type\": \"bar\", \"x\": [\"South Indian, Desserts, Beverages\"], \"xaxis\": \"x\", \"y\": [7906], \"yaxis\": \"y\"}, {\"alignmentgroup\": \"True\", \"hoverlabel\": {\"namelength\": 0}, \"hovertemplate\": \"cusine=%{x}<br>rating_count=%{text}\", \"legendgroup\": \"cusine=Continental, Bar Food\", \"marker\": {\"color\": \"#FFA15A\"}, \"name\": \"cusine=Continental, Bar Food\", \"offsetgroup\": \"cusine=Continental, Bar Food\", \"orientation\": \"v\", \"showlegend\": true, \"text\": [7903.0], \"textposition\": \"outside\", \"texttemplate\": \"%{text:.2s}\", \"type\": \"bar\", \"x\": [\"Continental, Bar Food\"], \"xaxis\": \"x\", \"y\": [7903], \"yaxis\": \"y\"}, {\"alignmentgroup\": \"True\", \"hoverlabel\": {\"namelength\": 0}, \"hovertemplate\": \"cusine=%{x}<br>rating_count=%{text}\", \"legendgroup\": \"cusine=North Indian, Continental, Momos\", \"marker\": {\"color\": \"#19d3f3\"}, \"name\": \"cusine=North Indian, Continental, Momos\", \"offsetgroup\": \"cusine=North Indian, Continental, Momos\", \"orientation\": \"v\", \"showlegend\": true, \"text\": [6966.0], \"textposition\": \"outside\", \"texttemplate\": \"%{text:.2s}\", \"type\": \"bar\", \"x\": [\"North Indian, Continental, Momos\"], \"xaxis\": \"x\", \"y\": [6966], \"yaxis\": \"y\"}, {\"alignmentgroup\": \"True\", \"hoverlabel\": {\"namelength\": 0}, \"hovertemplate\": \"cusine=%{x}<br>rating_count=%{text}\", \"legendgroup\": \"cusine=Mughlai, North Indian, Kebab, Rolls\", \"marker\": {\"color\": \"#FF6692\"}, \"name\": \"cusine=Mughlai, North Indian, Kebab, Rolls\", \"offsetgroup\": \"cusine=Mughlai, North Indian, Kebab, Rolls\", \"orientation\": \"v\", \"showlegend\": true, \"text\": [6761.0], \"textposition\": \"outside\", \"texttemplate\": \"%{text:.2s}\", \"type\": \"bar\", \"x\": [\"Mughlai, North Indian, Kebab, Rolls\"], \"xaxis\": \"x\", \"y\": [6761], \"yaxis\": \"y\"}, {\"alignmentgroup\": \"True\", \"hoverlabel\": {\"namelength\": 0}, \"hovertemplate\": \"cusine=%{x}<br>rating_count=%{text}\", \"legendgroup\": \"cusine=Continental, American, Asian, North Indian, Momos, Beverages\", \"marker\": {\"color\": \"#B6E880\"}, \"name\": \"cusine=Continental, American, Asian, North Indian, Momos, Beverages\", \"offsetgroup\": \"cusine=Continental, American, Asian, North Indian, Momos, Beverages\", \"orientation\": \"v\", \"showlegend\": true, \"text\": [6630.0], \"textposition\": \"outside\", \"texttemplate\": \"%{text:.2s}\", \"type\": \"bar\", \"x\": [\"Continental, American, Asian, North Indian, Momos, Beverages\"], \"xaxis\": \"x\", \"y\": [6630], \"yaxis\": \"y\"}, {\"alignmentgroup\": \"True\", \"hoverlabel\": {\"namelength\": 0}, \"hovertemplate\": \"cusine=%{x}<br>rating_count=%{text}\", \"legendgroup\": \"cusine=Italian, Finger Food\", \"marker\": {\"color\": \"#FF97FF\"}, \"name\": \"cusine=Italian, Finger Food\", \"offsetgroup\": \"cusine=Italian, Finger Food\", \"orientation\": \"v\", \"showlegend\": true, \"text\": [6426.0], \"textposition\": \"outside\", \"texttemplate\": \"%{text:.2s}\", \"type\": \"bar\", \"x\": [\"Italian, Finger Food\"], \"xaxis\": \"x\", \"y\": [6426], \"yaxis\": \"y\"}, {\"alignmentgroup\": \"True\", \"hoverlabel\": {\"namelength\": 0}, \"hovertemplate\": \"cusine=%{x}<br>rating_count=%{text}\", \"legendgroup\": \"cusine=Cafe\", \"marker\": {\"color\": \"#FECB52\"}, \"name\": \"cusine=Cafe\", \"offsetgroup\": \"cusine=Cafe\", \"orientation\": \"v\", \"showlegend\": true, \"text\": [6378.0], \"textposition\": \"outside\", \"texttemplate\": \"%{text:.2s}\", \"type\": \"bar\", \"x\": [\"Cafe\"], \"xaxis\": \"x\", \"y\": [6378], \"yaxis\": \"y\"}],\n",
              "                        {\"barmode\": \"relative\", \"legend\": {\"tracegroupgap\": 0}, \"margin\": {\"t\": 60}, \"template\": {\"data\": {\"bar\": [{\"error_x\": {\"color\": \"#2a3f5f\"}, \"error_y\": {\"color\": \"#2a3f5f\"}, \"marker\": {\"line\": {\"color\": \"#E5ECF6\", \"width\": 0.5}}, \"type\": \"bar\"}], \"barpolar\": [{\"marker\": {\"line\": {\"color\": \"#E5ECF6\", \"width\": 0.5}}, \"type\": \"barpolar\"}], \"carpet\": [{\"aaxis\": {\"endlinecolor\": \"#2a3f5f\", \"gridcolor\": \"white\", \"linecolor\": \"white\", \"minorgridcolor\": \"white\", \"startlinecolor\": \"#2a3f5f\"}, \"baxis\": {\"endlinecolor\": \"#2a3f5f\", \"gridcolor\": \"white\", \"linecolor\": \"white\", \"minorgridcolor\": \"white\", \"startlinecolor\": \"#2a3f5f\"}, \"type\": \"carpet\"}], \"choropleth\": [{\"colorbar\": {\"outlinewidth\": 0, \"ticks\": \"\"}, \"type\": \"choropleth\"}], \"contour\": [{\"colorbar\": {\"outlinewidth\": 0, \"ticks\": \"\"}, \"colorscale\": [[0.0, \"#0d0887\"], [0.1111111111111111, \"#46039f\"], [0.2222222222222222, \"#7201a8\"], [0.3333333333333333, \"#9c179e\"], [0.4444444444444444, \"#bd3786\"], [0.5555555555555556, \"#d8576b\"], [0.6666666666666666, \"#ed7953\"], [0.7777777777777778, \"#fb9f3a\"], [0.8888888888888888, \"#fdca26\"], [1.0, \"#f0f921\"]], \"type\": \"contour\"}], \"contourcarpet\": [{\"colorbar\": {\"outlinewidth\": 0, \"ticks\": \"\"}, \"type\": \"contourcarpet\"}], \"heatmap\": [{\"colorbar\": {\"outlinewidth\": 0, \"ticks\": \"\"}, \"colorscale\": [[0.0, \"#0d0887\"], [0.1111111111111111, \"#46039f\"], [0.2222222222222222, \"#7201a8\"], [0.3333333333333333, \"#9c179e\"], [0.4444444444444444, \"#bd3786\"], [0.5555555555555556, \"#d8576b\"], [0.6666666666666666, \"#ed7953\"], [0.7777777777777778, \"#fb9f3a\"], [0.8888888888888888, \"#fdca26\"], [1.0, \"#f0f921\"]], \"type\": \"heatmap\"}], \"heatmapgl\": [{\"colorbar\": {\"outlinewidth\": 0, \"ticks\": \"\"}, \"colorscale\": [[0.0, \"#0d0887\"], [0.1111111111111111, \"#46039f\"], [0.2222222222222222, \"#7201a8\"], [0.3333333333333333, \"#9c179e\"], [0.4444444444444444, \"#bd3786\"], [0.5555555555555556, \"#d8576b\"], [0.6666666666666666, \"#ed7953\"], [0.7777777777777778, \"#fb9f3a\"], [0.8888888888888888, \"#fdca26\"], [1.0, \"#f0f921\"]], \"type\": \"heatmapgl\"}], \"histogram\": [{\"marker\": {\"colorbar\": {\"outlinewidth\": 0, \"ticks\": \"\"}}, \"type\": \"histogram\"}], \"histogram2d\": [{\"colorbar\": {\"outlinewidth\": 0, \"ticks\": \"\"}, \"colorscale\": [[0.0, \"#0d0887\"], [0.1111111111111111, \"#46039f\"], [0.2222222222222222, \"#7201a8\"], [0.3333333333333333, \"#9c179e\"], [0.4444444444444444, \"#bd3786\"], [0.5555555555555556, \"#d8576b\"], [0.6666666666666666, \"#ed7953\"], [0.7777777777777778, \"#fb9f3a\"], [0.8888888888888888, \"#fdca26\"], [1.0, \"#f0f921\"]], \"type\": \"histogram2d\"}], \"histogram2dcontour\": [{\"colorbar\": {\"outlinewidth\": 0, \"ticks\": \"\"}, \"colorscale\": [[0.0, \"#0d0887\"], [0.1111111111111111, \"#46039f\"], [0.2222222222222222, \"#7201a8\"], [0.3333333333333333, \"#9c179e\"], [0.4444444444444444, \"#bd3786\"], [0.5555555555555556, \"#d8576b\"], [0.6666666666666666, \"#ed7953\"], [0.7777777777777778, \"#fb9f3a\"], [0.8888888888888888, \"#fdca26\"], [1.0, \"#f0f921\"]], \"type\": \"histogram2dcontour\"}], \"mesh3d\": [{\"colorbar\": {\"outlinewidth\": 0, \"ticks\": \"\"}, \"type\": \"mesh3d\"}], \"parcoords\": [{\"line\": {\"colorbar\": {\"outlinewidth\": 0, \"ticks\": \"\"}}, \"type\": \"parcoords\"}], \"pie\": [{\"automargin\": true, \"type\": \"pie\"}], \"scatter\": [{\"marker\": {\"colorbar\": {\"outlinewidth\": 0, \"ticks\": \"\"}}, \"type\": \"scatter\"}], \"scatter3d\": [{\"line\": {\"colorbar\": {\"outlinewidth\": 0, \"ticks\": \"\"}}, \"marker\": {\"colorbar\": {\"outlinewidth\": 0, \"ticks\": \"\"}}, \"type\": \"scatter3d\"}], \"scattercarpet\": [{\"marker\": {\"colorbar\": {\"outlinewidth\": 0, \"ticks\": \"\"}}, \"type\": \"scattercarpet\"}], \"scattergeo\": [{\"marker\": {\"colorbar\": {\"outlinewidth\": 0, \"ticks\": \"\"}}, \"type\": \"scattergeo\"}], \"scattergl\": [{\"marker\": {\"colorbar\": {\"outlinewidth\": 0, \"ticks\": \"\"}}, \"type\": \"scattergl\"}], \"scattermapbox\": [{\"marker\": {\"colorbar\": {\"outlinewidth\": 0, \"ticks\": \"\"}}, \"type\": \"scattermapbox\"}], \"scatterpolar\": [{\"marker\": {\"colorbar\": {\"outlinewidth\": 0, \"ticks\": \"\"}}, \"type\": \"scatterpolar\"}], \"scatterpolargl\": [{\"marker\": {\"colorbar\": {\"outlinewidth\": 0, \"ticks\": \"\"}}, \"type\": \"scatterpolargl\"}], \"scatterternary\": [{\"marker\": {\"colorbar\": {\"outlinewidth\": 0, \"ticks\": \"\"}}, \"type\": \"scatterternary\"}], \"surface\": [{\"colorbar\": {\"outlinewidth\": 0, \"ticks\": \"\"}, \"colorscale\": [[0.0, \"#0d0887\"], [0.1111111111111111, \"#46039f\"], [0.2222222222222222, \"#7201a8\"], [0.3333333333333333, \"#9c179e\"], [0.4444444444444444, \"#bd3786\"], [0.5555555555555556, \"#d8576b\"], [0.6666666666666666, \"#ed7953\"], [0.7777777777777778, \"#fb9f3a\"], [0.8888888888888888, \"#fdca26\"], [1.0, \"#f0f921\"]], \"type\": \"surface\"}], \"table\": [{\"cells\": {\"fill\": {\"color\": \"#EBF0F8\"}, \"line\": {\"color\": \"white\"}}, \"header\": {\"fill\": {\"color\": \"#C8D4E3\"}, \"line\": {\"color\": \"white\"}}, \"type\": \"table\"}]}, \"layout\": {\"annotationdefaults\": {\"arrowcolor\": \"#2a3f5f\", \"arrowhead\": 0, \"arrowwidth\": 1}, \"coloraxis\": {\"colorbar\": {\"outlinewidth\": 0, \"ticks\": \"\"}}, \"colorscale\": {\"diverging\": [[0, \"#8e0152\"], [0.1, \"#c51b7d\"], [0.2, \"#de77ae\"], [0.3, \"#f1b6da\"], [0.4, \"#fde0ef\"], [0.5, \"#f7f7f7\"], [0.6, \"#e6f5d0\"], [0.7, \"#b8e186\"], [0.8, \"#7fbc41\"], [0.9, \"#4d9221\"], [1, \"#276419\"]], \"sequential\": [[0.0, \"#0d0887\"], [0.1111111111111111, \"#46039f\"], [0.2222222222222222, \"#7201a8\"], [0.3333333333333333, \"#9c179e\"], [0.4444444444444444, \"#bd3786\"], [0.5555555555555556, \"#d8576b\"], [0.6666666666666666, \"#ed7953\"], [0.7777777777777778, \"#fb9f3a\"], [0.8888888888888888, \"#fdca26\"], [1.0, \"#f0f921\"]], \"sequentialminus\": [[0.0, \"#0d0887\"], [0.1111111111111111, \"#46039f\"], [0.2222222222222222, \"#7201a8\"], [0.3333333333333333, \"#9c179e\"], [0.4444444444444444, \"#bd3786\"], [0.5555555555555556, \"#d8576b\"], [0.6666666666666666, \"#ed7953\"], [0.7777777777777778, \"#fb9f3a\"], [0.8888888888888888, \"#fdca26\"], [1.0, \"#f0f921\"]]}, \"colorway\": [\"#636efa\", \"#EF553B\", \"#00cc96\", \"#ab63fa\", \"#FFA15A\", \"#19d3f3\", \"#FF6692\", \"#B6E880\", \"#FF97FF\", \"#FECB52\"], \"font\": {\"color\": \"#2a3f5f\"}, \"geo\": {\"bgcolor\": \"white\", \"lakecolor\": \"white\", \"landcolor\": \"#E5ECF6\", \"showlakes\": true, \"showland\": true, \"subunitcolor\": \"white\"}, \"hoverlabel\": {\"align\": \"left\"}, \"hovermode\": \"closest\", \"mapbox\": {\"style\": \"light\"}, \"paper_bgcolor\": \"white\", \"plot_bgcolor\": \"#E5ECF6\", \"polar\": {\"angularaxis\": {\"gridcolor\": \"white\", \"linecolor\": \"white\", \"ticks\": \"\"}, \"bgcolor\": \"#E5ECF6\", \"radialaxis\": {\"gridcolor\": \"white\", \"linecolor\": \"white\", \"ticks\": \"\"}}, \"scene\": {\"xaxis\": {\"backgroundcolor\": \"#E5ECF6\", \"gridcolor\": \"white\", \"gridwidth\": 2, \"linecolor\": \"white\", \"showbackground\": true, \"ticks\": \"\", \"zerolinecolor\": \"white\"}, \"yaxis\": {\"backgroundcolor\": \"#E5ECF6\", \"gridcolor\": \"white\", \"gridwidth\": 2, \"linecolor\": \"white\", \"showbackground\": true, \"ticks\": \"\", \"zerolinecolor\": \"white\"}, \"zaxis\": {\"backgroundcolor\": \"#E5ECF6\", \"gridcolor\": \"white\", \"gridwidth\": 2, \"linecolor\": \"white\", \"showbackground\": true, \"ticks\": \"\", \"zerolinecolor\": \"white\"}}, \"shapedefaults\": {\"line\": {\"color\": \"#2a3f5f\"}}, \"ternary\": {\"aaxis\": {\"gridcolor\": \"white\", \"linecolor\": \"white\", \"ticks\": \"\"}, \"baxis\": {\"gridcolor\": \"white\", \"linecolor\": \"white\", \"ticks\": \"\"}, \"bgcolor\": \"#E5ECF6\", \"caxis\": {\"gridcolor\": \"white\", \"linecolor\": \"white\", \"ticks\": \"\"}}, \"title\": {\"x\": 0.05}, \"xaxis\": {\"automargin\": true, \"gridcolor\": \"white\", \"linecolor\": \"white\", \"ticks\": \"\", \"title\": {\"standoff\": 15}, \"zerolinecolor\": \"white\", \"zerolinewidth\": 2}, \"yaxis\": {\"automargin\": true, \"gridcolor\": \"white\", \"linecolor\": \"white\", \"ticks\": \"\", \"title\": {\"standoff\": 15}, \"zerolinecolor\": \"white\", \"zerolinewidth\": 2}}}, \"title\": {\"text\": \"Most Preferred Cusines in Kolkata\"}, \"xaxis\": {\"anchor\": \"y\", \"categoryarray\": [\"American, Continental, Italian, North Indian, Asian, Salad, Juices, Momos\", \"European, Chinese, North Indian, Italian, Asian\", \"Finger Food, North Indian, Continental, Italian\", \"South Indian, Desserts, Beverages\", \"Continental, Bar Food\", \"North Indian, Continental, Momos\", \"Mughlai, North Indian, Kebab, Rolls\", \"Continental, American, Asian, North Indian, Momos, Beverages\", \"Italian, Finger Food\", \"Cafe\"], \"categoryorder\": \"array\", \"domain\": [0.0, 1.0], \"tickangle\": -45, \"title\": {\"text\": \"Cusine\"}}, \"yaxis\": {\"anchor\": \"x\", \"domain\": [0.0, 1.0], \"title\": {\"text\": \"Rating Count\"}}},\n",
              "                        {\"responsive\": true}\n",
              "                    ).then(function(){\n",
              "                            \n",
              "var gd = document.getElementById('6cc32b44-26a5-4c34-b94c-425722d529a9');\n",
              "var x = new MutationObserver(function (mutations, observer) {{\n",
              "        var display = window.getComputedStyle(gd).display;\n",
              "        if (!display || display === 'none') {{\n",
              "            console.log([gd, 'removed!']);\n",
              "            Plotly.purge(gd);\n",
              "            observer.disconnect();\n",
              "        }}\n",
              "}});\n",
              "\n",
              "// Listen for the removal of the full notebook cells\n",
              "var notebookContainer = gd.closest('#notebook-container');\n",
              "if (notebookContainer) {{\n",
              "    x.observe(notebookContainer, {childList: true});\n",
              "}}\n",
              "\n",
              "// Listen for the clearing of the current output cell\n",
              "var outputEl = gd.closest('.output');\n",
              "if (outputEl) {{\n",
              "    x.observe(outputEl, {childList: true});\n",
              "}}\n",
              "\n",
              "                        })\n",
              "                };\n",
              "                \n",
              "            </script>\n",
              "        </div>\n",
              "</body>\n",
              "</html>"
            ]
          },
          "metadata": {
            "tags": []
          }
        }
      ]
    },
    {
      "cell_type": "markdown",
      "metadata": {
        "id": "hqZnR3woNkkM"
      },
      "source": [
        "Kolkata prefers Continential along with Chinese dishes along with a other offerings."
      ]
    },
    {
      "cell_type": "code",
      "metadata": {
        "colab": {
          "base_uri": "https://localhost:8080/"
        },
        "id": "h5RQe1Vm3kqs",
        "outputId": "fbeced0e-e596-4e42-e9a0-b19b0e27d80e"
      },
      "source": [
        "q4_chennai = df.select('name', 'rating', 'rating_count', 'city', 'area', 'cusine', 'latitude', 'longitude').filter(df.city == 'Chennai').orderBy(desc('rating_count')).limit(10)\n",
        "q4_chennai.show()"
      ],
      "execution_count": 91,
      "outputs": [
        {
          "output_type": "stream",
          "text": [
            "+--------------------+------+------------+-------+------------+--------------------+-------------+-------------+\n",
            "|                name|rating|rating_count|   city|        area|              cusine|     latitude|    longitude|\n",
            "+--------------------+------+------------+-------+------------+--------------------+-------------+-------------+\n",
            "|AB's - Absolute B...|   4.9|       10357|Chennai|    T. Nagar|BBQ, North Indian...|13.0452596662|80.2412599325|\n",
            "|      Coal Barbecues|   4.9|        8171|Chennai|   Velachery|North Indian, Chi...|12.9860573362|80.2182241157|\n",
            "|      Coal Barbecues|   4.9|        7348|Chennai|    T. Nagar|North Indian, Med...|13.0468091625|80.2370213717|\n",
            "|     Barbeque Nation|   4.8|        5799|Chennai|    T. Nagar|North Indian, Con...|13.0467614758|80.2348900214|\n",
            "|              Onesta|   4.9|        5126|Chennai| Semmancheri|Pizza, Italian, F...|12.8750884413|80.2273225039|\n",
            "|            Paradise|   4.4|        5106|Chennai|   Perungudi|Biryani, North In...|12.9724567129|80.2498034388|\n",
            "|Chili's American ...|   4.8|        4707|Chennai|  Royapettah|Mexican, American...|13.0587661523|80.2640241757|\n",
            "|      Copper Kitchen|   4.6|        4351|Chennai|       Porur|Seafood, North In...|13.0365595738|80.1571314409|\n",
            "|              Maplai|   4.4|        4279|Chennai|Nungambakkam|Chettinad, Biryan...|13.0638324047|80.2363404259|\n",
            "|AB's - Absolute B...|   4.8|        3635|Chennai|   Velachery|BBQ, North Indian...|12.9818657223|80.2316499129|\n",
            "+--------------------+------+------------+-------+------------+--------------------+-------------+-------------+\n",
            "\n"
          ],
          "name": "stdout"
        }
      ]
    },
    {
      "cell_type": "code",
      "metadata": {
        "colab": {
          "base_uri": "https://localhost:8080/",
          "height": 808
        },
        "id": "SHaIp_2KCGPQ",
        "outputId": "d08c80a1-56df-4fb9-827f-6166fc75c46c"
      },
      "source": [
        "top_10_cusine_chennai = folium.Map(location= [13.0827, 80.2707], zoom_start= 12)\n",
        "top_10_cusine_chen = folium.map.FeatureGroup()\n",
        "\n",
        "for name, lat, lng, in zip(q4_chennai.toPandas()['name'].values.tolist(), q4_chennai.toPandas()['latitude'].values.tolist(), q4_chennai.toPandas()['longitude'].values.tolist()):\n",
        "  top_10_cusine_chen.add_child(\n",
        "      folium.Marker(\n",
        "          [lat, lng],\n",
        "          popup= name,\n",
        "      )\n",
        "  )\n",
        "\n",
        "top_10_cusine_chennai.add_child(top_10_cusine_chen)"
      ],
      "execution_count": 93,
      "outputs": [
        {
          "output_type": "execute_result",
          "data": {
            "text/html": [
              "<div style=\"width:100%;\"><div style=\"position:relative;width:100%;height:0;padding-bottom:60%;\"><span style=\"color:#565656\">Make this Notebook Trusted to load map: File -> Trust Notebook</span><iframe src=\"about:blank\" style=\"position:absolute;width:100%;height:100%;left:0;top:0;border:none !important;\" data-html=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 onload=\"this.contentDocument.open();this.contentDocument.write(atob(this.getAttribute('data-html')));this.contentDocument.close();\" allowfullscreen webkitallowfullscreen mozallowfullscreen></iframe></div></div>"
            ],
            "text/plain": [
              "<folium.folium.Map at 0x7faf489f92e8>"
            ]
          },
          "metadata": {
            "tags": []
          },
          "execution_count": 93
        }
      ]
    },
    {
      "cell_type": "code",
      "metadata": {
        "colab": {
          "base_uri": "https://localhost:8080/",
          "height": 542
        },
        "id": "COupMrZdCGS6",
        "outputId": "1fe80ff7-e1e0-4efa-854e-27bf166cb119"
      },
      "source": [
        "q4_chennai_py = q4_chennai.toPandas()\n",
        "fig = px.bar(q4_chennai_py, x= 'cusine', y= 'rating_count', text= 'rating_count', color= 'cusine')\n",
        "fig.update_traces(texttemplate= '%{text:.2s}', textposition= 'outside')\n",
        "fig.update_layout(xaxis_tickangle= -45)\n",
        "fig.update_layout(title= 'Most Preferred Cusines in Chennai', xaxis_title= 'Cusine', yaxis_title= 'Rating Count')\n",
        "\n",
        "fig"
      ],
      "execution_count": 94,
      "outputs": [
        {
          "output_type": "display_data",
          "data": {
            "text/html": [
              "<html>\n",
              "<head><meta charset=\"utf-8\" /></head>\n",
              "<body>\n",
              "    <div>\n",
              "            <script src=\"https://cdnjs.cloudflare.com/ajax/libs/mathjax/2.7.5/MathJax.js?config=TeX-AMS-MML_SVG\"></script><script type=\"text/javascript\">if (window.MathJax) {MathJax.Hub.Config({SVG: {font: \"STIX-Web\"}});}</script>\n",
              "                <script type=\"text/javascript\">window.PlotlyConfig = {MathJaxConfig: 'local'};</script>\n",
              "        <script src=\"https://cdn.plot.ly/plotly-latest.min.js\"></script>    \n",
              "            <div id=\"c65c6127-828a-46ae-98a8-c984c0e2e268\" class=\"plotly-graph-div\" style=\"height:525px; width:100%;\"></div>\n",
              "            <script type=\"text/javascript\">\n",
              "                \n",
              "                    window.PLOTLYENV=window.PLOTLYENV || {};\n",
              "                    \n",
              "                if (document.getElementById(\"c65c6127-828a-46ae-98a8-c984c0e2e268\")) {\n",
              "                    Plotly.newPlot(\n",
              "                        'c65c6127-828a-46ae-98a8-c984c0e2e268',\n",
              "                        [{\"alignmentgroup\": \"True\", \"hoverlabel\": {\"namelength\": 0}, \"hovertemplate\": \"cusine=%{x}<br>rating_count=%{text}\", \"legendgroup\": \"cusine=BBQ, North Indian, European, Beverages\", \"marker\": {\"color\": \"#636efa\"}, \"name\": \"cusine=BBQ, North Indian, European, Beverages\", \"offsetgroup\": \"cusine=BBQ, North Indian, European, Beverages\", \"orientation\": \"v\", \"showlegend\": true, \"text\": [10357.0, 3635.0], \"textposition\": \"outside\", \"texttemplate\": \"%{text:.2s}\", \"type\": \"bar\", \"x\": [\"BBQ, North Indian, European, Beverages\", \"BBQ, North Indian, European, Beverages\"], \"xaxis\": \"x\", \"y\": [10357, 3635], \"yaxis\": \"y\"}, {\"alignmentgroup\": \"True\", \"hoverlabel\": {\"namelength\": 0}, \"hovertemplate\": \"cusine=%{x}<br>rating_count=%{text}\", \"legendgroup\": \"cusine=North Indian, Chinese\", \"marker\": {\"color\": \"#EF553B\"}, \"name\": \"cusine=North Indian, Chinese\", \"offsetgroup\": \"cusine=North Indian, Chinese\", \"orientation\": \"v\", \"showlegend\": true, \"text\": [8171.0], \"textposition\": \"outside\", \"texttemplate\": \"%{text:.2s}\", \"type\": \"bar\", \"x\": [\"North Indian, Chinese\"], \"xaxis\": \"x\", \"y\": [8171], \"yaxis\": \"y\"}, {\"alignmentgroup\": \"True\", \"hoverlabel\": {\"namelength\": 0}, \"hovertemplate\": \"cusine=%{x}<br>rating_count=%{text}\", \"legendgroup\": \"cusine=North Indian, Mediterranean, Asian, Arabian, BBQ\", \"marker\": {\"color\": \"#00cc96\"}, \"name\": \"cusine=North Indian, Mediterranean, Asian, Arabian, BBQ\", \"offsetgroup\": \"cusine=North Indian, Mediterranean, Asian, Arabian, BBQ\", \"orientation\": \"v\", \"showlegend\": true, \"text\": [7348.0], \"textposition\": \"outside\", \"texttemplate\": \"%{text:.2s}\", \"type\": \"bar\", \"x\": [\"North Indian, Mediterranean, Asian, Arabian, BBQ\"], \"xaxis\": \"x\", \"y\": [7348], \"yaxis\": \"y\"}, {\"alignmentgroup\": \"True\", \"hoverlabel\": {\"namelength\": 0}, \"hovertemplate\": \"cusine=%{x}<br>rating_count=%{text}\", \"legendgroup\": \"cusine=North Indian, Continental, Kebab, BBQ\", \"marker\": {\"color\": \"#ab63fa\"}, \"name\": \"cusine=North Indian, Continental, Kebab, BBQ\", \"offsetgroup\": \"cusine=North Indian, Continental, Kebab, BBQ\", \"orientation\": \"v\", \"showlegend\": true, \"text\": [5799.0], \"textposition\": \"outside\", \"texttemplate\": \"%{text:.2s}\", \"type\": \"bar\", \"x\": [\"North Indian, Continental, Kebab, BBQ\"], \"xaxis\": \"x\", \"y\": [5799], \"yaxis\": \"y\"}, {\"alignmentgroup\": \"True\", \"hoverlabel\": {\"namelength\": 0}, \"hovertemplate\": \"cusine=%{x}<br>rating_count=%{text}\", \"legendgroup\": \"cusine=Pizza, Italian, Fast Food, Beverages, Desserts\", \"marker\": {\"color\": \"#FFA15A\"}, \"name\": \"cusine=Pizza, Italian, Fast Food, Beverages, Desserts\", \"offsetgroup\": \"cusine=Pizza, Italian, Fast Food, Beverages, Desserts\", \"orientation\": \"v\", \"showlegend\": true, \"text\": [5126.0], \"textposition\": \"outside\", \"texttemplate\": \"%{text:.2s}\", \"type\": \"bar\", \"x\": [\"Pizza, Italian, Fast Food, Beverages, Desserts\"], \"xaxis\": \"x\", \"y\": [5126], \"yaxis\": \"y\"}, {\"alignmentgroup\": \"True\", \"hoverlabel\": {\"namelength\": 0}, \"hovertemplate\": \"cusine=%{x}<br>rating_count=%{text}\", \"legendgroup\": \"cusine=Biryani, North Indian\", \"marker\": {\"color\": \"#19d3f3\"}, \"name\": \"cusine=Biryani, North Indian\", \"offsetgroup\": \"cusine=Biryani, North Indian\", \"orientation\": \"v\", \"showlegend\": true, \"text\": [5106.0], \"textposition\": \"outside\", \"texttemplate\": \"%{text:.2s}\", \"type\": \"bar\", \"x\": [\"Biryani, North Indian\"], \"xaxis\": \"x\", \"y\": [5106], \"yaxis\": \"y\"}, {\"alignmentgroup\": \"True\", \"hoverlabel\": {\"namelength\": 0}, \"hovertemplate\": \"cusine=%{x}<br>rating_count=%{text}\", \"legendgroup\": \"cusine=Mexican, American, Tex-Mex, Burger\", \"marker\": {\"color\": \"#FF6692\"}, \"name\": \"cusine=Mexican, American, Tex-Mex, Burger\", \"offsetgroup\": \"cusine=Mexican, American, Tex-Mex, Burger\", \"orientation\": \"v\", \"showlegend\": true, \"text\": [4707.0], \"textposition\": \"outside\", \"texttemplate\": \"%{text:.2s}\", \"type\": \"bar\", \"x\": [\"Mexican, American, Tex-Mex, Burger\"], \"xaxis\": \"x\", \"y\": [4707], \"yaxis\": \"y\"}, {\"alignmentgroup\": \"True\", \"hoverlabel\": {\"namelength\": 0}, \"hovertemplate\": \"cusine=%{x}<br>rating_count=%{text}\", \"legendgroup\": \"cusine=Seafood, North Indian, Chinese, Chettinad\", \"marker\": {\"color\": \"#B6E880\"}, \"name\": \"cusine=Seafood, North Indian, Chinese, Chettinad\", \"offsetgroup\": \"cusine=Seafood, North Indian, Chinese, Chettinad\", \"orientation\": \"v\", \"showlegend\": true, \"text\": [4351.0], \"textposition\": \"outside\", \"texttemplate\": \"%{text:.2s}\", \"type\": \"bar\", \"x\": [\"Seafood, North Indian, Chinese, Chettinad\"], \"xaxis\": \"x\", \"y\": [4351], \"yaxis\": \"y\"}, {\"alignmentgroup\": \"True\", \"hoverlabel\": {\"namelength\": 0}, \"hovertemplate\": \"cusine=%{x}<br>rating_count=%{text}\", \"legendgroup\": \"cusine=Chettinad, Biryani, South Indian\", \"marker\": {\"color\": \"#FF97FF\"}, \"name\": \"cusine=Chettinad, Biryani, South Indian\", \"offsetgroup\": \"cusine=Chettinad, Biryani, South Indian\", \"orientation\": \"v\", \"showlegend\": true, \"text\": [4279.0], \"textposition\": \"outside\", \"texttemplate\": \"%{text:.2s}\", \"type\": \"bar\", \"x\": [\"Chettinad, Biryani, South Indian\"], \"xaxis\": \"x\", \"y\": [4279], \"yaxis\": \"y\"}],\n",
              "                        {\"barmode\": \"relative\", \"legend\": {\"tracegroupgap\": 0}, \"margin\": {\"t\": 60}, \"template\": {\"data\": {\"bar\": [{\"error_x\": {\"color\": \"#2a3f5f\"}, \"error_y\": {\"color\": \"#2a3f5f\"}, \"marker\": {\"line\": {\"color\": \"#E5ECF6\", \"width\": 0.5}}, \"type\": \"bar\"}], \"barpolar\": [{\"marker\": {\"line\": {\"color\": \"#E5ECF6\", \"width\": 0.5}}, \"type\": \"barpolar\"}], \"carpet\": [{\"aaxis\": {\"endlinecolor\": \"#2a3f5f\", \"gridcolor\": \"white\", \"linecolor\": \"white\", \"minorgridcolor\": \"white\", \"startlinecolor\": \"#2a3f5f\"}, \"baxis\": {\"endlinecolor\": \"#2a3f5f\", \"gridcolor\": \"white\", \"linecolor\": \"white\", \"minorgridcolor\": \"white\", \"startlinecolor\": \"#2a3f5f\"}, \"type\": \"carpet\"}], \"choropleth\": [{\"colorbar\": {\"outlinewidth\": 0, \"ticks\": \"\"}, \"type\": \"choropleth\"}], \"contour\": [{\"colorbar\": {\"outlinewidth\": 0, \"ticks\": \"\"}, \"colorscale\": [[0.0, \"#0d0887\"], [0.1111111111111111, \"#46039f\"], [0.2222222222222222, \"#7201a8\"], [0.3333333333333333, \"#9c179e\"], [0.4444444444444444, \"#bd3786\"], [0.5555555555555556, \"#d8576b\"], [0.6666666666666666, \"#ed7953\"], [0.7777777777777778, \"#fb9f3a\"], [0.8888888888888888, \"#fdca26\"], [1.0, \"#f0f921\"]], \"type\": \"contour\"}], \"contourcarpet\": [{\"colorbar\": {\"outlinewidth\": 0, \"ticks\": \"\"}, \"type\": \"contourcarpet\"}], \"heatmap\": [{\"colorbar\": {\"outlinewidth\": 0, \"ticks\": \"\"}, \"colorscale\": [[0.0, \"#0d0887\"], [0.1111111111111111, \"#46039f\"], [0.2222222222222222, \"#7201a8\"], [0.3333333333333333, \"#9c179e\"], [0.4444444444444444, \"#bd3786\"], [0.5555555555555556, \"#d8576b\"], [0.6666666666666666, \"#ed7953\"], [0.7777777777777778, \"#fb9f3a\"], [0.8888888888888888, \"#fdca26\"], [1.0, \"#f0f921\"]], \"type\": \"heatmap\"}], \"heatmapgl\": [{\"colorbar\": {\"outlinewidth\": 0, \"ticks\": \"\"}, \"colorscale\": [[0.0, \"#0d0887\"], [0.1111111111111111, \"#46039f\"], [0.2222222222222222, \"#7201a8\"], [0.3333333333333333, \"#9c179e\"], [0.4444444444444444, \"#bd3786\"], [0.5555555555555556, \"#d8576b\"], [0.6666666666666666, \"#ed7953\"], [0.7777777777777778, \"#fb9f3a\"], [0.8888888888888888, \"#fdca26\"], [1.0, \"#f0f921\"]], \"type\": \"heatmapgl\"}], \"histogram\": [{\"marker\": {\"colorbar\": {\"outlinewidth\": 0, \"ticks\": \"\"}}, \"type\": \"histogram\"}], \"histogram2d\": [{\"colorbar\": {\"outlinewidth\": 0, \"ticks\": \"\"}, \"colorscale\": [[0.0, \"#0d0887\"], [0.1111111111111111, \"#46039f\"], [0.2222222222222222, \"#7201a8\"], [0.3333333333333333, \"#9c179e\"], [0.4444444444444444, \"#bd3786\"], [0.5555555555555556, \"#d8576b\"], [0.6666666666666666, \"#ed7953\"], [0.7777777777777778, \"#fb9f3a\"], [0.8888888888888888, \"#fdca26\"], [1.0, \"#f0f921\"]], \"type\": \"histogram2d\"}], \"histogram2dcontour\": [{\"colorbar\": {\"outlinewidth\": 0, \"ticks\": \"\"}, \"colorscale\": [[0.0, \"#0d0887\"], [0.1111111111111111, \"#46039f\"], [0.2222222222222222, \"#7201a8\"], [0.3333333333333333, \"#9c179e\"], [0.4444444444444444, \"#bd3786\"], [0.5555555555555556, \"#d8576b\"], [0.6666666666666666, \"#ed7953\"], [0.7777777777777778, \"#fb9f3a\"], [0.8888888888888888, \"#fdca26\"], [1.0, \"#f0f921\"]], \"type\": \"histogram2dcontour\"}], \"mesh3d\": [{\"colorbar\": {\"outlinewidth\": 0, \"ticks\": \"\"}, \"type\": \"mesh3d\"}], \"parcoords\": [{\"line\": {\"colorbar\": {\"outlinewidth\": 0, \"ticks\": \"\"}}, \"type\": \"parcoords\"}], \"pie\": [{\"automargin\": true, \"type\": \"pie\"}], \"scatter\": [{\"marker\": {\"colorbar\": {\"outlinewidth\": 0, \"ticks\": \"\"}}, \"type\": \"scatter\"}], \"scatter3d\": [{\"line\": {\"colorbar\": {\"outlinewidth\": 0, \"ticks\": \"\"}}, \"marker\": {\"colorbar\": {\"outlinewidth\": 0, \"ticks\": \"\"}}, \"type\": \"scatter3d\"}], \"scattercarpet\": [{\"marker\": {\"colorbar\": {\"outlinewidth\": 0, \"ticks\": \"\"}}, \"type\": \"scattercarpet\"}], \"scattergeo\": [{\"marker\": {\"colorbar\": {\"outlinewidth\": 0, \"ticks\": \"\"}}, \"type\": \"scattergeo\"}], \"scattergl\": [{\"marker\": {\"colorbar\": {\"outlinewidth\": 0, \"ticks\": \"\"}}, \"type\": \"scattergl\"}], \"scattermapbox\": [{\"marker\": {\"colorbar\": {\"outlinewidth\": 0, \"ticks\": \"\"}}, \"type\": \"scattermapbox\"}], \"scatterpolar\": [{\"marker\": {\"colorbar\": {\"outlinewidth\": 0, \"ticks\": \"\"}}, \"type\": \"scatterpolar\"}], \"scatterpolargl\": [{\"marker\": {\"colorbar\": {\"outlinewidth\": 0, \"ticks\": \"\"}}, \"type\": \"scatterpolargl\"}], \"scatterternary\": [{\"marker\": {\"colorbar\": {\"outlinewidth\": 0, \"ticks\": \"\"}}, \"type\": \"scatterternary\"}], \"surface\": [{\"colorbar\": {\"outlinewidth\": 0, \"ticks\": \"\"}, \"colorscale\": [[0.0, \"#0d0887\"], [0.1111111111111111, \"#46039f\"], [0.2222222222222222, \"#7201a8\"], [0.3333333333333333, \"#9c179e\"], [0.4444444444444444, \"#bd3786\"], [0.5555555555555556, \"#d8576b\"], [0.6666666666666666, \"#ed7953\"], [0.7777777777777778, \"#fb9f3a\"], [0.8888888888888888, \"#fdca26\"], [1.0, \"#f0f921\"]], \"type\": \"surface\"}], \"table\": [{\"cells\": {\"fill\": {\"color\": \"#EBF0F8\"}, \"line\": {\"color\": \"white\"}}, \"header\": {\"fill\": {\"color\": \"#C8D4E3\"}, \"line\": {\"color\": \"white\"}}, \"type\": \"table\"}]}, \"layout\": {\"annotationdefaults\": {\"arrowcolor\": \"#2a3f5f\", \"arrowhead\": 0, \"arrowwidth\": 1}, \"coloraxis\": {\"colorbar\": {\"outlinewidth\": 0, \"ticks\": \"\"}}, \"colorscale\": {\"diverging\": [[0, \"#8e0152\"], [0.1, \"#c51b7d\"], [0.2, \"#de77ae\"], [0.3, \"#f1b6da\"], [0.4, \"#fde0ef\"], [0.5, \"#f7f7f7\"], [0.6, \"#e6f5d0\"], [0.7, \"#b8e186\"], [0.8, \"#7fbc41\"], [0.9, \"#4d9221\"], [1, \"#276419\"]], \"sequential\": [[0.0, \"#0d0887\"], [0.1111111111111111, \"#46039f\"], [0.2222222222222222, \"#7201a8\"], [0.3333333333333333, \"#9c179e\"], [0.4444444444444444, \"#bd3786\"], [0.5555555555555556, \"#d8576b\"], [0.6666666666666666, \"#ed7953\"], [0.7777777777777778, \"#fb9f3a\"], [0.8888888888888888, \"#fdca26\"], [1.0, \"#f0f921\"]], \"sequentialminus\": [[0.0, \"#0d0887\"], [0.1111111111111111, \"#46039f\"], [0.2222222222222222, \"#7201a8\"], [0.3333333333333333, \"#9c179e\"], [0.4444444444444444, \"#bd3786\"], [0.5555555555555556, \"#d8576b\"], [0.6666666666666666, \"#ed7953\"], [0.7777777777777778, \"#fb9f3a\"], [0.8888888888888888, \"#fdca26\"], [1.0, \"#f0f921\"]]}, \"colorway\": [\"#636efa\", \"#EF553B\", \"#00cc96\", \"#ab63fa\", \"#FFA15A\", \"#19d3f3\", \"#FF6692\", \"#B6E880\", \"#FF97FF\", \"#FECB52\"], \"font\": {\"color\": \"#2a3f5f\"}, \"geo\": {\"bgcolor\": \"white\", \"lakecolor\": \"white\", \"landcolor\": \"#E5ECF6\", \"showlakes\": true, \"showland\": true, \"subunitcolor\": \"white\"}, \"hoverlabel\": {\"align\": \"left\"}, \"hovermode\": \"closest\", \"mapbox\": {\"style\": \"light\"}, \"paper_bgcolor\": \"white\", \"plot_bgcolor\": \"#E5ECF6\", \"polar\": {\"angularaxis\": {\"gridcolor\": \"white\", \"linecolor\": \"white\", \"ticks\": \"\"}, \"bgcolor\": \"#E5ECF6\", \"radialaxis\": {\"gridcolor\": \"white\", \"linecolor\": \"white\", \"ticks\": \"\"}}, \"scene\": {\"xaxis\": {\"backgroundcolor\": \"#E5ECF6\", \"gridcolor\": \"white\", \"gridwidth\": 2, \"linecolor\": \"white\", \"showbackground\": true, \"ticks\": \"\", \"zerolinecolor\": \"white\"}, \"yaxis\": {\"backgroundcolor\": \"#E5ECF6\", \"gridcolor\": \"white\", \"gridwidth\": 2, \"linecolor\": \"white\", \"showbackground\": true, \"ticks\": \"\", \"zerolinecolor\": \"white\"}, \"zaxis\": {\"backgroundcolor\": \"#E5ECF6\", \"gridcolor\": \"white\", \"gridwidth\": 2, \"linecolor\": \"white\", \"showbackground\": true, \"ticks\": \"\", \"zerolinecolor\": \"white\"}}, \"shapedefaults\": {\"line\": {\"color\": \"#2a3f5f\"}}, \"ternary\": {\"aaxis\": {\"gridcolor\": \"white\", \"linecolor\": \"white\", \"ticks\": \"\"}, \"baxis\": {\"gridcolor\": \"white\", \"linecolor\": \"white\", \"ticks\": \"\"}, \"bgcolor\": \"#E5ECF6\", \"caxis\": {\"gridcolor\": \"white\", \"linecolor\": \"white\", \"ticks\": \"\"}}, \"title\": {\"x\": 0.05}, \"xaxis\": {\"automargin\": true, \"gridcolor\": \"white\", \"linecolor\": \"white\", \"ticks\": \"\", \"title\": {\"standoff\": 15}, \"zerolinecolor\": \"white\", \"zerolinewidth\": 2}, \"yaxis\": {\"automargin\": true, \"gridcolor\": \"white\", \"linecolor\": \"white\", \"ticks\": \"\", \"title\": {\"standoff\": 15}, \"zerolinecolor\": \"white\", \"zerolinewidth\": 2}}}, \"title\": {\"text\": \"Most Preferred Cusines in Chennai\"}, \"xaxis\": {\"anchor\": \"y\", \"categoryarray\": [\"BBQ, North Indian, European, Beverages\", \"North Indian, Chinese\", \"North Indian, Mediterranean, Asian, Arabian, BBQ\", \"North Indian, Continental, Kebab, BBQ\", \"Pizza, Italian, Fast Food, Beverages, Desserts\", \"Biryani, North Indian\", \"Mexican, American, Tex-Mex, Burger\", \"Seafood, North Indian, Chinese, Chettinad\", \"Chettinad, Biryani, South Indian\"], \"categoryorder\": \"array\", \"domain\": [0.0, 1.0], \"tickangle\": -45, \"title\": {\"text\": \"Cusine\"}}, \"yaxis\": {\"anchor\": \"x\", \"domain\": [0.0, 1.0], \"title\": {\"text\": \"Rating Count\"}}},\n",
              "                        {\"responsive\": true}\n",
              "                    ).then(function(){\n",
              "                            \n",
              "var gd = document.getElementById('c65c6127-828a-46ae-98a8-c984c0e2e268');\n",
              "var x = new MutationObserver(function (mutations, observer) {{\n",
              "        var display = window.getComputedStyle(gd).display;\n",
              "        if (!display || display === 'none') {{\n",
              "            console.log([gd, 'removed!']);\n",
              "            Plotly.purge(gd);\n",
              "            observer.disconnect();\n",
              "        }}\n",
              "}});\n",
              "\n",
              "// Listen for the removal of the full notebook cells\n",
              "var notebookContainer = gd.closest('#notebook-container');\n",
              "if (notebookContainer) {{\n",
              "    x.observe(notebookContainer, {childList: true});\n",
              "}}\n",
              "\n",
              "// Listen for the clearing of the current output cell\n",
              "var outputEl = gd.closest('.output');\n",
              "if (outputEl) {{\n",
              "    x.observe(outputEl, {childList: true});\n",
              "}}\n",
              "\n",
              "                        })\n",
              "                };\n",
              "                \n",
              "            </script>\n",
              "        </div>\n",
              "</body>\n",
              "</html>"
            ]
          },
          "metadata": {
            "tags": []
          }
        }
      ]
    },
    {
      "cell_type": "markdown",
      "metadata": {
        "id": "TTPsMLoJN5Xa"
      },
      "source": [
        "People in Chennai has varies restaurant ranging from BBQ, Seafood, Biryani, and some North Indian cuisines."
      ]
    },
    {
      "cell_type": "markdown",
      "metadata": {
        "id": "wK6q7Lygz3i1"
      },
      "source": [
        "#### What are the top 10 costliest restaurants in the country?"
      ]
    },
    {
      "cell_type": "code",
      "metadata": {
        "colab": {
          "base_uri": "https://localhost:8080/"
        },
        "id": "64pMAjLNF-cN",
        "outputId": "f5ef91a0-51d3-46a8-8ea0-ed835480dfa5"
      },
      "source": [
        "q5 = df.select('name', 'rating', 'cost_for_two', 'city').orderBy(desc('cost_for_two')).limit(10)\n",
        "q5.show()"
      ],
      "execution_count": 95,
      "outputs": [
        {
          "output_type": "stream",
          "text": [
            "+--------------------+------+------------+---------+\n",
            "|                name|rating|cost_for_two|     city|\n",
            "+--------------------+------+------------+---------+\n",
            "|Ocean - The Priva...|   3.6|       30000|   Mumbai|\n",
            "|Gol Bungalow - Ta...|   3.9|       15000|Hyderabad|\n",
            "|              Bhairo|   2.9|       15000|  Udaipur|\n",
            "|          Fly Dining|   3.8|       14000|Bengaluru|\n",
            "|Pillars - Umaid B...|   3.7|       12000|  Jodhpur|\n",
            "|Risala- Umaid Bha...|   4.1|       12000|  Jodhpur|\n",
            "|Trophy Bar- Umaid...|   3.3|       12000|  Jodhpur|\n",
            "|Wasabi By Morimot...|   4.3|       10000|   Mumbai|\n",
            "|Orient Express - ...|   4.2|        8000|Delhi NCR|\n",
            "|Yuuka - The St. R...|   4.1|        8000|   Mumbai|\n",
            "+--------------------+------+------------+---------+\n",
            "\n"
          ],
          "name": "stdout"
        }
      ]
    },
    {
      "cell_type": "code",
      "metadata": {
        "colab": {
          "base_uri": "https://localhost:8080/",
          "height": 542
        },
        "id": "cgbOKyJcEvRD",
        "outputId": "e49c7710-e7ba-47ed-c53d-93ab04087344"
      },
      "source": [
        "q5_py = q5.toPandas()\n",
        "fig = px.bar(q5_py, x= 'name', y= 'cost_for_two', text= 'cost_for_two', color= 'name')\n",
        "fig.update_traces(texttemplate= '%{text:.2s}', textposition= 'outside')\n",
        "fig.update_layout(xaxis_tickangle= -45)\n",
        "fig.update_layout(title= 'Top 10 Costliest Restaurants in the India', xaxis_title= 'Restaurants', yaxis_title= 'Cost for Two')\n",
        "\n",
        "fig"
      ],
      "execution_count": 104,
      "outputs": [
        {
          "output_type": "display_data",
          "data": {
            "text/html": [
              "<html>\n",
              "<head><meta charset=\"utf-8\" /></head>\n",
              "<body>\n",
              "    <div>\n",
              "            <script src=\"https://cdnjs.cloudflare.com/ajax/libs/mathjax/2.7.5/MathJax.js?config=TeX-AMS-MML_SVG\"></script><script type=\"text/javascript\">if (window.MathJax) {MathJax.Hub.Config({SVG: {font: \"STIX-Web\"}});}</script>\n",
              "                <script type=\"text/javascript\">window.PlotlyConfig = {MathJaxConfig: 'local'};</script>\n",
              "        <script src=\"https://cdn.plot.ly/plotly-latest.min.js\"></script>    \n",
              "            <div id=\"0f228acc-0525-431a-a872-77fecbaf74da\" class=\"plotly-graph-div\" style=\"height:525px; width:100%;\"></div>\n",
              "            <script type=\"text/javascript\">\n",
              "                \n",
              "                    window.PLOTLYENV=window.PLOTLYENV || {};\n",
              "                    \n",
              "                if (document.getElementById(\"0f228acc-0525-431a-a872-77fecbaf74da\")) {\n",
              "                    Plotly.newPlot(\n",
              "                        '0f228acc-0525-431a-a872-77fecbaf74da',\n",
              "                        [{\"alignmentgroup\": \"True\", \"hoverlabel\": {\"namelength\": 0}, \"hovertemplate\": \"name=%{x}<br>cost_for_two=%{text}\", \"legendgroup\": \"name=Ocean - The Private Dining Room - Sahara Star\", \"marker\": {\"color\": \"#636efa\"}, \"name\": \"name=Ocean - The Private Dining Room - Sahara Star\", \"offsetgroup\": \"name=Ocean - The Private Dining Room - Sahara Star\", \"orientation\": \"v\", \"showlegend\": true, \"text\": [30000.0], \"textposition\": \"outside\", \"texttemplate\": \"%{text:.2s}\", \"type\": \"bar\", \"x\": [\"Ocean - The Private Dining Room - Sahara Star\"], \"xaxis\": \"x\", \"y\": [30000], \"yaxis\": \"y\"}, {\"alignmentgroup\": \"True\", \"hoverlabel\": {\"namelength\": 0}, \"hovertemplate\": \"name=%{x}<br>cost_for_two=%{text}\", \"legendgroup\": \"name=Bhairo\", \"marker\": {\"color\": \"#EF553B\"}, \"name\": \"name=Bhairo\", \"offsetgroup\": \"name=Bhairo\", \"orientation\": \"v\", \"showlegend\": true, \"text\": [15000.0], \"textposition\": \"outside\", \"texttemplate\": \"%{text:.2s}\", \"type\": \"bar\", \"x\": [\"Bhairo\"], \"xaxis\": \"x\", \"y\": [15000], \"yaxis\": \"y\"}, {\"alignmentgroup\": \"True\", \"hoverlabel\": {\"namelength\": 0}, \"hovertemplate\": \"name=%{x}<br>cost_for_two=%{text}\", \"legendgroup\": \"name=Gol Bungalow - Taj Falaknuma Palace\", \"marker\": {\"color\": \"#00cc96\"}, \"name\": \"name=Gol Bungalow - Taj Falaknuma Palace\", \"offsetgroup\": \"name=Gol Bungalow - Taj Falaknuma Palace\", \"orientation\": \"v\", \"showlegend\": true, \"text\": [15000.0], \"textposition\": \"outside\", \"texttemplate\": \"%{text:.2s}\", \"type\": \"bar\", \"x\": [\"Gol Bungalow - Taj Falaknuma Palace\"], \"xaxis\": \"x\", \"y\": [15000], \"yaxis\": \"y\"}, {\"alignmentgroup\": \"True\", \"hoverlabel\": {\"namelength\": 0}, \"hovertemplate\": \"name=%{x}<br>cost_for_two=%{text}\", \"legendgroup\": \"name=Fly Dining\", \"marker\": {\"color\": \"#ab63fa\"}, \"name\": \"name=Fly Dining\", \"offsetgroup\": \"name=Fly Dining\", \"orientation\": \"v\", \"showlegend\": true, \"text\": [14000.0], \"textposition\": \"outside\", \"texttemplate\": \"%{text:.2s}\", \"type\": \"bar\", \"x\": [\"Fly Dining\"], \"xaxis\": \"x\", \"y\": [14000], \"yaxis\": \"y\"}, {\"alignmentgroup\": \"True\", \"hoverlabel\": {\"namelength\": 0}, \"hovertemplate\": \"name=%{x}<br>cost_for_two=%{text}\", \"legendgroup\": \"name=Risala- Umaid Bhawan Palace\", \"marker\": {\"color\": \"#FFA15A\"}, \"name\": \"name=Risala- Umaid Bhawan Palace\", \"offsetgroup\": \"name=Risala- Umaid Bhawan Palace\", \"orientation\": \"v\", \"showlegend\": true, \"text\": [12000.0], \"textposition\": \"outside\", \"texttemplate\": \"%{text:.2s}\", \"type\": \"bar\", \"x\": [\"Risala- Umaid Bhawan Palace\"], \"xaxis\": \"x\", \"y\": [12000], \"yaxis\": \"y\"}, {\"alignmentgroup\": \"True\", \"hoverlabel\": {\"namelength\": 0}, \"hovertemplate\": \"name=%{x}<br>cost_for_two=%{text}\", \"legendgroup\": \"name=Trophy Bar- Umaid Bhawan Palace\", \"marker\": {\"color\": \"#19d3f3\"}, \"name\": \"name=Trophy Bar- Umaid Bhawan Palace\", \"offsetgroup\": \"name=Trophy Bar- Umaid Bhawan Palace\", \"orientation\": \"v\", \"showlegend\": true, \"text\": [12000.0], \"textposition\": \"outside\", \"texttemplate\": \"%{text:.2s}\", \"type\": \"bar\", \"x\": [\"Trophy Bar- Umaid Bhawan Palace\"], \"xaxis\": \"x\", \"y\": [12000], \"yaxis\": \"y\"}, {\"alignmentgroup\": \"True\", \"hoverlabel\": {\"namelength\": 0}, \"hovertemplate\": \"name=%{x}<br>cost_for_two=%{text}\", \"legendgroup\": \"name=Pillars - Umaid Bhawan Palace\", \"marker\": {\"color\": \"#FF6692\"}, \"name\": \"name=Pillars - Umaid Bhawan Palace\", \"offsetgroup\": \"name=Pillars - Umaid Bhawan Palace\", \"orientation\": \"v\", \"showlegend\": true, \"text\": [12000.0], \"textposition\": \"outside\", \"texttemplate\": \"%{text:.2s}\", \"type\": \"bar\", \"x\": [\"Pillars - Umaid Bhawan Palace\"], \"xaxis\": \"x\", \"y\": [12000], \"yaxis\": \"y\"}, {\"alignmentgroup\": \"True\", \"hoverlabel\": {\"namelength\": 0}, \"hovertemplate\": \"name=%{x}<br>cost_for_two=%{text}\", \"legendgroup\": \"name=Wasabi By Morimoto - The Taj Mahal Palace\", \"marker\": {\"color\": \"#B6E880\"}, \"name\": \"name=Wasabi By Morimoto - The Taj Mahal Palace\", \"offsetgroup\": \"name=Wasabi By Morimoto - The Taj Mahal Palace\", \"orientation\": \"v\", \"showlegend\": true, \"text\": [10000.0], \"textposition\": \"outside\", \"texttemplate\": \"%{text:.2s}\", \"type\": \"bar\", \"x\": [\"Wasabi By Morimoto - The Taj Mahal Palace\"], \"xaxis\": \"x\", \"y\": [10000], \"yaxis\": \"y\"}, {\"alignmentgroup\": \"True\", \"hoverlabel\": {\"namelength\": 0}, \"hovertemplate\": \"name=%{x}<br>cost_for_two=%{text}\", \"legendgroup\": \"name=Adaa - Taj Falaknuma Palace\", \"marker\": {\"color\": \"#FF97FF\"}, \"name\": \"name=Adaa - Taj Falaknuma Palace\", \"offsetgroup\": \"name=Adaa - Taj Falaknuma Palace\", \"orientation\": \"v\", \"showlegend\": true, \"text\": [8000.0], \"textposition\": \"outside\", \"texttemplate\": \"%{text:.2s}\", \"type\": \"bar\", \"x\": [\"Adaa - Taj Falaknuma Palace\"], \"xaxis\": \"x\", \"y\": [8000], \"yaxis\": \"y\"}, {\"alignmentgroup\": \"True\", \"hoverlabel\": {\"namelength\": 0}, \"hovertemplate\": \"name=%{x}<br>cost_for_two=%{text}\", \"legendgroup\": \"name=Yuuka - The St. Regis Mumbai\", \"marker\": {\"color\": \"#FECB52\"}, \"name\": \"name=Yuuka - The St. Regis Mumbai\", \"offsetgroup\": \"name=Yuuka - The St. Regis Mumbai\", \"orientation\": \"v\", \"showlegend\": true, \"text\": [8000.0], \"textposition\": \"outside\", \"texttemplate\": \"%{text:.2s}\", \"type\": \"bar\", \"x\": [\"Yuuka - The St. Regis Mumbai\"], \"xaxis\": \"x\", \"y\": [8000], \"yaxis\": \"y\"}],\n",
              "                        {\"barmode\": \"relative\", \"legend\": {\"tracegroupgap\": 0}, \"margin\": {\"t\": 60}, \"template\": {\"data\": {\"bar\": [{\"error_x\": {\"color\": \"#2a3f5f\"}, \"error_y\": {\"color\": \"#2a3f5f\"}, \"marker\": {\"line\": {\"color\": \"#E5ECF6\", \"width\": 0.5}}, \"type\": \"bar\"}], \"barpolar\": [{\"marker\": {\"line\": {\"color\": \"#E5ECF6\", \"width\": 0.5}}, \"type\": \"barpolar\"}], \"carpet\": [{\"aaxis\": {\"endlinecolor\": \"#2a3f5f\", \"gridcolor\": \"white\", \"linecolor\": \"white\", \"minorgridcolor\": \"white\", \"startlinecolor\": \"#2a3f5f\"}, \"baxis\": {\"endlinecolor\": \"#2a3f5f\", \"gridcolor\": \"white\", \"linecolor\": \"white\", \"minorgridcolor\": \"white\", \"startlinecolor\": \"#2a3f5f\"}, \"type\": \"carpet\"}], \"choropleth\": [{\"colorbar\": {\"outlinewidth\": 0, \"ticks\": \"\"}, \"type\": \"choropleth\"}], \"contour\": [{\"colorbar\": {\"outlinewidth\": 0, \"ticks\": \"\"}, \"colorscale\": [[0.0, \"#0d0887\"], [0.1111111111111111, \"#46039f\"], [0.2222222222222222, \"#7201a8\"], [0.3333333333333333, \"#9c179e\"], [0.4444444444444444, \"#bd3786\"], [0.5555555555555556, \"#d8576b\"], [0.6666666666666666, \"#ed7953\"], [0.7777777777777778, \"#fb9f3a\"], [0.8888888888888888, \"#fdca26\"], [1.0, \"#f0f921\"]], \"type\": \"contour\"}], \"contourcarpet\": [{\"colorbar\": {\"outlinewidth\": 0, \"ticks\": \"\"}, \"type\": \"contourcarpet\"}], \"heatmap\": [{\"colorbar\": {\"outlinewidth\": 0, \"ticks\": \"\"}, \"colorscale\": [[0.0, \"#0d0887\"], [0.1111111111111111, \"#46039f\"], [0.2222222222222222, \"#7201a8\"], [0.3333333333333333, \"#9c179e\"], [0.4444444444444444, \"#bd3786\"], [0.5555555555555556, \"#d8576b\"], [0.6666666666666666, \"#ed7953\"], [0.7777777777777778, \"#fb9f3a\"], [0.8888888888888888, \"#fdca26\"], [1.0, \"#f0f921\"]], \"type\": \"heatmap\"}], \"heatmapgl\": [{\"colorbar\": {\"outlinewidth\": 0, \"ticks\": \"\"}, \"colorscale\": [[0.0, \"#0d0887\"], [0.1111111111111111, \"#46039f\"], [0.2222222222222222, \"#7201a8\"], [0.3333333333333333, \"#9c179e\"], [0.4444444444444444, \"#bd3786\"], [0.5555555555555556, \"#d8576b\"], [0.6666666666666666, \"#ed7953\"], [0.7777777777777778, \"#fb9f3a\"], [0.8888888888888888, \"#fdca26\"], [1.0, \"#f0f921\"]], \"type\": \"heatmapgl\"}], \"histogram\": [{\"marker\": {\"colorbar\": {\"outlinewidth\": 0, \"ticks\": \"\"}}, \"type\": \"histogram\"}], \"histogram2d\": [{\"colorbar\": {\"outlinewidth\": 0, \"ticks\": \"\"}, \"colorscale\": [[0.0, \"#0d0887\"], [0.1111111111111111, \"#46039f\"], [0.2222222222222222, \"#7201a8\"], [0.3333333333333333, \"#9c179e\"], [0.4444444444444444, \"#bd3786\"], [0.5555555555555556, \"#d8576b\"], [0.6666666666666666, \"#ed7953\"], [0.7777777777777778, \"#fb9f3a\"], [0.8888888888888888, \"#fdca26\"], [1.0, \"#f0f921\"]], \"type\": \"histogram2d\"}], \"histogram2dcontour\": [{\"colorbar\": {\"outlinewidth\": 0, \"ticks\": \"\"}, \"colorscale\": [[0.0, \"#0d0887\"], [0.1111111111111111, \"#46039f\"], [0.2222222222222222, \"#7201a8\"], [0.3333333333333333, \"#9c179e\"], [0.4444444444444444, \"#bd3786\"], [0.5555555555555556, \"#d8576b\"], [0.6666666666666666, \"#ed7953\"], [0.7777777777777778, \"#fb9f3a\"], [0.8888888888888888, \"#fdca26\"], [1.0, \"#f0f921\"]], \"type\": \"histogram2dcontour\"}], \"mesh3d\": [{\"colorbar\": {\"outlinewidth\": 0, \"ticks\": \"\"}, \"type\": \"mesh3d\"}], \"parcoords\": [{\"line\": {\"colorbar\": {\"outlinewidth\": 0, \"ticks\": \"\"}}, \"type\": \"parcoords\"}], \"pie\": [{\"automargin\": true, \"type\": \"pie\"}], \"scatter\": [{\"marker\": {\"colorbar\": {\"outlinewidth\": 0, \"ticks\": \"\"}}, \"type\": \"scatter\"}], \"scatter3d\": [{\"line\": {\"colorbar\": {\"outlinewidth\": 0, \"ticks\": \"\"}}, \"marker\": {\"colorbar\": {\"outlinewidth\": 0, \"ticks\": \"\"}}, \"type\": \"scatter3d\"}], \"scattercarpet\": [{\"marker\": {\"colorbar\": {\"outlinewidth\": 0, \"ticks\": \"\"}}, \"type\": \"scattercarpet\"}], \"scattergeo\": [{\"marker\": {\"colorbar\": {\"outlinewidth\": 0, \"ticks\": \"\"}}, \"type\": \"scattergeo\"}], \"scattergl\": [{\"marker\": {\"colorbar\": {\"outlinewidth\": 0, \"ticks\": \"\"}}, \"type\": \"scattergl\"}], \"scattermapbox\": [{\"marker\": {\"colorbar\": {\"outlinewidth\": 0, \"ticks\": \"\"}}, \"type\": \"scattermapbox\"}], \"scatterpolar\": [{\"marker\": {\"colorbar\": {\"outlinewidth\": 0, \"ticks\": \"\"}}, \"type\": \"scatterpolar\"}], \"scatterpolargl\": [{\"marker\": {\"colorbar\": {\"outlinewidth\": 0, \"ticks\": \"\"}}, \"type\": \"scatterpolargl\"}], \"scatterternary\": [{\"marker\": {\"colorbar\": {\"outlinewidth\": 0, \"ticks\": \"\"}}, \"type\": \"scatterternary\"}], \"surface\": [{\"colorbar\": {\"outlinewidth\": 0, \"ticks\": \"\"}, \"colorscale\": [[0.0, \"#0d0887\"], [0.1111111111111111, \"#46039f\"], [0.2222222222222222, \"#7201a8\"], [0.3333333333333333, \"#9c179e\"], [0.4444444444444444, \"#bd3786\"], [0.5555555555555556, \"#d8576b\"], [0.6666666666666666, \"#ed7953\"], [0.7777777777777778, \"#fb9f3a\"], [0.8888888888888888, \"#fdca26\"], [1.0, \"#f0f921\"]], \"type\": \"surface\"}], \"table\": [{\"cells\": {\"fill\": {\"color\": \"#EBF0F8\"}, \"line\": {\"color\": \"white\"}}, \"header\": {\"fill\": {\"color\": \"#C8D4E3\"}, \"line\": {\"color\": \"white\"}}, \"type\": \"table\"}]}, \"layout\": {\"annotationdefaults\": {\"arrowcolor\": \"#2a3f5f\", \"arrowhead\": 0, \"arrowwidth\": 1}, \"coloraxis\": {\"colorbar\": {\"outlinewidth\": 0, \"ticks\": \"\"}}, \"colorscale\": {\"diverging\": [[0, \"#8e0152\"], [0.1, \"#c51b7d\"], [0.2, \"#de77ae\"], [0.3, \"#f1b6da\"], [0.4, \"#fde0ef\"], [0.5, \"#f7f7f7\"], [0.6, \"#e6f5d0\"], [0.7, \"#b8e186\"], [0.8, \"#7fbc41\"], [0.9, \"#4d9221\"], [1, \"#276419\"]], \"sequential\": [[0.0, \"#0d0887\"], [0.1111111111111111, \"#46039f\"], [0.2222222222222222, \"#7201a8\"], [0.3333333333333333, \"#9c179e\"], [0.4444444444444444, \"#bd3786\"], [0.5555555555555556, \"#d8576b\"], [0.6666666666666666, \"#ed7953\"], [0.7777777777777778, \"#fb9f3a\"], [0.8888888888888888, \"#fdca26\"], [1.0, \"#f0f921\"]], \"sequentialminus\": [[0.0, \"#0d0887\"], [0.1111111111111111, \"#46039f\"], [0.2222222222222222, \"#7201a8\"], [0.3333333333333333, \"#9c179e\"], [0.4444444444444444, \"#bd3786\"], [0.5555555555555556, \"#d8576b\"], [0.6666666666666666, \"#ed7953\"], [0.7777777777777778, \"#fb9f3a\"], [0.8888888888888888, \"#fdca26\"], [1.0, \"#f0f921\"]]}, \"colorway\": [\"#636efa\", \"#EF553B\", \"#00cc96\", \"#ab63fa\", \"#FFA15A\", \"#19d3f3\", \"#FF6692\", \"#B6E880\", \"#FF97FF\", \"#FECB52\"], \"font\": {\"color\": \"#2a3f5f\"}, \"geo\": {\"bgcolor\": \"white\", \"lakecolor\": \"white\", \"landcolor\": \"#E5ECF6\", \"showlakes\": true, \"showland\": true, \"subunitcolor\": \"white\"}, \"hoverlabel\": {\"align\": \"left\"}, \"hovermode\": \"closest\", \"mapbox\": {\"style\": \"light\"}, \"paper_bgcolor\": \"white\", \"plot_bgcolor\": \"#E5ECF6\", \"polar\": {\"angularaxis\": {\"gridcolor\": \"white\", \"linecolor\": \"white\", \"ticks\": \"\"}, \"bgcolor\": \"#E5ECF6\", \"radialaxis\": {\"gridcolor\": \"white\", \"linecolor\": \"white\", \"ticks\": \"\"}}, \"scene\": {\"xaxis\": {\"backgroundcolor\": \"#E5ECF6\", \"gridcolor\": \"white\", \"gridwidth\": 2, \"linecolor\": \"white\", \"showbackground\": true, \"ticks\": \"\", \"zerolinecolor\": \"white\"}, \"yaxis\": {\"backgroundcolor\": \"#E5ECF6\", \"gridcolor\": \"white\", \"gridwidth\": 2, \"linecolor\": \"white\", \"showbackground\": true, \"ticks\": \"\", \"zerolinecolor\": \"white\"}, \"zaxis\": {\"backgroundcolor\": \"#E5ECF6\", \"gridcolor\": \"white\", \"gridwidth\": 2, \"linecolor\": \"white\", \"showbackground\": true, \"ticks\": \"\", \"zerolinecolor\": \"white\"}}, \"shapedefaults\": {\"line\": {\"color\": \"#2a3f5f\"}}, \"ternary\": {\"aaxis\": {\"gridcolor\": \"white\", \"linecolor\": \"white\", \"ticks\": \"\"}, \"baxis\": {\"gridcolor\": \"white\", \"linecolor\": \"white\", \"ticks\": \"\"}, \"bgcolor\": \"#E5ECF6\", \"caxis\": {\"gridcolor\": \"white\", \"linecolor\": \"white\", \"ticks\": \"\"}}, \"title\": {\"x\": 0.05}, \"xaxis\": {\"automargin\": true, \"gridcolor\": \"white\", \"linecolor\": \"white\", \"ticks\": \"\", \"title\": {\"standoff\": 15}, \"zerolinecolor\": \"white\", \"zerolinewidth\": 2}, \"yaxis\": {\"automargin\": true, \"gridcolor\": \"white\", \"linecolor\": \"white\", \"ticks\": \"\", \"title\": {\"standoff\": 15}, \"zerolinecolor\": \"white\", \"zerolinewidth\": 2}}}, \"title\": {\"text\": \"Top 10 Costliest Restaurants in the India\"}, \"xaxis\": {\"anchor\": \"y\", \"categoryarray\": [\"Ocean - The Private Dining Room - Sahara Star\", \"Bhairo\", \"Gol Bungalow - Taj Falaknuma Palace\", \"Fly Dining\", \"Risala- Umaid Bhawan Palace\", \"Trophy Bar- Umaid Bhawan Palace\", \"Pillars - Umaid Bhawan Palace\", \"Wasabi By Morimoto - The Taj Mahal Palace\", \"Adaa - Taj Falaknuma Palace\", \"Yuuka - The St. Regis Mumbai\"], \"categoryorder\": \"array\", \"domain\": [0.0, 1.0], \"tickangle\": -45, \"title\": {\"text\": \"Restaurants\"}}, \"yaxis\": {\"anchor\": \"x\", \"domain\": [0.0, 1.0], \"title\": {\"text\": \"Cost for Two\"}}},\n",
              "                        {\"responsive\": true}\n",
              "                    ).then(function(){\n",
              "                            \n",
              "var gd = document.getElementById('0f228acc-0525-431a-a872-77fecbaf74da');\n",
              "var x = new MutationObserver(function (mutations, observer) {{\n",
              "        var display = window.getComputedStyle(gd).display;\n",
              "        if (!display || display === 'none') {{\n",
              "            console.log([gd, 'removed!']);\n",
              "            Plotly.purge(gd);\n",
              "            observer.disconnect();\n",
              "        }}\n",
              "}});\n",
              "\n",
              "// Listen for the removal of the full notebook cells\n",
              "var notebookContainer = gd.closest('#notebook-container');\n",
              "if (notebookContainer) {{\n",
              "    x.observe(notebookContainer, {childList: true});\n",
              "}}\n",
              "\n",
              "// Listen for the clearing of the current output cell\n",
              "var outputEl = gd.closest('.output');\n",
              "if (outputEl) {{\n",
              "    x.observe(outputEl, {childList: true});\n",
              "}}\n",
              "\n",
              "                        })\n",
              "                };\n",
              "                \n",
              "            </script>\n",
              "        </div>\n",
              "</body>\n",
              "</html>"
            ]
          },
          "metadata": {
            "tags": []
          }
        }
      ]
    },
    {
      "cell_type": "markdown",
      "metadata": {
        "id": "ROtqxLAPREoT"
      },
      "source": [
        "#### What is the top 10 costliest restaurants in specific city?"
      ]
    },
    {
      "cell_type": "code",
      "metadata": {
        "colab": {
          "base_uri": "https://localhost:8080/"
        },
        "id": "I5dLjPjVRO2N",
        "outputId": "6afb3290-7096-4276-b785-5bbe07306ade"
      },
      "source": [
        "q6_mumbai = df.select('name', 'rating', 'cost_for_two', 'area', 'city', 'latitude', 'longitude').filter(df.city == 'Mumbai').orderBy(desc('cost_for_two')).limit(10)\n",
        "q6_mumbai.show()"
      ],
      "execution_count": 106,
      "outputs": [
        {
          "output_type": "stream",
          "text": [
            "+--------------------+------+------------+--------------------+------+-------------+-------------+\n",
            "|                name|rating|cost_for_two|                area|  city|     latitude|    longitude|\n",
            "+--------------------+------+------------+--------------------+------+-------------+-------------+\n",
            "|Ocean - The Priva...|   3.6|       30000|     Vile Parle East|Mumbai|19.0947516196|72.8542259708|\n",
            "|Wasabi By Morimot...|   4.3|       10000|              Colaba|Mumbai|18.9221397481|72.8337563574|\n",
            "|Yuuka - The St. R...|   4.1|        8000|         Lower Parel|Mumbai|18.9945723959|72.8237218782|\n",
            "|              Masque|   4.3|        6500|           Mahalaxmi|Mumbai|18.9898008573|72.8257948905|\n",
            "|Masala Kraft - Th...|   4.1|        6500|              Colaba|Mumbai|18.9221397481|72.8337566927|\n",
            "|Le Cirque Signatu...|   4.0|        6000|             Chakala|Mumbai|19.1099045333|72.8741343319|\n",
            "|Celini - Grand Hyatt|   4.2|        6000|      Santacruz East|Mumbai|19.0785225332|72.8512286022|\n",
            "|Vista - Taj Lands...|   4.0|        5500|Bandstand, Bandra...|Mumbai|19.0441599503|72.8193653002|\n",
            "|Bombay High - ITC...|   3.6|        5500|             Chakala|Mumbai|19.1039352829|72.8703628108|\n",
            "|Souk - The Taj Ma...|   4.2|        5500|              Colaba|Mumbai|18.9221397481|72.8337563574|\n",
            "+--------------------+------+------------+--------------------+------+-------------+-------------+\n",
            "\n"
          ],
          "name": "stdout"
        }
      ]
    },
    {
      "cell_type": "code",
      "metadata": {
        "colab": {
          "base_uri": "https://localhost:8080/",
          "height": 808
        },
        "id": "JPcXiw3xGcLM",
        "outputId": "33982f69-5ab5-4040-a8c6-6c369bcafc40"
      },
      "source": [
        "top_10_costliest_mumbai = folium.Map(location= [19.0760, 72.8777], zoom_start= 12)\n",
        "top_10_costliest_mum = folium.map.FeatureGroup()\n",
        "\n",
        "for name, lat, lng, in zip(q6_mumbai.toPandas()['name'].values.tolist(), q6_mumbai.toPandas()['latitude'].values.tolist(), q6_mumbai.toPandas()['longitude'].values.tolist()):\n",
        "  top_10_costliest_mum.add_child(\n",
        "      folium.Marker(\n",
        "          [lat, lng],\n",
        "          popup= name,\n",
        "      )\n",
        "  )\n",
        "\n",
        "top_10_costliest_mumbai.add_child(top_10_costliest_mum)"
      ],
      "execution_count": 109,
      "outputs": [
        {
          "output_type": "execute_result",
          "data": {
            "text/html": [
              "<div style=\"width:100%;\"><div style=\"position:relative;width:100%;height:0;padding-bottom:60%;\"><span style=\"color:#565656\">Make this Notebook Trusted to load map: File -> Trust Notebook</span><iframe src=\"about:blank\" style=\"position:absolute;width:100%;height:100%;left:0;top:0;border:none !important;\" data-html=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 onload=\"this.contentDocument.open();this.contentDocument.write(atob(this.getAttribute('data-html')));this.contentDocument.close();\" allowfullscreen webkitallowfullscreen mozallowfullscreen></iframe></div></div>"
            ],
            "text/plain": [
              "<folium.folium.Map at 0x7faf46e91be0>"
            ]
          },
          "metadata": {
            "tags": []
          },
          "execution_count": 109
        }
      ]
    },
    {
      "cell_type": "code",
      "metadata": {
        "colab": {
          "base_uri": "https://localhost:8080/",
          "height": 542
        },
        "id": "tNTLgUXPGcHc",
        "outputId": "089c49e9-46f1-4fc8-e509-26790e623d9a"
      },
      "source": [
        "q6_mumbai_py = q6_mumbai.toPandas()\n",
        "fig = px.bar(q6_mumbai_py, x= 'name', y= 'cost_for_two', text= 'cost_for_two', color= 'name')\n",
        "fig.update_traces(texttemplate= '%{text:.2s}', textposition= 'outside')\n",
        "fig.update_layout(xaxis_tickangle= -45)\n",
        "fig.update_layout(title= 'Top 10 Costliest Restaurants in the Mumbai', xaxis_title= 'Restaurants', yaxis_title= 'Cost for Two')\n",
        "\n",
        "fig"
      ],
      "execution_count": 107,
      "outputs": [
        {
          "output_type": "display_data",
          "data": {
            "text/html": [
              "<html>\n",
              "<head><meta charset=\"utf-8\" /></head>\n",
              "<body>\n",
              "    <div>\n",
              "            <script src=\"https://cdnjs.cloudflare.com/ajax/libs/mathjax/2.7.5/MathJax.js?config=TeX-AMS-MML_SVG\"></script><script type=\"text/javascript\">if (window.MathJax) {MathJax.Hub.Config({SVG: {font: \"STIX-Web\"}});}</script>\n",
              "                <script type=\"text/javascript\">window.PlotlyConfig = {MathJaxConfig: 'local'};</script>\n",
              "        <script src=\"https://cdn.plot.ly/plotly-latest.min.js\"></script>    \n",
              "            <div id=\"b0283cbe-432c-42bd-b427-022d675c1b64\" class=\"plotly-graph-div\" style=\"height:525px; width:100%;\"></div>\n",
              "            <script type=\"text/javascript\">\n",
              "                \n",
              "                    window.PLOTLYENV=window.PLOTLYENV || {};\n",
              "                    \n",
              "                if (document.getElementById(\"b0283cbe-432c-42bd-b427-022d675c1b64\")) {\n",
              "                    Plotly.newPlot(\n",
              "                        'b0283cbe-432c-42bd-b427-022d675c1b64',\n",
              "                        [{\"alignmentgroup\": \"True\", \"hoverlabel\": {\"namelength\": 0}, \"hovertemplate\": \"name=%{x}<br>cost_for_two=%{text}\", \"legendgroup\": \"name=Ocean - The Private Dining Room - Sahara Star\", \"marker\": {\"color\": \"#636efa\"}, \"name\": \"name=Ocean - The Private Dining Room - Sahara Star\", \"offsetgroup\": \"name=Ocean - The Private Dining Room - Sahara Star\", \"orientation\": \"v\", \"showlegend\": true, \"text\": [30000.0], \"textposition\": \"outside\", \"texttemplate\": \"%{text:.2s}\", \"type\": \"bar\", \"x\": [\"Ocean - The Private Dining Room - Sahara Star\"], \"xaxis\": \"x\", \"y\": [30000], \"yaxis\": \"y\"}, {\"alignmentgroup\": \"True\", \"hoverlabel\": {\"namelength\": 0}, \"hovertemplate\": \"name=%{x}<br>cost_for_two=%{text}\", \"legendgroup\": \"name=Wasabi By Morimoto - The Taj Mahal Palace\", \"marker\": {\"color\": \"#EF553B\"}, \"name\": \"name=Wasabi By Morimoto - The Taj Mahal Palace\", \"offsetgroup\": \"name=Wasabi By Morimoto - The Taj Mahal Palace\", \"orientation\": \"v\", \"showlegend\": true, \"text\": [10000.0], \"textposition\": \"outside\", \"texttemplate\": \"%{text:.2s}\", \"type\": \"bar\", \"x\": [\"Wasabi By Morimoto - The Taj Mahal Palace\"], \"xaxis\": \"x\", \"y\": [10000], \"yaxis\": \"y\"}, {\"alignmentgroup\": \"True\", \"hoverlabel\": {\"namelength\": 0}, \"hovertemplate\": \"name=%{x}<br>cost_for_two=%{text}\", \"legendgroup\": \"name=Yuuka - The St. Regis Mumbai\", \"marker\": {\"color\": \"#00cc96\"}, \"name\": \"name=Yuuka - The St. Regis Mumbai\", \"offsetgroup\": \"name=Yuuka - The St. Regis Mumbai\", \"orientation\": \"v\", \"showlegend\": true, \"text\": [8000.0], \"textposition\": \"outside\", \"texttemplate\": \"%{text:.2s}\", \"type\": \"bar\", \"x\": [\"Yuuka - The St. Regis Mumbai\"], \"xaxis\": \"x\", \"y\": [8000], \"yaxis\": \"y\"}, {\"alignmentgroup\": \"True\", \"hoverlabel\": {\"namelength\": 0}, \"hovertemplate\": \"name=%{x}<br>cost_for_two=%{text}\", \"legendgroup\": \"name=Masala Kraft - The Taj Mahal Palace\", \"marker\": {\"color\": \"#ab63fa\"}, \"name\": \"name=Masala Kraft - The Taj Mahal Palace\", \"offsetgroup\": \"name=Masala Kraft - The Taj Mahal Palace\", \"orientation\": \"v\", \"showlegend\": true, \"text\": [6500.0], \"textposition\": \"outside\", \"texttemplate\": \"%{text:.2s}\", \"type\": \"bar\", \"x\": [\"Masala Kraft - The Taj Mahal Palace\"], \"xaxis\": \"x\", \"y\": [6500], \"yaxis\": \"y\"}, {\"alignmentgroup\": \"True\", \"hoverlabel\": {\"namelength\": 0}, \"hovertemplate\": \"name=%{x}<br>cost_for_two=%{text}\", \"legendgroup\": \"name=Masque\", \"marker\": {\"color\": \"#FFA15A\"}, \"name\": \"name=Masque\", \"offsetgroup\": \"name=Masque\", \"orientation\": \"v\", \"showlegend\": true, \"text\": [6500.0], \"textposition\": \"outside\", \"texttemplate\": \"%{text:.2s}\", \"type\": \"bar\", \"x\": [\"Masque\"], \"xaxis\": \"x\", \"y\": [6500], \"yaxis\": \"y\"}, {\"alignmentgroup\": \"True\", \"hoverlabel\": {\"namelength\": 0}, \"hovertemplate\": \"name=%{x}<br>cost_for_two=%{text}\", \"legendgroup\": \"name=Le Cirque Signature - The Leela Mumbai\", \"marker\": {\"color\": \"#19d3f3\"}, \"name\": \"name=Le Cirque Signature - The Leela Mumbai\", \"offsetgroup\": \"name=Le Cirque Signature - The Leela Mumbai\", \"orientation\": \"v\", \"showlegend\": true, \"text\": [6000.0], \"textposition\": \"outside\", \"texttemplate\": \"%{text:.2s}\", \"type\": \"bar\", \"x\": [\"Le Cirque Signature - The Leela Mumbai\"], \"xaxis\": \"x\", \"y\": [6000], \"yaxis\": \"y\"}, {\"alignmentgroup\": \"True\", \"hoverlabel\": {\"namelength\": 0}, \"hovertemplate\": \"name=%{x}<br>cost_for_two=%{text}\", \"legendgroup\": \"name=Celini - Grand Hyatt\", \"marker\": {\"color\": \"#FF6692\"}, \"name\": \"name=Celini - Grand Hyatt\", \"offsetgroup\": \"name=Celini - Grand Hyatt\", \"orientation\": \"v\", \"showlegend\": true, \"text\": [6000.0], \"textposition\": \"outside\", \"texttemplate\": \"%{text:.2s}\", \"type\": \"bar\", \"x\": [\"Celini - Grand Hyatt\"], \"xaxis\": \"x\", \"y\": [6000], \"yaxis\": \"y\"}, {\"alignmentgroup\": \"True\", \"hoverlabel\": {\"namelength\": 0}, \"hovertemplate\": \"name=%{x}<br>cost_for_two=%{text}\", \"legendgroup\": \"name=San-Qi - Four Seasons\", \"marker\": {\"color\": \"#B6E880\"}, \"name\": \"name=San-Qi - Four Seasons\", \"offsetgroup\": \"name=San-Qi - Four Seasons\", \"orientation\": \"v\", \"showlegend\": true, \"text\": [5500.0], \"textposition\": \"outside\", \"texttemplate\": \"%{text:.2s}\", \"type\": \"bar\", \"x\": [\"San-Qi - Four Seasons\"], \"xaxis\": \"x\", \"y\": [5500], \"yaxis\": \"y\"}, {\"alignmentgroup\": \"True\", \"hoverlabel\": {\"namelength\": 0}, \"hovertemplate\": \"name=%{x}<br>cost_for_two=%{text}\", \"legendgroup\": \"name=Souk - The Taj Mahal Palace\", \"marker\": {\"color\": \"#FF97FF\"}, \"name\": \"name=Souk - The Taj Mahal Palace\", \"offsetgroup\": \"name=Souk - The Taj Mahal Palace\", \"orientation\": \"v\", \"showlegend\": true, \"text\": [5500.0], \"textposition\": \"outside\", \"texttemplate\": \"%{text:.2s}\", \"type\": \"bar\", \"x\": [\"Souk - The Taj Mahal Palace\"], \"xaxis\": \"x\", \"y\": [5500], \"yaxis\": \"y\"}, {\"alignmentgroup\": \"True\", \"hoverlabel\": {\"namelength\": 0}, \"hovertemplate\": \"name=%{x}<br>cost_for_two=%{text}\", \"legendgroup\": \"name=Bombay High - ITC Maratha\", \"marker\": {\"color\": \"#FECB52\"}, \"name\": \"name=Bombay High - ITC Maratha\", \"offsetgroup\": \"name=Bombay High - ITC Maratha\", \"orientation\": \"v\", \"showlegend\": true, \"text\": [5500.0], \"textposition\": \"outside\", \"texttemplate\": \"%{text:.2s}\", \"type\": \"bar\", \"x\": [\"Bombay High - ITC Maratha\"], \"xaxis\": \"x\", \"y\": [5500], \"yaxis\": \"y\"}],\n",
              "                        {\"barmode\": \"relative\", \"legend\": {\"tracegroupgap\": 0}, \"margin\": {\"t\": 60}, \"template\": {\"data\": {\"bar\": [{\"error_x\": {\"color\": \"#2a3f5f\"}, \"error_y\": {\"color\": \"#2a3f5f\"}, \"marker\": {\"line\": {\"color\": \"#E5ECF6\", \"width\": 0.5}}, \"type\": \"bar\"}], \"barpolar\": [{\"marker\": {\"line\": {\"color\": \"#E5ECF6\", \"width\": 0.5}}, \"type\": \"barpolar\"}], \"carpet\": [{\"aaxis\": {\"endlinecolor\": \"#2a3f5f\", \"gridcolor\": \"white\", \"linecolor\": \"white\", \"minorgridcolor\": \"white\", \"startlinecolor\": \"#2a3f5f\"}, \"baxis\": {\"endlinecolor\": \"#2a3f5f\", \"gridcolor\": \"white\", \"linecolor\": \"white\", \"minorgridcolor\": \"white\", \"startlinecolor\": \"#2a3f5f\"}, \"type\": \"carpet\"}], \"choropleth\": [{\"colorbar\": {\"outlinewidth\": 0, \"ticks\": \"\"}, \"type\": \"choropleth\"}], \"contour\": [{\"colorbar\": {\"outlinewidth\": 0, \"ticks\": \"\"}, \"colorscale\": [[0.0, \"#0d0887\"], [0.1111111111111111, \"#46039f\"], [0.2222222222222222, \"#7201a8\"], [0.3333333333333333, \"#9c179e\"], [0.4444444444444444, \"#bd3786\"], [0.5555555555555556, \"#d8576b\"], [0.6666666666666666, \"#ed7953\"], [0.7777777777777778, \"#fb9f3a\"], [0.8888888888888888, \"#fdca26\"], [1.0, \"#f0f921\"]], \"type\": \"contour\"}], \"contourcarpet\": [{\"colorbar\": {\"outlinewidth\": 0, \"ticks\": \"\"}, \"type\": \"contourcarpet\"}], \"heatmap\": [{\"colorbar\": {\"outlinewidth\": 0, \"ticks\": \"\"}, \"colorscale\": [[0.0, \"#0d0887\"], [0.1111111111111111, \"#46039f\"], [0.2222222222222222, \"#7201a8\"], [0.3333333333333333, \"#9c179e\"], [0.4444444444444444, \"#bd3786\"], [0.5555555555555556, \"#d8576b\"], [0.6666666666666666, \"#ed7953\"], [0.7777777777777778, \"#fb9f3a\"], [0.8888888888888888, \"#fdca26\"], [1.0, \"#f0f921\"]], \"type\": \"heatmap\"}], \"heatmapgl\": [{\"colorbar\": {\"outlinewidth\": 0, \"ticks\": \"\"}, \"colorscale\": [[0.0, \"#0d0887\"], [0.1111111111111111, \"#46039f\"], [0.2222222222222222, \"#7201a8\"], [0.3333333333333333, \"#9c179e\"], [0.4444444444444444, \"#bd3786\"], [0.5555555555555556, \"#d8576b\"], [0.6666666666666666, \"#ed7953\"], [0.7777777777777778, \"#fb9f3a\"], [0.8888888888888888, \"#fdca26\"], [1.0, \"#f0f921\"]], \"type\": \"heatmapgl\"}], \"histogram\": [{\"marker\": {\"colorbar\": {\"outlinewidth\": 0, \"ticks\": \"\"}}, \"type\": \"histogram\"}], \"histogram2d\": [{\"colorbar\": {\"outlinewidth\": 0, \"ticks\": \"\"}, \"colorscale\": [[0.0, \"#0d0887\"], [0.1111111111111111, \"#46039f\"], [0.2222222222222222, \"#7201a8\"], [0.3333333333333333, \"#9c179e\"], [0.4444444444444444, \"#bd3786\"], [0.5555555555555556, \"#d8576b\"], [0.6666666666666666, \"#ed7953\"], [0.7777777777777778, \"#fb9f3a\"], [0.8888888888888888, \"#fdca26\"], [1.0, \"#f0f921\"]], \"type\": \"histogram2d\"}], \"histogram2dcontour\": [{\"colorbar\": {\"outlinewidth\": 0, \"ticks\": \"\"}, \"colorscale\": [[0.0, \"#0d0887\"], [0.1111111111111111, \"#46039f\"], [0.2222222222222222, \"#7201a8\"], [0.3333333333333333, \"#9c179e\"], [0.4444444444444444, \"#bd3786\"], [0.5555555555555556, \"#d8576b\"], [0.6666666666666666, \"#ed7953\"], [0.7777777777777778, \"#fb9f3a\"], [0.8888888888888888, \"#fdca26\"], [1.0, \"#f0f921\"]], \"type\": \"histogram2dcontour\"}], \"mesh3d\": [{\"colorbar\": {\"outlinewidth\": 0, \"ticks\": \"\"}, \"type\": \"mesh3d\"}], \"parcoords\": [{\"line\": {\"colorbar\": {\"outlinewidth\": 0, \"ticks\": \"\"}}, \"type\": \"parcoords\"}], \"pie\": [{\"automargin\": true, \"type\": \"pie\"}], \"scatter\": [{\"marker\": {\"colorbar\": {\"outlinewidth\": 0, \"ticks\": \"\"}}, \"type\": \"scatter\"}], \"scatter3d\": [{\"line\": {\"colorbar\": {\"outlinewidth\": 0, \"ticks\": \"\"}}, \"marker\": {\"colorbar\": {\"outlinewidth\": 0, \"ticks\": \"\"}}, \"type\": \"scatter3d\"}], \"scattercarpet\": [{\"marker\": {\"colorbar\": {\"outlinewidth\": 0, \"ticks\": \"\"}}, \"type\": \"scattercarpet\"}], \"scattergeo\": [{\"marker\": {\"colorbar\": {\"outlinewidth\": 0, \"ticks\": \"\"}}, \"type\": \"scattergeo\"}], \"scattergl\": [{\"marker\": {\"colorbar\": {\"outlinewidth\": 0, \"ticks\": \"\"}}, \"type\": \"scattergl\"}], \"scattermapbox\": [{\"marker\": {\"colorbar\": {\"outlinewidth\": 0, \"ticks\": \"\"}}, \"type\": \"scattermapbox\"}], \"scatterpolar\": [{\"marker\": {\"colorbar\": {\"outlinewidth\": 0, \"ticks\": \"\"}}, \"type\": \"scatterpolar\"}], \"scatterpolargl\": [{\"marker\": {\"colorbar\": {\"outlinewidth\": 0, \"ticks\": \"\"}}, \"type\": \"scatterpolargl\"}], \"scatterternary\": [{\"marker\": {\"colorbar\": {\"outlinewidth\": 0, \"ticks\": \"\"}}, \"type\": \"scatterternary\"}], \"surface\": [{\"colorbar\": {\"outlinewidth\": 0, \"ticks\": \"\"}, \"colorscale\": [[0.0, \"#0d0887\"], [0.1111111111111111, \"#46039f\"], [0.2222222222222222, \"#7201a8\"], [0.3333333333333333, \"#9c179e\"], [0.4444444444444444, \"#bd3786\"], [0.5555555555555556, \"#d8576b\"], [0.6666666666666666, \"#ed7953\"], [0.7777777777777778, \"#fb9f3a\"], [0.8888888888888888, \"#fdca26\"], [1.0, \"#f0f921\"]], \"type\": \"surface\"}], \"table\": [{\"cells\": {\"fill\": {\"color\": \"#EBF0F8\"}, \"line\": {\"color\": \"white\"}}, \"header\": {\"fill\": {\"color\": \"#C8D4E3\"}, \"line\": {\"color\": \"white\"}}, \"type\": \"table\"}]}, \"layout\": {\"annotationdefaults\": {\"arrowcolor\": \"#2a3f5f\", \"arrowhead\": 0, \"arrowwidth\": 1}, \"coloraxis\": {\"colorbar\": {\"outlinewidth\": 0, \"ticks\": \"\"}}, \"colorscale\": {\"diverging\": [[0, \"#8e0152\"], [0.1, \"#c51b7d\"], [0.2, \"#de77ae\"], [0.3, \"#f1b6da\"], [0.4, \"#fde0ef\"], [0.5, \"#f7f7f7\"], [0.6, \"#e6f5d0\"], [0.7, \"#b8e186\"], [0.8, \"#7fbc41\"], [0.9, \"#4d9221\"], [1, \"#276419\"]], \"sequential\": [[0.0, \"#0d0887\"], [0.1111111111111111, \"#46039f\"], [0.2222222222222222, \"#7201a8\"], [0.3333333333333333, \"#9c179e\"], [0.4444444444444444, \"#bd3786\"], [0.5555555555555556, \"#d8576b\"], [0.6666666666666666, \"#ed7953\"], [0.7777777777777778, \"#fb9f3a\"], [0.8888888888888888, \"#fdca26\"], [1.0, \"#f0f921\"]], \"sequentialminus\": [[0.0, \"#0d0887\"], [0.1111111111111111, \"#46039f\"], [0.2222222222222222, \"#7201a8\"], [0.3333333333333333, \"#9c179e\"], [0.4444444444444444, \"#bd3786\"], [0.5555555555555556, \"#d8576b\"], [0.6666666666666666, \"#ed7953\"], [0.7777777777777778, \"#fb9f3a\"], [0.8888888888888888, \"#fdca26\"], [1.0, \"#f0f921\"]]}, \"colorway\": [\"#636efa\", \"#EF553B\", \"#00cc96\", \"#ab63fa\", \"#FFA15A\", \"#19d3f3\", \"#FF6692\", \"#B6E880\", \"#FF97FF\", \"#FECB52\"], \"font\": {\"color\": \"#2a3f5f\"}, \"geo\": {\"bgcolor\": \"white\", \"lakecolor\": \"white\", \"landcolor\": \"#E5ECF6\", \"showlakes\": true, \"showland\": true, \"subunitcolor\": \"white\"}, \"hoverlabel\": {\"align\": \"left\"}, \"hovermode\": \"closest\", \"mapbox\": {\"style\": \"light\"}, \"paper_bgcolor\": \"white\", \"plot_bgcolor\": \"#E5ECF6\", \"polar\": {\"angularaxis\": {\"gridcolor\": \"white\", \"linecolor\": \"white\", \"ticks\": \"\"}, \"bgcolor\": \"#E5ECF6\", \"radialaxis\": {\"gridcolor\": \"white\", \"linecolor\": \"white\", \"ticks\": \"\"}}, \"scene\": {\"xaxis\": {\"backgroundcolor\": \"#E5ECF6\", \"gridcolor\": \"white\", \"gridwidth\": 2, \"linecolor\": \"white\", \"showbackground\": true, \"ticks\": \"\", \"zerolinecolor\": \"white\"}, \"yaxis\": {\"backgroundcolor\": \"#E5ECF6\", \"gridcolor\": \"white\", \"gridwidth\": 2, \"linecolor\": \"white\", \"showbackground\": true, \"ticks\": \"\", \"zerolinecolor\": \"white\"}, \"zaxis\": {\"backgroundcolor\": \"#E5ECF6\", \"gridcolor\": \"white\", \"gridwidth\": 2, \"linecolor\": \"white\", \"showbackground\": true, \"ticks\": \"\", \"zerolinecolor\": \"white\"}}, \"shapedefaults\": {\"line\": {\"color\": \"#2a3f5f\"}}, \"ternary\": {\"aaxis\": {\"gridcolor\": \"white\", \"linecolor\": \"white\", \"ticks\": \"\"}, \"baxis\": {\"gridcolor\": \"white\", \"linecolor\": \"white\", \"ticks\": \"\"}, \"bgcolor\": \"#E5ECF6\", \"caxis\": {\"gridcolor\": \"white\", \"linecolor\": \"white\", \"ticks\": \"\"}}, \"title\": {\"x\": 0.05}, \"xaxis\": {\"automargin\": true, \"gridcolor\": \"white\", \"linecolor\": \"white\", \"ticks\": \"\", \"title\": {\"standoff\": 15}, \"zerolinecolor\": \"white\", \"zerolinewidth\": 2}, \"yaxis\": {\"automargin\": true, \"gridcolor\": \"white\", \"linecolor\": \"white\", \"ticks\": \"\", \"title\": {\"standoff\": 15}, \"zerolinecolor\": \"white\", \"zerolinewidth\": 2}}}, \"title\": {\"text\": \"Top 10 Costliest Restaurants in the Mumbai\"}, \"xaxis\": {\"anchor\": \"y\", \"categoryarray\": [\"Ocean - The Private Dining Room - Sahara Star\", \"Wasabi By Morimoto - The Taj Mahal Palace\", \"Yuuka - The St. Regis Mumbai\", \"Masala Kraft - The Taj Mahal Palace\", \"Masque\", \"Le Cirque Signature - The Leela Mumbai\", \"Celini - Grand Hyatt\", \"San-Qi - Four Seasons\", \"Souk - The Taj Mahal Palace\", \"Bombay High - ITC Maratha\"], \"categoryorder\": \"array\", \"domain\": [0.0, 1.0], \"tickangle\": -45, \"title\": {\"text\": \"Restaurants\"}}, \"yaxis\": {\"anchor\": \"x\", \"domain\": [0.0, 1.0], \"title\": {\"text\": \"Cost for Two\"}}},\n",
              "                        {\"responsive\": true}\n",
              "                    ).then(function(){\n",
              "                            \n",
              "var gd = document.getElementById('b0283cbe-432c-42bd-b427-022d675c1b64');\n",
              "var x = new MutationObserver(function (mutations, observer) {{\n",
              "        var display = window.getComputedStyle(gd).display;\n",
              "        if (!display || display === 'none') {{\n",
              "            console.log([gd, 'removed!']);\n",
              "            Plotly.purge(gd);\n",
              "            observer.disconnect();\n",
              "        }}\n",
              "}});\n",
              "\n",
              "// Listen for the removal of the full notebook cells\n",
              "var notebookContainer = gd.closest('#notebook-container');\n",
              "if (notebookContainer) {{\n",
              "    x.observe(notebookContainer, {childList: true});\n",
              "}}\n",
              "\n",
              "// Listen for the clearing of the current output cell\n",
              "var outputEl = gd.closest('.output');\n",
              "if (outputEl) {{\n",
              "    x.observe(outputEl, {childList: true});\n",
              "}}\n",
              "\n",
              "                        })\n",
              "                };\n",
              "                \n",
              "            </script>\n",
              "        </div>\n",
              "</body>\n",
              "</html>"
            ]
          },
          "metadata": {
            "tags": []
          }
        }
      ]
    },
    {
      "cell_type": "markdown",
      "metadata": {
        "id": "GDLBAWCYSfDM"
      },
      "source": [
        "The most costliest hotel in the country is **Ocean - The Private Dining Room - Sahara Star** which is in Mumbai."
      ]
    },
    {
      "cell_type": "code",
      "metadata": {
        "colab": {
          "base_uri": "https://localhost:8080/"
        },
        "id": "trehh9LvRtyo",
        "outputId": "d7e19d86-d9cd-4079-bc10-045c6f0f676e"
      },
      "source": [
        "q6_hyderabad = df.select('name', 'rating', 'cost_for_two', 'area', 'city', 'latitude', 'longitude').filter(df.city == 'Hyderabad').orderBy(desc('cost_for_two')).limit(10)\n",
        "q6_hyderabad.show()"
      ],
      "execution_count": 110,
      "outputs": [
        {
          "output_type": "stream",
          "text": [
            "+--------------------+------+------------+-------------+---------+-------------+-------------+\n",
            "|                name|rating|cost_for_two|         area|     city|     latitude|    longitude|\n",
            "+--------------------+------+------------+-------------+---------+-------------+-------------+\n",
            "|Gol Bungalow - Ta...|   3.9|       15000|    Falaknuma|Hyderabad|  17.33433806|78.4676032886|\n",
            "|Adaa - Taj Falakn...|   4.5|        8000|    Falaknuma|Hyderabad|17.3342833316|78.4675684199|\n",
            "|Celeste - Taj Fal...|   4.4|        7000|    Falaknuma|Hyderabad| 17.334312136|78.4675623849|\n",
            "|Vineela Yadlapall...|   3.5|        5000|Jubilee Hills|Hyderabad|     17.43328|    78.404894|\n",
            "|Thai Pavilion - V...|   4.3|        4000|     Begumpet|Hyderabad|17.4436660625|78.4609145299|\n",
            "|Altitude - Hydera...|   4.1|        4000|Necklace Road|Hyderabad|17.4252295042|78.4868296981|\n",
            "|  Prego - The Westin|   4.2|        3500|  Hitech City|Hyderabad|17.4419548168| 78.381065838|\n",
            "|Dakshin - ITC Kak...|   4.4|        3400|     Begumpet|Hyderabad|17.4325583528|78.4563098475|\n",
            "|Kebabs & Kurries ...|   4.2|        3400|     Begumpet|Hyderabad|17.4325554739|78.4562531859|\n",
            "|   Ohm - Hotel Avasa|   4.2|        3000|  Hitech City|Hyderabad|17.4472756186|78.3842928708|\n",
            "+--------------------+------+------------+-------------+---------+-------------+-------------+\n",
            "\n"
          ],
          "name": "stdout"
        }
      ]
    },
    {
      "cell_type": "code",
      "metadata": {
        "colab": {
          "base_uri": "https://localhost:8080/",
          "height": 808
        },
        "id": "6DqHMK0UH4_l",
        "outputId": "619ab772-f458-476a-f22a-7cd5b3ce78cc"
      },
      "source": [
        "top_10_costliest_hyderabad = folium.Map(location= [17.3850, 78.4867], zoom_start= 12)\n",
        "top_10_costliest_hyd = folium.map.FeatureGroup()\n",
        "\n",
        "for name, lat, lng, in zip(q6_hyderabad.toPandas()['name'].values.tolist(), q6_hyderabad.toPandas()['latitude'].values.tolist(), q6_hyderabad.toPandas()['longitude'].values.tolist()):\n",
        "  top_10_costliest_hyd.add_child(\n",
        "      folium.Marker(\n",
        "          [lat, lng],\n",
        "          popup= name,\n",
        "      )\n",
        "  )\n",
        "\n",
        "top_10_costliest_hyderabad.add_child(top_10_costliest_hyd)"
      ],
      "execution_count": 111,
      "outputs": [
        {
          "output_type": "execute_result",
          "data": {
            "text/html": [
              "<div style=\"width:100%;\"><div style=\"position:relative;width:100%;height:0;padding-bottom:60%;\"><span style=\"color:#565656\">Make this Notebook Trusted to load map: File -> Trust Notebook</span><iframe src=\"about:blank\" style=\"position:absolute;width:100%;height:100%;left:0;top:0;border:none !important;\" data-html=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 onload=\"this.contentDocument.open();this.contentDocument.write(atob(this.getAttribute('data-html')));this.contentDocument.close();\" allowfullscreen webkitallowfullscreen mozallowfullscreen></iframe></div></div>"
            ],
            "text/plain": [
              "<folium.folium.Map at 0x7faf46e48198>"
            ]
          },
          "metadata": {
            "tags": []
          },
          "execution_count": 111
        }
      ]
    },
    {
      "cell_type": "code",
      "metadata": {
        "colab": {
          "base_uri": "https://localhost:8080/",
          "height": 542
        },
        "id": "ieKJKBRmH5Cj",
        "outputId": "f25f63d0-d85d-42df-a874-c86c148f25a9"
      },
      "source": [
        "q6_hyderabad_py = q6_hyderabad.toPandas()\n",
        "fig = px.bar(q6_hyderabad_py, x= 'name', y= 'cost_for_two', text= 'cost_for_two', color= 'name')\n",
        "fig.update_traces(texttemplate= '%{text:.2s}', textposition= 'outside')\n",
        "fig.update_layout(xaxis_tickangle= -45)\n",
        "fig.update_layout(title= 'Top 10 Costliest Restaurants in the Hyderabad', xaxis_title= 'Restaurants', yaxis_title= 'Cost for Two')\n",
        "\n",
        "fig"
      ],
      "execution_count": 112,
      "outputs": [
        {
          "output_type": "display_data",
          "data": {
            "text/html": [
              "<html>\n",
              "<head><meta charset=\"utf-8\" /></head>\n",
              "<body>\n",
              "    <div>\n",
              "            <script src=\"https://cdnjs.cloudflare.com/ajax/libs/mathjax/2.7.5/MathJax.js?config=TeX-AMS-MML_SVG\"></script><script type=\"text/javascript\">if (window.MathJax) {MathJax.Hub.Config({SVG: {font: \"STIX-Web\"}});}</script>\n",
              "                <script type=\"text/javascript\">window.PlotlyConfig = {MathJaxConfig: 'local'};</script>\n",
              "        <script src=\"https://cdn.plot.ly/plotly-latest.min.js\"></script>    \n",
              "            <div id=\"9dd09cad-e045-4f66-82f2-cbb578162830\" class=\"plotly-graph-div\" style=\"height:525px; width:100%;\"></div>\n",
              "            <script type=\"text/javascript\">\n",
              "                \n",
              "                    window.PLOTLYENV=window.PLOTLYENV || {};\n",
              "                    \n",
              "                if (document.getElementById(\"9dd09cad-e045-4f66-82f2-cbb578162830\")) {\n",
              "                    Plotly.newPlot(\n",
              "                        '9dd09cad-e045-4f66-82f2-cbb578162830',\n",
              "                        [{\"alignmentgroup\": \"True\", \"hoverlabel\": {\"namelength\": 0}, \"hovertemplate\": \"name=%{x}<br>cost_for_two=%{text}\", \"legendgroup\": \"name=Gol Bungalow - Taj Falaknuma Palace\", \"marker\": {\"color\": \"#636efa\"}, \"name\": \"name=Gol Bungalow - Taj Falaknuma Palace\", \"offsetgroup\": \"name=Gol Bungalow - Taj Falaknuma Palace\", \"orientation\": \"v\", \"showlegend\": true, \"text\": [15000.0], \"textposition\": \"outside\", \"texttemplate\": \"%{text:.2s}\", \"type\": \"bar\", \"x\": [\"Gol Bungalow - Taj Falaknuma Palace\"], \"xaxis\": \"x\", \"y\": [15000], \"yaxis\": \"y\"}, {\"alignmentgroup\": \"True\", \"hoverlabel\": {\"namelength\": 0}, \"hovertemplate\": \"name=%{x}<br>cost_for_two=%{text}\", \"legendgroup\": \"name=Adaa - Taj Falaknuma Palace\", \"marker\": {\"color\": \"#EF553B\"}, \"name\": \"name=Adaa - Taj Falaknuma Palace\", \"offsetgroup\": \"name=Adaa - Taj Falaknuma Palace\", \"orientation\": \"v\", \"showlegend\": true, \"text\": [8000.0], \"textposition\": \"outside\", \"texttemplate\": \"%{text:.2s}\", \"type\": \"bar\", \"x\": [\"Adaa - Taj Falaknuma Palace\"], \"xaxis\": \"x\", \"y\": [8000], \"yaxis\": \"y\"}, {\"alignmentgroup\": \"True\", \"hoverlabel\": {\"namelength\": 0}, \"hovertemplate\": \"name=%{x}<br>cost_for_two=%{text}\", \"legendgroup\": \"name=Celeste - Taj Falaknuma Palace\", \"marker\": {\"color\": \"#00cc96\"}, \"name\": \"name=Celeste - Taj Falaknuma Palace\", \"offsetgroup\": \"name=Celeste - Taj Falaknuma Palace\", \"orientation\": \"v\", \"showlegend\": true, \"text\": [7000.0], \"textposition\": \"outside\", \"texttemplate\": \"%{text:.2s}\", \"type\": \"bar\", \"x\": [\"Celeste - Taj Falaknuma Palace\"], \"xaxis\": \"x\", \"y\": [7000], \"yaxis\": \"y\"}, {\"alignmentgroup\": \"True\", \"hoverlabel\": {\"namelength\": 0}, \"hovertemplate\": \"name=%{x}<br>cost_for_two=%{text}\", \"legendgroup\": \"name=Vineela Yadlapalli Cakes\", \"marker\": {\"color\": \"#ab63fa\"}, \"name\": \"name=Vineela Yadlapalli Cakes\", \"offsetgroup\": \"name=Vineela Yadlapalli Cakes\", \"orientation\": \"v\", \"showlegend\": true, \"text\": [5000.0], \"textposition\": \"outside\", \"texttemplate\": \"%{text:.2s}\", \"type\": \"bar\", \"x\": [\"Vineela Yadlapalli Cakes\"], \"xaxis\": \"x\", \"y\": [5000], \"yaxis\": \"y\"}, {\"alignmentgroup\": \"True\", \"hoverlabel\": {\"namelength\": 0}, \"hovertemplate\": \"name=%{x}<br>cost_for_two=%{text}\", \"legendgroup\": \"name=Altitude - Hyderabad Marriott Hotel & Convention Centre\", \"marker\": {\"color\": \"#FFA15A\"}, \"name\": \"name=Altitude - Hyderabad Marriott Hotel & Convention Centre\", \"offsetgroup\": \"name=Altitude - Hyderabad Marriott Hotel & Convention Centre\", \"orientation\": \"v\", \"showlegend\": true, \"text\": [4000.0], \"textposition\": \"outside\", \"texttemplate\": \"%{text:.2s}\", \"type\": \"bar\", \"x\": [\"Altitude - Hyderabad Marriott Hotel & Convention Centre\"], \"xaxis\": \"x\", \"y\": [4000], \"yaxis\": \"y\"}, {\"alignmentgroup\": \"True\", \"hoverlabel\": {\"namelength\": 0}, \"hovertemplate\": \"name=%{x}<br>cost_for_two=%{text}\", \"legendgroup\": \"name=Thai Pavilion - Vivanta By Taj\", \"marker\": {\"color\": \"#19d3f3\"}, \"name\": \"name=Thai Pavilion - Vivanta By Taj\", \"offsetgroup\": \"name=Thai Pavilion - Vivanta By Taj\", \"orientation\": \"v\", \"showlegend\": true, \"text\": [4000.0], \"textposition\": \"outside\", \"texttemplate\": \"%{text:.2s}\", \"type\": \"bar\", \"x\": [\"Thai Pavilion - Vivanta By Taj\"], \"xaxis\": \"x\", \"y\": [4000], \"yaxis\": \"y\"}, {\"alignmentgroup\": \"True\", \"hoverlabel\": {\"namelength\": 0}, \"hovertemplate\": \"name=%{x}<br>cost_for_two=%{text}\", \"legendgroup\": \"name=Prego - The Westin\", \"marker\": {\"color\": \"#FF6692\"}, \"name\": \"name=Prego - The Westin\", \"offsetgroup\": \"name=Prego - The Westin\", \"orientation\": \"v\", \"showlegend\": true, \"text\": [3500.0], \"textposition\": \"outside\", \"texttemplate\": \"%{text:.2s}\", \"type\": \"bar\", \"x\": [\"Prego - The Westin\"], \"xaxis\": \"x\", \"y\": [3500], \"yaxis\": \"y\"}, {\"alignmentgroup\": \"True\", \"hoverlabel\": {\"namelength\": 0}, \"hovertemplate\": \"name=%{x}<br>cost_for_two=%{text}\", \"legendgroup\": \"name=Kebabs & Kurries - ITC Kakatiya\", \"marker\": {\"color\": \"#B6E880\"}, \"name\": \"name=Kebabs & Kurries - ITC Kakatiya\", \"offsetgroup\": \"name=Kebabs & Kurries - ITC Kakatiya\", \"orientation\": \"v\", \"showlegend\": true, \"text\": [3400.0], \"textposition\": \"outside\", \"texttemplate\": \"%{text:.2s}\", \"type\": \"bar\", \"x\": [\"Kebabs & Kurries - ITC Kakatiya\"], \"xaxis\": \"x\", \"y\": [3400], \"yaxis\": \"y\"}, {\"alignmentgroup\": \"True\", \"hoverlabel\": {\"namelength\": 0}, \"hovertemplate\": \"name=%{x}<br>cost_for_two=%{text}\", \"legendgroup\": \"name=Dakshin - ITC Kakatiya\", \"marker\": {\"color\": \"#FF97FF\"}, \"name\": \"name=Dakshin - ITC Kakatiya\", \"offsetgroup\": \"name=Dakshin - ITC Kakatiya\", \"orientation\": \"v\", \"showlegend\": true, \"text\": [3400.0], \"textposition\": \"outside\", \"texttemplate\": \"%{text:.2s}\", \"type\": \"bar\", \"x\": [\"Dakshin - ITC Kakatiya\"], \"xaxis\": \"x\", \"y\": [3400], \"yaxis\": \"y\"}, {\"alignmentgroup\": \"True\", \"hoverlabel\": {\"namelength\": 0}, \"hovertemplate\": \"name=%{x}<br>cost_for_two=%{text}\", \"legendgroup\": \"name=Ohm - Hotel Avasa\", \"marker\": {\"color\": \"#FECB52\"}, \"name\": \"name=Ohm - Hotel Avasa\", \"offsetgroup\": \"name=Ohm - Hotel Avasa\", \"orientation\": \"v\", \"showlegend\": true, \"text\": [3000.0], \"textposition\": \"outside\", \"texttemplate\": \"%{text:.2s}\", \"type\": \"bar\", \"x\": [\"Ohm - Hotel Avasa\"], \"xaxis\": \"x\", \"y\": [3000], \"yaxis\": \"y\"}],\n",
              "                        {\"barmode\": \"relative\", \"legend\": {\"tracegroupgap\": 0}, \"margin\": {\"t\": 60}, \"template\": {\"data\": {\"bar\": [{\"error_x\": {\"color\": \"#2a3f5f\"}, \"error_y\": {\"color\": \"#2a3f5f\"}, \"marker\": {\"line\": {\"color\": \"#E5ECF6\", \"width\": 0.5}}, \"type\": \"bar\"}], \"barpolar\": [{\"marker\": {\"line\": {\"color\": \"#E5ECF6\", \"width\": 0.5}}, \"type\": \"barpolar\"}], \"carpet\": [{\"aaxis\": {\"endlinecolor\": \"#2a3f5f\", \"gridcolor\": \"white\", \"linecolor\": \"white\", \"minorgridcolor\": \"white\", \"startlinecolor\": \"#2a3f5f\"}, \"baxis\": {\"endlinecolor\": \"#2a3f5f\", \"gridcolor\": \"white\", \"linecolor\": \"white\", \"minorgridcolor\": \"white\", \"startlinecolor\": \"#2a3f5f\"}, \"type\": \"carpet\"}], \"choropleth\": [{\"colorbar\": {\"outlinewidth\": 0, \"ticks\": \"\"}, \"type\": \"choropleth\"}], \"contour\": [{\"colorbar\": {\"outlinewidth\": 0, \"ticks\": \"\"}, \"colorscale\": [[0.0, \"#0d0887\"], [0.1111111111111111, \"#46039f\"], [0.2222222222222222, \"#7201a8\"], [0.3333333333333333, \"#9c179e\"], [0.4444444444444444, \"#bd3786\"], [0.5555555555555556, \"#d8576b\"], [0.6666666666666666, \"#ed7953\"], [0.7777777777777778, \"#fb9f3a\"], [0.8888888888888888, \"#fdca26\"], [1.0, \"#f0f921\"]], \"type\": \"contour\"}], \"contourcarpet\": [{\"colorbar\": {\"outlinewidth\": 0, \"ticks\": \"\"}, \"type\": \"contourcarpet\"}], \"heatmap\": [{\"colorbar\": {\"outlinewidth\": 0, \"ticks\": \"\"}, \"colorscale\": [[0.0, \"#0d0887\"], [0.1111111111111111, \"#46039f\"], [0.2222222222222222, \"#7201a8\"], [0.3333333333333333, \"#9c179e\"], [0.4444444444444444, \"#bd3786\"], [0.5555555555555556, \"#d8576b\"], [0.6666666666666666, \"#ed7953\"], [0.7777777777777778, \"#fb9f3a\"], [0.8888888888888888, \"#fdca26\"], [1.0, \"#f0f921\"]], \"type\": \"heatmap\"}], \"heatmapgl\": [{\"colorbar\": {\"outlinewidth\": 0, \"ticks\": \"\"}, \"colorscale\": [[0.0, \"#0d0887\"], [0.1111111111111111, \"#46039f\"], [0.2222222222222222, \"#7201a8\"], [0.3333333333333333, \"#9c179e\"], [0.4444444444444444, \"#bd3786\"], [0.5555555555555556, \"#d8576b\"], [0.6666666666666666, \"#ed7953\"], [0.7777777777777778, \"#fb9f3a\"], [0.8888888888888888, \"#fdca26\"], [1.0, \"#f0f921\"]], \"type\": \"heatmapgl\"}], \"histogram\": [{\"marker\": {\"colorbar\": {\"outlinewidth\": 0, \"ticks\": \"\"}}, \"type\": \"histogram\"}], \"histogram2d\": [{\"colorbar\": {\"outlinewidth\": 0, \"ticks\": \"\"}, \"colorscale\": [[0.0, \"#0d0887\"], [0.1111111111111111, \"#46039f\"], [0.2222222222222222, \"#7201a8\"], [0.3333333333333333, \"#9c179e\"], [0.4444444444444444, \"#bd3786\"], [0.5555555555555556, \"#d8576b\"], [0.6666666666666666, \"#ed7953\"], [0.7777777777777778, \"#fb9f3a\"], [0.8888888888888888, \"#fdca26\"], [1.0, \"#f0f921\"]], \"type\": \"histogram2d\"}], \"histogram2dcontour\": [{\"colorbar\": {\"outlinewidth\": 0, \"ticks\": \"\"}, \"colorscale\": [[0.0, \"#0d0887\"], [0.1111111111111111, \"#46039f\"], [0.2222222222222222, \"#7201a8\"], [0.3333333333333333, \"#9c179e\"], [0.4444444444444444, \"#bd3786\"], [0.5555555555555556, \"#d8576b\"], [0.6666666666666666, \"#ed7953\"], [0.7777777777777778, \"#fb9f3a\"], [0.8888888888888888, \"#fdca26\"], [1.0, \"#f0f921\"]], \"type\": \"histogram2dcontour\"}], \"mesh3d\": [{\"colorbar\": {\"outlinewidth\": 0, \"ticks\": \"\"}, \"type\": \"mesh3d\"}], \"parcoords\": [{\"line\": {\"colorbar\": {\"outlinewidth\": 0, \"ticks\": \"\"}}, \"type\": \"parcoords\"}], \"pie\": [{\"automargin\": true, \"type\": \"pie\"}], \"scatter\": [{\"marker\": {\"colorbar\": {\"outlinewidth\": 0, \"ticks\": \"\"}}, \"type\": \"scatter\"}], \"scatter3d\": [{\"line\": {\"colorbar\": {\"outlinewidth\": 0, \"ticks\": \"\"}}, \"marker\": {\"colorbar\": {\"outlinewidth\": 0, \"ticks\": \"\"}}, \"type\": \"scatter3d\"}], \"scattercarpet\": [{\"marker\": {\"colorbar\": {\"outlinewidth\": 0, \"ticks\": \"\"}}, \"type\": \"scattercarpet\"}], \"scattergeo\": [{\"marker\": {\"colorbar\": {\"outlinewidth\": 0, \"ticks\": \"\"}}, \"type\": \"scattergeo\"}], \"scattergl\": [{\"marker\": {\"colorbar\": {\"outlinewidth\": 0, \"ticks\": \"\"}}, \"type\": \"scattergl\"}], \"scattermapbox\": [{\"marker\": {\"colorbar\": {\"outlinewidth\": 0, \"ticks\": \"\"}}, \"type\": \"scattermapbox\"}], \"scatterpolar\": [{\"marker\": {\"colorbar\": {\"outlinewidth\": 0, \"ticks\": \"\"}}, \"type\": \"scatterpolar\"}], \"scatterpolargl\": [{\"marker\": {\"colorbar\": {\"outlinewidth\": 0, \"ticks\": \"\"}}, \"type\": \"scatterpolargl\"}], \"scatterternary\": [{\"marker\": {\"colorbar\": {\"outlinewidth\": 0, \"ticks\": \"\"}}, \"type\": \"scatterternary\"}], \"surface\": [{\"colorbar\": {\"outlinewidth\": 0, \"ticks\": \"\"}, \"colorscale\": [[0.0, \"#0d0887\"], [0.1111111111111111, \"#46039f\"], [0.2222222222222222, \"#7201a8\"], [0.3333333333333333, \"#9c179e\"], [0.4444444444444444, \"#bd3786\"], [0.5555555555555556, \"#d8576b\"], [0.6666666666666666, \"#ed7953\"], [0.7777777777777778, \"#fb9f3a\"], [0.8888888888888888, \"#fdca26\"], [1.0, \"#f0f921\"]], \"type\": \"surface\"}], \"table\": [{\"cells\": {\"fill\": {\"color\": \"#EBF0F8\"}, \"line\": {\"color\": \"white\"}}, \"header\": {\"fill\": {\"color\": \"#C8D4E3\"}, \"line\": {\"color\": \"white\"}}, \"type\": \"table\"}]}, \"layout\": {\"annotationdefaults\": {\"arrowcolor\": \"#2a3f5f\", \"arrowhead\": 0, \"arrowwidth\": 1}, \"coloraxis\": {\"colorbar\": {\"outlinewidth\": 0, \"ticks\": \"\"}}, \"colorscale\": {\"diverging\": [[0, \"#8e0152\"], [0.1, \"#c51b7d\"], [0.2, \"#de77ae\"], [0.3, \"#f1b6da\"], [0.4, \"#fde0ef\"], [0.5, \"#f7f7f7\"], [0.6, \"#e6f5d0\"], [0.7, \"#b8e186\"], [0.8, \"#7fbc41\"], [0.9, \"#4d9221\"], [1, \"#276419\"]], \"sequential\": [[0.0, \"#0d0887\"], [0.1111111111111111, \"#46039f\"], [0.2222222222222222, \"#7201a8\"], [0.3333333333333333, \"#9c179e\"], [0.4444444444444444, \"#bd3786\"], [0.5555555555555556, \"#d8576b\"], [0.6666666666666666, \"#ed7953\"], [0.7777777777777778, \"#fb9f3a\"], [0.8888888888888888, \"#fdca26\"], [1.0, \"#f0f921\"]], \"sequentialminus\": [[0.0, \"#0d0887\"], [0.1111111111111111, \"#46039f\"], [0.2222222222222222, \"#7201a8\"], [0.3333333333333333, \"#9c179e\"], [0.4444444444444444, \"#bd3786\"], [0.5555555555555556, \"#d8576b\"], [0.6666666666666666, \"#ed7953\"], [0.7777777777777778, \"#fb9f3a\"], [0.8888888888888888, \"#fdca26\"], [1.0, \"#f0f921\"]]}, \"colorway\": [\"#636efa\", \"#EF553B\", \"#00cc96\", \"#ab63fa\", \"#FFA15A\", \"#19d3f3\", \"#FF6692\", \"#B6E880\", \"#FF97FF\", \"#FECB52\"], \"font\": {\"color\": \"#2a3f5f\"}, \"geo\": {\"bgcolor\": \"white\", \"lakecolor\": \"white\", \"landcolor\": \"#E5ECF6\", \"showlakes\": true, \"showland\": true, \"subunitcolor\": \"white\"}, \"hoverlabel\": {\"align\": \"left\"}, \"hovermode\": \"closest\", \"mapbox\": {\"style\": \"light\"}, \"paper_bgcolor\": \"white\", \"plot_bgcolor\": \"#E5ECF6\", \"polar\": {\"angularaxis\": {\"gridcolor\": \"white\", \"linecolor\": \"white\", \"ticks\": \"\"}, \"bgcolor\": \"#E5ECF6\", \"radialaxis\": {\"gridcolor\": \"white\", \"linecolor\": \"white\", \"ticks\": \"\"}}, \"scene\": {\"xaxis\": {\"backgroundcolor\": \"#E5ECF6\", \"gridcolor\": \"white\", \"gridwidth\": 2, \"linecolor\": \"white\", \"showbackground\": true, \"ticks\": \"\", \"zerolinecolor\": \"white\"}, \"yaxis\": {\"backgroundcolor\": \"#E5ECF6\", \"gridcolor\": \"white\", \"gridwidth\": 2, \"linecolor\": \"white\", \"showbackground\": true, \"ticks\": \"\", \"zerolinecolor\": \"white\"}, \"zaxis\": {\"backgroundcolor\": \"#E5ECF6\", \"gridcolor\": \"white\", \"gridwidth\": 2, \"linecolor\": \"white\", \"showbackground\": true, \"ticks\": \"\", \"zerolinecolor\": \"white\"}}, \"shapedefaults\": {\"line\": {\"color\": \"#2a3f5f\"}}, \"ternary\": {\"aaxis\": {\"gridcolor\": \"white\", \"linecolor\": \"white\", \"ticks\": \"\"}, \"baxis\": {\"gridcolor\": \"white\", \"linecolor\": \"white\", \"ticks\": \"\"}, \"bgcolor\": \"#E5ECF6\", \"caxis\": {\"gridcolor\": \"white\", \"linecolor\": \"white\", \"ticks\": \"\"}}, \"title\": {\"x\": 0.05}, \"xaxis\": {\"automargin\": true, \"gridcolor\": \"white\", \"linecolor\": \"white\", \"ticks\": \"\", \"title\": {\"standoff\": 15}, \"zerolinecolor\": \"white\", \"zerolinewidth\": 2}, \"yaxis\": {\"automargin\": true, \"gridcolor\": \"white\", \"linecolor\": \"white\", \"ticks\": \"\", \"title\": {\"standoff\": 15}, \"zerolinecolor\": \"white\", \"zerolinewidth\": 2}}}, \"title\": {\"text\": \"Top 10 Costliest Restaurants in the Hyderabad\"}, \"xaxis\": {\"anchor\": \"y\", \"categoryarray\": [\"Gol Bungalow - Taj Falaknuma Palace\", \"Adaa - Taj Falaknuma Palace\", \"Celeste - Taj Falaknuma Palace\", \"Vineela Yadlapalli Cakes\", \"Altitude - Hyderabad Marriott Hotel & Convention Centre\", \"Thai Pavilion - Vivanta By Taj\", \"Prego - The Westin\", \"Kebabs & Kurries - ITC Kakatiya\", \"Dakshin - ITC Kakatiya\", \"Ohm - Hotel Avasa\"], \"categoryorder\": \"array\", \"domain\": [0.0, 1.0], \"tickangle\": -45, \"title\": {\"text\": \"Restaurants\"}}, \"yaxis\": {\"anchor\": \"x\", \"domain\": [0.0, 1.0], \"title\": {\"text\": \"Cost for Two\"}}},\n",
              "                        {\"responsive\": true}\n",
              "                    ).then(function(){\n",
              "                            \n",
              "var gd = document.getElementById('9dd09cad-e045-4f66-82f2-cbb578162830');\n",
              "var x = new MutationObserver(function (mutations, observer) {{\n",
              "        var display = window.getComputedStyle(gd).display;\n",
              "        if (!display || display === 'none') {{\n",
              "            console.log([gd, 'removed!']);\n",
              "            Plotly.purge(gd);\n",
              "            observer.disconnect();\n",
              "        }}\n",
              "}});\n",
              "\n",
              "// Listen for the removal of the full notebook cells\n",
              "var notebookContainer = gd.closest('#notebook-container');\n",
              "if (notebookContainer) {{\n",
              "    x.observe(notebookContainer, {childList: true});\n",
              "}}\n",
              "\n",
              "// Listen for the clearing of the current output cell\n",
              "var outputEl = gd.closest('.output');\n",
              "if (outputEl) {{\n",
              "    x.observe(outputEl, {childList: true});\n",
              "}}\n",
              "\n",
              "                        })\n",
              "                };\n",
              "                \n",
              "            </script>\n",
              "        </div>\n",
              "</body>\n",
              "</html>"
            ]
          },
          "metadata": {
            "tags": []
          }
        }
      ]
    },
    {
      "cell_type": "markdown",
      "metadata": {
        "id": "80_DS8MFS-9v"
      },
      "source": [
        "For the city of Hyderabad, the most costly restaurant is the **Gol Bungalow - Taj Falaknuma Palace** "
      ]
    },
    {
      "cell_type": "code",
      "metadata": {
        "colab": {
          "base_uri": "https://localhost:8080/"
        },
        "id": "RoVVw-3yR2UX",
        "outputId": "528547d7-13a2-4247-a4c6-d1bbbae5fd56"
      },
      "source": [
        "q6_bengaluru = df.select('name', 'rating', 'cost_for_two', 'area', 'city', 'latitude', 'longitude').filter(df.city == 'Bengaluru').orderBy(desc('cost_for_two')).limit(10)\n",
        "q6_bengaluru.show()"
      ],
      "execution_count": 113,
      "outputs": [
        {
          "output_type": "stream",
          "text": [
            "+--------------------+------+------------+-----------------+---------+-------------+-------------+\n",
            "|                name|rating|cost_for_two|             area|     city|     latitude|    longitude|\n",
            "+--------------------+------+------------+-----------------+---------+-------------+-------------+\n",
            "|          Fly Dining|   3.8|       14000|         Nagawara|Bengaluru| 13.047513357|77.6103280485|\n",
            "|Le Cirque Signatu...|   4.2|        6000| Old Airport Road|Bengaluru|12.9596221967|77.6487148181|\n",
            "|Royal Afghan - IT...|   4.3|        6000|      Sankey Road|Bengaluru|12.9946448598|77.5852289423|\n",
            "|         Grasshopper|   4.3|        5000|Bannerghatta Road|Bengaluru|12.8641891753|77.5894108415|\n",
            "|Dakshin - ITC Win...|   4.3|        5000|      Sankey Road|Bengaluru|12.9946461666|77.5852343068|\n",
            "|Dum Pukht Jolly N...|   4.3|        5000|      Sankey Road|Bengaluru|12.9946693616|77.5853553414|\n",
            "|Malties - Radisso...|   4.2|        4500|     Marathahalli|Bengaluru|12.9498869046|77.6992553473|\n",
            "|La Brasserie - Le...|   4.1|        4100|      Sankey Road|Bengaluru|12.9906614959|77.5857660547|\n",
            "|Edo Restaurant & ...|   4.3|        4000|    Richmond Road|Bengaluru|12.9673921865| 77.596391961|\n",
            "|Riwaz - The Ritz-...|   4.1|        4000|   Residency Road|Bengaluru|12.9682328507|77.6011773571|\n",
            "+--------------------+------+------------+-----------------+---------+-------------+-------------+\n",
            "\n"
          ],
          "name": "stdout"
        }
      ]
    },
    {
      "cell_type": "code",
      "metadata": {
        "colab": {
          "base_uri": "https://localhost:8080/",
          "height": 808
        },
        "id": "x_x_fy4XIqY2",
        "outputId": "a31f872a-6f02-458a-e9d5-121466b3adcd"
      },
      "source": [
        "top_10_costliest_bengaluru = folium.Map(location= [12.9716, 77.5946], zoom_start= 12)\n",
        "top_10_costliest_ben = folium.map.FeatureGroup()\n",
        "\n",
        "for name, lat, lng, in zip(q6_bengaluru.toPandas()['name'].values.tolist(), q6_bengaluru.toPandas()['latitude'].values.tolist(), q6_bengaluru.toPandas()['longitude'].values.tolist()):\n",
        "  top_10_costliest_ben.add_child(\n",
        "      folium.Marker(\n",
        "          [lat, lng],\n",
        "          popup= name,\n",
        "      )\n",
        "  )\n",
        "\n",
        "top_10_costliest_bengaluru.add_child(top_10_costliest_ben)"
      ],
      "execution_count": 114,
      "outputs": [
        {
          "output_type": "execute_result",
          "data": {
            "text/html": [
              "<div style=\"width:100%;\"><div style=\"position:relative;width:100%;height:0;padding-bottom:60%;\"><span style=\"color:#565656\">Make this Notebook Trusted to load map: File -> Trust Notebook</span><iframe src=\"about:blank\" style=\"position:absolute;width:100%;height:100%;left:0;top:0;border:none !important;\" data-html=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 onload=\"this.contentDocument.open();this.contentDocument.write(atob(this.getAttribute('data-html')));this.contentDocument.close();\" allowfullscreen webkitallowfullscreen mozallowfullscreen></iframe></div></div>"
            ],
            "text/plain": [
              "<folium.folium.Map at 0x7faf489f7240>"
            ]
          },
          "metadata": {
            "tags": []
          },
          "execution_count": 114
        }
      ]
    },
    {
      "cell_type": "code",
      "metadata": {
        "colab": {
          "base_uri": "https://localhost:8080/",
          "height": 542
        },
        "id": "7drLwlO_Iqge",
        "outputId": "3585eee1-1a54-45bf-a56b-e9960d927664"
      },
      "source": [
        "q6_bengaluru_py = q6_bengaluru.toPandas()\n",
        "fig = px.bar(q6_bengaluru_py, x= 'name', y= 'cost_for_two', text= 'cost_for_two', color= 'name')\n",
        "fig.update_traces(texttemplate= '%{text:.2s}', textposition= 'outside')\n",
        "fig.update_layout(xaxis_tickangle= -45)\n",
        "fig.update_layout(title= 'Top 10 Costliest Restaurants in the Bangalore', xaxis_title= 'Restaurants', yaxis_title= 'Cost for Two')\n",
        "\n",
        "fig"
      ],
      "execution_count": 115,
      "outputs": [
        {
          "output_type": "display_data",
          "data": {
            "text/html": [
              "<html>\n",
              "<head><meta charset=\"utf-8\" /></head>\n",
              "<body>\n",
              "    <div>\n",
              "            <script src=\"https://cdnjs.cloudflare.com/ajax/libs/mathjax/2.7.5/MathJax.js?config=TeX-AMS-MML_SVG\"></script><script type=\"text/javascript\">if (window.MathJax) {MathJax.Hub.Config({SVG: {font: \"STIX-Web\"}});}</script>\n",
              "                <script type=\"text/javascript\">window.PlotlyConfig = {MathJaxConfig: 'local'};</script>\n",
              "        <script src=\"https://cdn.plot.ly/plotly-latest.min.js\"></script>    \n",
              "            <div id=\"163ccd01-6cb2-4db8-9d1d-9a239094f018\" class=\"plotly-graph-div\" style=\"height:525px; width:100%;\"></div>\n",
              "            <script type=\"text/javascript\">\n",
              "                \n",
              "                    window.PLOTLYENV=window.PLOTLYENV || {};\n",
              "                    \n",
              "                if (document.getElementById(\"163ccd01-6cb2-4db8-9d1d-9a239094f018\")) {\n",
              "                    Plotly.newPlot(\n",
              "                        '163ccd01-6cb2-4db8-9d1d-9a239094f018',\n",
              "                        [{\"alignmentgroup\": \"True\", \"hoverlabel\": {\"namelength\": 0}, \"hovertemplate\": \"name=%{x}<br>cost_for_two=%{text}\", \"legendgroup\": \"name=Fly Dining\", \"marker\": {\"color\": \"#636efa\"}, \"name\": \"name=Fly Dining\", \"offsetgroup\": \"name=Fly Dining\", \"orientation\": \"v\", \"showlegend\": true, \"text\": [14000.0], \"textposition\": \"outside\", \"texttemplate\": \"%{text:.2s}\", \"type\": \"bar\", \"x\": [\"Fly Dining\"], \"xaxis\": \"x\", \"y\": [14000], \"yaxis\": \"y\"}, {\"alignmentgroup\": \"True\", \"hoverlabel\": {\"namelength\": 0}, \"hovertemplate\": \"name=%{x}<br>cost_for_two=%{text}\", \"legendgroup\": \"name=Royal Afghan - ITC Windsor\", \"marker\": {\"color\": \"#EF553B\"}, \"name\": \"name=Royal Afghan - ITC Windsor\", \"offsetgroup\": \"name=Royal Afghan - ITC Windsor\", \"orientation\": \"v\", \"showlegend\": true, \"text\": [6000.0], \"textposition\": \"outside\", \"texttemplate\": \"%{text:.2s}\", \"type\": \"bar\", \"x\": [\"Royal Afghan - ITC Windsor\"], \"xaxis\": \"x\", \"y\": [6000], \"yaxis\": \"y\"}, {\"alignmentgroup\": \"True\", \"hoverlabel\": {\"namelength\": 0}, \"hovertemplate\": \"name=%{x}<br>cost_for_two=%{text}\", \"legendgroup\": \"name=Le Cirque Signature - The Leela Palace\", \"marker\": {\"color\": \"#00cc96\"}, \"name\": \"name=Le Cirque Signature - The Leela Palace\", \"offsetgroup\": \"name=Le Cirque Signature - The Leela Palace\", \"orientation\": \"v\", \"showlegend\": true, \"text\": [6000.0], \"textposition\": \"outside\", \"texttemplate\": \"%{text:.2s}\", \"type\": \"bar\", \"x\": [\"Le Cirque Signature - The Leela Palace\"], \"xaxis\": \"x\", \"y\": [6000], \"yaxis\": \"y\"}, {\"alignmentgroup\": \"True\", \"hoverlabel\": {\"namelength\": 0}, \"hovertemplate\": \"name=%{x}<br>cost_for_two=%{text}\", \"legendgroup\": \"name=Grasshopper\", \"marker\": {\"color\": \"#ab63fa\"}, \"name\": \"name=Grasshopper\", \"offsetgroup\": \"name=Grasshopper\", \"orientation\": \"v\", \"showlegend\": true, \"text\": [5000.0], \"textposition\": \"outside\", \"texttemplate\": \"%{text:.2s}\", \"type\": \"bar\", \"x\": [\"Grasshopper\"], \"xaxis\": \"x\", \"y\": [5000], \"yaxis\": \"y\"}, {\"alignmentgroup\": \"True\", \"hoverlabel\": {\"namelength\": 0}, \"hovertemplate\": \"name=%{x}<br>cost_for_two=%{text}\", \"legendgroup\": \"name=Dakshin - ITC Windsor\", \"marker\": {\"color\": \"#FFA15A\"}, \"name\": \"name=Dakshin - ITC Windsor\", \"offsetgroup\": \"name=Dakshin - ITC Windsor\", \"orientation\": \"v\", \"showlegend\": true, \"text\": [5000.0], \"textposition\": \"outside\", \"texttemplate\": \"%{text:.2s}\", \"type\": \"bar\", \"x\": [\"Dakshin - ITC Windsor\"], \"xaxis\": \"x\", \"y\": [5000], \"yaxis\": \"y\"}, {\"alignmentgroup\": \"True\", \"hoverlabel\": {\"namelength\": 0}, \"hovertemplate\": \"name=%{x}<br>cost_for_two=%{text}\", \"legendgroup\": \"name=Dum Pukht Jolly Nabobs - ITC Windsor\", \"marker\": {\"color\": \"#19d3f3\"}, \"name\": \"name=Dum Pukht Jolly Nabobs - ITC Windsor\", \"offsetgroup\": \"name=Dum Pukht Jolly Nabobs - ITC Windsor\", \"orientation\": \"v\", \"showlegend\": true, \"text\": [5000.0], \"textposition\": \"outside\", \"texttemplate\": \"%{text:.2s}\", \"type\": \"bar\", \"x\": [\"Dum Pukht Jolly Nabobs - ITC Windsor\"], \"xaxis\": \"x\", \"y\": [5000], \"yaxis\": \"y\"}, {\"alignmentgroup\": \"True\", \"hoverlabel\": {\"namelength\": 0}, \"hovertemplate\": \"name=%{x}<br>cost_for_two=%{text}\", \"legendgroup\": \"name=Malties - Radisson Blu\", \"marker\": {\"color\": \"#FF6692\"}, \"name\": \"name=Malties - Radisson Blu\", \"offsetgroup\": \"name=Malties - Radisson Blu\", \"orientation\": \"v\", \"showlegend\": true, \"text\": [4500.0], \"textposition\": \"outside\", \"texttemplate\": \"%{text:.2s}\", \"type\": \"bar\", \"x\": [\"Malties - Radisson Blu\"], \"xaxis\": \"x\", \"y\": [4500], \"yaxis\": \"y\"}, {\"alignmentgroup\": \"True\", \"hoverlabel\": {\"namelength\": 0}, \"hovertemplate\": \"name=%{x}<br>cost_for_two=%{text}\", \"legendgroup\": \"name=La Brasserie - Le Meridien\", \"marker\": {\"color\": \"#B6E880\"}, \"name\": \"name=La Brasserie - Le Meridien\", \"offsetgroup\": \"name=La Brasserie - Le Meridien\", \"orientation\": \"v\", \"showlegend\": true, \"text\": [4100.0], \"textposition\": \"outside\", \"texttemplate\": \"%{text:.2s}\", \"type\": \"bar\", \"x\": [\"La Brasserie - Le Meridien\"], \"xaxis\": \"x\", \"y\": [4100], \"yaxis\": \"y\"}, {\"alignmentgroup\": \"True\", \"hoverlabel\": {\"namelength\": 0}, \"hovertemplate\": \"name=%{x}<br>cost_for_two=%{text}\", \"legendgroup\": \"name=Edo Restaurant & Bar - ITC Gardenia\", \"marker\": {\"color\": \"#FF97FF\"}, \"name\": \"name=Edo Restaurant & Bar - ITC Gardenia\", \"offsetgroup\": \"name=Edo Restaurant & Bar - ITC Gardenia\", \"orientation\": \"v\", \"showlegend\": true, \"text\": [4000.0], \"textposition\": \"outside\", \"texttemplate\": \"%{text:.2s}\", \"type\": \"bar\", \"x\": [\"Edo Restaurant & Bar - ITC Gardenia\"], \"xaxis\": \"x\", \"y\": [4000], \"yaxis\": \"y\"}, {\"alignmentgroup\": \"True\", \"hoverlabel\": {\"namelength\": 0}, \"hovertemplate\": \"name=%{x}<br>cost_for_two=%{text}\", \"legendgroup\": \"name=Riwaz - The Ritz-Carlton\", \"marker\": {\"color\": \"#FECB52\"}, \"name\": \"name=Riwaz - The Ritz-Carlton\", \"offsetgroup\": \"name=Riwaz - The Ritz-Carlton\", \"orientation\": \"v\", \"showlegend\": true, \"text\": [4000.0], \"textposition\": \"outside\", \"texttemplate\": \"%{text:.2s}\", \"type\": \"bar\", \"x\": [\"Riwaz - The Ritz-Carlton\"], \"xaxis\": \"x\", \"y\": [4000], \"yaxis\": \"y\"}],\n",
              "                        {\"barmode\": \"relative\", \"legend\": {\"tracegroupgap\": 0}, \"margin\": {\"t\": 60}, \"template\": {\"data\": {\"bar\": [{\"error_x\": {\"color\": \"#2a3f5f\"}, \"error_y\": {\"color\": \"#2a3f5f\"}, \"marker\": {\"line\": {\"color\": \"#E5ECF6\", \"width\": 0.5}}, \"type\": \"bar\"}], \"barpolar\": [{\"marker\": {\"line\": {\"color\": \"#E5ECF6\", \"width\": 0.5}}, \"type\": \"barpolar\"}], \"carpet\": [{\"aaxis\": {\"endlinecolor\": \"#2a3f5f\", \"gridcolor\": \"white\", \"linecolor\": \"white\", \"minorgridcolor\": \"white\", \"startlinecolor\": \"#2a3f5f\"}, \"baxis\": {\"endlinecolor\": \"#2a3f5f\", \"gridcolor\": \"white\", \"linecolor\": \"white\", \"minorgridcolor\": \"white\", \"startlinecolor\": \"#2a3f5f\"}, \"type\": \"carpet\"}], \"choropleth\": [{\"colorbar\": {\"outlinewidth\": 0, \"ticks\": \"\"}, \"type\": \"choropleth\"}], \"contour\": [{\"colorbar\": {\"outlinewidth\": 0, \"ticks\": \"\"}, \"colorscale\": [[0.0, \"#0d0887\"], [0.1111111111111111, \"#46039f\"], [0.2222222222222222, \"#7201a8\"], [0.3333333333333333, \"#9c179e\"], [0.4444444444444444, \"#bd3786\"], [0.5555555555555556, \"#d8576b\"], [0.6666666666666666, \"#ed7953\"], [0.7777777777777778, \"#fb9f3a\"], [0.8888888888888888, \"#fdca26\"], [1.0, \"#f0f921\"]], \"type\": \"contour\"}], \"contourcarpet\": [{\"colorbar\": {\"outlinewidth\": 0, \"ticks\": \"\"}, \"type\": \"contourcarpet\"}], \"heatmap\": [{\"colorbar\": {\"outlinewidth\": 0, \"ticks\": \"\"}, \"colorscale\": [[0.0, \"#0d0887\"], [0.1111111111111111, \"#46039f\"], [0.2222222222222222, \"#7201a8\"], [0.3333333333333333, \"#9c179e\"], [0.4444444444444444, \"#bd3786\"], [0.5555555555555556, \"#d8576b\"], [0.6666666666666666, \"#ed7953\"], [0.7777777777777778, \"#fb9f3a\"], [0.8888888888888888, \"#fdca26\"], [1.0, \"#f0f921\"]], \"type\": \"heatmap\"}], \"heatmapgl\": [{\"colorbar\": {\"outlinewidth\": 0, \"ticks\": \"\"}, \"colorscale\": [[0.0, \"#0d0887\"], [0.1111111111111111, \"#46039f\"], [0.2222222222222222, \"#7201a8\"], [0.3333333333333333, \"#9c179e\"], [0.4444444444444444, \"#bd3786\"], [0.5555555555555556, \"#d8576b\"], [0.6666666666666666, \"#ed7953\"], [0.7777777777777778, \"#fb9f3a\"], [0.8888888888888888, \"#fdca26\"], [1.0, \"#f0f921\"]], \"type\": \"heatmapgl\"}], \"histogram\": [{\"marker\": {\"colorbar\": {\"outlinewidth\": 0, \"ticks\": \"\"}}, \"type\": \"histogram\"}], \"histogram2d\": [{\"colorbar\": {\"outlinewidth\": 0, \"ticks\": \"\"}, \"colorscale\": [[0.0, \"#0d0887\"], [0.1111111111111111, \"#46039f\"], [0.2222222222222222, \"#7201a8\"], [0.3333333333333333, \"#9c179e\"], [0.4444444444444444, \"#bd3786\"], [0.5555555555555556, \"#d8576b\"], [0.6666666666666666, \"#ed7953\"], [0.7777777777777778, \"#fb9f3a\"], [0.8888888888888888, \"#fdca26\"], [1.0, \"#f0f921\"]], \"type\": \"histogram2d\"}], \"histogram2dcontour\": [{\"colorbar\": {\"outlinewidth\": 0, \"ticks\": \"\"}, \"colorscale\": [[0.0, \"#0d0887\"], [0.1111111111111111, \"#46039f\"], [0.2222222222222222, \"#7201a8\"], [0.3333333333333333, \"#9c179e\"], [0.4444444444444444, \"#bd3786\"], [0.5555555555555556, \"#d8576b\"], [0.6666666666666666, \"#ed7953\"], [0.7777777777777778, \"#fb9f3a\"], [0.8888888888888888, \"#fdca26\"], [1.0, \"#f0f921\"]], \"type\": \"histogram2dcontour\"}], \"mesh3d\": [{\"colorbar\": {\"outlinewidth\": 0, \"ticks\": \"\"}, \"type\": \"mesh3d\"}], \"parcoords\": [{\"line\": {\"colorbar\": {\"outlinewidth\": 0, \"ticks\": \"\"}}, \"type\": \"parcoords\"}], \"pie\": [{\"automargin\": true, \"type\": \"pie\"}], \"scatter\": [{\"marker\": {\"colorbar\": {\"outlinewidth\": 0, \"ticks\": \"\"}}, \"type\": \"scatter\"}], \"scatter3d\": [{\"line\": {\"colorbar\": {\"outlinewidth\": 0, \"ticks\": \"\"}}, \"marker\": {\"colorbar\": {\"outlinewidth\": 0, \"ticks\": \"\"}}, \"type\": \"scatter3d\"}], \"scattercarpet\": [{\"marker\": {\"colorbar\": {\"outlinewidth\": 0, \"ticks\": \"\"}}, \"type\": \"scattercarpet\"}], \"scattergeo\": [{\"marker\": {\"colorbar\": {\"outlinewidth\": 0, \"ticks\": \"\"}}, \"type\": \"scattergeo\"}], \"scattergl\": [{\"marker\": {\"colorbar\": {\"outlinewidth\": 0, \"ticks\": \"\"}}, \"type\": \"scattergl\"}], \"scattermapbox\": [{\"marker\": {\"colorbar\": {\"outlinewidth\": 0, \"ticks\": \"\"}}, \"type\": \"scattermapbox\"}], \"scatterpolar\": [{\"marker\": {\"colorbar\": {\"outlinewidth\": 0, \"ticks\": \"\"}}, \"type\": \"scatterpolar\"}], \"scatterpolargl\": [{\"marker\": {\"colorbar\": {\"outlinewidth\": 0, \"ticks\": \"\"}}, \"type\": \"scatterpolargl\"}], \"scatterternary\": [{\"marker\": {\"colorbar\": {\"outlinewidth\": 0, \"ticks\": \"\"}}, \"type\": \"scatterternary\"}], \"surface\": [{\"colorbar\": {\"outlinewidth\": 0, \"ticks\": \"\"}, \"colorscale\": [[0.0, \"#0d0887\"], [0.1111111111111111, \"#46039f\"], [0.2222222222222222, \"#7201a8\"], [0.3333333333333333, \"#9c179e\"], [0.4444444444444444, \"#bd3786\"], [0.5555555555555556, \"#d8576b\"], [0.6666666666666666, \"#ed7953\"], [0.7777777777777778, \"#fb9f3a\"], [0.8888888888888888, \"#fdca26\"], [1.0, \"#f0f921\"]], \"type\": \"surface\"}], \"table\": [{\"cells\": {\"fill\": {\"color\": \"#EBF0F8\"}, \"line\": {\"color\": \"white\"}}, \"header\": {\"fill\": {\"color\": \"#C8D4E3\"}, \"line\": {\"color\": \"white\"}}, \"type\": \"table\"}]}, \"layout\": {\"annotationdefaults\": {\"arrowcolor\": \"#2a3f5f\", \"arrowhead\": 0, \"arrowwidth\": 1}, \"coloraxis\": {\"colorbar\": {\"outlinewidth\": 0, \"ticks\": \"\"}}, \"colorscale\": {\"diverging\": [[0, \"#8e0152\"], [0.1, \"#c51b7d\"], [0.2, \"#de77ae\"], [0.3, \"#f1b6da\"], [0.4, \"#fde0ef\"], [0.5, \"#f7f7f7\"], [0.6, \"#e6f5d0\"], [0.7, \"#b8e186\"], [0.8, \"#7fbc41\"], [0.9, \"#4d9221\"], [1, \"#276419\"]], \"sequential\": [[0.0, \"#0d0887\"], [0.1111111111111111, \"#46039f\"], [0.2222222222222222, \"#7201a8\"], [0.3333333333333333, \"#9c179e\"], [0.4444444444444444, \"#bd3786\"], [0.5555555555555556, \"#d8576b\"], [0.6666666666666666, \"#ed7953\"], [0.7777777777777778, \"#fb9f3a\"], [0.8888888888888888, \"#fdca26\"], [1.0, \"#f0f921\"]], \"sequentialminus\": [[0.0, \"#0d0887\"], [0.1111111111111111, \"#46039f\"], [0.2222222222222222, \"#7201a8\"], [0.3333333333333333, \"#9c179e\"], [0.4444444444444444, \"#bd3786\"], [0.5555555555555556, \"#d8576b\"], [0.6666666666666666, \"#ed7953\"], [0.7777777777777778, \"#fb9f3a\"], [0.8888888888888888, \"#fdca26\"], [1.0, \"#f0f921\"]]}, \"colorway\": [\"#636efa\", \"#EF553B\", \"#00cc96\", \"#ab63fa\", \"#FFA15A\", \"#19d3f3\", \"#FF6692\", \"#B6E880\", \"#FF97FF\", \"#FECB52\"], \"font\": {\"color\": \"#2a3f5f\"}, \"geo\": {\"bgcolor\": \"white\", \"lakecolor\": \"white\", \"landcolor\": \"#E5ECF6\", \"showlakes\": true, \"showland\": true, \"subunitcolor\": \"white\"}, \"hoverlabel\": {\"align\": \"left\"}, \"hovermode\": \"closest\", \"mapbox\": {\"style\": \"light\"}, \"paper_bgcolor\": \"white\", \"plot_bgcolor\": \"#E5ECF6\", \"polar\": {\"angularaxis\": {\"gridcolor\": \"white\", \"linecolor\": \"white\", \"ticks\": \"\"}, \"bgcolor\": \"#E5ECF6\", \"radialaxis\": {\"gridcolor\": \"white\", \"linecolor\": \"white\", \"ticks\": \"\"}}, \"scene\": {\"xaxis\": {\"backgroundcolor\": \"#E5ECF6\", \"gridcolor\": \"white\", \"gridwidth\": 2, \"linecolor\": \"white\", \"showbackground\": true, \"ticks\": \"\", \"zerolinecolor\": \"white\"}, \"yaxis\": {\"backgroundcolor\": \"#E5ECF6\", \"gridcolor\": \"white\", \"gridwidth\": 2, \"linecolor\": \"white\", \"showbackground\": true, \"ticks\": \"\", \"zerolinecolor\": \"white\"}, \"zaxis\": {\"backgroundcolor\": \"#E5ECF6\", \"gridcolor\": \"white\", \"gridwidth\": 2, \"linecolor\": \"white\", \"showbackground\": true, \"ticks\": \"\", \"zerolinecolor\": \"white\"}}, \"shapedefaults\": {\"line\": {\"color\": \"#2a3f5f\"}}, \"ternary\": {\"aaxis\": {\"gridcolor\": \"white\", \"linecolor\": \"white\", \"ticks\": \"\"}, \"baxis\": {\"gridcolor\": \"white\", \"linecolor\": \"white\", \"ticks\": \"\"}, \"bgcolor\": \"#E5ECF6\", \"caxis\": {\"gridcolor\": \"white\", \"linecolor\": \"white\", \"ticks\": \"\"}}, \"title\": {\"x\": 0.05}, \"xaxis\": {\"automargin\": true, \"gridcolor\": \"white\", \"linecolor\": \"white\", \"ticks\": \"\", \"title\": {\"standoff\": 15}, \"zerolinecolor\": \"white\", \"zerolinewidth\": 2}, \"yaxis\": {\"automargin\": true, \"gridcolor\": \"white\", \"linecolor\": \"white\", \"ticks\": \"\", \"title\": {\"standoff\": 15}, \"zerolinecolor\": \"white\", \"zerolinewidth\": 2}}}, \"title\": {\"text\": \"Top 10 Costliest Restaurants in the Bangalore\"}, \"xaxis\": {\"anchor\": \"y\", \"categoryarray\": [\"Fly Dining\", \"Royal Afghan - ITC Windsor\", \"Le Cirque Signature - The Leela Palace\", \"Grasshopper\", \"Dakshin - ITC Windsor\", \"Dum Pukht Jolly Nabobs - ITC Windsor\", \"Malties - Radisson Blu\", \"La Brasserie - Le Meridien\", \"Edo Restaurant & Bar - ITC Gardenia\", \"Riwaz - The Ritz-Carlton\"], \"categoryorder\": \"array\", \"domain\": [0.0, 1.0], \"tickangle\": -45, \"title\": {\"text\": \"Restaurants\"}}, \"yaxis\": {\"anchor\": \"x\", \"domain\": [0.0, 1.0], \"title\": {\"text\": \"Cost for Two\"}}},\n",
              "                        {\"responsive\": true}\n",
              "                    ).then(function(){\n",
              "                            \n",
              "var gd = document.getElementById('163ccd01-6cb2-4db8-9d1d-9a239094f018');\n",
              "var x = new MutationObserver(function (mutations, observer) {{\n",
              "        var display = window.getComputedStyle(gd).display;\n",
              "        if (!display || display === 'none') {{\n",
              "            console.log([gd, 'removed!']);\n",
              "            Plotly.purge(gd);\n",
              "            observer.disconnect();\n",
              "        }}\n",
              "}});\n",
              "\n",
              "// Listen for the removal of the full notebook cells\n",
              "var notebookContainer = gd.closest('#notebook-container');\n",
              "if (notebookContainer) {{\n",
              "    x.observe(notebookContainer, {childList: true});\n",
              "}}\n",
              "\n",
              "// Listen for the clearing of the current output cell\n",
              "var outputEl = gd.closest('.output');\n",
              "if (outputEl) {{\n",
              "    x.observe(outputEl, {childList: true});\n",
              "}}\n",
              "\n",
              "                        })\n",
              "                };\n",
              "                \n",
              "            </script>\n",
              "        </div>\n",
              "</body>\n",
              "</html>"
            ]
          },
          "metadata": {
            "tags": []
          }
        }
      ]
    },
    {
      "cell_type": "markdown",
      "metadata": {
        "id": "_28RNt5McwJa"
      },
      "source": [
        "**Fly Dining** in Bangalore is the most expensive restaurant in that city."
      ]
    },
    {
      "cell_type": "code",
      "metadata": {
        "colab": {
          "base_uri": "https://localhost:8080/"
        },
        "id": "MlbYMJrhR-XH",
        "outputId": "aa061a5c-38f3-41f2-c480-8106e2217a17"
      },
      "source": [
        "q6_delhi = df.select('name', 'rating', 'cost_for_two', 'area', 'city', 'latitude', 'longitude').filter(df.city == 'Delhi NCR').orderBy(desc('cost_for_two')).limit(10)\n",
        "q6_delhi.show()"
      ],
      "execution_count": 116,
      "outputs": [
        {
          "output_type": "stream",
          "text": [
            "+--------------------+------+------------+-------------+---------+-------------+-------------+\n",
            "|                name|rating|cost_for_two|         area|     city|     latitude|    longitude|\n",
            "+--------------------+------+------------+-------------+---------+-------------+-------------+\n",
            "|Orient Express - ...|   4.2|        8000| Chanakyapuri|Delhi NCR| 28.595005434|77.1718254313|\n",
            "|Tian - Asian Cuis...|   4.1|        7000| Chanakyapuri|Delhi NCR|28.5979671567|77.1733117104|\n",
            "|Ottimo At West Vi...|   4.1|        6600| Chanakyapuri|Delhi NCR|28.5979530268|77.1732996404|\n",
            "|Bukhara - ITC Maurya|   4.3|        6500| Chanakyapuri|Delhi NCR|28.5979218233|77.1732453257|\n",
            "|Nostalgia at 1911...|   3.5|        6000|      Janpath|Delhi NCR|28.6250391609|77.2191154584|\n",
            "|The Theatre Club ...|   3.8|        6000|Paschim Vihar|Delhi NCR|28.6675290399|77.0921118557|\n",
            "|Amaranta - The Ob...|   4.1|        6000|  Udyog Vihar|Delhi NCR|28.5017066348|77.0867534727|\n",
            "|The Spice Route -...|   4.1|        6000|      Janpath|Delhi NCR|28.6250232689|77.2190872952|\n",
            "|House of Ming - T...|   4.1|        5500|Mansingh Road|Delhi NCR|     28.60493|   77.2243021|\n",
            "|San Gimignano - T...|   4.0|        5500|      Janpath|Delhi NCR|28.6250247403|77.2191338986|\n",
            "+--------------------+------+------------+-------------+---------+-------------+-------------+\n",
            "\n"
          ],
          "name": "stdout"
        }
      ]
    },
    {
      "cell_type": "code",
      "metadata": {
        "colab": {
          "base_uri": "https://localhost:8080/",
          "height": 808
        },
        "id": "_-1WQAN4JQqX",
        "outputId": "201f841c-764c-4768-ddda-66e59ea2650b"
      },
      "source": [
        "top_10_costliest_delhi = folium.Map(location= [28.7041, 77.1025], zoom_start= 12)\n",
        "top_10_costliest_del = folium.map.FeatureGroup()\n",
        "\n",
        "for name, lat, lng, in zip(q6_delhi.toPandas()['name'].values.tolist(), q6_delhi.toPandas()['latitude'].values.tolist(), q6_delhi.toPandas()['longitude'].values.tolist()):\n",
        "  top_10_costliest_del.add_child(\n",
        "      folium.Marker(\n",
        "          [lat, lng],\n",
        "          popup= name,\n",
        "      )\n",
        "  )\n",
        "\n",
        "top_10_costliest_delhi.add_child(top_10_costliest_del)"
      ],
      "execution_count": 117,
      "outputs": [
        {
          "output_type": "execute_result",
          "data": {
            "text/html": [
              "<div style=\"width:100%;\"><div style=\"position:relative;width:100%;height:0;padding-bottom:60%;\"><span style=\"color:#565656\">Make this Notebook Trusted to load map: File -> Trust Notebook</span><iframe src=\"about:blank\" style=\"position:absolute;width:100%;height:100%;left:0;top:0;border:none !important;\" data-html=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 onload=\"this.contentDocument.open();this.contentDocument.write(atob(this.getAttribute('data-html')));this.contentDocument.close();\" allowfullscreen webkitallowfullscreen mozallowfullscreen></iframe></div></div>"
            ],
            "text/plain": [
              "<folium.folium.Map at 0x7faf47a77978>"
            ]
          },
          "metadata": {
            "tags": []
          },
          "execution_count": 117
        }
      ]
    },
    {
      "cell_type": "code",
      "metadata": {
        "colab": {
          "base_uri": "https://localhost:8080/",
          "height": 542
        },
        "id": "MSuwIRW2JQtM",
        "outputId": "d6b191fc-81de-446b-890a-258b1d040045"
      },
      "source": [
        "q6_delhi_py = q6_delhi.toPandas()\n",
        "fig = px.bar(q6_delhi_py, x= 'name', y= 'cost_for_two', text= 'cost_for_two', color= 'name')\n",
        "fig.update_traces(texttemplate= '%{text:.2s}', textposition= 'outside')\n",
        "fig.update_layout(xaxis_tickangle= -45)\n",
        "fig.update_layout(title= 'Top 10 Costliest Restaurants in the Delhi', xaxis_title= 'Restaurants', yaxis_title= 'Cost for Two')\n",
        "\n",
        "fig"
      ],
      "execution_count": 118,
      "outputs": [
        {
          "output_type": "display_data",
          "data": {
            "text/html": [
              "<html>\n",
              "<head><meta charset=\"utf-8\" /></head>\n",
              "<body>\n",
              "    <div>\n",
              "            <script src=\"https://cdnjs.cloudflare.com/ajax/libs/mathjax/2.7.5/MathJax.js?config=TeX-AMS-MML_SVG\"></script><script type=\"text/javascript\">if (window.MathJax) {MathJax.Hub.Config({SVG: {font: \"STIX-Web\"}});}</script>\n",
              "                <script type=\"text/javascript\">window.PlotlyConfig = {MathJaxConfig: 'local'};</script>\n",
              "        <script src=\"https://cdn.plot.ly/plotly-latest.min.js\"></script>    \n",
              "            <div id=\"78d0690b-ff13-4438-a844-c58b349a5db7\" class=\"plotly-graph-div\" style=\"height:525px; width:100%;\"></div>\n",
              "            <script type=\"text/javascript\">\n",
              "                \n",
              "                    window.PLOTLYENV=window.PLOTLYENV || {};\n",
              "                    \n",
              "                if (document.getElementById(\"78d0690b-ff13-4438-a844-c58b349a5db7\")) {\n",
              "                    Plotly.newPlot(\n",
              "                        '78d0690b-ff13-4438-a844-c58b349a5db7',\n",
              "                        [{\"alignmentgroup\": \"True\", \"hoverlabel\": {\"namelength\": 0}, \"hovertemplate\": \"name=%{x}<br>cost_for_two=%{text}\", \"legendgroup\": \"name=Orient Express - Taj Palace\", \"marker\": {\"color\": \"#636efa\"}, \"name\": \"name=Orient Express - Taj Palace\", \"offsetgroup\": \"name=Orient Express - Taj Palace\", \"orientation\": \"v\", \"showlegend\": true, \"text\": [8000.0], \"textposition\": \"outside\", \"texttemplate\": \"%{text:.2s}\", \"type\": \"bar\", \"x\": [\"Orient Express - Taj Palace\"], \"xaxis\": \"x\", \"y\": [8000], \"yaxis\": \"y\"}, {\"alignmentgroup\": \"True\", \"hoverlabel\": {\"namelength\": 0}, \"hovertemplate\": \"name=%{x}<br>cost_for_two=%{text}\", \"legendgroup\": \"name=Tian - Asian Cuisine Studio - ITC Maurya\", \"marker\": {\"color\": \"#EF553B\"}, \"name\": \"name=Tian - Asian Cuisine Studio - ITC Maurya\", \"offsetgroup\": \"name=Tian - Asian Cuisine Studio - ITC Maurya\", \"orientation\": \"v\", \"showlegend\": true, \"text\": [7000.0], \"textposition\": \"outside\", \"texttemplate\": \"%{text:.2s}\", \"type\": \"bar\", \"x\": [\"Tian - Asian Cuisine Studio - ITC Maurya\"], \"xaxis\": \"x\", \"y\": [7000], \"yaxis\": \"y\"}, {\"alignmentgroup\": \"True\", \"hoverlabel\": {\"namelength\": 0}, \"hovertemplate\": \"name=%{x}<br>cost_for_two=%{text}\", \"legendgroup\": \"name=Ottimo At West View - ITC Maurya\", \"marker\": {\"color\": \"#00cc96\"}, \"name\": \"name=Ottimo At West View - ITC Maurya\", \"offsetgroup\": \"name=Ottimo At West View - ITC Maurya\", \"orientation\": \"v\", \"showlegend\": true, \"text\": [6600.0], \"textposition\": \"outside\", \"texttemplate\": \"%{text:.2s}\", \"type\": \"bar\", \"x\": [\"Ottimo At West View - ITC Maurya\"], \"xaxis\": \"x\", \"y\": [6600], \"yaxis\": \"y\"}, {\"alignmentgroup\": \"True\", \"hoverlabel\": {\"namelength\": 0}, \"hovertemplate\": \"name=%{x}<br>cost_for_two=%{text}\", \"legendgroup\": \"name=Bukhara - ITC Maurya\", \"marker\": {\"color\": \"#ab63fa\"}, \"name\": \"name=Bukhara - ITC Maurya\", \"offsetgroup\": \"name=Bukhara - ITC Maurya\", \"orientation\": \"v\", \"showlegend\": true, \"text\": [6500.0], \"textposition\": \"outside\", \"texttemplate\": \"%{text:.2s}\", \"type\": \"bar\", \"x\": [\"Bukhara - ITC Maurya\"], \"xaxis\": \"x\", \"y\": [6500], \"yaxis\": \"y\"}, {\"alignmentgroup\": \"True\", \"hoverlabel\": {\"namelength\": 0}, \"hovertemplate\": \"name=%{x}<br>cost_for_two=%{text}\", \"legendgroup\": \"name=The Spice Route - The Imperial\", \"marker\": {\"color\": \"#FFA15A\"}, \"name\": \"name=The Spice Route - The Imperial\", \"offsetgroup\": \"name=The Spice Route - The Imperial\", \"orientation\": \"v\", \"showlegend\": true, \"text\": [6000.0], \"textposition\": \"outside\", \"texttemplate\": \"%{text:.2s}\", \"type\": \"bar\", \"x\": [\"The Spice Route - The Imperial\"], \"xaxis\": \"x\", \"y\": [6000], \"yaxis\": \"y\"}, {\"alignmentgroup\": \"True\", \"hoverlabel\": {\"namelength\": 0}, \"hovertemplate\": \"name=%{x}<br>cost_for_two=%{text}\", \"legendgroup\": \"name=Amaranta - The Oberoi\", \"marker\": {\"color\": \"#19d3f3\"}, \"name\": \"name=Amaranta - The Oberoi\", \"offsetgroup\": \"name=Amaranta - The Oberoi\", \"orientation\": \"v\", \"showlegend\": true, \"text\": [6000.0], \"textposition\": \"outside\", \"texttemplate\": \"%{text:.2s}\", \"type\": \"bar\", \"x\": [\"Amaranta - The Oberoi\"], \"xaxis\": \"x\", \"y\": [6000], \"yaxis\": \"y\"}, {\"alignmentgroup\": \"True\", \"hoverlabel\": {\"namelength\": 0}, \"hovertemplate\": \"name=%{x}<br>cost_for_two=%{text}\", \"legendgroup\": \"name=Nostalgia at 1911 Brasserie - The Imperial\", \"marker\": {\"color\": \"#FF6692\"}, \"name\": \"name=Nostalgia at 1911 Brasserie - The Imperial\", \"offsetgroup\": \"name=Nostalgia at 1911 Brasserie - The Imperial\", \"orientation\": \"v\", \"showlegend\": true, \"text\": [6000.0], \"textposition\": \"outside\", \"texttemplate\": \"%{text:.2s}\", \"type\": \"bar\", \"x\": [\"Nostalgia at 1911 Brasserie - The Imperial\"], \"xaxis\": \"x\", \"y\": [6000], \"yaxis\": \"y\"}, {\"alignmentgroup\": \"True\", \"hoverlabel\": {\"namelength\": 0}, \"hovertemplate\": \"name=%{x}<br>cost_for_two=%{text}\", \"legendgroup\": \"name=The Theatre Club & Lounge - Radisson Blu\", \"marker\": {\"color\": \"#B6E880\"}, \"name\": \"name=The Theatre Club & Lounge - Radisson Blu\", \"offsetgroup\": \"name=The Theatre Club & Lounge - Radisson Blu\", \"orientation\": \"v\", \"showlegend\": true, \"text\": [6000.0], \"textposition\": \"outside\", \"texttemplate\": \"%{text:.2s}\", \"type\": \"bar\", \"x\": [\"The Theatre Club & Lounge - Radisson Blu\"], \"xaxis\": \"x\", \"y\": [6000], \"yaxis\": \"y\"}, {\"alignmentgroup\": \"True\", \"hoverlabel\": {\"namelength\": 0}, \"hovertemplate\": \"name=%{x}<br>cost_for_two=%{text}\", \"legendgroup\": \"name=San Gimignano - The Imperial\", \"marker\": {\"color\": \"#FF97FF\"}, \"name\": \"name=San Gimignano - The Imperial\", \"offsetgroup\": \"name=San Gimignano - The Imperial\", \"orientation\": \"v\", \"showlegend\": true, \"text\": [5500.0], \"textposition\": \"outside\", \"texttemplate\": \"%{text:.2s}\", \"type\": \"bar\", \"x\": [\"San Gimignano - The Imperial\"], \"xaxis\": \"x\", \"y\": [5500], \"yaxis\": \"y\"}, {\"alignmentgroup\": \"True\", \"hoverlabel\": {\"namelength\": 0}, \"hovertemplate\": \"name=%{x}<br>cost_for_two=%{text}\", \"legendgroup\": \"name=House of Ming - The Taj Mahal Hotel\", \"marker\": {\"color\": \"#FECB52\"}, \"name\": \"name=House of Ming - The Taj Mahal Hotel\", \"offsetgroup\": \"name=House of Ming - The Taj Mahal Hotel\", \"orientation\": \"v\", \"showlegend\": true, \"text\": [5500.0], \"textposition\": \"outside\", \"texttemplate\": \"%{text:.2s}\", \"type\": \"bar\", \"x\": [\"House of Ming - The Taj Mahal Hotel\"], \"xaxis\": \"x\", \"y\": [5500], \"yaxis\": \"y\"}],\n",
              "                        {\"barmode\": \"relative\", \"legend\": {\"tracegroupgap\": 0}, \"margin\": {\"t\": 60}, \"template\": {\"data\": {\"bar\": [{\"error_x\": {\"color\": \"#2a3f5f\"}, \"error_y\": {\"color\": \"#2a3f5f\"}, \"marker\": {\"line\": {\"color\": \"#E5ECF6\", \"width\": 0.5}}, \"type\": \"bar\"}], \"barpolar\": [{\"marker\": {\"line\": {\"color\": \"#E5ECF6\", \"width\": 0.5}}, \"type\": \"barpolar\"}], \"carpet\": [{\"aaxis\": {\"endlinecolor\": \"#2a3f5f\", \"gridcolor\": \"white\", \"linecolor\": \"white\", \"minorgridcolor\": \"white\", \"startlinecolor\": \"#2a3f5f\"}, \"baxis\": {\"endlinecolor\": \"#2a3f5f\", \"gridcolor\": \"white\", \"linecolor\": \"white\", \"minorgridcolor\": \"white\", \"startlinecolor\": \"#2a3f5f\"}, \"type\": \"carpet\"}], \"choropleth\": [{\"colorbar\": {\"outlinewidth\": 0, \"ticks\": \"\"}, \"type\": \"choropleth\"}], \"contour\": [{\"colorbar\": {\"outlinewidth\": 0, \"ticks\": \"\"}, \"colorscale\": [[0.0, \"#0d0887\"], [0.1111111111111111, \"#46039f\"], [0.2222222222222222, \"#7201a8\"], [0.3333333333333333, \"#9c179e\"], [0.4444444444444444, \"#bd3786\"], [0.5555555555555556, \"#d8576b\"], [0.6666666666666666, \"#ed7953\"], [0.7777777777777778, \"#fb9f3a\"], [0.8888888888888888, \"#fdca26\"], [1.0, \"#f0f921\"]], \"type\": \"contour\"}], \"contourcarpet\": [{\"colorbar\": {\"outlinewidth\": 0, \"ticks\": \"\"}, \"type\": \"contourcarpet\"}], \"heatmap\": [{\"colorbar\": {\"outlinewidth\": 0, \"ticks\": \"\"}, \"colorscale\": [[0.0, \"#0d0887\"], [0.1111111111111111, \"#46039f\"], [0.2222222222222222, \"#7201a8\"], [0.3333333333333333, \"#9c179e\"], [0.4444444444444444, \"#bd3786\"], [0.5555555555555556, \"#d8576b\"], [0.6666666666666666, \"#ed7953\"], [0.7777777777777778, \"#fb9f3a\"], [0.8888888888888888, \"#fdca26\"], [1.0, \"#f0f921\"]], \"type\": \"heatmap\"}], \"heatmapgl\": [{\"colorbar\": {\"outlinewidth\": 0, \"ticks\": \"\"}, \"colorscale\": [[0.0, \"#0d0887\"], [0.1111111111111111, \"#46039f\"], [0.2222222222222222, \"#7201a8\"], [0.3333333333333333, \"#9c179e\"], [0.4444444444444444, \"#bd3786\"], [0.5555555555555556, \"#d8576b\"], [0.6666666666666666, \"#ed7953\"], [0.7777777777777778, \"#fb9f3a\"], [0.8888888888888888, \"#fdca26\"], [1.0, \"#f0f921\"]], \"type\": \"heatmapgl\"}], \"histogram\": [{\"marker\": {\"colorbar\": {\"outlinewidth\": 0, \"ticks\": \"\"}}, \"type\": \"histogram\"}], \"histogram2d\": [{\"colorbar\": {\"outlinewidth\": 0, \"ticks\": \"\"}, \"colorscale\": [[0.0, \"#0d0887\"], [0.1111111111111111, \"#46039f\"], [0.2222222222222222, \"#7201a8\"], [0.3333333333333333, \"#9c179e\"], [0.4444444444444444, \"#bd3786\"], [0.5555555555555556, \"#d8576b\"], [0.6666666666666666, \"#ed7953\"], [0.7777777777777778, \"#fb9f3a\"], [0.8888888888888888, \"#fdca26\"], [1.0, \"#f0f921\"]], \"type\": \"histogram2d\"}], \"histogram2dcontour\": [{\"colorbar\": {\"outlinewidth\": 0, \"ticks\": \"\"}, \"colorscale\": [[0.0, \"#0d0887\"], [0.1111111111111111, \"#46039f\"], [0.2222222222222222, \"#7201a8\"], [0.3333333333333333, \"#9c179e\"], [0.4444444444444444, \"#bd3786\"], [0.5555555555555556, \"#d8576b\"], [0.6666666666666666, \"#ed7953\"], [0.7777777777777778, \"#fb9f3a\"], [0.8888888888888888, \"#fdca26\"], [1.0, \"#f0f921\"]], \"type\": \"histogram2dcontour\"}], \"mesh3d\": [{\"colorbar\": {\"outlinewidth\": 0, \"ticks\": \"\"}, \"type\": \"mesh3d\"}], \"parcoords\": [{\"line\": {\"colorbar\": {\"outlinewidth\": 0, \"ticks\": \"\"}}, \"type\": \"parcoords\"}], \"pie\": [{\"automargin\": true, \"type\": \"pie\"}], \"scatter\": [{\"marker\": {\"colorbar\": {\"outlinewidth\": 0, \"ticks\": \"\"}}, \"type\": \"scatter\"}], \"scatter3d\": [{\"line\": {\"colorbar\": {\"outlinewidth\": 0, \"ticks\": \"\"}}, \"marker\": {\"colorbar\": {\"outlinewidth\": 0, \"ticks\": \"\"}}, \"type\": \"scatter3d\"}], \"scattercarpet\": [{\"marker\": {\"colorbar\": {\"outlinewidth\": 0, \"ticks\": \"\"}}, \"type\": \"scattercarpet\"}], \"scattergeo\": [{\"marker\": {\"colorbar\": {\"outlinewidth\": 0, \"ticks\": \"\"}}, \"type\": \"scattergeo\"}], \"scattergl\": [{\"marker\": {\"colorbar\": {\"outlinewidth\": 0, \"ticks\": \"\"}}, \"type\": \"scattergl\"}], \"scattermapbox\": [{\"marker\": {\"colorbar\": {\"outlinewidth\": 0, \"ticks\": \"\"}}, \"type\": \"scattermapbox\"}], \"scatterpolar\": [{\"marker\": {\"colorbar\": {\"outlinewidth\": 0, \"ticks\": \"\"}}, \"type\": \"scatterpolar\"}], \"scatterpolargl\": [{\"marker\": {\"colorbar\": {\"outlinewidth\": 0, \"ticks\": \"\"}}, \"type\": \"scatterpolargl\"}], \"scatterternary\": [{\"marker\": {\"colorbar\": {\"outlinewidth\": 0, \"ticks\": \"\"}}, \"type\": \"scatterternary\"}], \"surface\": [{\"colorbar\": {\"outlinewidth\": 0, \"ticks\": \"\"}, \"colorscale\": [[0.0, \"#0d0887\"], [0.1111111111111111, \"#46039f\"], [0.2222222222222222, \"#7201a8\"], [0.3333333333333333, \"#9c179e\"], [0.4444444444444444, \"#bd3786\"], [0.5555555555555556, \"#d8576b\"], [0.6666666666666666, \"#ed7953\"], [0.7777777777777778, \"#fb9f3a\"], [0.8888888888888888, \"#fdca26\"], [1.0, \"#f0f921\"]], \"type\": \"surface\"}], \"table\": [{\"cells\": {\"fill\": {\"color\": \"#EBF0F8\"}, \"line\": {\"color\": \"white\"}}, \"header\": {\"fill\": {\"color\": \"#C8D4E3\"}, \"line\": {\"color\": \"white\"}}, \"type\": \"table\"}]}, \"layout\": {\"annotationdefaults\": {\"arrowcolor\": \"#2a3f5f\", \"arrowhead\": 0, \"arrowwidth\": 1}, \"coloraxis\": {\"colorbar\": {\"outlinewidth\": 0, \"ticks\": \"\"}}, \"colorscale\": {\"diverging\": [[0, \"#8e0152\"], [0.1, \"#c51b7d\"], [0.2, \"#de77ae\"], [0.3, \"#f1b6da\"], [0.4, \"#fde0ef\"], [0.5, \"#f7f7f7\"], [0.6, \"#e6f5d0\"], [0.7, \"#b8e186\"], [0.8, \"#7fbc41\"], [0.9, \"#4d9221\"], [1, \"#276419\"]], \"sequential\": [[0.0, \"#0d0887\"], [0.1111111111111111, \"#46039f\"], [0.2222222222222222, \"#7201a8\"], [0.3333333333333333, \"#9c179e\"], [0.4444444444444444, \"#bd3786\"], [0.5555555555555556, \"#d8576b\"], [0.6666666666666666, \"#ed7953\"], [0.7777777777777778, \"#fb9f3a\"], [0.8888888888888888, \"#fdca26\"], [1.0, \"#f0f921\"]], \"sequentialminus\": [[0.0, \"#0d0887\"], [0.1111111111111111, \"#46039f\"], [0.2222222222222222, \"#7201a8\"], [0.3333333333333333, \"#9c179e\"], [0.4444444444444444, \"#bd3786\"], [0.5555555555555556, \"#d8576b\"], [0.6666666666666666, \"#ed7953\"], [0.7777777777777778, \"#fb9f3a\"], [0.8888888888888888, \"#fdca26\"], [1.0, \"#f0f921\"]]}, \"colorway\": [\"#636efa\", \"#EF553B\", \"#00cc96\", \"#ab63fa\", \"#FFA15A\", \"#19d3f3\", \"#FF6692\", \"#B6E880\", \"#FF97FF\", \"#FECB52\"], \"font\": {\"color\": \"#2a3f5f\"}, \"geo\": {\"bgcolor\": \"white\", \"lakecolor\": \"white\", \"landcolor\": \"#E5ECF6\", \"showlakes\": true, \"showland\": true, \"subunitcolor\": \"white\"}, \"hoverlabel\": {\"align\": \"left\"}, \"hovermode\": \"closest\", \"mapbox\": {\"style\": \"light\"}, \"paper_bgcolor\": \"white\", \"plot_bgcolor\": \"#E5ECF6\", \"polar\": {\"angularaxis\": {\"gridcolor\": \"white\", \"linecolor\": \"white\", \"ticks\": \"\"}, \"bgcolor\": \"#E5ECF6\", \"radialaxis\": {\"gridcolor\": \"white\", \"linecolor\": \"white\", \"ticks\": \"\"}}, \"scene\": {\"xaxis\": {\"backgroundcolor\": \"#E5ECF6\", \"gridcolor\": \"white\", \"gridwidth\": 2, \"linecolor\": \"white\", \"showbackground\": true, \"ticks\": \"\", \"zerolinecolor\": \"white\"}, \"yaxis\": {\"backgroundcolor\": \"#E5ECF6\", \"gridcolor\": \"white\", \"gridwidth\": 2, \"linecolor\": \"white\", \"showbackground\": true, \"ticks\": \"\", \"zerolinecolor\": \"white\"}, \"zaxis\": {\"backgroundcolor\": \"#E5ECF6\", \"gridcolor\": \"white\", \"gridwidth\": 2, \"linecolor\": \"white\", \"showbackground\": true, \"ticks\": \"\", \"zerolinecolor\": \"white\"}}, \"shapedefaults\": {\"line\": {\"color\": \"#2a3f5f\"}}, \"ternary\": {\"aaxis\": {\"gridcolor\": \"white\", \"linecolor\": \"white\", \"ticks\": \"\"}, \"baxis\": {\"gridcolor\": \"white\", \"linecolor\": \"white\", \"ticks\": \"\"}, \"bgcolor\": \"#E5ECF6\", \"caxis\": {\"gridcolor\": \"white\", \"linecolor\": \"white\", \"ticks\": \"\"}}, \"title\": {\"x\": 0.05}, \"xaxis\": {\"automargin\": true, \"gridcolor\": \"white\", \"linecolor\": \"white\", \"ticks\": \"\", \"title\": {\"standoff\": 15}, \"zerolinecolor\": \"white\", \"zerolinewidth\": 2}, \"yaxis\": {\"automargin\": true, \"gridcolor\": \"white\", \"linecolor\": \"white\", \"ticks\": \"\", \"title\": {\"standoff\": 15}, \"zerolinecolor\": \"white\", \"zerolinewidth\": 2}}}, \"title\": {\"text\": \"Top 10 Costliest Restaurants in the Delhi\"}, \"xaxis\": {\"anchor\": \"y\", \"categoryarray\": [\"Orient Express - Taj Palace\", \"Tian - Asian Cuisine Studio - ITC Maurya\", \"Ottimo At West View - ITC Maurya\", \"Bukhara - ITC Maurya\", \"The Spice Route - The Imperial\", \"Amaranta - The Oberoi\", \"Nostalgia at 1911 Brasserie - The Imperial\", \"The Theatre Club & Lounge - Radisson Blu\", \"San Gimignano - The Imperial\", \"House of Ming - The Taj Mahal Hotel\"], \"categoryorder\": \"array\", \"domain\": [0.0, 1.0], \"tickangle\": -45, \"title\": {\"text\": \"Restaurants\"}}, \"yaxis\": {\"anchor\": \"x\", \"domain\": [0.0, 1.0], \"title\": {\"text\": \"Cost for Two\"}}},\n",
              "                        {\"responsive\": true}\n",
              "                    ).then(function(){\n",
              "                            \n",
              "var gd = document.getElementById('78d0690b-ff13-4438-a844-c58b349a5db7');\n",
              "var x = new MutationObserver(function (mutations, observer) {{\n",
              "        var display = window.getComputedStyle(gd).display;\n",
              "        if (!display || display === 'none') {{\n",
              "            console.log([gd, 'removed!']);\n",
              "            Plotly.purge(gd);\n",
              "            observer.disconnect();\n",
              "        }}\n",
              "}});\n",
              "\n",
              "// Listen for the removal of the full notebook cells\n",
              "var notebookContainer = gd.closest('#notebook-container');\n",
              "if (notebookContainer) {{\n",
              "    x.observe(notebookContainer, {childList: true});\n",
              "}}\n",
              "\n",
              "// Listen for the clearing of the current output cell\n",
              "var outputEl = gd.closest('.output');\n",
              "if (outputEl) {{\n",
              "    x.observe(outputEl, {childList: true});\n",
              "}}\n",
              "\n",
              "                        })\n",
              "                };\n",
              "                \n",
              "            </script>\n",
              "        </div>\n",
              "</body>\n",
              "</html>"
            ]
          },
          "metadata": {
            "tags": []
          }
        }
      ]
    },
    {
      "cell_type": "markdown",
      "metadata": {
        "id": "dMkUVWZqc90z"
      },
      "source": [
        "**Orient Express - Taj Palace** is the exorbitant restaurant in the capital."
      ]
    },
    {
      "cell_type": "code",
      "metadata": {
        "colab": {
          "base_uri": "https://localhost:8080/"
        },
        "id": "xv0GA3rZSJ_O",
        "outputId": "3fc4f05d-ce96-4b21-8c37-e4d54567caca"
      },
      "source": [
        "q6_kolkata = df.select('name', 'rating', 'cost_for_two', 'area', 'city', 'latitude', 'longitude').filter(df.city == 'Kolkata').orderBy(desc('cost_for_two')).limit(10)\n",
        "q6_kolkata.show()"
      ],
      "execution_count": 120,
      "outputs": [
        {
          "output_type": "stream",
          "text": [
            "+--------------------+------+------------+-------------------+-------+-------------+-------------+\n",
            "|                name|rating|cost_for_two|               area|   city|     latitude|    longitude|\n",
            "+--------------------+------+------------+-------------------+-------+-------------+-------------+\n",
            "|Chinoiserie - Taj...|   4.3|        5000|            Alipore|Kolkata|22.5351267483|88.3337970078|\n",
            "|Guchhi - Hyatt Re...|   4.0|        4600|Sector 3, Salt Lake|Kolkata|22.5716872122|88.4054357931|\n",
            "|Eden Pavilion - I...|   4.0|        4500|  Science City Area|Kolkata|22.5460092642|88.3990199491|\n",
            "|West View Bar & G...|   3.8|        4500|  Science City Area|Kolkata|22.5460092642|88.3990199491|\n",
            "|     Seasonal Tastes|   4.3|        4200|           New Town|Kolkata| 22.591442226|88.4738874435|\n",
            "|The Junction - Ta...|   3.8|        4200|            Alipore|Kolkata|22.5351323225|88.3338060603|\n",
            "|     Seasonal Tastes|   4.4|        4200|           New Town|Kolkata| 22.591442226|88.4738874435|\n",
            "|      Zen - The Park|   4.1|        4000|   Park Street Area|Kolkata|22.5537772758|88.3519163355|\n",
            "|The Legacy Grill ...|   3.9|        4000|          Esplanade|Kolkata|22.5678432397|88.3500756696|\n",
            "|Baan Thai - The O...|   4.2|        4000|    New Market Area|Kolkata|22.5619715012|88.3519555628|\n",
            "+--------------------+------+------------+-------------------+-------+-------------+-------------+\n",
            "\n"
          ],
          "name": "stdout"
        }
      ]
    },
    {
      "cell_type": "code",
      "metadata": {
        "colab": {
          "base_uri": "https://localhost:8080/",
          "height": 808
        },
        "id": "FmPe_Xi1Ju-f",
        "outputId": "c0c129d1-e0c6-4e3a-8052-25af8836d5ea"
      },
      "source": [
        "top_10_costliest_kolkata = folium.Map(location= [22.5726, 88.3639], zoom_start= 12)\n",
        "top_10_costliest_kol = folium.map.FeatureGroup()\n",
        "\n",
        "for name, lat, lng, in zip(q6_kolkata.toPandas()['name'].values.tolist(), q6_kolkata.toPandas()['latitude'].values.tolist(), q6_kolkata.toPandas()['longitude'].values.tolist()):\n",
        "  top_10_costliest_kol.add_child(\n",
        "      folium.Marker(\n",
        "          [lat, lng],\n",
        "          popup= name,\n",
        "      )\n",
        "  )\n",
        "\n",
        "top_10_costliest_kolkata.add_child(top_10_costliest_kol)"
      ],
      "execution_count": 121,
      "outputs": [
        {
          "output_type": "execute_result",
          "data": {
            "text/html": [
              "<div style=\"width:100%;\"><div style=\"position:relative;width:100%;height:0;padding-bottom:60%;\"><span style=\"color:#565656\">Make this Notebook Trusted to load map: File -> Trust Notebook</span><iframe src=\"about:blank\" style=\"position:absolute;width:100%;height:100%;left:0;top:0;border:none !important;\" data-html=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 onload=\"this.contentDocument.open();this.contentDocument.write(atob(this.getAttribute('data-html')));this.contentDocument.close();\" allowfullscreen webkitallowfullscreen mozallowfullscreen></iframe></div></div>"
            ],
            "text/plain": [
              "<folium.folium.Map at 0x7faf47e6c0b8>"
            ]
          },
          "metadata": {
            "tags": []
          },
          "execution_count": 121
        }
      ]
    },
    {
      "cell_type": "code",
      "metadata": {
        "colab": {
          "base_uri": "https://localhost:8080/",
          "height": 542
        },
        "id": "QIs1CsPTJvBQ",
        "outputId": "ceafd189-d45f-45b3-ab7f-9354cf8ff988"
      },
      "source": [
        "q6_kolkata_py = q6_kolkata.toPandas()\n",
        "fig = px.bar(q6_kolkata_py, x= 'name', y= 'cost_for_two', text= 'cost_for_two', color= 'name')\n",
        "fig.update_traces(texttemplate= '%{text:.2s}', textposition= 'outside')\n",
        "fig.update_layout(xaxis_tickangle= -45)\n",
        "fig.update_layout(title= 'Top 10 Costliest Restaurants in the Kolkata', xaxis_title= 'Restaurants', yaxis_title= 'Cost for Two')\n",
        "\n",
        "fig"
      ],
      "execution_count": 122,
      "outputs": [
        {
          "output_type": "display_data",
          "data": {
            "text/html": [
              "<html>\n",
              "<head><meta charset=\"utf-8\" /></head>\n",
              "<body>\n",
              "    <div>\n",
              "            <script src=\"https://cdnjs.cloudflare.com/ajax/libs/mathjax/2.7.5/MathJax.js?config=TeX-AMS-MML_SVG\"></script><script type=\"text/javascript\">if (window.MathJax) {MathJax.Hub.Config({SVG: {font: \"STIX-Web\"}});}</script>\n",
              "                <script type=\"text/javascript\">window.PlotlyConfig = {MathJaxConfig: 'local'};</script>\n",
              "        <script src=\"https://cdn.plot.ly/plotly-latest.min.js\"></script>    \n",
              "            <div id=\"b8c5b1ae-3942-4d37-9c7a-090d31e59c78\" class=\"plotly-graph-div\" style=\"height:525px; width:100%;\"></div>\n",
              "            <script type=\"text/javascript\">\n",
              "                \n",
              "                    window.PLOTLYENV=window.PLOTLYENV || {};\n",
              "                    \n",
              "                if (document.getElementById(\"b8c5b1ae-3942-4d37-9c7a-090d31e59c78\")) {\n",
              "                    Plotly.newPlot(\n",
              "                        'b8c5b1ae-3942-4d37-9c7a-090d31e59c78',\n",
              "                        [{\"alignmentgroup\": \"True\", \"hoverlabel\": {\"namelength\": 0}, \"hovertemplate\": \"name=%{x}<br>cost_for_two=%{text}\", \"legendgroup\": \"name=Chinoiserie - Taj Bengal\", \"marker\": {\"color\": \"#636efa\"}, \"name\": \"name=Chinoiserie - Taj Bengal\", \"offsetgroup\": \"name=Chinoiserie - Taj Bengal\", \"orientation\": \"v\", \"showlegend\": true, \"text\": [5000.0], \"textposition\": \"outside\", \"texttemplate\": \"%{text:.2s}\", \"type\": \"bar\", \"x\": [\"Chinoiserie - Taj Bengal\"], \"xaxis\": \"x\", \"y\": [5000], \"yaxis\": \"y\"}, {\"alignmentgroup\": \"True\", \"hoverlabel\": {\"namelength\": 0}, \"hovertemplate\": \"name=%{x}<br>cost_for_two=%{text}\", \"legendgroup\": \"name=Guchhi - Hyatt Regency\", \"marker\": {\"color\": \"#EF553B\"}, \"name\": \"name=Guchhi - Hyatt Regency\", \"offsetgroup\": \"name=Guchhi - Hyatt Regency\", \"orientation\": \"v\", \"showlegend\": true, \"text\": [4600.0], \"textposition\": \"outside\", \"texttemplate\": \"%{text:.2s}\", \"type\": \"bar\", \"x\": [\"Guchhi - Hyatt Regency\"], \"xaxis\": \"x\", \"y\": [4600], \"yaxis\": \"y\"}, {\"alignmentgroup\": \"True\", \"hoverlabel\": {\"namelength\": 0}, \"hovertemplate\": \"name=%{x}<br>cost_for_two=%{text}\", \"legendgroup\": \"name=West View Bar & Grill - ITC Sonar\", \"marker\": {\"color\": \"#00cc96\"}, \"name\": \"name=West View Bar & Grill - ITC Sonar\", \"offsetgroup\": \"name=West View Bar & Grill - ITC Sonar\", \"orientation\": \"v\", \"showlegend\": true, \"text\": [4500.0], \"textposition\": \"outside\", \"texttemplate\": \"%{text:.2s}\", \"type\": \"bar\", \"x\": [\"West View Bar & Grill - ITC Sonar\"], \"xaxis\": \"x\", \"y\": [4500], \"yaxis\": \"y\"}, {\"alignmentgroup\": \"True\", \"hoverlabel\": {\"namelength\": 0}, \"hovertemplate\": \"name=%{x}<br>cost_for_two=%{text}\", \"legendgroup\": \"name=Eden Pavilion - ITC Sonar\", \"marker\": {\"color\": \"#ab63fa\"}, \"name\": \"name=Eden Pavilion - ITC Sonar\", \"offsetgroup\": \"name=Eden Pavilion - ITC Sonar\", \"orientation\": \"v\", \"showlegend\": true, \"text\": [4500.0], \"textposition\": \"outside\", \"texttemplate\": \"%{text:.2s}\", \"type\": \"bar\", \"x\": [\"Eden Pavilion - ITC Sonar\"], \"xaxis\": \"x\", \"y\": [4500], \"yaxis\": \"y\"}, {\"alignmentgroup\": \"True\", \"hoverlabel\": {\"namelength\": 0}, \"hovertemplate\": \"name=%{x}<br>cost_for_two=%{text}\", \"legendgroup\": \"name=Seasonal Tastes\", \"marker\": {\"color\": \"#FFA15A\"}, \"name\": \"name=Seasonal Tastes\", \"offsetgroup\": \"name=Seasonal Tastes\", \"orientation\": \"v\", \"showlegend\": true, \"text\": [4200.0, 4200.0], \"textposition\": \"outside\", \"texttemplate\": \"%{text:.2s}\", \"type\": \"bar\", \"x\": [\"Seasonal Tastes\", \"Seasonal Tastes\"], \"xaxis\": \"x\", \"y\": [4200, 4200], \"yaxis\": \"y\"}, {\"alignmentgroup\": \"True\", \"hoverlabel\": {\"namelength\": 0}, \"hovertemplate\": \"name=%{x}<br>cost_for_two=%{text}\", \"legendgroup\": \"name=The Junction - Taj Bengal\", \"marker\": {\"color\": \"#19d3f3\"}, \"name\": \"name=The Junction - Taj Bengal\", \"offsetgroup\": \"name=The Junction - Taj Bengal\", \"orientation\": \"v\", \"showlegend\": true, \"text\": [4200.0], \"textposition\": \"outside\", \"texttemplate\": \"%{text:.2s}\", \"type\": \"bar\", \"x\": [\"The Junction - Taj Bengal\"], \"xaxis\": \"x\", \"y\": [4200], \"yaxis\": \"y\"}, {\"alignmentgroup\": \"True\", \"hoverlabel\": {\"namelength\": 0}, \"hovertemplate\": \"name=%{x}<br>cost_for_two=%{text}\", \"legendgroup\": \"name=The Legacy Grill - The Lalit Great Eastern\", \"marker\": {\"color\": \"#FF6692\"}, \"name\": \"name=The Legacy Grill - The Lalit Great Eastern\", \"offsetgroup\": \"name=The Legacy Grill - The Lalit Great Eastern\", \"orientation\": \"v\", \"showlegend\": true, \"text\": [4000.0], \"textposition\": \"outside\", \"texttemplate\": \"%{text:.2s}\", \"type\": \"bar\", \"x\": [\"The Legacy Grill - The Lalit Great Eastern\"], \"xaxis\": \"x\", \"y\": [4000], \"yaxis\": \"y\"}, {\"alignmentgroup\": \"True\", \"hoverlabel\": {\"namelength\": 0}, \"hovertemplate\": \"name=%{x}<br>cost_for_two=%{text}\", \"legendgroup\": \"name=Baan Thai - The Oberoi Grand\", \"marker\": {\"color\": \"#B6E880\"}, \"name\": \"name=Baan Thai - The Oberoi Grand\", \"offsetgroup\": \"name=Baan Thai - The Oberoi Grand\", \"orientation\": \"v\", \"showlegend\": true, \"text\": [4000.0], \"textposition\": \"outside\", \"texttemplate\": \"%{text:.2s}\", \"type\": \"bar\", \"x\": [\"Baan Thai - The Oberoi Grand\"], \"xaxis\": \"x\", \"y\": [4000], \"yaxis\": \"y\"}, {\"alignmentgroup\": \"True\", \"hoverlabel\": {\"namelength\": 0}, \"hovertemplate\": \"name=%{x}<br>cost_for_two=%{text}\", \"legendgroup\": \"name=Dum Pukht - ITC Sonar\", \"marker\": {\"color\": \"#FF97FF\"}, \"name\": \"name=Dum Pukht - ITC Sonar\", \"offsetgroup\": \"name=Dum Pukht - ITC Sonar\", \"orientation\": \"v\", \"showlegend\": true, \"text\": [4000.0], \"textposition\": \"outside\", \"texttemplate\": \"%{text:.2s}\", \"type\": \"bar\", \"x\": [\"Dum Pukht - ITC Sonar\"], \"xaxis\": \"x\", \"y\": [4000], \"yaxis\": \"y\"}],\n",
              "                        {\"barmode\": \"relative\", \"legend\": {\"tracegroupgap\": 0}, \"margin\": {\"t\": 60}, \"template\": {\"data\": {\"bar\": [{\"error_x\": {\"color\": \"#2a3f5f\"}, \"error_y\": {\"color\": \"#2a3f5f\"}, \"marker\": {\"line\": {\"color\": \"#E5ECF6\", \"width\": 0.5}}, \"type\": \"bar\"}], \"barpolar\": [{\"marker\": {\"line\": {\"color\": \"#E5ECF6\", \"width\": 0.5}}, \"type\": \"barpolar\"}], \"carpet\": [{\"aaxis\": {\"endlinecolor\": \"#2a3f5f\", \"gridcolor\": \"white\", \"linecolor\": \"white\", \"minorgridcolor\": \"white\", \"startlinecolor\": \"#2a3f5f\"}, \"baxis\": {\"endlinecolor\": \"#2a3f5f\", \"gridcolor\": \"white\", \"linecolor\": \"white\", \"minorgridcolor\": \"white\", \"startlinecolor\": \"#2a3f5f\"}, \"type\": \"carpet\"}], \"choropleth\": [{\"colorbar\": {\"outlinewidth\": 0, \"ticks\": \"\"}, \"type\": \"choropleth\"}], \"contour\": [{\"colorbar\": {\"outlinewidth\": 0, \"ticks\": \"\"}, \"colorscale\": [[0.0, \"#0d0887\"], [0.1111111111111111, \"#46039f\"], [0.2222222222222222, \"#7201a8\"], [0.3333333333333333, \"#9c179e\"], [0.4444444444444444, \"#bd3786\"], [0.5555555555555556, \"#d8576b\"], [0.6666666666666666, \"#ed7953\"], [0.7777777777777778, \"#fb9f3a\"], [0.8888888888888888, \"#fdca26\"], [1.0, \"#f0f921\"]], \"type\": \"contour\"}], \"contourcarpet\": [{\"colorbar\": {\"outlinewidth\": 0, \"ticks\": \"\"}, \"type\": \"contourcarpet\"}], \"heatmap\": [{\"colorbar\": {\"outlinewidth\": 0, \"ticks\": \"\"}, \"colorscale\": [[0.0, \"#0d0887\"], [0.1111111111111111, \"#46039f\"], [0.2222222222222222, \"#7201a8\"], [0.3333333333333333, \"#9c179e\"], [0.4444444444444444, \"#bd3786\"], [0.5555555555555556, \"#d8576b\"], [0.6666666666666666, \"#ed7953\"], [0.7777777777777778, \"#fb9f3a\"], [0.8888888888888888, \"#fdca26\"], [1.0, \"#f0f921\"]], \"type\": \"heatmap\"}], \"heatmapgl\": [{\"colorbar\": {\"outlinewidth\": 0, \"ticks\": \"\"}, \"colorscale\": [[0.0, \"#0d0887\"], [0.1111111111111111, \"#46039f\"], [0.2222222222222222, \"#7201a8\"], [0.3333333333333333, \"#9c179e\"], [0.4444444444444444, \"#bd3786\"], [0.5555555555555556, \"#d8576b\"], [0.6666666666666666, \"#ed7953\"], [0.7777777777777778, \"#fb9f3a\"], [0.8888888888888888, \"#fdca26\"], [1.0, \"#f0f921\"]], \"type\": \"heatmapgl\"}], \"histogram\": [{\"marker\": {\"colorbar\": {\"outlinewidth\": 0, \"ticks\": \"\"}}, \"type\": \"histogram\"}], \"histogram2d\": [{\"colorbar\": {\"outlinewidth\": 0, \"ticks\": \"\"}, \"colorscale\": [[0.0, \"#0d0887\"], [0.1111111111111111, \"#46039f\"], [0.2222222222222222, \"#7201a8\"], [0.3333333333333333, \"#9c179e\"], [0.4444444444444444, \"#bd3786\"], [0.5555555555555556, \"#d8576b\"], [0.6666666666666666, \"#ed7953\"], [0.7777777777777778, \"#fb9f3a\"], [0.8888888888888888, \"#fdca26\"], [1.0, \"#f0f921\"]], \"type\": \"histogram2d\"}], \"histogram2dcontour\": [{\"colorbar\": {\"outlinewidth\": 0, \"ticks\": \"\"}, \"colorscale\": [[0.0, \"#0d0887\"], [0.1111111111111111, \"#46039f\"], [0.2222222222222222, \"#7201a8\"], [0.3333333333333333, \"#9c179e\"], [0.4444444444444444, \"#bd3786\"], [0.5555555555555556, \"#d8576b\"], [0.6666666666666666, \"#ed7953\"], [0.7777777777777778, \"#fb9f3a\"], [0.8888888888888888, \"#fdca26\"], [1.0, \"#f0f921\"]], \"type\": \"histogram2dcontour\"}], \"mesh3d\": [{\"colorbar\": {\"outlinewidth\": 0, \"ticks\": \"\"}, \"type\": \"mesh3d\"}], \"parcoords\": [{\"line\": {\"colorbar\": {\"outlinewidth\": 0, \"ticks\": \"\"}}, \"type\": \"parcoords\"}], \"pie\": [{\"automargin\": true, \"type\": \"pie\"}], \"scatter\": [{\"marker\": {\"colorbar\": {\"outlinewidth\": 0, \"ticks\": \"\"}}, \"type\": \"scatter\"}], \"scatter3d\": [{\"line\": {\"colorbar\": {\"outlinewidth\": 0, \"ticks\": \"\"}}, \"marker\": {\"colorbar\": {\"outlinewidth\": 0, \"ticks\": \"\"}}, \"type\": \"scatter3d\"}], \"scattercarpet\": [{\"marker\": {\"colorbar\": {\"outlinewidth\": 0, \"ticks\": \"\"}}, \"type\": \"scattercarpet\"}], \"scattergeo\": [{\"marker\": {\"colorbar\": {\"outlinewidth\": 0, \"ticks\": \"\"}}, \"type\": \"scattergeo\"}], \"scattergl\": [{\"marker\": {\"colorbar\": {\"outlinewidth\": 0, \"ticks\": \"\"}}, \"type\": \"scattergl\"}], \"scattermapbox\": [{\"marker\": {\"colorbar\": {\"outlinewidth\": 0, \"ticks\": \"\"}}, \"type\": \"scattermapbox\"}], \"scatterpolar\": [{\"marker\": {\"colorbar\": {\"outlinewidth\": 0, \"ticks\": \"\"}}, \"type\": \"scatterpolar\"}], \"scatterpolargl\": [{\"marker\": {\"colorbar\": {\"outlinewidth\": 0, \"ticks\": \"\"}}, \"type\": \"scatterpolargl\"}], \"scatterternary\": [{\"marker\": {\"colorbar\": {\"outlinewidth\": 0, \"ticks\": \"\"}}, \"type\": \"scatterternary\"}], \"surface\": [{\"colorbar\": {\"outlinewidth\": 0, \"ticks\": \"\"}, \"colorscale\": [[0.0, \"#0d0887\"], [0.1111111111111111, \"#46039f\"], [0.2222222222222222, \"#7201a8\"], [0.3333333333333333, \"#9c179e\"], [0.4444444444444444, \"#bd3786\"], [0.5555555555555556, \"#d8576b\"], [0.6666666666666666, \"#ed7953\"], [0.7777777777777778, \"#fb9f3a\"], [0.8888888888888888, \"#fdca26\"], [1.0, \"#f0f921\"]], \"type\": \"surface\"}], \"table\": [{\"cells\": {\"fill\": {\"color\": \"#EBF0F8\"}, \"line\": {\"color\": \"white\"}}, \"header\": {\"fill\": {\"color\": \"#C8D4E3\"}, \"line\": {\"color\": \"white\"}}, \"type\": \"table\"}]}, \"layout\": {\"annotationdefaults\": {\"arrowcolor\": \"#2a3f5f\", \"arrowhead\": 0, \"arrowwidth\": 1}, \"coloraxis\": {\"colorbar\": {\"outlinewidth\": 0, \"ticks\": \"\"}}, \"colorscale\": {\"diverging\": [[0, \"#8e0152\"], [0.1, \"#c51b7d\"], [0.2, \"#de77ae\"], [0.3, \"#f1b6da\"], [0.4, \"#fde0ef\"], [0.5, \"#f7f7f7\"], [0.6, \"#e6f5d0\"], [0.7, \"#b8e186\"], [0.8, \"#7fbc41\"], [0.9, \"#4d9221\"], [1, \"#276419\"]], \"sequential\": [[0.0, \"#0d0887\"], [0.1111111111111111, \"#46039f\"], [0.2222222222222222, \"#7201a8\"], [0.3333333333333333, \"#9c179e\"], [0.4444444444444444, \"#bd3786\"], [0.5555555555555556, \"#d8576b\"], [0.6666666666666666, \"#ed7953\"], [0.7777777777777778, \"#fb9f3a\"], [0.8888888888888888, \"#fdca26\"], [1.0, \"#f0f921\"]], \"sequentialminus\": [[0.0, \"#0d0887\"], [0.1111111111111111, \"#46039f\"], [0.2222222222222222, \"#7201a8\"], [0.3333333333333333, \"#9c179e\"], [0.4444444444444444, \"#bd3786\"], [0.5555555555555556, \"#d8576b\"], [0.6666666666666666, \"#ed7953\"], [0.7777777777777778, \"#fb9f3a\"], [0.8888888888888888, \"#fdca26\"], [1.0, \"#f0f921\"]]}, \"colorway\": [\"#636efa\", \"#EF553B\", \"#00cc96\", \"#ab63fa\", \"#FFA15A\", \"#19d3f3\", \"#FF6692\", \"#B6E880\", \"#FF97FF\", \"#FECB52\"], \"font\": {\"color\": \"#2a3f5f\"}, \"geo\": {\"bgcolor\": \"white\", \"lakecolor\": \"white\", \"landcolor\": \"#E5ECF6\", \"showlakes\": true, \"showland\": true, \"subunitcolor\": \"white\"}, \"hoverlabel\": {\"align\": \"left\"}, \"hovermode\": \"closest\", \"mapbox\": {\"style\": \"light\"}, \"paper_bgcolor\": \"white\", \"plot_bgcolor\": \"#E5ECF6\", \"polar\": {\"angularaxis\": {\"gridcolor\": \"white\", \"linecolor\": \"white\", \"ticks\": \"\"}, \"bgcolor\": \"#E5ECF6\", \"radialaxis\": {\"gridcolor\": \"white\", \"linecolor\": \"white\", \"ticks\": \"\"}}, \"scene\": {\"xaxis\": {\"backgroundcolor\": \"#E5ECF6\", \"gridcolor\": \"white\", \"gridwidth\": 2, \"linecolor\": \"white\", \"showbackground\": true, \"ticks\": \"\", \"zerolinecolor\": \"white\"}, \"yaxis\": {\"backgroundcolor\": \"#E5ECF6\", \"gridcolor\": \"white\", \"gridwidth\": 2, \"linecolor\": \"white\", \"showbackground\": true, \"ticks\": \"\", \"zerolinecolor\": \"white\"}, \"zaxis\": {\"backgroundcolor\": \"#E5ECF6\", \"gridcolor\": \"white\", \"gridwidth\": 2, \"linecolor\": \"white\", \"showbackground\": true, \"ticks\": \"\", \"zerolinecolor\": \"white\"}}, \"shapedefaults\": {\"line\": {\"color\": \"#2a3f5f\"}}, \"ternary\": {\"aaxis\": {\"gridcolor\": \"white\", \"linecolor\": \"white\", \"ticks\": \"\"}, \"baxis\": {\"gridcolor\": \"white\", \"linecolor\": \"white\", \"ticks\": \"\"}, \"bgcolor\": \"#E5ECF6\", \"caxis\": {\"gridcolor\": \"white\", \"linecolor\": \"white\", \"ticks\": \"\"}}, \"title\": {\"x\": 0.05}, \"xaxis\": {\"automargin\": true, \"gridcolor\": \"white\", \"linecolor\": \"white\", \"ticks\": \"\", \"title\": {\"standoff\": 15}, \"zerolinecolor\": \"white\", \"zerolinewidth\": 2}, \"yaxis\": {\"automargin\": true, \"gridcolor\": \"white\", \"linecolor\": \"white\", \"ticks\": \"\", \"title\": {\"standoff\": 15}, \"zerolinecolor\": \"white\", \"zerolinewidth\": 2}}}, \"title\": {\"text\": \"Top 10 Costliest Restaurants in the Kolkata\"}, \"xaxis\": {\"anchor\": \"y\", \"categoryarray\": [\"Chinoiserie - Taj Bengal\", \"Guchhi - Hyatt Regency\", \"West View Bar & Grill - ITC Sonar\", \"Eden Pavilion - ITC Sonar\", \"Seasonal Tastes\", \"The Junction - Taj Bengal\", \"The Legacy Grill - The Lalit Great Eastern\", \"Baan Thai - The Oberoi Grand\", \"Dum Pukht - ITC Sonar\"], \"categoryorder\": \"array\", \"domain\": [0.0, 1.0], \"tickangle\": -45, \"title\": {\"text\": \"Restaurants\"}}, \"yaxis\": {\"anchor\": \"x\", \"domain\": [0.0, 1.0], \"title\": {\"text\": \"Cost for Two\"}}},\n",
              "                        {\"responsive\": true}\n",
              "                    ).then(function(){\n",
              "                            \n",
              "var gd = document.getElementById('b8c5b1ae-3942-4d37-9c7a-090d31e59c78');\n",
              "var x = new MutationObserver(function (mutations, observer) {{\n",
              "        var display = window.getComputedStyle(gd).display;\n",
              "        if (!display || display === 'none') {{\n",
              "            console.log([gd, 'removed!']);\n",
              "            Plotly.purge(gd);\n",
              "            observer.disconnect();\n",
              "        }}\n",
              "}});\n",
              "\n",
              "// Listen for the removal of the full notebook cells\n",
              "var notebookContainer = gd.closest('#notebook-container');\n",
              "if (notebookContainer) {{\n",
              "    x.observe(notebookContainer, {childList: true});\n",
              "}}\n",
              "\n",
              "// Listen for the clearing of the current output cell\n",
              "var outputEl = gd.closest('.output');\n",
              "if (outputEl) {{\n",
              "    x.observe(outputEl, {childList: true});\n",
              "}}\n",
              "\n",
              "                        })\n",
              "                };\n",
              "                \n",
              "            </script>\n",
              "        </div>\n",
              "</body>\n",
              "</html>"
            ]
          },
          "metadata": {
            "tags": []
          }
        }
      ]
    },
    {
      "cell_type": "markdown",
      "metadata": {
        "id": "1iVfqExNdN1Z"
      },
      "source": [
        "**Chinoiserie - Taj Bengal** is the most expensive restaurant in the city of Kolkata"
      ]
    },
    {
      "cell_type": "code",
      "metadata": {
        "colab": {
          "base_uri": "https://localhost:8080/"
        },
        "id": "DGVKfbnoR-Z8",
        "outputId": "286fd72e-6d52-4aaa-ce57-6f6f7523f054"
      },
      "source": [
        "q6_chennai = df.select('name', 'rating', 'cost_for_two', 'area', 'city', 'latitude', 'longitude').filter(df.city == 'Chennai').orderBy(desc('cost_for_two')).limit(10)\n",
        "q6_chennai.show()"
      ],
      "execution_count": 123,
      "outputs": [
        {
          "output_type": "stream",
          "text": [
            "+--------------------+------+------------+---------------+-------+-------------+-------------+\n",
            "|                name|rating|cost_for_two|           area|   city|     latitude|    longitude|\n",
            "+--------------------+------+------------+---------------+-------+-------------+-------------+\n",
            "|         Tao of Peng|   4.5|        5500|  Mahabalipuram|Chennai|12.7367982233|80.2356574684|\n",
            "|Royal Vega - ITC ...|   4.4|        5500|         Guindy|Chennai|13.0115629085|80.2200607583|\n",
            "|Blend - Taj Club ...|   4.0|        5000|Thousand Lights|Chennai|13.0614315653|80.2641633153|\n",
            "|Ottimo Cucina Ita...|   4.1|        5000|         Guindy|Chennai| 13.011537755|80.2200694755|\n",
            "|Salt. Co. 531 - R...|   4.1|        4800|       GST Road|Chennai|12.9947863166| 80.187372677|\n",
            "|Peshawri - ITC Gr...|   4.4|        4500|         Guindy|Chennai|13.0115109683| 80.220127143|\n",
            "|Avartana - ITC Gr...|   4.7|        4500|         Guindy|Chennai|13.0115446151|80.2201690525|\n",
            "|Pan Asian - ITC G...|   4.5|        4200|         Guindy|Chennai|13.0115789152|80.2200610936|\n",
            "|Madras Pavilion -...|   4.5|        4000|         Guindy|Chennai|13.0116200753|80.2201009914|\n",
            "|The Great Kabab F...|   4.0|        4000|       GST Road|Chennai|12.9947895835| 80.187330097|\n",
            "+--------------------+------+------------+---------------+-------+-------------+-------------+\n",
            "\n"
          ],
          "name": "stdout"
        }
      ]
    },
    {
      "cell_type": "code",
      "metadata": {
        "colab": {
          "base_uri": "https://localhost:8080/",
          "height": 808
        },
        "id": "fb8_BawNKW1-",
        "outputId": "e4a6a1f5-3eb9-489e-9f8a-0db60d615710"
      },
      "source": [
        "top_10_costliest_chennai = folium.Map(location= [13.0827, 80.2707], zoom_start= 12)\n",
        "top_10_costliest_chen = folium.map.FeatureGroup()\n",
        "\n",
        "for name, lat, lng, in zip(q6_chennai.toPandas()['name'].values.tolist(), q6_chennai.toPandas()['latitude'].values.tolist(), q6_chennai.toPandas()['longitude'].values.tolist()):\n",
        "  top_10_costliest_chen.add_child(\n",
        "      folium.Marker(\n",
        "          [lat, lng],\n",
        "          popup= name,\n",
        "      )\n",
        "  )\n",
        "\n",
        "top_10_costliest_chennai.add_child(top_10_costliest_chen)"
      ],
      "execution_count": 124,
      "outputs": [
        {
          "output_type": "execute_result",
          "data": {
            "text/html": [
              "<div style=\"width:100%;\"><div style=\"position:relative;width:100%;height:0;padding-bottom:60%;\"><span style=\"color:#565656\">Make this Notebook Trusted to load map: File -> Trust Notebook</span><iframe src=\"about:blank\" style=\"position:absolute;width:100%;height:100%;left:0;top:0;border:none !important;\" data-html=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 onload=\"this.contentDocument.open();this.contentDocument.write(atob(this.getAttribute('data-html')));this.contentDocument.close();\" allowfullscreen webkitallowfullscreen mozallowfullscreen></iframe></div></div>"
            ],
            "text/plain": [
              "<folium.folium.Map at 0x7faf463432e8>"
            ]
          },
          "metadata": {
            "tags": []
          },
          "execution_count": 124
        }
      ]
    },
    {
      "cell_type": "code",
      "metadata": {
        "colab": {
          "base_uri": "https://localhost:8080/",
          "height": 542
        },
        "id": "_C9qqS_9KW9R",
        "outputId": "c5544fb3-5b23-46ec-e4d4-53ffff6c89c3"
      },
      "source": [
        "q6_chennai_py = q6_chennai.toPandas()\n",
        "fig = px.bar(q6_chennai_py, x= 'name', y= 'cost_for_two', text= 'cost_for_two', color= 'name')\n",
        "fig.update_traces(texttemplate= '%{text:.2s}', textposition= 'outside')\n",
        "fig.update_layout(xaxis_tickangle= -45)\n",
        "fig.update_layout(title= 'Top 10 Costliest Restaurants in the Chennai', xaxis_title= 'Restaurants', yaxis_title= 'Cost for Two')\n",
        "\n",
        "fig"
      ],
      "execution_count": 125,
      "outputs": [
        {
          "output_type": "display_data",
          "data": {
            "text/html": [
              "<html>\n",
              "<head><meta charset=\"utf-8\" /></head>\n",
              "<body>\n",
              "    <div>\n",
              "            <script src=\"https://cdnjs.cloudflare.com/ajax/libs/mathjax/2.7.5/MathJax.js?config=TeX-AMS-MML_SVG\"></script><script type=\"text/javascript\">if (window.MathJax) {MathJax.Hub.Config({SVG: {font: \"STIX-Web\"}});}</script>\n",
              "                <script type=\"text/javascript\">window.PlotlyConfig = {MathJaxConfig: 'local'};</script>\n",
              "        <script src=\"https://cdn.plot.ly/plotly-latest.min.js\"></script>    \n",
              "            <div id=\"e89fb9c8-d7d0-4232-a335-2e78ea85bc0e\" class=\"plotly-graph-div\" style=\"height:525px; width:100%;\"></div>\n",
              "            <script type=\"text/javascript\">\n",
              "                \n",
              "                    window.PLOTLYENV=window.PLOTLYENV || {};\n",
              "                    \n",
              "                if (document.getElementById(\"e89fb9c8-d7d0-4232-a335-2e78ea85bc0e\")) {\n",
              "                    Plotly.newPlot(\n",
              "                        'e89fb9c8-d7d0-4232-a335-2e78ea85bc0e',\n",
              "                        [{\"alignmentgroup\": \"True\", \"hoverlabel\": {\"namelength\": 0}, \"hovertemplate\": \"name=%{x}<br>cost_for_two=%{text}\", \"legendgroup\": \"name=Tao of Peng\", \"marker\": {\"color\": \"#636efa\"}, \"name\": \"name=Tao of Peng\", \"offsetgroup\": \"name=Tao of Peng\", \"orientation\": \"v\", \"showlegend\": true, \"text\": [5500.0], \"textposition\": \"outside\", \"texttemplate\": \"%{text:.2s}\", \"type\": \"bar\", \"x\": [\"Tao of Peng\"], \"xaxis\": \"x\", \"y\": [5500], \"yaxis\": \"y\"}, {\"alignmentgroup\": \"True\", \"hoverlabel\": {\"namelength\": 0}, \"hovertemplate\": \"name=%{x}<br>cost_for_two=%{text}\", \"legendgroup\": \"name=Royal Vega - ITC Grand Chola\", \"marker\": {\"color\": \"#EF553B\"}, \"name\": \"name=Royal Vega - ITC Grand Chola\", \"offsetgroup\": \"name=Royal Vega - ITC Grand Chola\", \"orientation\": \"v\", \"showlegend\": true, \"text\": [5500.0], \"textposition\": \"outside\", \"texttemplate\": \"%{text:.2s}\", \"type\": \"bar\", \"x\": [\"Royal Vega - ITC Grand Chola\"], \"xaxis\": \"x\", \"y\": [5500], \"yaxis\": \"y\"}, {\"alignmentgroup\": \"True\", \"hoverlabel\": {\"namelength\": 0}, \"hovertemplate\": \"name=%{x}<br>cost_for_two=%{text}\", \"legendgroup\": \"name=Blend - Taj Club House\", \"marker\": {\"color\": \"#00cc96\"}, \"name\": \"name=Blend - Taj Club House\", \"offsetgroup\": \"name=Blend - Taj Club House\", \"orientation\": \"v\", \"showlegend\": true, \"text\": [5000.0], \"textposition\": \"outside\", \"texttemplate\": \"%{text:.2s}\", \"type\": \"bar\", \"x\": [\"Blend - Taj Club House\"], \"xaxis\": \"x\", \"y\": [5000], \"yaxis\": \"y\"}, {\"alignmentgroup\": \"True\", \"hoverlabel\": {\"namelength\": 0}, \"hovertemplate\": \"name=%{x}<br>cost_for_two=%{text}\", \"legendgroup\": \"name=Ottimo Cucina Italiana - ITC Grand Chola\", \"marker\": {\"color\": \"#ab63fa\"}, \"name\": \"name=Ottimo Cucina Italiana - ITC Grand Chola\", \"offsetgroup\": \"name=Ottimo Cucina Italiana - ITC Grand Chola\", \"orientation\": \"v\", \"showlegend\": true, \"text\": [5000.0], \"textposition\": \"outside\", \"texttemplate\": \"%{text:.2s}\", \"type\": \"bar\", \"x\": [\"Ottimo Cucina Italiana - ITC Grand Chola\"], \"xaxis\": \"x\", \"y\": [5000], \"yaxis\": \"y\"}, {\"alignmentgroup\": \"True\", \"hoverlabel\": {\"namelength\": 0}, \"hovertemplate\": \"name=%{x}<br>cost_for_two=%{text}\", \"legendgroup\": \"name=Salt. Co. 531 - Radisson Blu GRT Hotel\", \"marker\": {\"color\": \"#FFA15A\"}, \"name\": \"name=Salt. Co. 531 - Radisson Blu GRT Hotel\", \"offsetgroup\": \"name=Salt. Co. 531 - Radisson Blu GRT Hotel\", \"orientation\": \"v\", \"showlegend\": true, \"text\": [4800.0], \"textposition\": \"outside\", \"texttemplate\": \"%{text:.2s}\", \"type\": \"bar\", \"x\": [\"Salt. Co. 531 - Radisson Blu GRT Hotel\"], \"xaxis\": \"x\", \"y\": [4800], \"yaxis\": \"y\"}, {\"alignmentgroup\": \"True\", \"hoverlabel\": {\"namelength\": 0}, \"hovertemplate\": \"name=%{x}<br>cost_for_two=%{text}\", \"legendgroup\": \"name=Avartana - ITC Grand Chola\", \"marker\": {\"color\": \"#19d3f3\"}, \"name\": \"name=Avartana - ITC Grand Chola\", \"offsetgroup\": \"name=Avartana - ITC Grand Chola\", \"orientation\": \"v\", \"showlegend\": true, \"text\": [4500.0], \"textposition\": \"outside\", \"texttemplate\": \"%{text:.2s}\", \"type\": \"bar\", \"x\": [\"Avartana - ITC Grand Chola\"], \"xaxis\": \"x\", \"y\": [4500], \"yaxis\": \"y\"}, {\"alignmentgroup\": \"True\", \"hoverlabel\": {\"namelength\": 0}, \"hovertemplate\": \"name=%{x}<br>cost_for_two=%{text}\", \"legendgroup\": \"name=Peshawri - ITC Grand Chola\", \"marker\": {\"color\": \"#FF6692\"}, \"name\": \"name=Peshawri - ITC Grand Chola\", \"offsetgroup\": \"name=Peshawri - ITC Grand Chola\", \"orientation\": \"v\", \"showlegend\": true, \"text\": [4500.0], \"textposition\": \"outside\", \"texttemplate\": \"%{text:.2s}\", \"type\": \"bar\", \"x\": [\"Peshawri - ITC Grand Chola\"], \"xaxis\": \"x\", \"y\": [4500], \"yaxis\": \"y\"}, {\"alignmentgroup\": \"True\", \"hoverlabel\": {\"namelength\": 0}, \"hovertemplate\": \"name=%{x}<br>cost_for_two=%{text}\", \"legendgroup\": \"name=Pan Asian - ITC Grand Chola\", \"marker\": {\"color\": \"#B6E880\"}, \"name\": \"name=Pan Asian - ITC Grand Chola\", \"offsetgroup\": \"name=Pan Asian - ITC Grand Chola\", \"orientation\": \"v\", \"showlegend\": true, \"text\": [4200.0], \"textposition\": \"outside\", \"texttemplate\": \"%{text:.2s}\", \"type\": \"bar\", \"x\": [\"Pan Asian - ITC Grand Chola\"], \"xaxis\": \"x\", \"y\": [4200], \"yaxis\": \"y\"}, {\"alignmentgroup\": \"True\", \"hoverlabel\": {\"namelength\": 0}, \"hovertemplate\": \"name=%{x}<br>cost_for_two=%{text}\", \"legendgroup\": \"name=Madras Pavilion - ITC Grand Chola\", \"marker\": {\"color\": \"#FF97FF\"}, \"name\": \"name=Madras Pavilion - ITC Grand Chola\", \"offsetgroup\": \"name=Madras Pavilion - ITC Grand Chola\", \"orientation\": \"v\", \"showlegend\": true, \"text\": [4000.0], \"textposition\": \"outside\", \"texttemplate\": \"%{text:.2s}\", \"type\": \"bar\", \"x\": [\"Madras Pavilion - ITC Grand Chola\"], \"xaxis\": \"x\", \"y\": [4000], \"yaxis\": \"y\"}, {\"alignmentgroup\": \"True\", \"hoverlabel\": {\"namelength\": 0}, \"hovertemplate\": \"name=%{x}<br>cost_for_two=%{text}\", \"legendgroup\": \"name=The Great Kabab Factory - Radisson Blu GRT Hotel\", \"marker\": {\"color\": \"#FECB52\"}, \"name\": \"name=The Great Kabab Factory - Radisson Blu GRT Hotel\", \"offsetgroup\": \"name=The Great Kabab Factory - Radisson Blu GRT Hotel\", \"orientation\": \"v\", \"showlegend\": true, \"text\": [4000.0], \"textposition\": \"outside\", \"texttemplate\": \"%{text:.2s}\", \"type\": \"bar\", \"x\": [\"The Great Kabab Factory - Radisson Blu GRT Hotel\"], \"xaxis\": \"x\", \"y\": [4000], \"yaxis\": \"y\"}],\n",
              "                        {\"barmode\": \"relative\", \"legend\": {\"tracegroupgap\": 0}, \"margin\": {\"t\": 60}, \"template\": {\"data\": {\"bar\": [{\"error_x\": {\"color\": \"#2a3f5f\"}, \"error_y\": {\"color\": \"#2a3f5f\"}, \"marker\": {\"line\": {\"color\": \"#E5ECF6\", \"width\": 0.5}}, \"type\": \"bar\"}], \"barpolar\": [{\"marker\": {\"line\": {\"color\": \"#E5ECF6\", \"width\": 0.5}}, \"type\": \"barpolar\"}], \"carpet\": [{\"aaxis\": {\"endlinecolor\": \"#2a3f5f\", \"gridcolor\": \"white\", \"linecolor\": \"white\", \"minorgridcolor\": \"white\", \"startlinecolor\": \"#2a3f5f\"}, \"baxis\": {\"endlinecolor\": \"#2a3f5f\", \"gridcolor\": \"white\", \"linecolor\": \"white\", \"minorgridcolor\": \"white\", \"startlinecolor\": \"#2a3f5f\"}, \"type\": \"carpet\"}], \"choropleth\": [{\"colorbar\": {\"outlinewidth\": 0, \"ticks\": \"\"}, \"type\": \"choropleth\"}], \"contour\": [{\"colorbar\": {\"outlinewidth\": 0, \"ticks\": \"\"}, \"colorscale\": [[0.0, \"#0d0887\"], [0.1111111111111111, \"#46039f\"], [0.2222222222222222, \"#7201a8\"], [0.3333333333333333, \"#9c179e\"], [0.4444444444444444, \"#bd3786\"], [0.5555555555555556, \"#d8576b\"], [0.6666666666666666, \"#ed7953\"], [0.7777777777777778, \"#fb9f3a\"], [0.8888888888888888, \"#fdca26\"], [1.0, \"#f0f921\"]], \"type\": \"contour\"}], \"contourcarpet\": [{\"colorbar\": {\"outlinewidth\": 0, \"ticks\": \"\"}, \"type\": \"contourcarpet\"}], \"heatmap\": [{\"colorbar\": {\"outlinewidth\": 0, \"ticks\": \"\"}, \"colorscale\": [[0.0, \"#0d0887\"], [0.1111111111111111, \"#46039f\"], [0.2222222222222222, \"#7201a8\"], [0.3333333333333333, \"#9c179e\"], [0.4444444444444444, \"#bd3786\"], [0.5555555555555556, \"#d8576b\"], [0.6666666666666666, \"#ed7953\"], [0.7777777777777778, \"#fb9f3a\"], [0.8888888888888888, \"#fdca26\"], [1.0, \"#f0f921\"]], \"type\": \"heatmap\"}], \"heatmapgl\": [{\"colorbar\": {\"outlinewidth\": 0, \"ticks\": \"\"}, \"colorscale\": [[0.0, \"#0d0887\"], [0.1111111111111111, \"#46039f\"], [0.2222222222222222, \"#7201a8\"], [0.3333333333333333, \"#9c179e\"], [0.4444444444444444, \"#bd3786\"], [0.5555555555555556, \"#d8576b\"], [0.6666666666666666, \"#ed7953\"], [0.7777777777777778, \"#fb9f3a\"], [0.8888888888888888, \"#fdca26\"], [1.0, \"#f0f921\"]], \"type\": \"heatmapgl\"}], \"histogram\": [{\"marker\": {\"colorbar\": {\"outlinewidth\": 0, \"ticks\": \"\"}}, \"type\": \"histogram\"}], \"histogram2d\": [{\"colorbar\": {\"outlinewidth\": 0, \"ticks\": \"\"}, \"colorscale\": [[0.0, \"#0d0887\"], [0.1111111111111111, \"#46039f\"], [0.2222222222222222, \"#7201a8\"], [0.3333333333333333, \"#9c179e\"], [0.4444444444444444, \"#bd3786\"], [0.5555555555555556, \"#d8576b\"], [0.6666666666666666, \"#ed7953\"], [0.7777777777777778, \"#fb9f3a\"], [0.8888888888888888, \"#fdca26\"], [1.0, \"#f0f921\"]], \"type\": \"histogram2d\"}], \"histogram2dcontour\": [{\"colorbar\": {\"outlinewidth\": 0, \"ticks\": \"\"}, \"colorscale\": [[0.0, \"#0d0887\"], [0.1111111111111111, \"#46039f\"], [0.2222222222222222, \"#7201a8\"], [0.3333333333333333, \"#9c179e\"], [0.4444444444444444, \"#bd3786\"], [0.5555555555555556, \"#d8576b\"], [0.6666666666666666, \"#ed7953\"], [0.7777777777777778, \"#fb9f3a\"], [0.8888888888888888, \"#fdca26\"], [1.0, \"#f0f921\"]], \"type\": \"histogram2dcontour\"}], \"mesh3d\": [{\"colorbar\": {\"outlinewidth\": 0, \"ticks\": \"\"}, \"type\": \"mesh3d\"}], \"parcoords\": [{\"line\": {\"colorbar\": {\"outlinewidth\": 0, \"ticks\": \"\"}}, \"type\": \"parcoords\"}], \"pie\": [{\"automargin\": true, \"type\": \"pie\"}], \"scatter\": [{\"marker\": {\"colorbar\": {\"outlinewidth\": 0, \"ticks\": \"\"}}, \"type\": \"scatter\"}], \"scatter3d\": [{\"line\": {\"colorbar\": {\"outlinewidth\": 0, \"ticks\": \"\"}}, \"marker\": {\"colorbar\": {\"outlinewidth\": 0, \"ticks\": \"\"}}, \"type\": \"scatter3d\"}], \"scattercarpet\": [{\"marker\": {\"colorbar\": {\"outlinewidth\": 0, \"ticks\": \"\"}}, \"type\": \"scattercarpet\"}], \"scattergeo\": [{\"marker\": {\"colorbar\": {\"outlinewidth\": 0, \"ticks\": \"\"}}, \"type\": \"scattergeo\"}], \"scattergl\": [{\"marker\": {\"colorbar\": {\"outlinewidth\": 0, \"ticks\": \"\"}}, \"type\": \"scattergl\"}], \"scattermapbox\": [{\"marker\": {\"colorbar\": {\"outlinewidth\": 0, \"ticks\": \"\"}}, \"type\": \"scattermapbox\"}], \"scatterpolar\": [{\"marker\": {\"colorbar\": {\"outlinewidth\": 0, \"ticks\": \"\"}}, \"type\": \"scatterpolar\"}], \"scatterpolargl\": [{\"marker\": {\"colorbar\": {\"outlinewidth\": 0, \"ticks\": \"\"}}, \"type\": \"scatterpolargl\"}], \"scatterternary\": [{\"marker\": {\"colorbar\": {\"outlinewidth\": 0, \"ticks\": \"\"}}, \"type\": \"scatterternary\"}], \"surface\": [{\"colorbar\": {\"outlinewidth\": 0, \"ticks\": \"\"}, \"colorscale\": [[0.0, \"#0d0887\"], [0.1111111111111111, \"#46039f\"], [0.2222222222222222, \"#7201a8\"], [0.3333333333333333, \"#9c179e\"], [0.4444444444444444, \"#bd3786\"], [0.5555555555555556, \"#d8576b\"], [0.6666666666666666, \"#ed7953\"], [0.7777777777777778, \"#fb9f3a\"], [0.8888888888888888, \"#fdca26\"], [1.0, \"#f0f921\"]], \"type\": \"surface\"}], \"table\": [{\"cells\": {\"fill\": {\"color\": \"#EBF0F8\"}, \"line\": {\"color\": \"white\"}}, \"header\": {\"fill\": {\"color\": \"#C8D4E3\"}, \"line\": {\"color\": \"white\"}}, \"type\": \"table\"}]}, \"layout\": {\"annotationdefaults\": {\"arrowcolor\": \"#2a3f5f\", \"arrowhead\": 0, \"arrowwidth\": 1}, \"coloraxis\": {\"colorbar\": {\"outlinewidth\": 0, \"ticks\": \"\"}}, \"colorscale\": {\"diverging\": [[0, \"#8e0152\"], [0.1, \"#c51b7d\"], [0.2, \"#de77ae\"], [0.3, \"#f1b6da\"], [0.4, \"#fde0ef\"], [0.5, \"#f7f7f7\"], [0.6, \"#e6f5d0\"], [0.7, \"#b8e186\"], [0.8, \"#7fbc41\"], [0.9, \"#4d9221\"], [1, \"#276419\"]], \"sequential\": [[0.0, \"#0d0887\"], [0.1111111111111111, \"#46039f\"], [0.2222222222222222, \"#7201a8\"], [0.3333333333333333, \"#9c179e\"], [0.4444444444444444, \"#bd3786\"], [0.5555555555555556, \"#d8576b\"], [0.6666666666666666, \"#ed7953\"], [0.7777777777777778, \"#fb9f3a\"], [0.8888888888888888, \"#fdca26\"], [1.0, \"#f0f921\"]], \"sequentialminus\": [[0.0, \"#0d0887\"], [0.1111111111111111, \"#46039f\"], [0.2222222222222222, \"#7201a8\"], [0.3333333333333333, \"#9c179e\"], [0.4444444444444444, \"#bd3786\"], [0.5555555555555556, \"#d8576b\"], [0.6666666666666666, \"#ed7953\"], [0.7777777777777778, \"#fb9f3a\"], [0.8888888888888888, \"#fdca26\"], [1.0, \"#f0f921\"]]}, \"colorway\": [\"#636efa\", \"#EF553B\", \"#00cc96\", \"#ab63fa\", \"#FFA15A\", \"#19d3f3\", \"#FF6692\", \"#B6E880\", \"#FF97FF\", \"#FECB52\"], \"font\": {\"color\": \"#2a3f5f\"}, \"geo\": {\"bgcolor\": \"white\", \"lakecolor\": \"white\", \"landcolor\": \"#E5ECF6\", \"showlakes\": true, \"showland\": true, \"subunitcolor\": \"white\"}, \"hoverlabel\": {\"align\": \"left\"}, \"hovermode\": \"closest\", \"mapbox\": {\"style\": \"light\"}, \"paper_bgcolor\": \"white\", \"plot_bgcolor\": \"#E5ECF6\", \"polar\": {\"angularaxis\": {\"gridcolor\": \"white\", \"linecolor\": \"white\", \"ticks\": \"\"}, \"bgcolor\": \"#E5ECF6\", \"radialaxis\": {\"gridcolor\": \"white\", \"linecolor\": \"white\", \"ticks\": \"\"}}, \"scene\": {\"xaxis\": {\"backgroundcolor\": \"#E5ECF6\", \"gridcolor\": \"white\", \"gridwidth\": 2, \"linecolor\": \"white\", \"showbackground\": true, \"ticks\": \"\", \"zerolinecolor\": \"white\"}, \"yaxis\": {\"backgroundcolor\": \"#E5ECF6\", \"gridcolor\": \"white\", \"gridwidth\": 2, \"linecolor\": \"white\", \"showbackground\": true, \"ticks\": \"\", \"zerolinecolor\": \"white\"}, \"zaxis\": {\"backgroundcolor\": \"#E5ECF6\", \"gridcolor\": \"white\", \"gridwidth\": 2, \"linecolor\": \"white\", \"showbackground\": true, \"ticks\": \"\", \"zerolinecolor\": \"white\"}}, \"shapedefaults\": {\"line\": {\"color\": \"#2a3f5f\"}}, \"ternary\": {\"aaxis\": {\"gridcolor\": \"white\", \"linecolor\": \"white\", \"ticks\": \"\"}, \"baxis\": {\"gridcolor\": \"white\", \"linecolor\": \"white\", \"ticks\": \"\"}, \"bgcolor\": \"#E5ECF6\", \"caxis\": {\"gridcolor\": \"white\", \"linecolor\": \"white\", \"ticks\": \"\"}}, \"title\": {\"x\": 0.05}, \"xaxis\": {\"automargin\": true, \"gridcolor\": \"white\", \"linecolor\": \"white\", \"ticks\": \"\", \"title\": {\"standoff\": 15}, \"zerolinecolor\": \"white\", \"zerolinewidth\": 2}, \"yaxis\": {\"automargin\": true, \"gridcolor\": \"white\", \"linecolor\": \"white\", \"ticks\": \"\", \"title\": {\"standoff\": 15}, \"zerolinecolor\": \"white\", \"zerolinewidth\": 2}}}, \"title\": {\"text\": \"Top 10 Costliest Restaurants in the Chennai\"}, \"xaxis\": {\"anchor\": \"y\", \"categoryarray\": [\"Tao of Peng\", \"Royal Vega - ITC Grand Chola\", \"Blend - Taj Club House\", \"Ottimo Cucina Italiana - ITC Grand Chola\", \"Salt. Co. 531 - Radisson Blu GRT Hotel\", \"Avartana - ITC Grand Chola\", \"Peshawri - ITC Grand Chola\", \"Pan Asian - ITC Grand Chola\", \"Madras Pavilion - ITC Grand Chola\", \"The Great Kabab Factory - Radisson Blu GRT Hotel\"], \"categoryorder\": \"array\", \"domain\": [0.0, 1.0], \"tickangle\": -45, \"title\": {\"text\": \"Restaurants\"}}, \"yaxis\": {\"anchor\": \"x\", \"domain\": [0.0, 1.0], \"title\": {\"text\": \"Cost for Two\"}}},\n",
              "                        {\"responsive\": true}\n",
              "                    ).then(function(){\n",
              "                            \n",
              "var gd = document.getElementById('e89fb9c8-d7d0-4232-a335-2e78ea85bc0e');\n",
              "var x = new MutationObserver(function (mutations, observer) {{\n",
              "        var display = window.getComputedStyle(gd).display;\n",
              "        if (!display || display === 'none') {{\n",
              "            console.log([gd, 'removed!']);\n",
              "            Plotly.purge(gd);\n",
              "            observer.disconnect();\n",
              "        }}\n",
              "}});\n",
              "\n",
              "// Listen for the removal of the full notebook cells\n",
              "var notebookContainer = gd.closest('#notebook-container');\n",
              "if (notebookContainer) {{\n",
              "    x.observe(notebookContainer, {childList: true});\n",
              "}}\n",
              "\n",
              "// Listen for the clearing of the current output cell\n",
              "var outputEl = gd.closest('.output');\n",
              "if (outputEl) {{\n",
              "    x.observe(outputEl, {childList: true});\n",
              "}}\n",
              "\n",
              "                        })\n",
              "                };\n",
              "                \n",
              "            </script>\n",
              "        </div>\n",
              "</body>\n",
              "</html>"
            ]
          },
          "metadata": {
            "tags": []
          }
        }
      ]
    },
    {
      "cell_type": "markdown",
      "metadata": {
        "id": "5hn7vz_4depr"
      },
      "source": [
        "**Tao of Peng** is the costliest restaurant in the city of Chennai."
      ]
    },
    {
      "cell_type": "markdown",
      "metadata": {
        "id": "HHP-txSxz3lu"
      },
      "source": [
        "#### Top 10 cheapest restaurant"
      ]
    },
    {
      "cell_type": "code",
      "metadata": {
        "colab": {
          "base_uri": "https://localhost:8080/"
        },
        "id": "9xLrDoq-3lQj",
        "outputId": "b795a416-5f07-4dcb-d366-a44ff1263803"
      },
      "source": [
        "q8 = df.select('name', 'rating', 'cost_for_two', 'city').filter(df.cost_for_two > 50).orderBy(asc('cost_for_two')).limit(10)\n",
        "q8.show()"
      ],
      "execution_count": null,
      "outputs": [
        {
          "output_type": "stream",
          "text": [
            "+--------------------+------+------------+---------+\n",
            "|                name|rating|cost_for_two|     city|\n",
            "+--------------------+------+------------+---------+\n",
            "|            18 Dosas|   2.7|          60|Hyderabad|\n",
            "|          Mamee Soup|   4.1|          60|  Chennai|\n",
            "|     Sanskriti Chaat|   3.8|          60|   Jaipur|\n",
            "|Shri Gokul Prasad...|   3.2|          60|  Lucknow|\n",
            "|   Chak De Fast Food|   3.3|          60|   Kanpur|\n",
            "|          Vas Bakery|   3.4|          60|Mangalore|\n",
            "|       Ashoka Bakery|   2.9|          60|   Kanpur|\n",
            "|     Shankar's Chaat|   4.0|          60|    Ajmer|\n",
            "|     Student's Lassi|   2.9|          60|Gorakhpur|\n",
            "| Makhija Enterprises|   3.2|          60|  Gwalior|\n",
            "+--------------------+------+------------+---------+\n",
            "\n"
          ],
          "name": "stdout"
        }
      ]
    },
    {
      "cell_type": "markdown",
      "metadata": {
        "id": "Fsu9F3muVm3Z"
      },
      "source": [
        "#### What are the top 10 cheapest restaurants in the specific cities?"
      ]
    },
    {
      "cell_type": "code",
      "metadata": {
        "colab": {
          "base_uri": "https://localhost:8080/"
        },
        "id": "18zghmQRViEn",
        "outputId": "3bad0f82-001e-44d1-ee78-f5625be3256c"
      },
      "source": [
        "q9_mumbai = df.select('name', 'rating', 'cost_for_two', 'city', 'area').filter((df.cost_for_two >= 40) & (df.city == 'Mumbai')).orderBy(asc('cost_for_two')).limit(10)\n",
        "q9_mumbai.show()"
      ],
      "execution_count": null,
      "outputs": [
        {
          "output_type": "stream",
          "text": [
            "+--------------------+------+------------+------+--------------------+\n",
            "|                name|rating|cost_for_two|  city|                area|\n",
            "+--------------------+------+------------+------+--------------------+\n",
            "|     Shegaon Kachori|   3.3|          50|Mumbai|  Khopat, Thane West|\n",
            "|Kullad Chai Coffe...|   3.1|          50|Mumbai|Hiranandani Estat...|\n",
            "|           Ho5 Store|   3.3|          50|Mumbai|        Matunga West|\n",
            "|Jai Ambika Pan Bh...|   3.2|          50|Mumbai|          Ulhasnagar|\n",
            "|Batulz- Cakes N More|   2.9|          50|Mumbai|             Kamothe|\n",
            "|   Ornamental Mithai|   4.3|         100|Mumbai|         Mulund West|\n",
            "|   Hotel Maharashtra|   3.3|         100|Mumbai|       Borivali West|\n",
            "|          J.J Jalebi|   3.8|         100|Mumbai|               Kurla|\n",
            "| Jhama Silver Sweets|   3.7|         100|Mumbai|      Kopar Khairane|\n",
            "|          Misal Ghar|   3.2|         100|Mumbai| Naupada, Thane West|\n",
            "+--------------------+------+------------+------+--------------------+\n",
            "\n"
          ],
          "name": "stdout"
        }
      ]
    },
    {
      "cell_type": "code",
      "metadata": {
        "colab": {
          "base_uri": "https://localhost:8080/"
        },
        "id": "-A7JfFNGXCap",
        "outputId": "449a2395-f54d-4f5d-f76c-fdde2f34238a"
      },
      "source": [
        "q9_hyderabad = df.select('name', 'rating', 'cost_for_two', 'city', 'area').filter((df.cost_for_two >= 40) & (df.city == 'Hyderabad')).orderBy(asc('cost_for_two')).limit(10)\n",
        "q9_hyderabad.show()"
      ],
      "execution_count": null,
      "outputs": [
        {
          "output_type": "stream",
          "text": [
            "+--------------------+------+------------+---------+------------+\n",
            "|                name|rating|cost_for_two|     city|        area|\n",
            "+--------------------+------+------------+---------+------------+\n",
            "|         Sohail Cafe|   3.3|          50|Hyderabad| Musheerabad|\n",
            "|  Zar Zari Zar Baksh|   3.0|          50|Hyderabad| Musheerabad|\n",
            "|Sri Gayatri Dabel...|   3.3|          50|Hyderabad|    Kothapet|\n",
            "|     Naidu Tea Stall|   3.1|          50|Hyderabad|  Kukatpally|\n",
            "|   K.G.N Veg Biryani|   2.9|          50|Hyderabad|   Charminar|\n",
            "|        Chai Deewane|   3.2|          50|Hyderabad|  Kukatpally|\n",
            "|            18 Dosas|   2.7|          60|Hyderabad|   L B Nagar|\n",
            "|      Delicious Dosa|   3.9|          80|Hyderabad|Dilsukhnagar|\n",
            "|Jai Durga Chinese...|   3.1|         100|Hyderabad| Marredpally|\n",
            "|     Laxman ki Bandi|   4.2|         100|Hyderabad|Begum Bazaar|\n",
            "+--------------------+------+------------+---------+------------+\n",
            "\n"
          ],
          "name": "stdout"
        }
      ]
    },
    {
      "cell_type": "code",
      "metadata": {
        "colab": {
          "base_uri": "https://localhost:8080/"
        },
        "id": "yg0LzkdgXCiR",
        "outputId": "6d4993ef-ca97-420b-c8a9-21deaa2bc5a9"
      },
      "source": [
        "q9_bengaluru = df.select('name', 'rating', 'cost_for_two', 'city', 'area').filter((df.cost_for_two >= 30) & (df.city == 'Bengaluru')).orderBy(asc('cost_for_two')).limit(10)\n",
        "q9_bengaluru.show()"
      ],
      "execution_count": null,
      "outputs": [
        {
          "output_type": "stream",
          "text": [
            "+--------------------+------+------------+---------+-------------+\n",
            "|                name|rating|cost_for_two|     city|         area|\n",
            "+--------------------+------+------------+---------+-------------+\n",
            "|Shree Vishnu That...|   3.9|          40|Bengaluru|       Domlur|\n",
            "|            VarieTea|   3.7|          50|Bengaluru| New BEL Road|\n",
            "|          Lassi Shop|   3.8|          60|Bengaluru|   Nagarbhavi|\n",
            "|   Nellore Dosa Camp|   3.3|          70|Bengaluru|          BTM|\n",
            "|          Lassi Shop|   3.8|          80|Bengaluru|     JP Nagar|\n",
            "|Om Ganesha Fruit ...|   3.4|          80|Bengaluru|Vasanth Nagar|\n",
            "|           Dosa Cafe|   3.4|          80|Bengaluru|  Vijay Nagar|\n",
            "|     Rajastani Rasoi|   3.2|         100|Bengaluru| Basavanagudi|\n",
            "|         Cake Palace|   3.4|         100|Bengaluru|  Indiranagar|\n",
            "|         Coffee Time|   4.1|         100|Bengaluru|      Kengeri|\n",
            "+--------------------+------+------------+---------+-------------+\n",
            "\n"
          ],
          "name": "stdout"
        }
      ]
    },
    {
      "cell_type": "code",
      "metadata": {
        "colab": {
          "base_uri": "https://localhost:8080/"
        },
        "id": "0Z1O5iiTXClU",
        "outputId": "a8db0528-a052-45dc-a49f-ad1ca973ecf9"
      },
      "source": [
        "q9_delhi = df.select('name', 'rating', 'cost_for_two', 'city', 'area').filter((df.cost_for_two >= 40) & (df.city == 'Delhi NCR')).orderBy(asc('cost_for_two')).limit(10)\n",
        "q9_delhi.show()"
      ],
      "execution_count": null,
      "outputs": [
        {
          "output_type": "stream",
          "text": [
            "+--------------------+------+------------+---------+-------------------+\n",
            "|                name|rating|cost_for_two|     city|               area|\n",
            "+--------------------+------+------------+---------+-------------------+\n",
            "|  Gopal Kachori Wala|   3.3|          50|Delhi NCR|       Punjabi Bagh|\n",
            "| Shri Saheb Ji Dairy|   3.7|          50|Delhi NCR|     Dilshad Garden|\n",
            "|       Duggal Snacks|   3.9|          50|Delhi NCR|Mayur Vihar Phase 2|\n",
            "|Pandit Ved Prakas...|   3.9|          50|Delhi NCR|      Chandni Chowk|\n",
            "| Shri Ram Poori Wale|   2.8|          50|Delhi NCR|        Kirti Nagar|\n",
            "|Aggarwal Jalebi Wale|   2.7|          50|Delhi NCR|        Uttam Nagar|\n",
            "| India Coffee Centre|   2.9|          50|Delhi NCR|    Connaught Place|\n",
            "|        Bansal Sweet|   2.6|          50|Delhi NCR|Mayur Vihar Phase 1|\n",
            "|         Ram Kachori|   3.6|          50|Delhi NCR|      Kashmiri Gate|\n",
            "|Shree Ram Poori Wale|   3.0|          50|Delhi NCR|          Jail Road|\n",
            "+--------------------+------+------------+---------+-------------------+\n",
            "\n"
          ],
          "name": "stdout"
        }
      ]
    },
    {
      "cell_type": "code",
      "metadata": {
        "colab": {
          "base_uri": "https://localhost:8080/"
        },
        "id": "cgrY0vhvXCn2",
        "outputId": "e87d52d2-4993-4813-bebd-b947f04fd33f"
      },
      "source": [
        "q9_kolkata = df.select('name', 'rating', 'cost_for_two', 'city', 'area').filter((df.cost_for_two >= 40) & (df.city == 'Kolkata')).orderBy(asc('cost_for_two')).limit(10)\n",
        "q9_kolkata.show()"
      ],
      "execution_count": null,
      "outputs": [
        {
          "output_type": "stream",
          "text": [
            "+--------------------+------+------------+-------+-----------------+\n",
            "|                name|rating|cost_for_two|   city|             area|\n",
            "+--------------------+------+------------+-------+-----------------+\n",
            "|    Ramji Ghugniwala|   2.9|          80|Kolkata| Park Street Area|\n",
            "|  Ramesh Chilla Wala|   3.1|          80|Kolkata| Park Street Area|\n",
            "|Narendra Mistanna...|   3.5|         100|Kolkata|       Tollygunge|\n",
            "|        Ghosh Sweets|   3.1|         100|Kolkata|          Shibpur|\n",
            "|Shib Namkin & Sweets|   3.3|         100|Kolkata|    Picnic Garden|\n",
            "|       Shankar Cabin|   3.8|         100|Kolkata|          Golpark|\n",
            "|Laxmi Narayan Mis...|   3.2|         100|Kolkata|        Baguihati|\n",
            "|Shree  Hari Mista...|   3.3|         100|Kolkata|         Gariahat|\n",
            "|Sri Krishna Hot C...|   3.1|         100|Kolkata|Camac Street Area|\n",
            "|Haldiram & Sons B...|   3.3|         100|Kolkata|        Bow Bazar|\n",
            "+--------------------+------+------------+-------+-----------------+\n",
            "\n"
          ],
          "name": "stdout"
        }
      ]
    },
    {
      "cell_type": "code",
      "metadata": {
        "colab": {
          "base_uri": "https://localhost:8080/"
        },
        "id": "M3fzY8kvXCrW",
        "outputId": "a02908f1-aae8-461d-d228-50837eb679cd"
      },
      "source": [
        "q9_chennai = df.select('name', 'rating', 'cost_for_two', 'city', 'area').filter((df.cost_for_two >= 30) & (df.city == 'Chennai')).orderBy(asc('cost_for_two')).limit(10)\n",
        "q9_chennai.show()"
      ],
      "execution_count": null,
      "outputs": [
        {
          "output_type": "stream",
          "text": [
            "+--------------------+------+------------+-------+---------------+\n",
            "|                name|rating|cost_for_two|   city|           area|\n",
            "+--------------------+------+------------+-------+---------------+\n",
            "|            Soda Hub|   3.3|          40|Chennai|       Navallur|\n",
            "|     Saravana Coffee|   3.1|          50|Chennai|    Kodambakkam|\n",
            "|          Mamee Soup|   4.1|          60|Chennai|  West Mambalam|\n",
            "|             WN Cafe|   3.3|         100|Chennai|    Nanganallur|\n",
            "|             Mango's|   3.9|         100|Chennai|          Adyar|\n",
            "|        Mumbai Kulfi|   3.8|         100|Chennai| Sholinganallur|\n",
            "|Chapati Parantha ...|   3.6|         100|Chennai|  Thiruvanmiyur|\n",
            "|      Lassi Junction|   3.7|         100|Chennai|Anna Nagar West|\n",
            "|      Beeda And Soda|   3.4|         100|Chennai|          Adyar|\n",
            "|  Madurai Sri Bhavan|   3.5|         100|Chennai|  Thiruvanmiyur|\n",
            "+--------------------+------+------------+-------+---------------+\n",
            "\n"
          ],
          "name": "stdout"
        }
      ]
    }
  ]
}