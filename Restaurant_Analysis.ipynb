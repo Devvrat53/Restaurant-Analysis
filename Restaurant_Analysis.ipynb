{
  "nbformat": 4,
  "nbformat_minor": 0,
  "metadata": {
    "kernelspec": {
      "display_name": "Python 3",
      "language": "python",
      "name": "python3"
    },
    "language_info": {
      "codemirror_mode": {
        "name": "ipython",
        "version": 3
      },
      "file_extension": ".py",
      "mimetype": "text/x-python",
      "name": "python",
      "nbconvert_exporter": "python",
      "pygments_lexer": "ipython3",
      "version": "3.5.1"
    },
    "colab": {
      "name": "Restaurant-Analysis.ipynb",
      "provenance": [],
      "collapsed_sections": [],
      "toc_visible": true,
      "include_colab_link": true
    }
  },
  "cells": [
    {
      "cell_type": "markdown",
      "metadata": {
        "id": "view-in-github",
        "colab_type": "text"
      },
      "source": [
        "<a href=\"https://colab.research.google.com/github/Devvrat53/Restaurant-Analysis/blob/main/Restaurant_Analysis.ipynb\" target=\"_parent\"><img src=\"https://colab.research.google.com/assets/colab-badge.svg\" alt=\"Open In Colab\"/></a>"
      ]
    },
    {
      "cell_type": "markdown",
      "metadata": {
        "id": "MhirMW4e2Y7V"
      },
      "source": [
        "## Installation"
      ]
    },
    {
      "cell_type": "code",
      "metadata": {
        "id": "r6Dk-6mKbbt5",
        "colab": {
          "base_uri": "https://localhost:8080/"
        },
        "outputId": "fcbeb722-3c2f-46bd-c132-86b4f12deb3b"
      },
      "source": [
        "from google.colab import drive\n",
        "drive.mount('/content/drive')"
      ],
      "execution_count": 1,
      "outputs": [
        {
          "output_type": "stream",
          "text": [
            "Mounted at /content/drive\n"
          ],
          "name": "stdout"
        }
      ]
    },
    {
      "cell_type": "code",
      "metadata": {
        "id": "zo2KG1IBbNHJ",
        "colab": {
          "base_uri": "https://localhost:8080/"
        },
        "outputId": "06fcdff7-b166-4a00-a0b9-d4ddd93f2ed7"
      },
      "source": [
        "#!pip install --upgrade pip\n",
        "#!pip install folium\n",
        "!pip install pyspark"
      ],
      "execution_count": 2,
      "outputs": [
        {
          "output_type": "stream",
          "text": [
            "Collecting pyspark\n",
            "\u001b[?25l  Downloading https://files.pythonhosted.org/packages/f0/26/198fc8c0b98580f617cb03cb298c6056587b8f0447e20fa40c5b634ced77/pyspark-3.0.1.tar.gz (204.2MB)\n",
            "\u001b[K     |████████████████████████████████| 204.2MB 65kB/s \n",
            "\u001b[?25hCollecting py4j==0.10.9\n",
            "\u001b[?25l  Downloading https://files.pythonhosted.org/packages/9e/b6/6a4fb90cd235dc8e265a6a2067f2a2c99f0d91787f06aca4bcf7c23f3f80/py4j-0.10.9-py2.py3-none-any.whl (198kB)\n",
            "\u001b[K     |████████████████████████████████| 204kB 40.6MB/s \n",
            "\u001b[?25hBuilding wheels for collected packages: pyspark\n",
            "  Building wheel for pyspark (setup.py) ... \u001b[?25l\u001b[?25hdone\n",
            "  Created wheel for pyspark: filename=pyspark-3.0.1-py2.py3-none-any.whl size=204612243 sha256=a3adbf081a8a945d32ab12134920c4aa611ac53bccae34e82c4f3b4b5d0ff784\n",
            "  Stored in directory: /root/.cache/pip/wheels/5e/bd/07/031766ca628adec8435bb40f0bd83bb676ce65ff4007f8e73f\n",
            "Successfully built pyspark\n",
            "Installing collected packages: py4j, pyspark\n",
            "Successfully installed py4j-0.10.9 pyspark-3.0.1\n"
          ],
          "name": "stdout"
        }
      ]
    },
    {
      "cell_type": "markdown",
      "metadata": {
        "id": "xV2OoLfu2nty"
      },
      "source": [
        "## Import"
      ]
    },
    {
      "cell_type": "code",
      "metadata": {
        "id": "zRWc8OjYbNHQ"
      },
      "source": [
        "from pyspark.sql import SparkSession\n",
        "from pyspark.sql.functions import format_number, avg, desc, count, asc\n",
        "from pyspark.sql.types import * # Data types in PySpark\n",
        "import matplotlib.pyplot as plt\n",
        "import folium\n",
        "import seaborn as sns"
      ],
      "execution_count": 3,
      "outputs": []
    },
    {
      "cell_type": "code",
      "metadata": {
        "id": "zv3kEaKcbNHT"
      },
      "source": [
        "spark = SparkSession.builder.appName('Restaurant-Data-Analysis').getOrCreate()"
      ],
      "execution_count": 4,
      "outputs": []
    },
    {
      "cell_type": "code",
      "metadata": {
        "id": "py7lTlpcbNHX"
      },
      "source": [
        "df_path = '/content/drive/MyDrive/BDA-Mini-Project/Dataset/Zomato Kaggle/Zomato India Restaurants (2 Lakh + restaurants data)/data/indian_restaurants_details_cleaned_data.csv'\n",
        "df = spark.read.format('csv').option('header', True).option('inferSchema', True).load(df_path)"
      ],
      "execution_count": 5,
      "outputs": []
    },
    {
      "cell_type": "code",
      "metadata": {
        "id": "RP-ZkuIObNHa",
        "colab": {
          "base_uri": "https://localhost:8080/"
        },
        "outputId": "c81591bf-4d6a-4c78-9366-7dfcdf8c9ed9"
      },
      "source": [
        "df.show(5)\n",
        "print(\"Total Records in the dataset= \", df.count())"
      ],
      "execution_count": 6,
      "outputs": [
        {
          "output_type": "stream",
          "text": [
            "+--------------------+--------------------+---------+------------+------+------------+--------------------+--------------------+------------+--------------------+--------------------+------------+-----------------+-------------+--------------------+-------------+-------------+\n",
            "|          zomato_url|                name|     city|        area|rating|rating_count|           telephone|              cusine|cost_for_two|             address|             timings|online_order|table_reservation|delivery_only|         famous_food|    longitude|     latitude|\n",
            "+--------------------+--------------------+---------+------------+------+------------+--------------------+--------------------+------------+--------------------+--------------------+------------+-----------------+-------------+--------------------+-------------+-------------+\n",
            "|https://www.zomat...|         Sainik Food|Delhi NCR|Pandav Nagar|   3.2|        21.0|011 22486474 +91 ...|        North Indian|       300.0|C 4/1, Opposite M...|{'Mon': [0, 0, 0,...|       False|            False|        False|                null|77.2848711535|28.6177324058|\n",
            "|https://www.zomat...|Kunal's Creamery ...|   Mumbai|   Ambernath|   3.6|        51.0|+91 9561356690 +9...|Street Food, Chin...|       500.0|Shop 14, Trishul ...|{'Mon': [0, 0, 0,...|       False|            False|        False|         Penne Pasta|73.1842865422|19.2058869331|\n",
            "|https://www.zomat...|Brij Palace Resta...|Delhi NCR|      Jasola|  null|        null|      +91 9891828106|        North Indian|       250.0|4, Okhla Bus Stan...|{'Mon': [0, 0, 0,...|       False|            False|        False|Chana Masala , Bu...|77.2912229598|28.5630343606|\n",
            "|https://www.zomat...|         Sahib Hotel|Delhi NCR|   Paharganj|  null|        null|      +91 9670005455|        North Indian|       300.0|121, Amrit Kaur M...|{'Mon': [1, 0, 0,...|       False|            False|        False|                null|77.2182980552| 28.642410638|\n",
            "|https://www.zomat...|            Chunky's|  Kolkata|     Shibpur|   3.0|        78.0|      +91 8442828284|Italian, Pizza, C...|       500.0|523, G.T Road, Ho...|{'Mon': [1, 1, 1,...|        True|            False|        False|                null|88.3307084441|22.5777582163|\n",
            "+--------------------+--------------------+---------+------------+------+------------+--------------------+--------------------+------------+--------------------+--------------------+------------+-----------------+-------------+--------------------+-------------+-------------+\n",
            "only showing top 5 rows\n",
            "\n",
            "Total Records in the dataset=  224854\n"
          ],
          "name": "stdout"
        }
      ]
    },
    {
      "cell_type": "code",
      "metadata": {
        "id": "r8MJkwEdbNHe",
        "colab": {
          "base_uri": "https://localhost:8080/"
        },
        "outputId": "b0eb8fe6-70cc-45bd-e54e-d2df60e3ed13"
      },
      "source": [
        "# Describing the Schema of the dataset\n",
        "df.printSchema()"
      ],
      "execution_count": 7,
      "outputs": [
        {
          "output_type": "stream",
          "text": [
            "root\n",
            " |-- zomato_url: string (nullable = true)\n",
            " |-- name: string (nullable = true)\n",
            " |-- city: string (nullable = true)\n",
            " |-- area: string (nullable = true)\n",
            " |-- rating: string (nullable = true)\n",
            " |-- rating_count: string (nullable = true)\n",
            " |-- telephone: string (nullable = true)\n",
            " |-- cusine: string (nullable = true)\n",
            " |-- cost_for_two: string (nullable = true)\n",
            " |-- address: string (nullable = true)\n",
            " |-- timings: string (nullable = true)\n",
            " |-- online_order: string (nullable = true)\n",
            " |-- table_reservation: string (nullable = true)\n",
            " |-- delivery_only: string (nullable = true)\n",
            " |-- famous_food: string (nullable = true)\n",
            " |-- longitude: string (nullable = true)\n",
            " |-- latitude: string (nullable = true)\n",
            "\n"
          ],
          "name": "stdout"
        }
      ]
    },
    {
      "cell_type": "code",
      "metadata": {
        "id": "8ieNbBcUbNHg",
        "colab": {
          "base_uri": "https://localhost:8080/"
        },
        "outputId": "35e123e7-547d-4497-a9fe-a92a427d8849"
      },
      "source": [
        "# Columns in the dataset\n",
        "df.columns"
      ],
      "execution_count": 8,
      "outputs": [
        {
          "output_type": "execute_result",
          "data": {
            "text/plain": [
              "['zomato_url',\n",
              " 'name',\n",
              " 'city',\n",
              " 'area',\n",
              " 'rating',\n",
              " 'rating_count',\n",
              " 'telephone',\n",
              " 'cusine',\n",
              " 'cost_for_two',\n",
              " 'address',\n",
              " 'timings',\n",
              " 'online_order',\n",
              " 'table_reservation',\n",
              " 'delivery_only',\n",
              " 'famous_food',\n",
              " 'longitude',\n",
              " 'latitude']"
            ]
          },
          "metadata": {
            "tags": []
          },
          "execution_count": 8
        }
      ]
    },
    {
      "cell_type": "code",
      "metadata": {
        "id": "d7_MGvUBbNHj",
        "colab": {
          "base_uri": "https://localhost:8080/"
        },
        "outputId": "357465a8-308a-42fb-8afd-6c1de4f4cdb4"
      },
      "source": [
        "# Shape of the dataset i.e. the rows and the columns\n",
        "shape = (df.count(), len(df.columns))\n",
        "print(\"The Shape of the dataset= \", shape)"
      ],
      "execution_count": 9,
      "outputs": [
        {
          "output_type": "stream",
          "text": [
            "The Shape of the dataset=  (224854, 17)\n"
          ],
          "name": "stdout"
        }
      ]
    },
    {
      "cell_type": "code",
      "metadata": {
        "id": "w7y02Yr8bNHm",
        "colab": {
          "base_uri": "https://localhost:8080/"
        },
        "outputId": "f13c4361-7535-4a22-f9cb-fbf2f7320c28"
      },
      "source": [
        "# Selecting some columns for displaying\n",
        "df.select('name', 'city', 'area', 'rating', 'cusine', 'cost_for_two', 'longitude', 'latitude').show()"
      ],
      "execution_count": 10,
      "outputs": [
        {
          "output_type": "stream",
          "text": [
            "+--------------------+---------+--------------------+------+--------------------+------------+-------------+-------------+\n",
            "|                name|     city|                area|rating|              cusine|cost_for_two|    longitude|     latitude|\n",
            "+--------------------+---------+--------------------+------+--------------------+------------+-------------+-------------+\n",
            "|         Sainik Food|Delhi NCR|        Pandav Nagar|   3.2|        North Indian|       300.0|77.2848711535|28.6177324058|\n",
            "|Kunal's Creamery ...|   Mumbai|           Ambernath|   3.6|Street Food, Chin...|       500.0|73.1842865422|19.2058869331|\n",
            "|Brij Palace Resta...|Delhi NCR|              Jasola|  null|        North Indian|       250.0|77.2912229598|28.5630343606|\n",
            "|         Sahib Hotel|Delhi NCR|           Paharganj|  null|        North Indian|       300.0|77.2182980552| 28.642410638|\n",
            "|            Chunky's|  Kolkata|             Shibpur|   3.0|Italian, Pizza, C...|       500.0|88.3307084441|22.5777582163|\n",
            "|      The Food Story|Delhi NCR|Sector 17, Faridabad|  null|North Indian, Chi...|       300.0|   77.3278938|   28.4101578|\n",
            "|Manish Indian & C...|Delhi NCR|          Mahipalpur|  null|Chinese, North In...|       200.0|77.1293181181|28.5414292199|\n",
            "|           Applemint|   Mumbai|            Kharghar|   3.5|             Chinese|       200.0| 73.065526709|19.0333901528|\n",
            "|      Way To Waffles|Delhi NCR|            Vaishali|   3.6|Italian, Fast Foo...|       500.0|77.3370330781|28.6388375255|\n",
            "|        Food Fantasy|Delhi NCR| Mayur Vihar Phase 1|   3.8|North Indian, Chi...|       500.0| 77.292762883|28.6082022818|\n",
            "|Curry And Combos ...|   Mumbai|       Goregaon East|   4.4|North Indian, Chi...|       550.0|    72.869879|    19.175588|\n",
            "|       Friend Z Cafe|Delhi NCR|              Rohini|  null|           Beverages|       150.0|77.1173682064|28.7448232531|\n",
            "|Bunty Fast Food C...|  Kolkata|              Behala|  null|           Fast Food|       150.0|    88.314698|    22.474803|\n",
            "|    Nutritious Bites|Delhi NCR|              Rohini|   3.0|        Healthy Food|       500.0|     77.12973|    28.735006|\n",
            "|Bombay's Royal China|Delhi NCR|      Prashant Vihar|   3.4|Chinese, Fast Foo...|       600.0|   77.1370452|   28.7130441|\n",
            "|        Food Village|  Kolkata|           Baranagar|   2.8|        North Indian|       650.0|88.3774164319|22.6524266906|\n",
            "|Gazzab Family Res...|Delhi NCR|               Palam|   3.5|Chinese, North In...|       500.0|77.0820448548|28.6012305187|\n",
            "|      The Bunk House|Delhi NCR|   Hauz Khas Village|   3.5|Italian, Continen...|      2000.0|77.1949403733|28.5544852486|\n",
            "|AIR- An Ivory Region|Delhi NCR|        Punjabi Bagh|   4.2|North Indian, Chi...|      1400.0|   76.9869859|    28.547809|\n",
            "|      Pizza Galleria|Delhi NCR|         Gaur City 2|   3.7|    Pizza, Fast Food|       400.0|77.4235752225|28.6195780518|\n",
            "+--------------------+---------+--------------------+------+--------------------+------------+-------------+-------------+\n",
            "only showing top 20 rows\n",
            "\n"
          ],
          "name": "stdout"
        }
      ]
    },
    {
      "cell_type": "markdown",
      "metadata": {
        "id": "xdhT6rqH3Alt"
      },
      "source": [
        "## Pre-processing"
      ]
    },
    {
      "cell_type": "code",
      "metadata": {
        "id": "zJXZAsCNbNHo"
      },
      "source": [
        "# Drop unwanted column\n",
        "df = df.drop('timings')"
      ],
      "execution_count": 11,
      "outputs": []
    },
    {
      "cell_type": "code",
      "metadata": {
        "id": "aWiHzoIbbNHq"
      },
      "source": [
        "# Statistical Properties of the dataframe\n",
        "#df.select('rating', 'rating_count', 'cost_for_two', 'online_order', 'table_reservation', 'delivery_only').describe().show(5)"
      ],
      "execution_count": 12,
      "outputs": []
    },
    {
      "cell_type": "code",
      "metadata": {
        "id": "MGLmnE5dbNHt",
        "colab": {
          "base_uri": "https://localhost:8080/"
        },
        "outputId": "caec3261-d3c3-44da-995d-fac0a04ef66e"
      },
      "source": [
        "# Cleaned way\n",
        "df.select(format_number(df['rating'].cast('float'), 2).alias('rating'),\n",
        "         format_number(df['rating_count'].cast('float'), 2).alias('rating_count'),\n",
        "         format_number(df['cost_for_two'].cast('float'), 2).alias('cost_for_two'),\n",
        "         format_number(df['online_order'].cast('float'), 2).alias('online_order'),\n",
        "         format_number(df['table_reservation'].cast('float'), 2).alias('table_reservation'),\n",
        "         format_number(df['delivery_only'].cast('float'), 2).alias('delivery_only')).describe().show()"
      ],
      "execution_count": 13,
      "outputs": [
        {
          "output_type": "stream",
          "text": [
            "+-------+-------------------+------------------+------------------+------------------+-----------------+------------------+\n",
            "|summary|             rating|      rating_count|      cost_for_two|      online_order|table_reservation|     delivery_only|\n",
            "+-------+-------------------+------------------+------------------+------------------+-----------------+------------------+\n",
            "|  count|             144736|            142398|            220989|                13|                8|                 4|\n",
            "|   mean| 3.4880858943179107|101.55640338362659| 357.0730075769587|37.573076923076925|         31.31875|31.747500000000002|\n",
            "| stddev|0.41998586322159115|161.58949123456605|179.71917421709884|30.744909981061742|28.89633809597927|37.322661011776745|\n",
            "|    min|               0.00|              0.00|              0.00|              0.00|             0.00|              1.00|\n",
            "|    max|               4.90|            999.00|            999.00|              9.96|            77.04|             85.09|\n",
            "+-------+-------------------+------------------+------------------+------------------+-----------------+------------------+\n",
            "\n"
          ],
          "name": "stdout"
        }
      ]
    },
    {
      "cell_type": "code",
      "metadata": {
        "id": "-XR9SJ_ybNHv",
        "colab": {
          "base_uri": "https://localhost:8080/"
        },
        "outputId": "4b12aff9-2ddf-4bf9-9a30-98b7f2843ef3"
      },
      "source": [
        "# Checking the Schema after deletion\n",
        "df.printSchema()"
      ],
      "execution_count": 14,
      "outputs": [
        {
          "output_type": "stream",
          "text": [
            "root\n",
            " |-- zomato_url: string (nullable = true)\n",
            " |-- name: string (nullable = true)\n",
            " |-- city: string (nullable = true)\n",
            " |-- area: string (nullable = true)\n",
            " |-- rating: string (nullable = true)\n",
            " |-- rating_count: string (nullable = true)\n",
            " |-- telephone: string (nullable = true)\n",
            " |-- cusine: string (nullable = true)\n",
            " |-- cost_for_two: string (nullable = true)\n",
            " |-- address: string (nullable = true)\n",
            " |-- online_order: string (nullable = true)\n",
            " |-- table_reservation: string (nullable = true)\n",
            " |-- delivery_only: string (nullable = true)\n",
            " |-- famous_food: string (nullable = true)\n",
            " |-- longitude: string (nullable = true)\n",
            " |-- latitude: string (nullable = true)\n",
            "\n"
          ],
          "name": "stdout"
        }
      ]
    },
    {
      "cell_type": "code",
      "metadata": {
        "id": "bkkdqjcwbNHx",
        "colab": {
          "base_uri": "https://localhost:8080/"
        },
        "outputId": "fd19de6e-17ae-416f-c881-991cadd5b05c"
      },
      "source": [
        "# Counting the missing values from each feature\n",
        "for col in df.columns:\n",
        "    print(col, \"\\t\", \"with NULL values = \", df.filter(df[col].isNull()).count())"
      ],
      "execution_count": 15,
      "outputs": [
        {
          "output_type": "stream",
          "text": [
            "zomato_url \t with NULL values =  5\n",
            "name \t with NULL values =  62\n",
            "city \t with NULL values =  79\n",
            "area \t with NULL values =  82\n",
            "rating \t with NULL values =  79867\n",
            "rating_count \t with NULL values =  82266\n",
            "telephone \t with NULL values =  1711\n",
            "cusine \t with NULL values =  1440\n",
            "cost_for_two \t with NULL values =  3839\n",
            "address \t with NULL values =  2016\n",
            "online_order \t with NULL values =  571\n",
            "table_reservation \t with NULL values =  578\n",
            "delivery_only \t with NULL values =  583\n",
            "famous_food \t with NULL values =  172428\n",
            "longitude \t with NULL values =  594\n",
            "latitude \t with NULL values =  595\n"
          ],
          "name": "stdout"
        }
      ]
    },
    {
      "cell_type": "code",
      "metadata": {
        "id": "D_B_LPb7bNH0"
      },
      "source": [
        "#df = df.fillna('0')"
      ],
      "execution_count": 16,
      "outputs": []
    },
    {
      "cell_type": "code",
      "metadata": {
        "id": "iyAaLtG6bNH2",
        "colab": {
          "base_uri": "https://localhost:8080/",
          "height": 35
        },
        "outputId": "e9d7afbe-01bb-4f8a-f733-84420db9cecc"
      },
      "source": [
        "# Counting the missing values from each feature\n",
        "'''for col in df.columns:\n",
        "    print(col, \"\\t\", \"with NULL values = \", df.filter(df[col].isNull()).count())'''"
      ],
      "execution_count": 17,
      "outputs": [
        {
          "output_type": "execute_result",
          "data": {
            "application/vnd.google.colaboratory.intrinsic+json": {
              "type": "string"
            },
            "text/plain": [
              "'for col in df.columns:\\n    print(col, \"\\t\", \"with NULL values = \", df.filter(df[col].isNull()).count())'"
            ]
          },
          "metadata": {
            "tags": []
          },
          "execution_count": 17
        }
      ]
    },
    {
      "cell_type": "code",
      "metadata": {
        "id": "A0YpQrLgbNH5",
        "colab": {
          "base_uri": "https://localhost:8080/",
          "height": 69
        },
        "outputId": "5ee8003b-2c09-4058-ecbc-9a83115157ef"
      },
      "source": [
        "# Scripting in Python for changing datatypes\n",
        "'''\n",
        "df['rating'] = df['rating'].astype(float)\n",
        "df['rating_count'] = df['rating_count'].astype(int)\n",
        "df['telephone'] = df['telephone'].astype(int)\n",
        "df['cost_for_two'] = df['cost_for_two'].astype(int)\n",
        "df['longitude'] = df['longitude'].astype(double)\n",
        "df['latitude] = df['latitude'].astype(double)\n",
        "'''"
      ],
      "execution_count": 18,
      "outputs": [
        {
          "output_type": "execute_result",
          "data": {
            "application/vnd.google.colaboratory.intrinsic+json": {
              "type": "string"
            },
            "text/plain": [
              "\"\\ndf['rating'] = df['rating'].astype(float)\\ndf['rating_count'] = df['rating_count'].astype(int)\\ndf['telephone'] = df['telephone'].astype(int)\\ndf['cost_for_two'] = df['cost_for_two'].astype(int)\\ndf['longitude'] = df['longitude'].astype(double)\\ndf['latitude] = df['latitude'].astype(double)\\n\""
            ]
          },
          "metadata": {
            "tags": []
          },
          "execution_count": 18
        }
      ]
    },
    {
      "cell_type": "code",
      "metadata": {
        "id": "VXArr_uebNH7"
      },
      "source": [
        "# Changing the datatypes according to the PySpark\n",
        "df = df.withColumn(\"rating\", df['rating'].cast(FloatType()))\n",
        "df = df.withColumn('rating_count', df['rating_count'].cast(IntegerType()))\n",
        "df = df.withColumn('telephone', df['telephone'].cast(IntegerType()))\n",
        "df = df.withColumn('cost_for_two', df['cost_for_two'].cast(IntegerType()))\n",
        "df = df.withColumn('longitude', df['longitude'].cast(DoubleType()))\n",
        "df = df.withColumn('latitude', df['latitude'].cast(DoubleType()))"
      ],
      "execution_count": 19,
      "outputs": []
    },
    {
      "cell_type": "code",
      "metadata": {
        "id": "rcLiMQjrbNH9",
        "colab": {
          "base_uri": "https://localhost:8080/"
        },
        "outputId": "4cd1479e-f6a7-47d4-f501-e22e8842a3af"
      },
      "source": [
        "df.printSchema()"
      ],
      "execution_count": 20,
      "outputs": [
        {
          "output_type": "stream",
          "text": [
            "root\n",
            " |-- zomato_url: string (nullable = true)\n",
            " |-- name: string (nullable = true)\n",
            " |-- city: string (nullable = true)\n",
            " |-- area: string (nullable = true)\n",
            " |-- rating: float (nullable = true)\n",
            " |-- rating_count: integer (nullable = true)\n",
            " |-- telephone: integer (nullable = true)\n",
            " |-- cusine: string (nullable = true)\n",
            " |-- cost_for_two: integer (nullable = true)\n",
            " |-- address: string (nullable = true)\n",
            " |-- online_order: string (nullable = true)\n",
            " |-- table_reservation: string (nullable = true)\n",
            " |-- delivery_only: string (nullable = true)\n",
            " |-- famous_food: string (nullable = true)\n",
            " |-- longitude: double (nullable = true)\n",
            " |-- latitude: double (nullable = true)\n",
            "\n"
          ],
          "name": "stdout"
        }
      ]
    },
    {
      "cell_type": "markdown",
      "metadata": {
        "id": "myC0KIqDbNH_"
      },
      "source": [
        "## Analysis"
      ]
    },
    {
      "cell_type": "markdown",
      "metadata": {
        "id": "G38Cvse8bNIA"
      },
      "source": [
        "#### What are the top 10 rated restaurants in the dataset?"
      ]
    },
    {
      "cell_type": "code",
      "metadata": {
        "id": "nQgG9rpwc_oU",
        "colab": {
          "base_uri": "https://localhost:8080/"
        },
        "outputId": "818d944c-08cc-447a-cdcf-2b5e41b7d11e"
      },
      "source": [
        "q1 = df.select('name', 'rating', 'rating_count').groupby('name', 'rating', 'rating_count').agg(count('*').alias('count')).orderBy(desc('rating_count')).limit(10)\n",
        "q1.show()"
      ],
      "execution_count": 21,
      "outputs": [
        {
          "output_type": "stream",
          "text": [
            "+--------------------+------+------------+-----+\n",
            "|                name|rating|rating_count|count|\n",
            "+--------------------+------+------------+-----+\n",
            "|            Bawarchi|   4.5|       42621|    1|\n",
            "|Byg Brewski Brewi...|   4.9|       19305|    1|\n",
            "|                Toit|   4.6|       15731|    1|\n",
            "|            Truffles|   4.6|       15653|    1|\n",
            "|    Hauz Khas Social|   4.7|       14936|    1|\n",
            "|AB's - Absolute B...|   4.8|       13164|    1|\n",
            "|            Paradise|   4.7|       13152|    1|\n",
            "|     The Black Pearl|   4.9|       12686|    1|\n",
            "|Shah Ghouse Hotel...|   4.2|       12514|    1|\n",
            "|           Peter Cat|   4.2|       11917|    1|\n",
            "+--------------------+------+------------+-----+\n",
            "\n"
          ],
          "name": "stdout"
        }
      ]
    },
    {
      "cell_type": "markdown",
      "metadata": {
        "id": "k7NIdoW90PtP"
      },
      "source": [
        "#### What are the top 10 locations for restaurants?"
      ]
    },
    {
      "cell_type": "code",
      "metadata": {
        "colab": {
          "base_uri": "https://localhost:8080/"
        },
        "id": "w4PRZOoG3g31",
        "outputId": "c6c45682-622e-45f4-cbea-25ad14c352a0"
      },
      "source": [
        "q2 = df.select('name', 'rating', 'rating_count', 'city').groupby('name', 'rating', 'rating_count', 'city').agg(count('*').alias('count')).orderBy(desc('rating_count')).limit(10)\n",
        "q2.show()"
      ],
      "execution_count": 22,
      "outputs": [
        {
          "output_type": "stream",
          "text": [
            "+--------------------+------+------------+---------+-----+\n",
            "|                name|rating|rating_count|     city|count|\n",
            "+--------------------+------+------------+---------+-----+\n",
            "|            Bawarchi|   4.5|       42621|Hyderabad|    1|\n",
            "|Byg Brewski Brewi...|   4.9|       19305|Bengaluru|    1|\n",
            "|                Toit|   4.6|       15731|Bengaluru|    1|\n",
            "|            Truffles|   4.6|       15653|Bengaluru|    1|\n",
            "|    Hauz Khas Social|   4.7|       14936|Delhi NCR|    1|\n",
            "|AB's - Absolute B...|   4.8|       13164|Bengaluru|    1|\n",
            "|            Paradise|   4.7|       13152|Hyderabad|    1|\n",
            "|     The Black Pearl|   4.9|       12686|Bengaluru|    1|\n",
            "|Shah Ghouse Hotel...|   4.2|       12514|Hyderabad|    1|\n",
            "|           Peter Cat|   4.2|       11917|  Kolkata|    1|\n",
            "+--------------------+------+------------+---------+-----+\n",
            "\n"
          ],
          "name": "stdout"
        }
      ]
    },
    {
      "cell_type": "markdown",
      "metadata": {
        "id": "cXWVsp-Y4hIv"
      },
      "source": [
        "So, mainly Hyderabad and Bengaluru has the highest rated restaurants in the entire country just by analyzing the data. "
      ]
    },
    {
      "cell_type": "markdown",
      "metadata": {
        "id": "T0lIg_vtxOIa"
      },
      "source": [
        "#### What are the top 10 most served cusine in the dataset?"
      ]
    },
    {
      "cell_type": "code",
      "metadata": {
        "colab": {
          "base_uri": "https://localhost:8080/"
        },
        "id": "yXzLc8rA3jch",
        "outputId": "047a13b4-0240-4acb-e942-f482f96ec344"
      },
      "source": [
        "q3 = df.select('cusine').groupby('cusine').agg(count('*').alias('count')).orderBy(desc('count')).limit(10)\n",
        "q3.show()"
      ],
      "execution_count": 23,
      "outputs": [
        {
          "output_type": "stream",
          "text": [
            "+--------------------+-----+\n",
            "|              cusine|count|\n",
            "+--------------------+-----+\n",
            "|        North Indian|20549|\n",
            "|           Fast Food|11455|\n",
            "|North Indian, Chi...|11230|\n",
            "|        South Indian| 6676|\n",
            "|              Bakery| 5703|\n",
            "|             Chinese| 5346|\n",
            "|         Street Food| 4134|\n",
            "|    Bakery, Desserts| 3297|\n",
            "|             Biryani| 2791|\n",
            "|Chinese, North In...| 2675|\n",
            "+--------------------+-----+\n",
            "\n"
          ],
          "name": "stdout"
        }
      ]
    },
    {
      "cell_type": "markdown",
      "metadata": {
        "id": "JDNNxgK26bSy"
      },
      "source": [
        "So, here we can see the the *North Indian* cuisine is the most served cuisine in our dataset. Second to it is the *Fast Food* that we all love to it on the go. Other than that it has *South Indian* dishes in top 5 spot. It is not surprising to see the Indian's most preferred dish- *Biryani* to secure a place in th top 10."
      ]
    },
    {
      "cell_type": "markdown",
      "metadata": {
        "id": "a3zKgeSN6LL1"
      },
      "source": [
        "#### In the top 10 restaurants, what is the most preferred cuisine?"
      ]
    },
    {
      "cell_type": "code",
      "metadata": {
        "colab": {
          "base_uri": "https://localhost:8080/"
        },
        "id": "TdQkEyMf6QR2",
        "outputId": "62937730-c20a-4f69-e9fa-6f2b62a2b766"
      },
      "source": [
        "q4 = df.select('name', 'rating', 'rating_count', 'cusine').groupby('name', 'rating', 'rating_count', 'cusine').agg(count('*').alias('count')).orderBy(desc('rating_count')).limit(10)\n",
        "q4.show()"
      ],
      "execution_count": 24,
      "outputs": [
        {
          "output_type": "stream",
          "text": [
            "+--------------------+------+------------+--------------------+-----+\n",
            "|                name|rating|rating_count|              cusine|count|\n",
            "+--------------------+------+------------+--------------------+-----+\n",
            "|            Bawarchi|   4.5|       42621|Biryani, Hyderaba...|    1|\n",
            "|Byg Brewski Brewi...|   4.9|       19305|Continental, Nort...|    1|\n",
            "|                Toit|   4.6|       15731|Italian, American...|    1|\n",
            "|            Truffles|   4.6|       15653|Cafe, American, B...|    1|\n",
            "|    Hauz Khas Social|   4.7|       14936|Kontinentálna, Am...|    1|\n",
            "|AB's - Absolute B...|   4.8|       13164|European, Mediter...|    1|\n",
            "|            Paradise|   4.7|       13152|Biryani, North In...|    1|\n",
            "|     The Black Pearl|   4.9|       12686|North Indian, Eur...|    1|\n",
            "|Shah Ghouse Hotel...|   4.2|       12514|Biryani, North In...|    1|\n",
            "|           Peter Cat|   4.2|       11917|Continental, Nort...|    1|\n",
            "+--------------------+------+------------+--------------------+-----+\n",
            "\n"
          ],
          "name": "stdout"
        }
      ]
    },
    {
      "cell_type": "markdown",
      "metadata": {
        "id": "GnaPLIdQz3f9"
      },
      "source": [
        "#### Top 10 cuisine (Some major Cities)"
      ]
    },
    {
      "cell_type": "code",
      "metadata": {
        "colab": {
          "base_uri": "https://localhost:8080/"
        },
        "id": "Pry6E7Kh3kLP",
        "outputId": "ea0aae10-da0c-45e0-99f2-8587d2e79c47"
      },
      "source": [
        "q5_mumbai = df.select('name', 'rating', 'rating_count', 'city', 'area', 'cusine').filter(df.city == 'Mumbai').orderBy(desc('rating_count')).limit(10)\n",
        "q5_mumbai.show()"
      ],
      "execution_count": 25,
      "outputs": [
        {
          "output_type": "stream",
          "text": [
            "+--------------------+------+------------+------+--------------------+--------------------+\n",
            "|                name|rating|rating_count|  city|                area|              cusine|\n",
            "+--------------------+------+------------+------+--------------------+--------------------+\n",
            "|       Colaba Social|   4.9|       10311|Mumbai|              Colaba|Americká, Severoi...|\n",
            "|             Candies|   4.1|       10300|Mumbai|Pali Hill, Bandra...|Cafe, Desserts, I...|\n",
            "|        Joey's Pizza|   4.5|        9503|Mumbai|          Azad Nagar|               Pizza|\n",
            "|        Prithvi Cafe|   4.4|        8401|Mumbai|                Juhu|      Cafe, Desserts|\n",
            "|        Joey's Pizza|   4.5|        8022|Mumbai|          Malad West|               Pizza|\n",
            "|Chili's American ...|   4.4|        7997|Mumbai|               Powai|American, Mexican...|\n",
            "|Chili's American ...|   4.5|        7977|Mumbai|          Malad West|American, Mexican...|\n",
            "|  Leopold Cafe & Bar|   4.0|        7474|Mumbai|              Colaba|Chinese, Italian,...|\n",
            "|    Palladium Social|   4.9|        7168|Mumbai|         Lower Parel|Americká, Severoi...|\n",
            "|      Tea Villa Cafe|   4.2|        7088|Mumbai|Hill Road, Bandra...|Cafe, Fast Food, ...|\n",
            "+--------------------+------+------------+------+--------------------+--------------------+\n",
            "\n"
          ],
          "name": "stdout"
        }
      ]
    },
    {
      "cell_type": "markdown",
      "metadata": {
        "id": "cOSbVlIQL_6D"
      },
      "source": [
        "For Mumbai, the street food along with the exotic food style is the main cuisine that the today's generation like and are penchant towards."
      ]
    },
    {
      "cell_type": "code",
      "metadata": {
        "colab": {
          "base_uri": "https://localhost:8080/"
        },
        "id": "egsN2BP1C8Bg",
        "outputId": "71705ffc-620b-4973-ad9b-5d9beba52d8c"
      },
      "source": [
        "q5_hyderabad = df.select('name', 'rating', 'rating_count', 'city', 'area', 'cusine').filter(df.city == 'Hyderabad').orderBy(desc('rating_count')).limit(10)\n",
        "q5_hyderabad.show()"
      ],
      "execution_count": 26,
      "outputs": [
        {
          "output_type": "stream",
          "text": [
            "+--------------------+------+------------+---------+---------------+--------------------+\n",
            "|                name|rating|rating_count|     city|           area|              cusine|\n",
            "+--------------------+------+------------+---------+---------------+--------------------+\n",
            "|            Bawarchi|   4.5|       42621|Hyderabad|     Nallakunta|Biryani, Hyderaba...|\n",
            "|            Paradise|   4.7|       13152|Hyderabad|Paradise Circle|Biryani, North In...|\n",
            "|Shah Ghouse Hotel...|   4.2|       12514|Hyderabad|     Gachibowli|Biryani, North In...|\n",
            "|    Lucky Restaurant|   4.3|       11103|Hyderabad|         Nagole|Biryani, North In...|\n",
            "|          Cafe Bahar|   4.6|       11000|Hyderabad|   Basheer Bagh|Biryani, North In...|\n",
            "|AB's - Absolute B...|   4.9|       10086|Hyderabad|  Jubilee Hills|European, Mediter...|\n",
            "|        Captain Cook|   4.1|        9494|Hyderabad|    Musheerabad|Biryani, North In...|\n",
            "|            Flechazo|   4.6|        8768|Hyderabad|       Madhapur|Asian, Mediterran...|\n",
            "|Shah Ghouse Cafe ...|   4.3|        8022|Hyderabad|     Tolichowki|Biryani, North In...|\n",
            "|            Paradise|   4.7|        7232|Hyderabad|     Gachibowli|Biryani, North In...|\n",
            "+--------------------+------+------------+---------+---------------+--------------------+\n",
            "\n"
          ],
          "name": "stdout"
        }
      ]
    },
    {
      "cell_type": "markdown",
      "metadata": {
        "id": "ogPDwzuzMVtX"
      },
      "source": [
        "It is no brainer that the city of Hyderabad, which is famous for its Biryani dishes will have the most favorable cuisines in most of the restaurants as it."
      ]
    },
    {
      "cell_type": "code",
      "metadata": {
        "colab": {
          "base_uri": "https://localhost:8080/"
        },
        "id": "AqIzYIgpDTxV",
        "outputId": "e46be39d-20b1-4af5-9ac2-340ffb8a33dd"
      },
      "source": [
        "q5_bengaluru = df.select('name', 'rating', 'rating_count', 'city', 'area', 'cusine').filter(df.city == 'Bengaluru').orderBy(desc('rating_count')).limit(10)\n",
        "q5_bengaluru.show()"
      ],
      "execution_count": 27,
      "outputs": [
        {
          "output_type": "stream",
          "text": [
            "+--------------------+------+------------+---------+--------------------+--------------------+\n",
            "|                name|rating|rating_count|     city|                area|              cusine|\n",
            "+--------------------+------+------------+---------+--------------------+--------------------+\n",
            "|Byg Brewski Brewi...|   4.9|       19305|Bengaluru|       Sarjapur Road|Continental, Nort...|\n",
            "|                Toit|   4.6|       15731|Bengaluru|         Indiranagar|Italian, American...|\n",
            "|            Truffles|   4.6|       15653|Bengaluru|Koramangala 5th B...|Cafe, American, B...|\n",
            "|AB's - Absolute B...|   4.8|       13164|Bengaluru|        Marathahalli|European, Mediter...|\n",
            "|     The Black Pearl|   4.9|       12686|Bengaluru|Koramangala 5th B...|North Indian, Eur...|\n",
            "|      TBC Sky Lounge|   4.9|       10845|Bengaluru|                 HSR|Continental, Asia...|\n",
            "|         Big Pitcher|   4.7|       10789|Bengaluru|    Old Airport Road|American, Contine...|\n",
            "|              Onesta|   4.4|        9452|Bengaluru|Koramangala 4th B...|Italian, Pizza, D...|\n",
            "|     The Black Pearl|   4.7|        9207|Bengaluru|        Marathahalli|North Indian, Eur...|\n",
            "|   Empire Restaurant|   4.0|        8826|Bengaluru|         Indiranagar|North Indian, Mug...|\n",
            "+--------------------+------+------------+---------+--------------------+--------------------+\n",
            "\n"
          ],
          "name": "stdout"
        }
      ]
    },
    {
      "cell_type": "markdown",
      "metadata": {
        "id": "3hTn_hYZMoIY"
      },
      "source": [
        "Banglore, otherwise known as Bengaluru has a mixture of dishes that the parochial people love and have them serve on their table. From its own country made dishes to the exotic European and American dishes, the people there loves to try new dishes."
      ]
    },
    {
      "cell_type": "code",
      "metadata": {
        "colab": {
          "base_uri": "https://localhost:8080/"
        },
        "id": "VKVO091qDunO",
        "outputId": "c2f80244-42a2-4994-cc2e-7027f557d124"
      },
      "source": [
        "q5_delhi = df.select('name', 'rating', 'rating_count', 'city', 'area', 'cusine').filter(df.city == 'Delhi NCR').orderBy(desc('rating_count')).limit(10)\n",
        "q5_delhi.show()"
      ],
      "execution_count": 28,
      "outputs": [
        {
          "output_type": "stream",
          "text": [
            "+--------------------+------+------------+---------+-----------------+--------------------+\n",
            "|                name|rating|rating_count|     city|             area|              cusine|\n",
            "+--------------------+------+------------+---------+-----------------+--------------------+\n",
            "|    Hauz Khas Social|   4.7|       14936|Delhi NCR|Hauz Khas Village|Kontinentálna, Am...|\n",
            "|      Warehouse Cafe|   4.1|       10035|Delhi NCR|  Connaught Place|American, Contine...|\n",
            "|  Lord Of The Drinks|   4.4|        9582|Delhi NCR|  Connaught Place|European, Chinese...|\n",
            "|             Tamasha|   4.5|        8866|Delhi NCR|  Connaught Place|Finger Food, Nort...|\n",
            "|     Saravana Bhavan|   4.4|        7906|Delhi NCR|  Connaught Place|South Indian, Des...|\n",
            "|The Flying Saucer...|   4.3|        7903|Delhi NCR|      Nehru Place|Continental, Bar ...|\n",
            "|               Local|   4.4|        6966|Delhi NCR|  Connaught Place|North Indian, Con...|\n",
            "|             Karim's|   4.1|        6761|Delhi NCR|      Jama Masjid|Mughlai, North In...|\n",
            "|        Odeon Social|   4.5|        6630|Delhi NCR|  Connaught Place|Continental, Amer...|\n",
            "| Chili's Grill & Bar|   4.9|        6426|Delhi NCR|      Vasant Kunj|Italian, Finger Food|\n",
            "+--------------------+------+------------+---------+-----------------+--------------------+\n",
            "\n"
          ],
          "name": "stdout"
        }
      ]
    },
    {
      "cell_type": "markdown",
      "metadata": {
        "id": "RqAzncayNMgD"
      },
      "source": [
        "Delhi also shows wide diversity in the tastes of the local people. They have South Indian and North Indian dishes to European as well as some American ones to. "
      ]
    },
    {
      "cell_type": "code",
      "metadata": {
        "colab": {
          "base_uri": "https://localhost:8080/"
        },
        "id": "-eab78PLEAOJ",
        "outputId": "074f1222-00df-4f9a-bd3f-4dd53a5a400f"
      },
      "source": [
        "q5_kolkata = df.select('name', 'rating', 'rating_count', 'city', 'area', 'cusine').filter(df.city == 'Kolkata').orderBy(desc('rating_count')).limit(10)\n",
        "q5_kolkata.show()"
      ],
      "execution_count": 29,
      "outputs": [
        {
          "output_type": "stream",
          "text": [
            "+-------------------+------+------------+-------+-------------------+--------------------+\n",
            "|               name|rating|rating_count|   city|               area|              cusine|\n",
            "+-------------------+------+------------+-------+-------------------+--------------------+\n",
            "|          Peter Cat|   4.2|       11917|Kolkata|   Park Street Area|Continental, Nort...|\n",
            "|    Barbeque Nation|   4.7|        8551|Kolkata|Sector 5, Salt Lake|North Indian, Chi...|\n",
            "|              BarBQ|   4.4|        8052|Kolkata|   Park Street Area|Chinese, North In...|\n",
            "|Chili's Grill & Bar|   4.7|        7615|Kolkata|         Ballygunge|American, Mexican...|\n",
            "|            Mocambo|   4.2|        6466|Kolkata|   Park Street Area|         Continental|\n",
            "|            Arsalan|   4.1|        5963|Kolkata|   Park Circus Area|Mughlai, North In...|\n",
            "|          Oudh 1590|   4.5|        5953|Kolkata|     Desapriya Park|Biryani, Mughlai,...|\n",
            "|        Spice Kraft|   4.8|        5243|Kolkata|         Ballygunge|Continental, Asia...|\n",
            "|    Barbeque Nation|   4.6|        5134|Kolkata|   Park Street Area|North Indian, Chi...|\n",
            "|             Hatari|   4.4|        4699|Kolkata|           Gariahat|Chinese, North In...|\n",
            "+-------------------+------+------------+-------+-------------------+--------------------+\n",
            "\n"
          ],
          "name": "stdout"
        }
      ]
    },
    {
      "cell_type": "markdown",
      "metadata": {
        "id": "hqZnR3woNkkM"
      },
      "source": [
        "Kolkata prefers Continential along with Chinese dishes along with a other offerings."
      ]
    },
    {
      "cell_type": "code",
      "metadata": {
        "colab": {
          "base_uri": "https://localhost:8080/"
        },
        "id": "h5RQe1Vm3kqs",
        "outputId": "7a1952a7-e821-430d-8086-7d6dfa308b5f"
      },
      "source": [
        "q5_chennai = df.select('name', 'rating', 'rating_count', 'city', 'area', 'cusine').filter(df.city == 'Chennai').orderBy(desc('rating_count')).limit(10)\n",
        "q5_chennai.show()"
      ],
      "execution_count": 30,
      "outputs": [
        {
          "output_type": "stream",
          "text": [
            "+--------------------+------+------------+-------+------------+--------------------+\n",
            "|                name|rating|rating_count|   city|        area|              cusine|\n",
            "+--------------------+------+------------+-------+------------+--------------------+\n",
            "|AB's - Absolute B...|   4.9|       10357|Chennai|    T. Nagar|BBQ, North Indian...|\n",
            "|      Coal Barbecues|   4.9|        8171|Chennai|   Velachery|North Indian, Chi...|\n",
            "|      Coal Barbecues|   4.9|        7348|Chennai|    T. Nagar|North Indian, Med...|\n",
            "|     Barbeque Nation|   4.8|        5799|Chennai|    T. Nagar|North Indian, Con...|\n",
            "|              Onesta|   4.9|        5126|Chennai| Semmancheri|Pizza, Italian, F...|\n",
            "|            Paradise|   4.4|        5106|Chennai|   Perungudi|Biryani, North In...|\n",
            "|Chili's American ...|   4.8|        4707|Chennai|  Royapettah|Mexican, American...|\n",
            "|      Copper Kitchen|   4.6|        4351|Chennai|       Porur|Seafood, North In...|\n",
            "|              Maplai|   4.4|        4279|Chennai|Nungambakkam|Chettinad, Biryan...|\n",
            "|AB's - Absolute B...|   4.8|        3635|Chennai|   Velachery|BBQ, North Indian...|\n",
            "+--------------------+------+------------+-------+------------+--------------------+\n",
            "\n"
          ],
          "name": "stdout"
        }
      ]
    },
    {
      "cell_type": "markdown",
      "metadata": {
        "id": "TTPsMLoJN5Xa"
      },
      "source": [
        "People in Chennai has varies restaurant ranging from BBQ, Seafood, Biryani, and some North Indian cuisines."
      ]
    },
    {
      "cell_type": "markdown",
      "metadata": {
        "id": "wK6q7Lygz3i1"
      },
      "source": [
        "#### What are the top 10 costliest restaurants in the country?"
      ]
    },
    {
      "cell_type": "code",
      "metadata": {
        "colab": {
          "base_uri": "https://localhost:8080/"
        },
        "id": "64pMAjLNF-cN",
        "outputId": "1b16469f-eacb-402a-8ac2-4e5c86593dba"
      },
      "source": [
        "q6 = df.select('name', 'rating', 'cost_for_two', 'city').orderBy(desc('cost_for_two')).limit(10)\n",
        "q6.show()"
      ],
      "execution_count": 31,
      "outputs": [
        {
          "output_type": "stream",
          "text": [
            "+--------------------+------+------------+---------+\n",
            "|                name|rating|cost_for_two|     city|\n",
            "+--------------------+------+------------+---------+\n",
            "|Ocean - The Priva...|   3.6|       30000|   Mumbai|\n",
            "|Gol Bungalow - Ta...|   3.9|       15000|Hyderabad|\n",
            "|              Bhairo|   2.9|       15000|  Udaipur|\n",
            "|          Fly Dining|   3.8|       14000|Bengaluru|\n",
            "|Pillars - Umaid B...|   3.7|       12000|  Jodhpur|\n",
            "|Risala- Umaid Bha...|   4.1|       12000|  Jodhpur|\n",
            "|Trophy Bar- Umaid...|   3.3|       12000|  Jodhpur|\n",
            "|Wasabi By Morimot...|   4.3|       10000|   Mumbai|\n",
            "|Orient Express - ...|   4.2|        8000|Delhi NCR|\n",
            "|Yuuka - The St. R...|   4.1|        8000|   Mumbai|\n",
            "+--------------------+------+------------+---------+\n",
            "\n"
          ],
          "name": "stdout"
        }
      ]
    },
    {
      "cell_type": "markdown",
      "metadata": {
        "id": "ROtqxLAPREoT"
      },
      "source": [
        "#### What is the top 10 costliest restaurants in specific city?"
      ]
    },
    {
      "cell_type": "code",
      "metadata": {
        "colab": {
          "base_uri": "https://localhost:8080/"
        },
        "id": "I5dLjPjVRO2N",
        "outputId": "2e7c6709-897d-4aec-d00a-4850a15f6af1"
      },
      "source": [
        "q7_mumbai = df.select('name', 'rating', 'cost_for_two', 'area', 'city').filter(df.city == 'Mumbai').orderBy(desc('cost_for_two')).limit(10)\n",
        "q7_mumbai.show()"
      ],
      "execution_count": 32,
      "outputs": [
        {
          "output_type": "stream",
          "text": [
            "+--------------------+------+------------+--------------------+------+\n",
            "|                name|rating|cost_for_two|                area|  city|\n",
            "+--------------------+------+------------+--------------------+------+\n",
            "|Ocean - The Priva...|   3.6|       30000|     Vile Parle East|Mumbai|\n",
            "|Wasabi By Morimot...|   4.3|       10000|              Colaba|Mumbai|\n",
            "|Yuuka - The St. R...|   4.1|        8000|         Lower Parel|Mumbai|\n",
            "|              Masque|   4.3|        6500|           Mahalaxmi|Mumbai|\n",
            "|Masala Kraft - Th...|   4.1|        6500|              Colaba|Mumbai|\n",
            "|Le Cirque Signatu...|   4.0|        6000|             Chakala|Mumbai|\n",
            "|Celini - Grand Hyatt|   4.2|        6000|      Santacruz East|Mumbai|\n",
            "|Vista - Taj Lands...|   4.0|        5500|Bandstand, Bandra...|Mumbai|\n",
            "|Souk - The Taj Ma...|   4.2|        5500|              Colaba|Mumbai|\n",
            "|Bombay High - ITC...|   3.6|        5500|             Chakala|Mumbai|\n",
            "+--------------------+------+------------+--------------------+------+\n",
            "\n"
          ],
          "name": "stdout"
        }
      ]
    },
    {
      "cell_type": "markdown",
      "metadata": {
        "id": "GDLBAWCYSfDM"
      },
      "source": [
        "The most costliest hotel in the country is **Ocean - The Private Dining Room - Sahara Star** which is in Mumbai."
      ]
    },
    {
      "cell_type": "code",
      "metadata": {
        "colab": {
          "base_uri": "https://localhost:8080/"
        },
        "id": "trehh9LvRtyo",
        "outputId": "8267e1a8-e7f3-428b-ccc1-a94a5e3db3c0"
      },
      "source": [
        "q7_hyderabad = df.select('name', 'rating', 'cost_for_two', 'area', 'city').filter(df.city == 'Hyderabad').orderBy(desc('cost_for_two')).limit(10)\n",
        "q7_hyderabad.show()"
      ],
      "execution_count": 33,
      "outputs": [
        {
          "output_type": "stream",
          "text": [
            "+--------------------+------+------------+-------------+---------+\n",
            "|                name|rating|cost_for_two|         area|     city|\n",
            "+--------------------+------+------------+-------------+---------+\n",
            "|Gol Bungalow - Ta...|   3.9|       15000|    Falaknuma|Hyderabad|\n",
            "|Adaa - Taj Falakn...|   4.5|        8000|    Falaknuma|Hyderabad|\n",
            "|Celeste - Taj Fal...|   4.4|        7000|    Falaknuma|Hyderabad|\n",
            "|Vineela Yadlapall...|   3.5|        5000|Jubilee Hills|Hyderabad|\n",
            "|Thai Pavilion - V...|   4.3|        4000|     Begumpet|Hyderabad|\n",
            "|Altitude - Hydera...|   4.1|        4000|Necklace Road|Hyderabad|\n",
            "|  Prego - The Westin|   4.2|        3500|  Hitech City|Hyderabad|\n",
            "|Dakshin - ITC Kak...|   4.4|        3400|     Begumpet|Hyderabad|\n",
            "|Kebabs & Kurries ...|   4.2|        3400|     Begumpet|Hyderabad|\n",
            "|   Ohm - Hotel Avasa|   4.2|        3000|  Hitech City|Hyderabad|\n",
            "+--------------------+------+------------+-------------+---------+\n",
            "\n"
          ],
          "name": "stdout"
        }
      ]
    },
    {
      "cell_type": "markdown",
      "metadata": {
        "id": "80_DS8MFS-9v"
      },
      "source": [
        "For the city of Hyderabad, the most costly restaurant is the **Gol Bungalow - Taj Falaknuma Palace** "
      ]
    },
    {
      "cell_type": "code",
      "metadata": {
        "colab": {
          "base_uri": "https://localhost:8080/"
        },
        "id": "RoVVw-3yR2UX",
        "outputId": "f9acce76-06ed-4264-dc4c-1d5298695bfe"
      },
      "source": [
        "q7_bengaluru = df.select('name', 'rating', 'cost_for_two', 'area', 'city').filter(df.city == 'Bengaluru').orderBy(desc('cost_for_two')).limit(10)\n",
        "q7_bengaluru.show()"
      ],
      "execution_count": 34,
      "outputs": [
        {
          "output_type": "stream",
          "text": [
            "+--------------------+------+------------+-----------------+---------+\n",
            "|                name|rating|cost_for_two|             area|     city|\n",
            "+--------------------+------+------------+-----------------+---------+\n",
            "|          Fly Dining|   3.8|       14000|         Nagawara|Bengaluru|\n",
            "|Le Cirque Signatu...|   4.2|        6000| Old Airport Road|Bengaluru|\n",
            "|Royal Afghan - IT...|   4.3|        6000|      Sankey Road|Bengaluru|\n",
            "|         Grasshopper|   4.3|        5000|Bannerghatta Road|Bengaluru|\n",
            "|Dakshin - ITC Win...|   4.3|        5000|      Sankey Road|Bengaluru|\n",
            "|Dum Pukht Jolly N...|   4.3|        5000|      Sankey Road|Bengaluru|\n",
            "|Malties - Radisso...|   4.2|        4500|     Marathahalli|Bengaluru|\n",
            "|La Brasserie - Le...|   4.1|        4100|      Sankey Road|Bengaluru|\n",
            "|Edo Restaurant & ...|   4.3|        4000|    Richmond Road|Bengaluru|\n",
            "|Riwaz - The Ritz-...|   4.1|        4000|   Residency Road|Bengaluru|\n",
            "+--------------------+------+------------+-----------------+---------+\n",
            "\n"
          ],
          "name": "stdout"
        }
      ]
    },
    {
      "cell_type": "markdown",
      "metadata": {
        "id": "_28RNt5McwJa"
      },
      "source": [
        "**Fly Dining** in Bangalore is the most expensive restaurant in that city."
      ]
    },
    {
      "cell_type": "code",
      "metadata": {
        "colab": {
          "base_uri": "https://localhost:8080/"
        },
        "id": "MlbYMJrhR-XH",
        "outputId": "11264854-ec4e-428c-9955-b8a35dcc4287"
      },
      "source": [
        "q7_delhi = df.select('name', 'rating', 'cost_for_two', 'area', 'city').filter(df.city == 'Delhi NCR').orderBy(desc('cost_for_two')).limit(10)\n",
        "q7_delhi.show()"
      ],
      "execution_count": 35,
      "outputs": [
        {
          "output_type": "stream",
          "text": [
            "+--------------------+------+------------+-------------+---------+\n",
            "|                name|rating|cost_for_two|         area|     city|\n",
            "+--------------------+------+------------+-------------+---------+\n",
            "|Orient Express - ...|   4.2|        8000| Chanakyapuri|Delhi NCR|\n",
            "|Tian - Asian Cuis...|   4.1|        7000| Chanakyapuri|Delhi NCR|\n",
            "|Ottimo At West Vi...|   4.1|        6600| Chanakyapuri|Delhi NCR|\n",
            "|Bukhara - ITC Maurya|   4.3|        6500| Chanakyapuri|Delhi NCR|\n",
            "|Nostalgia at 1911...|   3.5|        6000|      Janpath|Delhi NCR|\n",
            "|The Theatre Club ...|   3.8|        6000|Paschim Vihar|Delhi NCR|\n",
            "|Amaranta - The Ob...|   4.1|        6000|  Udyog Vihar|Delhi NCR|\n",
            "|The Spice Route -...|   4.1|        6000|      Janpath|Delhi NCR|\n",
            "|House of Ming - T...|   4.1|        5500|Mansingh Road|Delhi NCR|\n",
            "|San Gimignano - T...|   4.0|        5500|      Janpath|Delhi NCR|\n",
            "+--------------------+------+------------+-------------+---------+\n",
            "\n"
          ],
          "name": "stdout"
        }
      ]
    },
    {
      "cell_type": "markdown",
      "metadata": {
        "id": "dMkUVWZqc90z"
      },
      "source": [
        "**Orient Express - Taj Palace** is the exorbitant restaurant in the capital."
      ]
    },
    {
      "cell_type": "code",
      "metadata": {
        "colab": {
          "base_uri": "https://localhost:8080/"
        },
        "id": "xv0GA3rZSJ_O",
        "outputId": "494ee52b-570f-49c2-f3d1-e8c6dcb22418"
      },
      "source": [
        "q7_kolkata = df.select('name', 'rating', 'cost_for_two', 'area', 'city').filter(df.city == 'Kolkata').orderBy(desc('cost_for_two')).limit(10)\n",
        "q7_kolkata.show()"
      ],
      "execution_count": 36,
      "outputs": [
        {
          "output_type": "stream",
          "text": [
            "+--------------------+------+------------+-------------------+-------+\n",
            "|                name|rating|cost_for_two|               area|   city|\n",
            "+--------------------+------+------------+-------------------+-------+\n",
            "|Chinoiserie - Taj...|   4.3|        5000|            Alipore|Kolkata|\n",
            "|Guchhi - Hyatt Re...|   4.0|        4600|Sector 3, Salt Lake|Kolkata|\n",
            "|Eden Pavilion - I...|   4.0|        4500|  Science City Area|Kolkata|\n",
            "|West View Bar & G...|   3.8|        4500|  Science City Area|Kolkata|\n",
            "|     Seasonal Tastes|   4.3|        4200|           New Town|Kolkata|\n",
            "|The Junction - Ta...|   3.8|        4200|            Alipore|Kolkata|\n",
            "|     Seasonal Tastes|   4.4|        4200|           New Town|Kolkata|\n",
            "|      Zen - The Park|   4.1|        4000|   Park Street Area|Kolkata|\n",
            "|The Legacy Grill ...|   3.9|        4000|          Esplanade|Kolkata|\n",
            "|Baan Thai - The O...|   4.2|        4000|    New Market Area|Kolkata|\n",
            "+--------------------+------+------------+-------------------+-------+\n",
            "\n"
          ],
          "name": "stdout"
        }
      ]
    },
    {
      "cell_type": "markdown",
      "metadata": {
        "id": "1iVfqExNdN1Z"
      },
      "source": [
        "**Chinoiserie - Taj Bengal** is the most expensive restaurant in the city of Kolkata"
      ]
    },
    {
      "cell_type": "code",
      "metadata": {
        "colab": {
          "base_uri": "https://localhost:8080/"
        },
        "id": "DGVKfbnoR-Z8",
        "outputId": "993d2b2e-1481-4c7b-8e0d-90ffa78a0c93"
      },
      "source": [
        "q7_chennai = df.select('name', 'rating', 'cost_for_two', 'area', 'city').filter(df.city == 'Chennai').orderBy(desc('cost_for_two')).limit(10)\n",
        "q7_chennai.show()"
      ],
      "execution_count": 37,
      "outputs": [
        {
          "output_type": "stream",
          "text": [
            "+--------------------+------+------------+---------------+-------+\n",
            "|                name|rating|cost_for_two|           area|   city|\n",
            "+--------------------+------+------------+---------------+-------+\n",
            "|         Tao of Peng|   4.5|        5500|  Mahabalipuram|Chennai|\n",
            "|Royal Vega - ITC ...|   4.4|        5500|         Guindy|Chennai|\n",
            "|Blend - Taj Club ...|   4.0|        5000|Thousand Lights|Chennai|\n",
            "|Ottimo Cucina Ita...|   4.1|        5000|         Guindy|Chennai|\n",
            "|Salt. Co. 531 - R...|   4.1|        4800|       GST Road|Chennai|\n",
            "|Peshawri - ITC Gr...|   4.4|        4500|         Guindy|Chennai|\n",
            "|Avartana - ITC Gr...|   4.7|        4500|         Guindy|Chennai|\n",
            "|Pan Asian - ITC G...|   4.5|        4200|         Guindy|Chennai|\n",
            "|Madras Pavilion -...|   4.5|        4000|         Guindy|Chennai|\n",
            "|The Great Kabab F...|   4.0|        4000|       GST Road|Chennai|\n",
            "+--------------------+------+------------+---------------+-------+\n",
            "\n"
          ],
          "name": "stdout"
        }
      ]
    },
    {
      "cell_type": "markdown",
      "metadata": {
        "id": "5hn7vz_4depr"
      },
      "source": [
        "**Tao of Peng** is the costliest restaurant in the city of Chennai."
      ]
    },
    {
      "cell_type": "markdown",
      "metadata": {
        "id": "HHP-txSxz3lu"
      },
      "source": [
        "#### Top 10 cheapest restaurant"
      ]
    },
    {
      "cell_type": "code",
      "metadata": {
        "colab": {
          "base_uri": "https://localhost:8080/"
        },
        "id": "9xLrDoq-3lQj",
        "outputId": "9711c4d3-b071-4e3e-bd87-0679c8644406"
      },
      "source": [
        "q8 = df.select('name', 'rating', 'cost_for_two', 'city').filter(df.cost_for_two > 50).orderBy(asc('cost_for_two')).limit(10)\n",
        "q8.show()"
      ],
      "execution_count": 38,
      "outputs": [
        {
          "output_type": "stream",
          "text": [
            "+--------------------+------+------------+---------+\n",
            "|                name|rating|cost_for_two|     city|\n",
            "+--------------------+------+------------+---------+\n",
            "|            18 Dosas|   2.7|          60|Hyderabad|\n",
            "|       SV Idli House|  null|          60|Bengaluru|\n",
            "|  Indian Coffee Shop|  null|          60|    Kochi|\n",
            "|         Lemon Drops|  null|          60|Bengaluru|\n",
            "|          Mamee Soup|   4.1|          60|  Chennai|\n",
            "|     Sanskriti Chaat|   3.8|          60|   Jaipur|\n",
            "|Shri Gokul Prasad...|   3.2|          60|  Lucknow|\n",
            "|       Hotel Mandala|  null|          60|  Gangtok|\n",
            "|   Chak De Fast Food|   3.3|          60|   Kanpur|\n",
            "|Shri Kalila Chat ...|  null|          60|  Lucknow|\n",
            "+--------------------+------+------------+---------+\n",
            "\n"
          ],
          "name": "stdout"
        }
      ]
    },
    {
      "cell_type": "markdown",
      "metadata": {
        "id": "Fsu9F3muVm3Z"
      },
      "source": [
        "#### What are the top 10 cheapest restaurants in the specific cities?"
      ]
    },
    {
      "cell_type": "code",
      "metadata": {
        "colab": {
          "base_uri": "https://localhost:8080/"
        },
        "id": "18zghmQRViEn",
        "outputId": "49314197-1a6a-4656-c587-04201fb9f947"
      },
      "source": [
        "q9_mumbai = df.select('name', 'rating', 'cost_for_two', 'city', 'area').filter((df.cost_for_two >= 40) & (df.city == 'Mumbai')).orderBy(asc('cost_for_two')).limit(10)\n",
        "q9_mumbai.show()"
      ],
      "execution_count": 39,
      "outputs": [
        {
          "output_type": "stream",
          "text": [
            "+--------------------+------+------------+------+--------------------+\n",
            "|                name|rating|cost_for_two|  city|                area|\n",
            "+--------------------+------+------------+------+--------------------+\n",
            "|     Shegaon Kachori|   3.3|          50|Mumbai|  Khopat, Thane West|\n",
            "|Kullad Chai Coffe...|   3.1|          50|Mumbai|Hiranandani Estat...|\n",
            "|        More Vadapav|  null|          50|Mumbai|      Kopar Khairane|\n",
            "|           Ho5 Store|   3.3|          50|Mumbai|        Matunga West|\n",
            "|Cool Katta Kulfie...|  null|          50|Mumbai|        Dahisar West|\n",
            "|     Akshar Soda Pub|  null|          50|Mumbai|      Dombivali East|\n",
            "|Jai Ambika Pan Bh...|   3.2|          50|Mumbai|          Ulhasnagar|\n",
            "|Batulz- Cakes N More|   2.9|          50|Mumbai|             Kamothe|\n",
            "|              Nuskha|  null|          50|Mumbai|               Vasai|\n",
            "|Sanjay Vadapav Stall|  null|          50|Mumbai|               Marol|\n",
            "+--------------------+------+------------+------+--------------------+\n",
            "\n"
          ],
          "name": "stdout"
        }
      ]
    },
    {
      "cell_type": "code",
      "metadata": {
        "colab": {
          "base_uri": "https://localhost:8080/"
        },
        "id": "-A7JfFNGXCap",
        "outputId": "75b2f72c-18db-4172-d3fe-0f273ac82576"
      },
      "source": [
        "q9_hyderabad = df.select('name', 'rating', 'cost_for_two', 'city', 'area').filter((df.cost_for_two >= 40) & (df.city == 'Hyderabad')).orderBy(asc('cost_for_two')).limit(10)\n",
        "q9_hyderabad.show()"
      ],
      "execution_count": 40,
      "outputs": [
        {
          "output_type": "stream",
          "text": [
            "+--------------------+------+------------+---------+-----------+\n",
            "|                name|rating|cost_for_two|     city|       area|\n",
            "+--------------------+------+------------+---------+-----------+\n",
            "|         Sohail Cafe|   3.3|          50|Hyderabad|Musheerabad|\n",
            "|  Zar Zari Zar Baksh|   3.0|          50|Hyderabad|Musheerabad|\n",
            "|Sri Gayatri Dabel...|   3.3|          50|Hyderabad|   Kothapet|\n",
            "|     Naidu Tea Stall|   3.1|          50|Hyderabad| Kukatpally|\n",
            "|   K.G.N Veg Biryani|   2.9|          50|Hyderabad|  Charminar|\n",
            "|        Chai Deewane|   3.2|          50|Hyderabad| Kukatpally|\n",
            "|     Khaliq Pan Shop|  null|          50|Hyderabad|  Falaknuma|\n",
            "|  Indian Parata Shop|  null|          50|Hyderabad|  Kacheguda|\n",
            "| Chennai Coffee Shop|  null|          50|Hyderabad|   Madhapur|\n",
            "|    City Grand Hotel|  null|          50|Hyderabad|   Nampally|\n",
            "+--------------------+------+------------+---------+-----------+\n",
            "\n"
          ],
          "name": "stdout"
        }
      ]
    },
    {
      "cell_type": "code",
      "metadata": {
        "colab": {
          "base_uri": "https://localhost:8080/"
        },
        "id": "yg0LzkdgXCiR",
        "outputId": "7f011278-d660-4af5-870b-e0656df62339"
      },
      "source": [
        "q9_bengaluru = df.select('name', 'rating', 'cost_for_two', 'city', 'area').filter((df.cost_for_two >= 30) & (df.city == 'Bengaluru')).orderBy(asc('cost_for_two')).limit(10)\n",
        "q9_bengaluru.show()"
      ],
      "execution_count": 41,
      "outputs": [
        {
          "output_type": "stream",
          "text": [
            "+--------------------+------+------------+---------+-----------------+\n",
            "|                name|rating|cost_for_two|     city|             area|\n",
            "+--------------------+------+------------+---------+-----------------+\n",
            "|Shree Vishnu That...|   3.9|          40|Bengaluru|           Domlur|\n",
            "|      Indira Canteen|  null|          50|Bengaluru|         RT Nagar|\n",
            "|            VarieTea|   3.7|          50|Bengaluru|     New BEL Road|\n",
            "|           Tea Vibes|  null|          50|Bengaluru|        Banaswadi|\n",
            "|      Indira Canteen|  null|          50|Bengaluru|     Sanjay Nagar|\n",
            "|     Black Pekoe Tea|  null|          50|Bengaluru|              BTM|\n",
            "|      Bread & Better|  null|          50|Bengaluru|Bannerghatta Road|\n",
            "|  Maghai Paan Center|  null|          50|Bengaluru|      Indiranagar|\n",
            "|         Lemon Drops|  null|          60|Bengaluru|  Electronic City|\n",
            "|       SV Idli House|  null|          60|Bengaluru|     Marathahalli|\n",
            "+--------------------+------+------------+---------+-----------------+\n",
            "\n"
          ],
          "name": "stdout"
        }
      ]
    },
    {
      "cell_type": "code",
      "metadata": {
        "colab": {
          "base_uri": "https://localhost:8080/"
        },
        "id": "0Z1O5iiTXClU",
        "outputId": "2ffda35e-3bb2-4cfe-ab50-13b704e4acc3"
      },
      "source": [
        "q9_delhi = df.select('name', 'rating', 'cost_for_two', 'city', 'area').filter((df.cost_for_two >= 40) & (df.city == 'Delhi NCR')).orderBy(asc('cost_for_two')).limit(10)\n",
        "q9_delhi.show()"
      ],
      "execution_count": 42,
      "outputs": [
        {
          "output_type": "stream",
          "text": [
            "+--------------------+------+------------+---------+-------------------+\n",
            "|                name|rating|cost_for_two|     city|               area|\n",
            "+--------------------+------+------------+---------+-------------------+\n",
            "|           Sata Paan|  null|          50|Delhi NCR|          Janakpuri|\n",
            "|Aggarwal Jalebi Wale|   2.7|          50|Delhi NCR|        Uttam Nagar|\n",
            "| Shri Saheb Ji Dairy|   3.7|          50|Delhi NCR|     Dilshad Garden|\n",
            "|  Gopal Kachori Wala|   3.3|          50|Delhi NCR|       Punjabi Bagh|\n",
            "|       Duggal Snacks|   3.9|          50|Delhi NCR|Mayur Vihar Phase 2|\n",
            "|Pandit Ved Prakas...|   3.9|          50|Delhi NCR|      Chandni Chowk|\n",
            "|         Snacks Time|  null|          50|Delhi NCR|          Jail Road|\n",
            "|  The Paratha Corner|  null|          50|Delhi NCR|         Trilokpuri|\n",
            "| Shri Ram Poori Wale|   2.8|          50|Delhi NCR|        Kirti Nagar|\n",
            "|          Chaat Star|  null|          50|Delhi NCR|        Gaur City 1|\n",
            "+--------------------+------+------------+---------+-------------------+\n",
            "\n"
          ],
          "name": "stdout"
        }
      ]
    },
    {
      "cell_type": "code",
      "metadata": {
        "colab": {
          "base_uri": "https://localhost:8080/"
        },
        "id": "cgrY0vhvXCn2",
        "outputId": "587ba90f-beb1-4534-d68f-705f9de38c73"
      },
      "source": [
        "q9_kolkata = df.select('name', 'rating', 'cost_for_two', 'city', 'area').filter((df.cost_for_two >= 40) & (df.city == 'Kolkata')).orderBy(asc('cost_for_two')).limit(10)\n",
        "q9_kolkata.show()"
      ],
      "execution_count": 43,
      "outputs": [
        {
          "output_type": "stream",
          "text": [
            "+--------------------+------+------------+-------+------------------+\n",
            "|                name|rating|cost_for_two|   city|              area|\n",
            "+--------------------+------+------------+-------+------------------+\n",
            "|    Debu's Shonpapri|  null|          50|Kolkata|           Kalyani|\n",
            "|    Ramji Ghugniwala|   2.9|          80|Kolkata|  Park Street Area|\n",
            "|  Ramesh Chilla Wala|   3.1|          80|Kolkata|  Park Street Area|\n",
            "|      Tea And Tiffin|  null|         100|Kolkata|      Kona Exp Way|\n",
            "|Sri Krishna Hot C...|   3.1|         100|Kolkata| Camac Street Area|\n",
            "|               Mahua|   3.8|         100|Kolkata|            Sinthi|\n",
            "|        Ghosh Sweets|   3.3|         100|Kolkata|       Kankurgachi|\n",
            "|Shree  Hari Mista...|   3.3|         100|Kolkata|          Gariahat|\n",
            "|           Abhilasha|  null|         100|Kolkata|Dalhousie BBD Bagh|\n",
            "|Laxmi Narayan Mis...|   3.2|         100|Kolkata|         Baguihati|\n",
            "+--------------------+------+------------+-------+------------------+\n",
            "\n"
          ],
          "name": "stdout"
        }
      ]
    },
    {
      "cell_type": "code",
      "metadata": {
        "colab": {
          "base_uri": "https://localhost:8080/"
        },
        "id": "M3fzY8kvXCrW",
        "outputId": "80cf9f6b-5490-414a-e744-cd9fe2de69e5"
      },
      "source": [
        "q9_chennai = df.select('name', 'rating', 'cost_for_two', 'city', 'area').filter((df.cost_for_two >= 30) & (df.city == 'Chennai')).orderBy(asc('cost_for_two')).limit(10)\n",
        "q9_chennai.show()"
      ],
      "execution_count": 44,
      "outputs": [
        {
          "output_type": "stream",
          "text": [
            "+--------------------+------+------------+-------+-------------+\n",
            "|                name|rating|cost_for_two|   city|         area|\n",
            "+--------------------+------+------------+-------+-------------+\n",
            "|            Soda Hub|   3.3|          40|Chennai|     Navallur|\n",
            "|         Planet Soda|  null|          50|Chennai|    Perungudi|\n",
            "|            Tea Talk|  null|          50|Chennai|       Guindy|\n",
            "| Indian Coffee House|  null|          50|Chennai|       Vepery|\n",
            "|     Saravana Coffee|   3.1|          50|Chennai|  Kodambakkam|\n",
            "|            Kaafemaa|  null|          50|Chennai|     Ambattur|\n",
            "|Jai Sri Prathyang...|  null|          50|Chennai|     T. Nagar|\n",
            "|          Mamee Soup|   4.1|          60|Chennai|West Mambalam|\n",
            "|              REFUEL|  null|          80|Chennai|  Kelambakkam|\n",
            "|Perambur Mangala ...|   3.3|         100|Chennai|     Perambur|\n",
            "+--------------------+------+------------+-------+-------------+\n",
            "\n"
          ],
          "name": "stdout"
        }
      ]
    },
    {
      "cell_type": "markdown",
      "metadata": {
        "id": "TtQDiF0kYKO0"
      },
      "source": [
        "## Visualization"
      ]
    },
    {
      "cell_type": "code",
      "metadata": {
        "colab": {
          "base_uri": "https://localhost:8080/",
          "height": 700
        },
        "id": "MhyoSQEJvkQn",
        "outputId": "51e1e6c3-3647-4ae2-851b-1c6b1a3f13d5"
      },
      "source": [
        "# Converting PySpark dataframe to Pandas DataFrame for map plotting\n",
        "df_py = df.select('*').toPandas()\n",
        "df_py.head()"
      ],
      "execution_count": 59,
      "outputs": [
        {
          "output_type": "execute_result",
          "data": {
            "text/html": [
              "<div>\n",
              "<style scoped>\n",
              "    .dataframe tbody tr th:only-of-type {\n",
              "        vertical-align: middle;\n",
              "    }\n",
              "\n",
              "    .dataframe tbody tr th {\n",
              "        vertical-align: top;\n",
              "    }\n",
              "\n",
              "    .dataframe thead th {\n",
              "        text-align: right;\n",
              "    }\n",
              "</style>\n",
              "<table border=\"1\" class=\"dataframe\">\n",
              "  <thead>\n",
              "    <tr style=\"text-align: right;\">\n",
              "      <th></th>\n",
              "      <th>zomato_url</th>\n",
              "      <th>name</th>\n",
              "      <th>city</th>\n",
              "      <th>area</th>\n",
              "      <th>rating</th>\n",
              "      <th>rating_count</th>\n",
              "      <th>telephone</th>\n",
              "      <th>cusine</th>\n",
              "      <th>cost_for_two</th>\n",
              "      <th>address</th>\n",
              "      <th>online_order</th>\n",
              "      <th>table_reservation</th>\n",
              "      <th>delivery_only</th>\n",
              "      <th>famous_food</th>\n",
              "      <th>longitude</th>\n",
              "      <th>latitude</th>\n",
              "    </tr>\n",
              "  </thead>\n",
              "  <tbody>\n",
              "    <tr>\n",
              "      <th>0</th>\n",
              "      <td>https://www.zomato.com/ncr/sainik-food-pandav-...</td>\n",
              "      <td>Sainik Food</td>\n",
              "      <td>Delhi NCR</td>\n",
              "      <td>Pandav Nagar</td>\n",
              "      <td>3.2</td>\n",
              "      <td>21.0</td>\n",
              "      <td>NaN</td>\n",
              "      <td>North Indian</td>\n",
              "      <td>300.0</td>\n",
              "      <td>C 4/1, Opposite Mother Dairy, Pandav Nagar, Ne...</td>\n",
              "      <td>False</td>\n",
              "      <td>False</td>\n",
              "      <td>False</td>\n",
              "      <td>None</td>\n",
              "      <td>77.284871</td>\n",
              "      <td>28.617732</td>\n",
              "    </tr>\n",
              "    <tr>\n",
              "      <th>1</th>\n",
              "      <td>https://www.zomato.com/mumbai/kunals-creamery-...</td>\n",
              "      <td>Kunal's Creamery &amp; Eatery</td>\n",
              "      <td>Mumbai</td>\n",
              "      <td>Ambernath</td>\n",
              "      <td>3.6</td>\n",
              "      <td>51.0</td>\n",
              "      <td>NaN</td>\n",
              "      <td>Street Food, Chinese, Fast Food</td>\n",
              "      <td>500.0</td>\n",
              "      <td>Shop 14, Trishul Shivdham Complex, Shiv Mandir...</td>\n",
              "      <td>False</td>\n",
              "      <td>False</td>\n",
              "      <td>False</td>\n",
              "      <td>Penne Pasta</td>\n",
              "      <td>73.184287</td>\n",
              "      <td>19.205887</td>\n",
              "    </tr>\n",
              "    <tr>\n",
              "      <th>2</th>\n",
              "      <td>https://www.zomato.com/ncr/brij-palace-restaur...</td>\n",
              "      <td>Brij Palace Restaurant</td>\n",
              "      <td>Delhi NCR</td>\n",
              "      <td>Jasola</td>\n",
              "      <td>NaN</td>\n",
              "      <td>NaN</td>\n",
              "      <td>NaN</td>\n",
              "      <td>North Indian</td>\n",
              "      <td>250.0</td>\n",
              "      <td>4, Okhla Bus Stand, Jamia Nagar, Near, Jasola,...</td>\n",
              "      <td>False</td>\n",
              "      <td>False</td>\n",
              "      <td>False</td>\n",
              "      <td>Chana Masala , Butter Naan , Paneer Bhujia , D...</td>\n",
              "      <td>77.291223</td>\n",
              "      <td>28.563034</td>\n",
              "    </tr>\n",
              "    <tr>\n",
              "      <th>3</th>\n",
              "      <td>https://www.zomato.com/ncr/sahib-hotel-paharga...</td>\n",
              "      <td>Sahib Hotel</td>\n",
              "      <td>Delhi NCR</td>\n",
              "      <td>Paharganj</td>\n",
              "      <td>NaN</td>\n",
              "      <td>NaN</td>\n",
              "      <td>NaN</td>\n",
              "      <td>North Indian</td>\n",
              "      <td>300.0</td>\n",
              "      <td>121, Amrit Kaur Market, Opposite New Delhi Rai...</td>\n",
              "      <td>False</td>\n",
              "      <td>False</td>\n",
              "      <td>False</td>\n",
              "      <td>None</td>\n",
              "      <td>77.218298</td>\n",
              "      <td>28.642411</td>\n",
              "    </tr>\n",
              "    <tr>\n",
              "      <th>4</th>\n",
              "      <td>https://www.zomato.com/kolkata/chunkys-shibpur...</td>\n",
              "      <td>Chunky's</td>\n",
              "      <td>Kolkata</td>\n",
              "      <td>Shibpur</td>\n",
              "      <td>3.0</td>\n",
              "      <td>78.0</td>\n",
              "      <td>NaN</td>\n",
              "      <td>Italian, Pizza, Continental</td>\n",
              "      <td>500.0</td>\n",
              "      <td>523, G.T Road, Howrah., Shibpur, Howrah</td>\n",
              "      <td>True</td>\n",
              "      <td>False</td>\n",
              "      <td>False</td>\n",
              "      <td>None</td>\n",
              "      <td>88.330708</td>\n",
              "      <td>22.577758</td>\n",
              "    </tr>\n",
              "  </tbody>\n",
              "</table>\n",
              "</div>"
            ],
            "text/plain": [
              "                                          zomato_url  ...   latitude\n",
              "0  https://www.zomato.com/ncr/sainik-food-pandav-...  ...  28.617732\n",
              "1  https://www.zomato.com/mumbai/kunals-creamery-...  ...  19.205887\n",
              "2  https://www.zomato.com/ncr/brij-palace-restaur...  ...  28.563034\n",
              "3  https://www.zomato.com/ncr/sahib-hotel-paharga...  ...  28.642411\n",
              "4  https://www.zomato.com/kolkata/chunkys-shibpur...  ...  22.577758\n",
              "\n",
              "[5 rows x 16 columns]"
            ]
          },
          "metadata": {
            "tags": []
          },
          "execution_count": 59
        }
      ]
    },
    {
      "cell_type": "code",
      "metadata": {
        "colab": {
          "base_uri": "https://localhost:8080/"
        },
        "id": "DcrP4xIRYOLC",
        "outputId": "0ad47e6f-4e26-4b41-b88f-ad4c55e17b9a"
      },
      "source": [
        "dir(folium)"
      ],
      "execution_count": 48,
      "outputs": [
        {
          "output_type": "execute_result",
          "data": {
            "text/plain": [
              "['Choropleth',\n",
              " 'Circle',\n",
              " 'CircleMarker',\n",
              " 'ClickForMarker',\n",
              " 'ColorLine',\n",
              " 'ColorMap',\n",
              " 'CssLink',\n",
              " 'CustomIcon',\n",
              " 'Div',\n",
              " 'DivIcon',\n",
              " 'Element',\n",
              " 'FeatureGroup',\n",
              " 'Figure',\n",
              " 'FitBounds',\n",
              " 'GeoJson',\n",
              " 'GeoJsonTooltip',\n",
              " 'Html',\n",
              " 'IFrame',\n",
              " 'Icon',\n",
              " 'JavascriptLink',\n",
              " 'LatLngPopup',\n",
              " 'LayerControl',\n",
              " 'LinearColormap',\n",
              " 'Link',\n",
              " 'MacroElement',\n",
              " 'Map',\n",
              " 'Marker',\n",
              " 'PolyLine',\n",
              " 'Polygon',\n",
              " 'Popup',\n",
              " 'Rectangle',\n",
              " 'RegularPolygonMarker',\n",
              " 'StepColormap',\n",
              " 'TileLayer',\n",
              " 'Tooltip',\n",
              " 'TopoJson',\n",
              " 'Vega',\n",
              " 'VegaLite',\n",
              " 'WmsTileLayer',\n",
              " '__all__',\n",
              " '__builtins__',\n",
              " '__cached__',\n",
              " '__doc__',\n",
              " '__file__',\n",
              " '__loader__',\n",
              " '__name__',\n",
              " '__package__',\n",
              " '__path__',\n",
              " '__spec__',\n",
              " '__version__',\n",
              " '_version',\n",
              " 'absolute_import',\n",
              " 'branca',\n",
              " 'division',\n",
              " 'features',\n",
              " 'folium',\n",
              " 'map',\n",
              " 'print_function',\n",
              " 'raster_layers',\n",
              " 'sys',\n",
              " 'utilities',\n",
              " 'vector_layers',\n",
              " 'warnings']"
            ]
          },
          "metadata": {
            "tags": []
          },
          "execution_count": 48
        }
      ]
    },
    {
      "cell_type": "code",
      "metadata": {
        "colab": {
          "base_uri": "https://localhost:8080/",
          "height": 654
        },
        "id": "YIVAJW2dlxDK",
        "outputId": "cee9c62e-6e82-4829-fa85-8dd4d40080a4"
      },
      "source": [
        "india_map = folium.Map(location= [20.5937, 78.9629], zoom_start= 5)\n",
        "india_map"
      ],
      "execution_count": 54,
      "outputs": [
        {
          "output_type": "execute_result",
          "data": {
            "text/html": [
              "<div style=\"width:100%;\"><div style=\"position:relative;width:100%;height:0;padding-bottom:60%;\"><span style=\"color:#565656\">Make this Notebook Trusted to load map: File -> Trust Notebook</span><iframe src=\"about:blank\" style=\"position:absolute;width:100%;height:100%;left:0;top:0;border:none !important;\" data-html=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 onload=\"this.contentDocument.open();this.contentDocument.write(atob(this.getAttribute('data-html')));this.contentDocument.close();\" allowfullscreen webkitallowfullscreen mozallowfullscreen></iframe></div></div>"
            ],
            "text/plain": [
              "<folium.folium.Map at 0x7fcb85d5a6a0>"
            ]
          },
          "metadata": {
            "tags": []
          },
          "execution_count": 54
        }
      ]
    },
    {
      "cell_type": "code",
      "metadata": {
        "colab": {
          "base_uri": "https://localhost:8080/",
          "height": 374
        },
        "id": "jOP3LYOAnk9x",
        "outputId": "b26277b0-ae2f-4fbd-bd0d-fe69b097b51d"
      },
      "source": [
        "# instantiate a feature group for the incidents in the dataframe\n",
        "restaurant = folium.map.FeatureGroup()\n",
        "\n",
        "# loop through the 100 crimes and add each to the incidents feature group\n",
        "for lat, lng, in zip(df.select('longitude'), df.select('latitude')):\n",
        "    restaurant.add_child(\n",
        "        folium.CircleMarker(\n",
        "            [lat, lng],\n",
        "            radius=5, # define how big you want the circle markers to be\n",
        "            color='yellow',\n",
        "            fill=True,\n",
        "            fill_color='blue',\n",
        "            fill_opacity=0.6\n",
        "        )\n",
        "    )\n",
        "\n",
        "# add incidents to map\n",
        "india_map.add_child(restaurant)"
      ],
      "execution_count": 55,
      "outputs": [
        {
          "output_type": "error",
          "ename": "TypeError",
          "evalue": "ignored",
          "traceback": [
            "\u001b[0;31m---------------------------------------------------------------------------\u001b[0m",
            "\u001b[0;31mTypeError\u001b[0m                                 Traceback (most recent call last)",
            "\u001b[0;32m<ipython-input-55-acc279d87a90>\u001b[0m in \u001b[0;36m<module>\u001b[0;34m()\u001b[0m\n\u001b[1;32m     11\u001b[0m             \u001b[0mfill\u001b[0m\u001b[0;34m=\u001b[0m\u001b[0;32mTrue\u001b[0m\u001b[0;34m,\u001b[0m\u001b[0;34m\u001b[0m\u001b[0;34m\u001b[0m\u001b[0m\n\u001b[1;32m     12\u001b[0m             \u001b[0mfill_color\u001b[0m\u001b[0;34m=\u001b[0m\u001b[0;34m'blue'\u001b[0m\u001b[0;34m,\u001b[0m\u001b[0;34m\u001b[0m\u001b[0;34m\u001b[0m\u001b[0m\n\u001b[0;32m---> 13\u001b[0;31m             \u001b[0mfill_opacity\u001b[0m\u001b[0;34m=\u001b[0m\u001b[0;36m0.6\u001b[0m\u001b[0;34m\u001b[0m\u001b[0;34m\u001b[0m\u001b[0m\n\u001b[0m\u001b[1;32m     14\u001b[0m         )\n\u001b[1;32m     15\u001b[0m     )\n",
            "\u001b[0;32m/usr/local/lib/python3.6/dist-packages/folium/vector_layers.py\u001b[0m in \u001b[0;36m__init__\u001b[0;34m(self, location, radius, popup, tooltip, **kwargs)\u001b[0m\n\u001b[1;32m    309\u001b[0m     \u001b[0;32mdef\u001b[0m \u001b[0m__init__\u001b[0m\u001b[0;34m(\u001b[0m\u001b[0mself\u001b[0m\u001b[0;34m,\u001b[0m \u001b[0mlocation\u001b[0m\u001b[0;34m,\u001b[0m \u001b[0mradius\u001b[0m\u001b[0;34m=\u001b[0m\u001b[0;36m10\u001b[0m\u001b[0;34m,\u001b[0m \u001b[0mpopup\u001b[0m\u001b[0;34m=\u001b[0m\u001b[0;32mNone\u001b[0m\u001b[0;34m,\u001b[0m \u001b[0mtooltip\u001b[0m\u001b[0;34m=\u001b[0m\u001b[0;32mNone\u001b[0m\u001b[0;34m,\u001b[0m \u001b[0;34m**\u001b[0m\u001b[0mkwargs\u001b[0m\u001b[0;34m)\u001b[0m\u001b[0;34m:\u001b[0m\u001b[0;34m\u001b[0m\u001b[0;34m\u001b[0m\u001b[0m\n\u001b[1;32m    310\u001b[0m         super(CircleMarker, self).__init__(location=location, popup=popup,\n\u001b[0;32m--> 311\u001b[0;31m                                            tooltip=tooltip)\n\u001b[0m\u001b[1;32m    312\u001b[0m         \u001b[0mself\u001b[0m\u001b[0;34m.\u001b[0m\u001b[0m_name\u001b[0m \u001b[0;34m=\u001b[0m \u001b[0;34m'CircleMarker'\u001b[0m\u001b[0;34m\u001b[0m\u001b[0;34m\u001b[0m\u001b[0m\n\u001b[1;32m    313\u001b[0m         \u001b[0mself\u001b[0m\u001b[0;34m.\u001b[0m\u001b[0moptions\u001b[0m \u001b[0;34m=\u001b[0m \u001b[0m_parse_options\u001b[0m\u001b[0;34m(\u001b[0m\u001b[0mline\u001b[0m\u001b[0;34m=\u001b[0m\u001b[0;32mFalse\u001b[0m\u001b[0;34m,\u001b[0m \u001b[0mradius\u001b[0m\u001b[0;34m=\u001b[0m\u001b[0mradius\u001b[0m\u001b[0;34m,\u001b[0m \u001b[0;34m**\u001b[0m\u001b[0mkwargs\u001b[0m\u001b[0;34m)\u001b[0m\u001b[0;34m\u001b[0m\u001b[0;34m\u001b[0m\u001b[0m\n",
            "\u001b[0;32m/usr/local/lib/python3.6/dist-packages/folium/map.py\u001b[0m in \u001b[0;36m__init__\u001b[0;34m(self, location, popup, tooltip, icon, draggable)\u001b[0m\n\u001b[1;32m    256\u001b[0m         \u001b[0msuper\u001b[0m\u001b[0;34m(\u001b[0m\u001b[0mMarker\u001b[0m\u001b[0;34m,\u001b[0m \u001b[0mself\u001b[0m\u001b[0;34m)\u001b[0m\u001b[0;34m.\u001b[0m\u001b[0m__init__\u001b[0m\u001b[0;34m(\u001b[0m\u001b[0;34m)\u001b[0m\u001b[0;34m\u001b[0m\u001b[0;34m\u001b[0m\u001b[0m\n\u001b[1;32m    257\u001b[0m         \u001b[0mself\u001b[0m\u001b[0;34m.\u001b[0m\u001b[0m_name\u001b[0m \u001b[0;34m=\u001b[0m \u001b[0;34m'Marker'\u001b[0m\u001b[0;34m\u001b[0m\u001b[0;34m\u001b[0m\u001b[0m\n\u001b[0;32m--> 258\u001b[0;31m         \u001b[0mself\u001b[0m\u001b[0;34m.\u001b[0m\u001b[0mlocation\u001b[0m \u001b[0;34m=\u001b[0m \u001b[0m_validate_coordinates\u001b[0m\u001b[0;34m(\u001b[0m\u001b[0mlocation\u001b[0m\u001b[0;34m)\u001b[0m\u001b[0;34m\u001b[0m\u001b[0;34m\u001b[0m\u001b[0m\n\u001b[0m\u001b[1;32m    259\u001b[0m         \u001b[0mself\u001b[0m\u001b[0;34m.\u001b[0m\u001b[0mdraggable\u001b[0m \u001b[0;34m=\u001b[0m \u001b[0mdraggable\u001b[0m\u001b[0;34m\u001b[0m\u001b[0;34m\u001b[0m\u001b[0m\n\u001b[1;32m    260\u001b[0m         \u001b[0;32mif\u001b[0m \u001b[0micon\u001b[0m \u001b[0;32mis\u001b[0m \u001b[0;32mnot\u001b[0m \u001b[0;32mNone\u001b[0m\u001b[0;34m:\u001b[0m\u001b[0;34m\u001b[0m\u001b[0;34m\u001b[0m\u001b[0m\n",
            "\u001b[0;32m/usr/local/lib/python3.6/dist-packages/folium/utilities.py\u001b[0m in \u001b[0;36m_validate_coordinates\u001b[0;34m(coordinates)\u001b[0m\n\u001b[1;32m     51\u001b[0m \u001b[0;32mdef\u001b[0m \u001b[0m_validate_coordinates\u001b[0m\u001b[0;34m(\u001b[0m\u001b[0mcoordinates\u001b[0m\u001b[0;34m)\u001b[0m\u001b[0;34m:\u001b[0m\u001b[0;34m\u001b[0m\u001b[0;34m\u001b[0m\u001b[0m\n\u001b[1;32m     52\u001b[0m     \u001b[0;34m\"\"\"Validates multiple coordinates for the various markers in folium.\"\"\"\u001b[0m\u001b[0;34m\u001b[0m\u001b[0;34m\u001b[0m\u001b[0m\n\u001b[0;32m---> 53\u001b[0;31m     \u001b[0;32mif\u001b[0m \u001b[0m_isnan\u001b[0m\u001b[0;34m(\u001b[0m\u001b[0mcoordinates\u001b[0m\u001b[0;34m)\u001b[0m\u001b[0;34m:\u001b[0m\u001b[0;34m\u001b[0m\u001b[0;34m\u001b[0m\u001b[0m\n\u001b[0m\u001b[1;32m     54\u001b[0m         raise ValueError('Location values cannot contain NaNs, '\n\u001b[1;32m     55\u001b[0m                          'got:\\n{!r}'.format(coordinates))\n",
            "\u001b[0;32m/usr/local/lib/python3.6/dist-packages/folium/utilities.py\u001b[0m in \u001b[0;36m_isnan\u001b[0;34m(values)\u001b[0m\n\u001b[1;32m     77\u001b[0m \u001b[0;32mdef\u001b[0m \u001b[0m_isnan\u001b[0m\u001b[0;34m(\u001b[0m\u001b[0mvalues\u001b[0m\u001b[0;34m)\u001b[0m\u001b[0;34m:\u001b[0m\u001b[0;34m\u001b[0m\u001b[0;34m\u001b[0m\u001b[0m\n\u001b[1;32m     78\u001b[0m     \u001b[0;34m\"\"\"Check if there are NaNs values in the iterable.\"\"\"\u001b[0m\u001b[0;34m\u001b[0m\u001b[0;34m\u001b[0m\u001b[0m\n\u001b[0;32m---> 79\u001b[0;31m     \u001b[0;32mreturn\u001b[0m \u001b[0many\u001b[0m\u001b[0;34m(\u001b[0m\u001b[0mmath\u001b[0m\u001b[0;34m.\u001b[0m\u001b[0misnan\u001b[0m\u001b[0;34m(\u001b[0m\u001b[0mvalue\u001b[0m\u001b[0;34m)\u001b[0m \u001b[0;32mfor\u001b[0m \u001b[0mvalue\u001b[0m \u001b[0;32min\u001b[0m \u001b[0m_flatten\u001b[0m\u001b[0;34m(\u001b[0m\u001b[0mvalues\u001b[0m\u001b[0;34m)\u001b[0m\u001b[0;34m)\u001b[0m\u001b[0;34m\u001b[0m\u001b[0;34m\u001b[0m\u001b[0m\n\u001b[0m\u001b[1;32m     80\u001b[0m \u001b[0;34m\u001b[0m\u001b[0m\n\u001b[1;32m     81\u001b[0m \u001b[0;34m\u001b[0m\u001b[0m\n",
            "\u001b[0;32m/usr/local/lib/python3.6/dist-packages/folium/utilities.py\u001b[0m in \u001b[0;36m<genexpr>\u001b[0;34m(.0)\u001b[0m\n\u001b[1;32m     77\u001b[0m \u001b[0;32mdef\u001b[0m \u001b[0m_isnan\u001b[0m\u001b[0;34m(\u001b[0m\u001b[0mvalues\u001b[0m\u001b[0;34m)\u001b[0m\u001b[0;34m:\u001b[0m\u001b[0;34m\u001b[0m\u001b[0;34m\u001b[0m\u001b[0m\n\u001b[1;32m     78\u001b[0m     \u001b[0;34m\"\"\"Check if there are NaNs values in the iterable.\"\"\"\u001b[0m\u001b[0;34m\u001b[0m\u001b[0;34m\u001b[0m\u001b[0m\n\u001b[0;32m---> 79\u001b[0;31m     \u001b[0;32mreturn\u001b[0m \u001b[0many\u001b[0m\u001b[0;34m(\u001b[0m\u001b[0mmath\u001b[0m\u001b[0;34m.\u001b[0m\u001b[0misnan\u001b[0m\u001b[0;34m(\u001b[0m\u001b[0mvalue\u001b[0m\u001b[0;34m)\u001b[0m \u001b[0;32mfor\u001b[0m \u001b[0mvalue\u001b[0m \u001b[0;32min\u001b[0m \u001b[0m_flatten\u001b[0m\u001b[0;34m(\u001b[0m\u001b[0mvalues\u001b[0m\u001b[0;34m)\u001b[0m\u001b[0;34m)\u001b[0m\u001b[0;34m\u001b[0m\u001b[0;34m\u001b[0m\u001b[0m\n\u001b[0m\u001b[1;32m     80\u001b[0m \u001b[0;34m\u001b[0m\u001b[0m\n\u001b[1;32m     81\u001b[0m \u001b[0;34m\u001b[0m\u001b[0m\n",
            "\u001b[0;31mTypeError\u001b[0m: must be real number, not Column"
          ]
        }
      ]
    },
    {
      "cell_type": "code",
      "metadata": {
        "id": "e_lU8X5PoWDq"
      },
      "source": [
        ""
      ],
      "execution_count": null,
      "outputs": []
    }
  ]
}